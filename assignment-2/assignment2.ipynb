{
 "cells": [
  {
   "cell_type": "code",
   "execution_count": 89,
   "metadata": {
    "execution": {
     "iopub.execute_input": "2023-05-26T14:52:02.616320Z",
     "iopub.status.busy": "2023-05-26T14:52:02.616320Z",
     "iopub.status.idle": "2023-05-26T14:52:02.622133Z",
     "shell.execute_reply": "2023-05-26T14:52:02.621618Z",
     "shell.execute_reply.started": "2023-05-26T14:52:02.616320Z"
    }
   },
   "outputs": [],
   "source": [
    "import numpy as np\n",
    "np.random.seed(0)\n",
    "import pandas as pd\n",
    "import matplotlib.pyplot as plt\n",
    "\n",
    "from sklearn.model_selection import (train_test_split, validation_curve)\n",
    "from sklearn.metrics import r2_score\n",
    "from sklearn.linear_model import (LinearRegression, Lasso)\n",
    "from sklearn.preprocessing import PolynomialFeatures\n",
    "from sklearn.tree import DecisionTreeClassifier\n",
    "from sklearn.svm import SVC"
   ]
  },
  {
   "cell_type": "markdown",
   "metadata": {},
   "source": [
    "# Assignment 2\n",
    "\n",
    "In this assignment you'll explore the relationship between model complexity and generalization performance, by adjusting key parameters of various supervised learning models. Part 1 of this assignment will look at regression and Part 2 will look at classification.\n",
    "\n",
    "## Part 1 - Regression"
   ]
  },
  {
   "cell_type": "code",
   "execution_count": 8,
   "metadata": {
    "deletable": true,
    "execution": {
     "iopub.execute_input": "2023-05-26T13:29:06.990052Z",
     "iopub.status.busy": "2023-05-26T13:29:06.990052Z",
     "iopub.status.idle": "2023-05-26T13:29:07.120054Z",
     "shell.execute_reply": "2023-05-26T13:29:07.120054Z",
     "shell.execute_reply.started": "2023-05-26T13:29:06.990052Z"
    },
    "nbgrader": {
     "cell_type": "code",
     "checksum": "0eb030de7472f474f2acbff31502ea12",
     "grade": false,
     "grade_id": "cell-82820d5bbf6c4ddf",
     "locked": true,
     "schema_version": 3,
     "solution": false,
     "task": false
    }
   },
   "outputs": [
    {
     "data": {
      "image/png": "[encoded data removed]",
      "text/plain": [
       "<Figure size 640x480 with 1 Axes>"
      ]
     },
     "metadata": {},
     "output_type": "display_data"
    }
   ],
   "source": [
    "n = 15\n",
    "x = np.linspace(0, 10, n) + np.random.randn(n) / 5\n",
    "y = np.sin(x) + x / 6 + np.random.randn(n) / 10\n",
    "\n",
    "\n",
    "X_train, X_test, y_train, y_test = train_test_split(x, y, random_state=0)\n",
    "\n",
    "plt.figure()\n",
    "plt.scatter(X_train, y_train, label='training data')\n",
    "plt.scatter(X_test, y_test, label='test data')\n",
    "plt.legend(loc=4)\n",
    "plt.show()"
   ]
  },
  {
   "cell_type": "markdown",
   "metadata": {
    "deletable": false,
    "editable": false,
    "nbgrader": {
     "cell_type": "markdown",
     "checksum": "6f1010623ab32922f56be3c510bda9b4",
     "grade": false,
     "grade_id": "cell-035dbae9bf827659",
     "locked": true,
     "schema_version": 3,
     "solution": false,
     "task": false
    }
   },
   "source": [
    "### Question 1\n",
    "\n",
    "Write a function that fits a polynomial LinearRegression model on the *training data* `X_train` for degrees 1, 3, 6, and 9. (Use PolynomialFeatures in sklearn.preprocessing to create the polynomial features and then fit a linear regression model) For each model, find 100 predicted values over the interval x = 0 to 10 (e.g. `np.linspace(0,10,100)`) and store this in a numpy array. The first row of this array should correspond to the output from the model trained on degree 1, the second row degree 3, the third row degree 6, and the fourth row degree 9.\n",
    "\n",
    "<img src=\"assets/polynomialreg1.png\" style=\"width: 1000px;\"/>\n",
    "\n",
    "The figure above shows the fitted models plotted on top of the original data (using `plot_one()`).\n",
    "\n",
    "<br>\n",
    "*This function should return a numpy array with shape `(4, 100)`*"
   ]
  },
  {
   "cell_type": "code",
   "execution_count": 18,
   "metadata": {
    "execution": {
     "iopub.execute_input": "2023-05-26T13:39:43.835740Z",
     "iopub.status.busy": "2023-05-26T13:39:43.835740Z",
     "iopub.status.idle": "2023-05-26T13:39:43.848398Z",
     "shell.execute_reply": "2023-05-26T13:39:43.848315Z",
     "shell.execute_reply.started": "2023-05-26T13:39:43.835740Z"
    }
   },
   "outputs": [
    {
     "data": {
      "text/plain": [
       "((11,), (4,))"
      ]
     },
     "execution_count": 18,
     "metadata": {},
     "output_type": "execute_result"
    }
   ],
   "source": [
    "X_train.shape, X_test.shape"
   ]
  },
  {
   "cell_type": "code",
   "execution_count": 15,
   "metadata": {
    "execution": {
     "iopub.execute_input": "2023-05-26T13:36:41.413818Z",
     "iopub.status.busy": "2023-05-26T13:36:41.413818Z",
     "iopub.status.idle": "2023-05-26T13:36:41.433698Z",
     "shell.execute_reply": "2023-05-26T13:36:41.433635Z",
     "shell.execute_reply.started": "2023-05-26T13:36:41.413818Z"
    }
   },
   "outputs": [
    {
     "data": {
      "text/plain": [
       "(5.416967523081348, 0.3528104691935328, 10.088772646549085)"
      ]
     },
     "execution_count": 15,
     "metadata": {},
     "output_type": "execute_result"
    }
   ],
   "source": [
    "X_train.mean(), X_train.min(), X_train.max()"
   ]
  },
  {
   "cell_type": "code",
   "execution_count": 17,
   "metadata": {
    "execution": {
     "iopub.execute_input": "2023-05-26T13:39:13.493668Z",
     "iopub.status.busy": "2023-05-26T13:39:13.493668Z",
     "iopub.status.idle": "2023-05-26T13:39:13.509994Z",
     "shell.execute_reply": "2023-05-26T13:39:13.509367Z",
     "shell.execute_reply.started": "2023-05-26T13:39:13.493668Z"
    }
   },
   "outputs": [
    {
     "data": {
      "text/plain": [
       "array([[1.00000000e+00, 1.00887726e+01, 1.01783334e+02, 1.02686891e+03,\n",
       "        1.03598470e+04],\n",
       "       [1.00000000e+00, 3.23065446e+00, 1.04371282e+01, 3.37187547e+01,\n",
       "        1.08933645e+02],\n",
       "       [1.00000000e+00, 1.62431903e+00, 2.63841230e+00, 4.28562329e+00,\n",
       "        6.96121945e+00],\n",
       "       [1.00000000e+00, 9.31004929e+00, 8.66770178e+01, 8.06967308e+02,\n",
       "        7.51290541e+03],\n",
       "       [1.00000000e+00, 7.17166586e+00, 5.14327912e+01, 3.68858792e+02,\n",
       "        2.64533201e+03],\n",
       "       [1.00000000e+00, 4.96972856e+00, 2.46982019e+01, 1.22743360e+02,\n",
       "        6.10001179e+02],\n",
       "       [1.00000000e+00, 8.14799756e+00, 6.63898642e+01, 5.40944452e+02,\n",
       "        4.40761407e+03],\n",
       "       [1.00000000e+00, 2.59103578e+00, 6.71346643e+00, 1.73948317e+01,\n",
       "        4.50706315e+01],\n",
       "       [1.00000000e+00, 3.52810469e-01, 1.24475227e-01, 4.39161633e-02,\n",
       "        1.54940822e-02],\n",
       "       [1.00000000e+00, 3.37597300e+00, 1.13971937e+01, 3.84766180e+01,\n",
       "        1.29896023e+02],\n",
       "       [1.00000000e+00, 8.72363612e+00, 7.61018271e+01, 6.63884647e+02,\n",
       "        5.79148809e+03]])"
      ]
     },
     "execution_count": 17,
     "metadata": {},
     "output_type": "execute_result"
    }
   ],
   "source": [
    "PolynomialFeatures(degree = 4).fit(X_train.reshape(-1, 1)).transform(X_train.reshape(-1, 1))"
   ]
  },
  {
   "cell_type": "code",
   "execution_count": 30,
   "metadata": {
    "deletable": false,
    "execution": {
     "iopub.execute_input": "2023-05-26T13:47:25.725389Z",
     "iopub.status.busy": "2023-05-26T13:47:25.725389Z",
     "iopub.status.idle": "2023-05-26T13:47:25.745344Z",
     "shell.execute_reply": "2023-05-26T13:47:25.745344Z",
     "shell.execute_reply.started": "2023-05-26T13:47:25.725389Z"
    },
    "nbgrader": {
     "cell_type": "code",
     "checksum": "8436104c34e3504afe30bc2525bb75ea",
     "grade": false,
     "grade_id": "cell-6c513a17d17152d5",
     "locked": false,
     "schema_version": 3,
     "solution": true,
     "task": false
    }
   },
   "outputs": [],
   "source": [
    "def answer_one():\n",
    "    \n",
    "    degree_predictions = []\n",
    "    test_x = np.linspace(0, 10, num = 100).reshape(-1, 1)\n",
    "    train_x = X_train.reshape(-1, 1)\n",
    "    \n",
    "    for deg in [1, 3, 6, 9]:\n",
    "        poly_transformer = PolynomialFeatures(degree = deg).fit(train_x)\n",
    "        transformed_train_x = poly_transformer.transform(train_x)\n",
    "        transformed_test_x = poly_transformer.transform(test_x)\n",
    "        pReg = LinearRegression().fit(transformed_train_x, y_train)\n",
    "        degree_predictions.append(pReg.predict(transformed_test_x))\n",
    "    \n",
    "    return np.array(degree_predictions)"
   ]
  },
  {
   "cell_type": "code",
   "execution_count": 31,
   "metadata": {
    "execution": {
     "iopub.execute_input": "2023-05-26T13:47:27.294109Z",
     "iopub.status.busy": "2023-05-26T13:47:27.294109Z",
     "iopub.status.idle": "2023-05-26T13:47:27.315368Z",
     "shell.execute_reply": "2023-05-26T13:47:27.315368Z",
     "shell.execute_reply.started": "2023-05-26T13:47:27.294109Z"
    }
   },
   "outputs": [
    {
     "data": {
      "text/plain": [
       "(4, 100)"
      ]
     },
     "execution_count": 31,
     "metadata": {},
     "output_type": "execute_result"
    }
   ],
   "source": [
    "answer_one().shape"
   ]
  },
  {
   "cell_type": "code",
   "execution_count": null,
   "metadata": {},
   "outputs": [],
   "source": []
  },
  {
   "cell_type": "code",
   "execution_count": 28,
   "metadata": {
    "deletable": true,
    "execution": {
     "iopub.execute_input": "2023-05-26T13:46:20.858337Z",
     "iopub.status.busy": "2023-05-26T13:46:20.858337Z",
     "iopub.status.idle": "2023-05-26T13:46:21.017851Z",
     "shell.execute_reply": "2023-05-26T13:46:21.017851Z",
     "shell.execute_reply.started": "2023-05-26T13:46:20.858337Z"
    },
    "nbgrader": {
     "cell_type": "code",
     "checksum": "490e096030c2a5920f27296066dbbf96",
     "grade": true,
     "grade_id": "cell-4b3a4b2c2971710c",
     "locked": true,
     "points": 2,
     "schema_version": 3,
     "solution": false,
     "task": false
    }
   },
   "outputs": [
    {
     "data": {
      "image/png": "[encoded data removed]",
      "text/plain": [
       "<Figure size 1600x800 with 1 Axes>"
      ]
     },
     "metadata": {},
     "output_type": "display_data"
    }
   ],
   "source": [
    "# feel free to use the function plot_one() to replicate the figure \n",
    "# from the prompt once you have completed question one\n",
    "def plot_one(degree_predictions):\n",
    "    plt.figure(figsize=(16, 8))\n",
    "    plt.plot(X_train, y_train, 'o', label='training data', markersize=10)\n",
    "    plt.plot(X_test, y_test, 'o', label='test data', markersize=10)\n",
    "    for i,degree in enumerate([1,3,6,9]):\n",
    "        plt.plot(np.linspace(0,10,100), degree_predictions[i], alpha=0.8, lw=2, label='degree={}'.format(degree))\n",
    "    plt.ylim(-1,2.5)\n",
    "    plt.legend(loc=4)\n",
    "    plt.show()\n",
    "    \n",
    "plot_one(answer_one())"
   ]
  },
  {
   "cell_type": "markdown",
   "metadata": {
    "deletable": false,
    "editable": false,
    "nbgrader": {
     "cell_type": "markdown",
     "checksum": "ce5717d687d83501f4a40391d1343a6c",
     "grade": false,
     "grade_id": "cell-0dc74766a78dd360",
     "locked": true,
     "schema_version": 3,
     "solution": false,
     "task": false
    }
   },
   "source": [
    "### Question 2\n",
    "\n",
    "Write a function that fits a polynomial LinearRegression model on the training data `X_train` for degrees 0 through 9. For each model compute the $R^2$ (coefficient of determination) regression score on the training data as well as the the test data, and return both of these arrays in a tuple.\n",
    "\n",
    "*This function should return a tuple of numpy arrays `(r2_train, r2_test)`. Both arrays should have shape `(10,)`*"
   ]
  },
  {
   "cell_type": "code",
   "execution_count": 32,
   "metadata": {
    "deletable": false,
    "execution": {
     "iopub.execute_input": "2023-05-26T13:53:43.015784Z",
     "iopub.status.busy": "2023-05-26T13:53:43.015784Z",
     "iopub.status.idle": "2023-05-26T13:53:43.033412Z",
     "shell.execute_reply": "2023-05-26T13:53:43.033275Z",
     "shell.execute_reply.started": "2023-05-26T13:53:43.015784Z"
    },
    "nbgrader": {
     "cell_type": "code",
     "checksum": "396058b742b2cec36e4553b8f24ed21c",
     "grade": false,
     "grade_id": "cell-ae3a83e5eef54645",
     "locked": false,
     "schema_version": 3,
     "solution": true,
     "task": false
    }
   },
   "outputs": [],
   "source": [
    "def answer_two():\n",
    "    \n",
    "    train_x = X_train.reshape(-1, 1)\n",
    "    test_x = X_test.reshape(-1, 1)\n",
    "\n",
    "    rsq_train = []\n",
    "    rsq_test = []\n",
    "    \n",
    "    for deg in range(0, 10):\n",
    "        \n",
    "            poly_transformer = PolynomialFeatures(degree = deg).fit(train_x)\n",
    "            transformed_train_x = poly_transformer.transform(train_x)\n",
    "            transformed_test_x = poly_transformer.transform(test_x)\n",
    "            pReg = LinearRegression().fit(transformed_train_x, y_train)\n",
    "\n",
    "            rsq_train.append(pReg.score(transformed_train_x, y_train))\n",
    "            rsq_test.append(pReg.score(transformed_test_x, y_test))\n",
    "\n",
    "    return (np.array(rsq_train), np.array(rsq_test))"
   ]
  },
  {
   "cell_type": "code",
   "execution_count": 35,
   "metadata": {
    "execution": {
     "iopub.execute_input": "2023-05-26T13:54:28.114000Z",
     "iopub.status.busy": "2023-05-26T13:54:28.114000Z",
     "iopub.status.idle": "2023-05-26T13:54:28.155652Z",
     "shell.execute_reply": "2023-05-26T13:54:28.154615Z",
     "shell.execute_reply.started": "2023-05-26T13:54:28.114000Z"
    }
   },
   "outputs": [
    {
     "data": {
      "text/plain": [
       "((10,), (10,))"
      ]
     },
     "execution_count": 35,
     "metadata": {},
     "output_type": "execute_result"
    }
   ],
   "source": [
    "answer_two()[0].shape, answer_two()[1].shape"
   ]
  },
  {
   "cell_type": "code",
   "execution_count": null,
   "metadata": {},
   "outputs": [],
   "source": []
  },
  {
   "cell_type": "code",
   "execution_count": null,
   "metadata": {
    "deletable": false,
    "editable": false,
    "nbgrader": {
     "cell_type": "code",
     "checksum": "4422cf73539e0fd6a3b7d0498d2e7cc4",
     "grade": true,
     "grade_id": "cell-84a9de5d00b87d2f",
     "locked": true,
     "points": 2,
     "schema_version": 3,
     "solution": false,
     "task": false
    }
   },
   "outputs": [],
   "source": []
  },
  {
   "cell_type": "markdown",
   "metadata": {
    "deletable": false,
    "editable": false,
    "nbgrader": {
     "cell_type": "markdown",
     "checksum": "46df6eab1f30c0fb905cecd91de7f86a",
     "grade": false,
     "grade_id": "cell-a61e61b55b9465fc",
     "locked": true,
     "schema_version": 3,
     "solution": false,
     "task": false
    }
   },
   "source": [
    "### Question 3\n",
    "\n",
    "Based on the $R^2$ scores from question 2 (degree levels 0 through 9), what degree level corresponds to a model that is underfitting? What degree level corresponds to a model that is overfitting? What choice of degree level would provide a model with good generalization performance on this dataset? \n",
    "\n",
    "(Hint: Try plotting the $R^2$ scores from question 2 to visualize the relationship)\n",
    "\n",
    "*This function should return a tuple with the degree values in this order: `(Underfitting, Overfitting, Good_Generalization)`*"
   ]
  },
  {
   "cell_type": "code",
   "execution_count": 41,
   "metadata": {
    "execution": {
     "iopub.execute_input": "2023-05-26T14:04:35.772799Z",
     "iopub.status.busy": "2023-05-26T14:04:35.772799Z",
     "iopub.status.idle": "2023-05-26T14:04:35.901483Z",
     "shell.execute_reply": "2023-05-26T14:04:35.901483Z",
     "shell.execute_reply.started": "2023-05-26T14:04:35.772799Z"
    }
   },
   "outputs": [
    {
     "data": {
      "image/png": "[encoded data removed]",
      "text/plain": [
       "<Figure size 640x480 with 1 Axes>"
      ]
     },
     "metadata": {},
     "output_type": "display_data"
    }
   ],
   "source": [
    "__rsq_train, __rsq_test = answer_two()\n",
    "x = range(0, 10, 1)\n",
    "fig, axes = plt.subplots()\n",
    "axes.scatter(x, __rsq_test, label = \"test\")\n",
    "axes.scatter(x, __rsq_train, label = \"train\")\n",
    "axes.legend()\n",
    "plt.show()"
   ]
  },
  {
   "cell_type": "code",
   "execution_count": null,
   "metadata": {},
   "outputs": [],
   "source": [
    "# most overfitting occurs at degree = 9\n",
    "# most underfitting occurs at degree = 0\n",
    "# best generalization occurs at degree = 6"
   ]
  },
  {
   "cell_type": "code",
   "execution_count": 45,
   "metadata": {
    "execution": {
     "iopub.execute_input": "2023-05-26T14:07:42.571334Z",
     "iopub.status.busy": "2023-05-26T14:07:42.571334Z",
     "iopub.status.idle": "2023-05-26T14:07:42.578026Z",
     "shell.execute_reply": "2023-05-26T14:07:42.577510Z",
     "shell.execute_reply.started": "2023-05-26T14:07:42.571334Z"
    }
   },
   "outputs": [
    {
     "data": {
      "text/plain": [
       "array([0.47808642, 0.88161682, 0.51966965, 0.58186848, 0.18937002,\n",
       "       0.09870341, 0.06877293, 0.07331005, 0.36389606, 1.64328966])"
      ]
     },
     "execution_count": 45,
     "metadata": {},
     "output_type": "execute_result"
    }
   ],
   "source": [
    "(__rsq_train - __rsq_test)"
   ]
  },
  {
   "cell_type": "code",
   "execution_count": 46,
   "metadata": {
    "execution": {
     "iopub.execute_input": "2023-05-26T14:09:25.620776Z",
     "iopub.status.busy": "2023-05-26T14:09:25.620776Z",
     "iopub.status.idle": "2023-05-26T14:09:25.626054Z",
     "shell.execute_reply": "2023-05-26T14:09:25.625541Z",
     "shell.execute_reply.started": "2023-05-26T14:09:25.620776Z"
    }
   },
   "outputs": [
    {
     "data": {
      "text/plain": [
       "array([6, 7, 5, 4, 8, 0, 2, 3, 1, 9], dtype=int64)"
      ]
     },
     "execution_count": 46,
     "metadata": {},
     "output_type": "execute_result"
    }
   ],
   "source": [
    "np.argsort(__rsq_train - __rsq_test)"
   ]
  },
  {
   "cell_type": "code",
   "execution_count": null,
   "metadata": {},
   "outputs": [],
   "source": []
  },
  {
   "cell_type": "code",
   "execution_count": 47,
   "metadata": {
    "deletable": false,
    "execution": {
     "iopub.execute_input": "2023-05-26T14:11:10.002246Z",
     "iopub.status.busy": "2023-05-26T14:11:10.002246Z",
     "iopub.status.idle": "2023-05-26T14:11:10.008725Z",
     "shell.execute_reply": "2023-05-26T14:11:10.008668Z",
     "shell.execute_reply.started": "2023-05-26T14:11:10.002246Z"
    },
    "nbgrader": {
     "cell_type": "code",
     "checksum": "cd6238e841d4d51362c3687f8ae4841c",
     "grade": false,
     "grade_id": "cell-721bb32d2df3020f",
     "locked": false,
     "schema_version": 3,
     "solution": true,
     "task": false
    }
   },
   "outputs": [],
   "source": [
    "def answer_three():\n",
    "    return (0, 9, 6)"
   ]
  },
  {
   "cell_type": "code",
   "execution_count": 48,
   "metadata": {
    "execution": {
     "iopub.execute_input": "2023-05-26T14:11:20.378766Z",
     "iopub.status.busy": "2023-05-26T14:11:20.378766Z",
     "iopub.status.idle": "2023-05-26T14:11:20.393929Z",
     "shell.execute_reply": "2023-05-26T14:11:20.393299Z",
     "shell.execute_reply.started": "2023-05-26T14:11:20.378766Z"
    }
   },
   "outputs": [
    {
     "data": {
      "text/plain": [
       "(0, 9, 6)"
      ]
     },
     "execution_count": 48,
     "metadata": {},
     "output_type": "execute_result"
    }
   ],
   "source": [
    "answer_three()"
   ]
  },
  {
   "cell_type": "code",
   "execution_count": null,
   "metadata": {
    "deletable": false,
    "editable": false,
    "nbgrader": {
     "cell_type": "code",
     "checksum": "ffd5b85a04844aeed8bcfe38dd943faf",
     "grade": true,
     "grade_id": "cell-877e9f32963e0d5a",
     "locked": true,
     "points": 1,
     "schema_version": 3,
     "solution": false,
     "task": false
    }
   },
   "outputs": [],
   "source": []
  },
  {
   "cell_type": "markdown",
   "metadata": {
    "deletable": false,
    "editable": false,
    "nbgrader": {
     "cell_type": "markdown",
     "checksum": "828cf6c6860722b3f89ca2a667a8dd4f",
     "grade": false,
     "grade_id": "cell-a99d81381fbc35ee",
     "locked": true,
     "schema_version": 3,
     "solution": false,
     "task": false
    }
   },
   "source": [
    "### Question 4\n",
    "\n",
    "Training models on high degree polynomial features can result in overfitting. Train two models: a non-regularized LinearRegression model and a Lasso Regression model (with parameters `alpha=0.01`, `max_iter=10000`, `tol=0.1`) on polynomial features of degree 12. Return the $R^2$ score for LinearRegression and Lasso model's test sets.\n",
    "\n",
    "*This function should return a tuple `(LinearRegression_R2_test_score, Lasso_R2_test_score)`*"
   ]
  },
  {
   "cell_type": "code",
   "execution_count": 52,
   "metadata": {
    "deletable": false,
    "execution": {
     "iopub.execute_input": "2023-05-26T14:23:44.035840Z",
     "iopub.status.busy": "2023-05-26T14:23:44.035840Z",
     "iopub.status.idle": "2023-05-26T14:23:44.041760Z",
     "shell.execute_reply": "2023-05-26T14:23:44.041238Z",
     "shell.execute_reply.started": "2023-05-26T14:23:44.035840Z"
    },
    "nbgrader": {
     "cell_type": "code",
     "checksum": "fc87206e6c599bd5e911bfbf6d833dc4",
     "grade": false,
     "grade_id": "cell-55ab7af2f78e174e",
     "locked": false,
     "schema_version": 3,
     "solution": true,
     "task": false
    }
   },
   "outputs": [],
   "source": [
    "def answer_four():\n",
    "\n",
    "    train_x = X_train.reshape(-1, 1)\n",
    "    test_x = X_test.reshape(-1, 1)\n",
    "    \n",
    "    poly_transformer = PolynomialFeatures(degree = 12).fit(train_x)\n",
    "    transformed_train_x = poly_transformer.transform(train_x)\n",
    "    transformed_test_x = poly_transformer.transform(test_x)\n",
    "    \n",
    "    pReg = LinearRegression().fit(transformed_train_x, y_train)\n",
    "    pLasso = Lasso(alpha = 0.01, max_iter = 10_000, tol = 0.1).fit(transformed_train_x, y_train)\n",
    "\n",
    "    return (pReg.score(transformed_test_x, y_test), pLasso.score(transformed_test_x, y_test))"
   ]
  },
  {
   "cell_type": "code",
   "execution_count": 53,
   "metadata": {
    "execution": {
     "iopub.execute_input": "2023-05-26T14:23:44.506859Z",
     "iopub.status.busy": "2023-05-26T14:23:44.506859Z",
     "iopub.status.idle": "2023-05-26T14:23:44.518162Z",
     "shell.execute_reply": "2023-05-26T14:23:44.517548Z",
     "shell.execute_reply.started": "2023-05-26T14:23:44.506859Z"
    }
   },
   "outputs": [
    {
     "data": {
      "text/plain": [
       "(-4.31194716107414, 0.6051396919570093)"
      ]
     },
     "execution_count": 53,
     "metadata": {},
     "output_type": "execute_result"
    }
   ],
   "source": [
    "answer_four()"
   ]
  },
  {
   "cell_type": "code",
   "execution_count": null,
   "metadata": {
    "deletable": false,
    "editable": false,
    "nbgrader": {
     "cell_type": "code",
     "checksum": "7b7288eaac59a3be8999b26c2bdef060",
     "grade": true,
     "grade_id": "cell-f1ccfec3713e840c",
     "locked": true,
     "points": 2,
     "schema_version": 3,
     "solution": false,
     "task": false
    }
   },
   "outputs": [],
   "source": []
  },
  {
   "cell_type": "markdown",
   "metadata": {
    "deletable": false,
    "editable": false,
    "nbgrader": {
     "cell_type": "markdown",
     "checksum": "17c987a4ffba18ec6723810fba58241f",
     "grade": false,
     "grade_id": "cell-31c2ed693fab43e6",
     "locked": true,
     "schema_version": 3,
     "solution": false,
     "task": false
    }
   },
   "source": [
    "## Part 2 - Classification\n",
    "\n",
    "For this section of the assignment we will be working with the [UCI Mushroom Data Set](http://archive.ics.uci.edu/ml/datasets/Mushroom?ref=datanews.io) stored in `mushrooms.csv`. The data will be used to trian a model to predict whether or not a mushroom is poisonous. The following attributes are provided:\n",
    "\n",
    "*Attribute Information:*\n",
    "\n",
    "1. cap-shape: bell=b, conical=c, convex=x, flat=f, knobbed=k, sunken=s \n",
    "2. cap-surface: fibrous=f, grooves=g, scaly=y, smooth=s \n",
    "3. cap-color: brown=n, buff=b, cinnamon=c, gray=g, green=r, pink=p, purple=u, red=e, white=w, yellow=y \n",
    "4. bruises?: bruises=t, no=f \n",
    "5. odor: almond=a, anise=l, creosote=c, fishy=y, foul=f, musty=m, none=n, pungent=p, spicy=s \n",
    "6. gill-attachment: attached=a, descending=d, free=f, notched=n \n",
    "7. gill-spacing: close=c, crowded=w, distant=d \n",
    "8. gill-size: broad=b, narrow=n \n",
    "9. gill-color: black=k, brown=n, buff=b, chocolate=h, gray=g, green=r, orange=o, pink=p, purple=u, red=e, white=w, yellow=y \n",
    "10. stalk-shape: enlarging=e, tapering=t \n",
    "11. stalk-root: bulbous=b, club=c, cup=u, equal=e, rhizomorphs=z, rooted=r, missing=? \n",
    "12. stalk-surface-above-ring: fibrous=f, scaly=y, silky=k, smooth=s \n",
    "13. stalk-surface-below-ring: fibrous=f, scaly=y, silky=k, smooth=s \n",
    "14. stalk-color-above-ring: brown=n, buff=b, cinnamon=c, gray=g, orange=o, pink=p, red=e, white=w, yellow=y \n",
    "15. stalk-color-below-ring: brown=n, buff=b, cinnamon=c, gray=g, orange=o, pink=p, red=e, white=w, yellow=y \n",
    "16. veil-type: partial=p, universal=u \n",
    "17. veil-color: brown=n, orange=o, white=w, yellow=y \n",
    "18. ring-number: none=n, one=o, two=t \n",
    "19. ring-type: cobwebby=c, evanescent=e, flaring=f, large=l, none=n, pendant=p, sheathing=s, zone=z \n",
    "20. spore-print-color: black=k, brown=n, buff=b, chocolate=h, green=r, orange=o, purple=u, white=w, yellow=y \n",
    "21. population: abundant=a, clustered=c, numerous=n, scattered=s, several=v, solitary=y \n",
    "22. habitat: grasses=g, leaves=l, meadows=m, paths=p, urban=u, waste=w, woods=d\n",
    "\n",
    "<br>\n",
    "\n",
    "The data in the mushrooms dataset is currently encoded with strings. These values will need to be encoded to numeric to work with sklearn. We'll use pd.get_dummies to convert the categorical variables into indicator variables. "
   ]
  },
  {
   "cell_type": "code",
   "execution_count": 60,
   "metadata": {
    "deletable": true,
    "execution": {
     "iopub.execute_input": "2023-05-26T14:31:57.403362Z",
     "iopub.status.busy": "2023-05-26T14:31:57.403362Z",
     "iopub.status.idle": "2023-05-26T14:31:57.454693Z",
     "shell.execute_reply": "2023-05-26T14:31:57.454693Z",
     "shell.execute_reply.started": "2023-05-26T14:31:57.403362Z"
    },
    "nbgrader": {
     "cell_type": "code",
     "checksum": "af003949c9018bed0b7c646cd4b0b03f",
     "grade": false,
     "grade_id": "cell-e7c80d01d6d17d4d",
     "locked": true,
     "schema_version": 3,
     "solution": false,
     "task": false
    }
   },
   "outputs": [],
   "source": [
    "mush_df = pd.read_csv(\"./assets/mushrooms.csv\")\n",
    "mush_df2 = pd.get_dummies(mush_df)\n",
    "\n",
    "X_mush = mush_df2.iloc[:,2:]\n",
    "y_mush = mush_df2.iloc[:,1]\n",
    "\n",
    "X_train2, X_test2, y_train2, y_test2 = train_test_split(X_mush, y_mush, random_state=0)"
   ]
  },
  {
   "cell_type": "markdown",
   "metadata": {
    "deletable": false,
    "editable": false,
    "nbgrader": {
     "cell_type": "markdown",
     "checksum": "a309b42233d5f15c15d791c51599a8df",
     "grade": false,
     "grade_id": "cell-586eff0179eb4e48",
     "locked": true,
     "schema_version": 3,
     "solution": false,
     "task": false
    }
   },
   "source": [
    "### Question 5\n",
    "\n",
    "Using `X_train` and `y_train` from the preceeding cell, train a DecisionTreeClassifier with default parameters and random_state=0. What are the 5 most important features found by the decision tree?\n",
    "\n",
    "*This function should return a list of length 5 of the feature names in descending order of importance.*"
   ]
  },
  {
   "cell_type": "code",
   "execution_count": 73,
   "metadata": {
    "execution": {
     "iopub.execute_input": "2023-05-26T14:37:47.302622Z",
     "iopub.status.busy": "2023-05-26T14:37:47.302622Z",
     "iopub.status.idle": "2023-05-26T14:37:47.308328Z",
     "shell.execute_reply": "2023-05-26T14:37:47.308328Z",
     "shell.execute_reply.started": "2023-05-26T14:37:47.302622Z"
    }
   },
   "outputs": [
    {
     "data": {
      "text/plain": [
       "Index(['cap-shape_b', 'cap-shape_c', 'cap-shape_f', 'cap-shape_k',\n",
       "       'cap-shape_s', 'cap-shape_x', 'cap-surface_f', 'cap-surface_g',\n",
       "       'cap-surface_s', 'cap-surface_y',\n",
       "       ...\n",
       "       'population_s', 'population_v', 'population_y', 'habitat_d',\n",
       "       'habitat_g', 'habitat_l', 'habitat_m', 'habitat_p', 'habitat_u',\n",
       "       'habitat_w'],\n",
       "      dtype='object', length=117)"
      ]
     },
     "execution_count": 73,
     "metadata": {},
     "output_type": "execute_result"
    }
   ],
   "source": [
    "X_train2.columns"
   ]
  },
  {
   "cell_type": "code",
   "execution_count": 76,
   "metadata": {
    "execution": {
     "iopub.execute_input": "2023-05-26T14:38:26.740497Z",
     "iopub.status.busy": "2023-05-26T14:38:26.740497Z",
     "iopub.status.idle": "2023-05-26T14:38:26.772443Z",
     "shell.execute_reply": "2023-05-26T14:38:26.772443Z",
     "shell.execute_reply.started": "2023-05-26T14:38:26.740497Z"
    }
   },
   "outputs": [
    {
     "data": {
      "text/plain": [
       "True"
      ]
     },
     "execution_count": 76,
     "metadata": {},
     "output_type": "execute_result"
    }
   ],
   "source": [
    "dtClassifier = DecisionTreeClassifier(random_state = 0).fit(X_train2, y_train2)\n",
    "\n",
    "(dtClassifier.feature_names_in_ == X_train2.columns).sum() == X_train2.columns.size"
   ]
  },
  {
   "cell_type": "code",
   "execution_count": 80,
   "metadata": {
    "execution": {
     "iopub.execute_input": "2023-05-26T14:40:21.250630Z",
     "iopub.status.busy": "2023-05-26T14:40:21.250630Z",
     "iopub.status.idle": "2023-05-26T14:40:21.256985Z",
     "shell.execute_reply": "2023-05-26T14:40:21.256985Z",
     "shell.execute_reply.started": "2023-05-26T14:40:21.250630Z"
    }
   },
   "outputs": [
    {
     "data": {
      "text/plain": [
       "[('odor_n', 0.6251435175471661),\n",
       " ('stalk-root_c', 0.1691757144252228),\n",
       " ('stalk-root_r', 0.08658915843078754),\n",
       " ('spore-print-color_r', 0.03437506344670402),\n",
       " ('odor_l', 0.023503682936672883)]"
      ]
     },
     "execution_count": 80,
     "metadata": {},
     "output_type": "execute_result"
    }
   ],
   "source": [
    "sorted(list(zip(dtClassifier.feature_names_in_, dtClassifier.feature_importances_)), reverse = True, key = lambda tup: tup[1])[:5]"
   ]
  },
  {
   "cell_type": "code",
   "execution_count": 83,
   "metadata": {
    "execution": {
     "iopub.execute_input": "2023-05-26T14:41:05.450763Z",
     "iopub.status.busy": "2023-05-26T14:41:05.450763Z",
     "iopub.status.idle": "2023-05-26T14:41:05.457840Z",
     "shell.execute_reply": "2023-05-26T14:41:05.457840Z",
     "shell.execute_reply.started": "2023-05-26T14:41:05.450763Z"
    }
   },
   "outputs": [
    {
     "data": {
      "text/plain": [
       "[('odor_n', 0.6251435175471661),\n",
       " ('stalk-root_c', 0.1691757144252228),\n",
       " ('stalk-root_r', 0.08658915843078754),\n",
       " ('spore-print-color_r', 0.03437506344670402),\n",
       " ('odor_l', 0.023503682936672883)]"
      ]
     },
     "execution_count": 83,
     "metadata": {},
     "output_type": "execute_result"
    }
   ],
   "source": [
    "sorted(list(zip(dtClassifier.feature_names_in_, dtClassifier.feature_importances_)), reverse = True, key = lambda tup: tup[1])[:5]"
   ]
  },
  {
   "cell_type": "code",
   "execution_count": 86,
   "metadata": {
    "deletable": false,
    "execution": {
     "iopub.execute_input": "2023-05-26T14:43:13.666087Z",
     "iopub.status.busy": "2023-05-26T14:43:13.666087Z",
     "iopub.status.idle": "2023-05-26T14:43:13.678288Z",
     "shell.execute_reply": "2023-05-26T14:43:13.678288Z",
     "shell.execute_reply.started": "2023-05-26T14:43:13.666087Z"
    },
    "nbgrader": {
     "cell_type": "code",
     "checksum": "b34331dd3525c3b25fbc73519bbd7e01",
     "grade": false,
     "grade_id": "cell-55ff1f0e1941bc35",
     "locked": false,
     "schema_version": 3,
     "solution": true,
     "task": false
    }
   },
   "outputs": [],
   "source": [
    "def answer_five():\n",
    "    \n",
    "    dtClassifier = DecisionTreeClassifier(random_state = 0).fit(X_train2, y_train2)\n",
    "    top5 = sorted(list(zip(dtClassifier.feature_names_in_, dtClassifier.feature_importances_)), reverse = True, key = lambda tup: tup[1])[:5]\n",
    "    return [fname for (fname, _) in top5]"
   ]
  },
  {
   "cell_type": "code",
   "execution_count": 87,
   "metadata": {
    "execution": {
     "iopub.execute_input": "2023-05-26T14:43:14.015933Z",
     "iopub.status.busy": "2023-05-26T14:43:14.015933Z",
     "iopub.status.idle": "2023-05-26T14:43:14.042898Z",
     "shell.execute_reply": "2023-05-26T14:43:14.041891Z",
     "shell.execute_reply.started": "2023-05-26T14:43:14.015933Z"
    }
   },
   "outputs": [
    {
     "data": {
      "text/plain": [
       "['odor_n', 'stalk-root_c', 'stalk-root_r', 'spore-print-color_r', 'odor_l']"
      ]
     },
     "execution_count": 87,
     "metadata": {},
     "output_type": "execute_result"
    }
   ],
   "source": [
    "answer_five()"
   ]
  },
  {
   "cell_type": "code",
   "execution_count": null,
   "metadata": {
    "deletable": false,
    "editable": false,
    "nbgrader": {
     "cell_type": "code",
     "checksum": "4102243cb57cca9cf6c64b8377eef091",
     "grade": true,
     "grade_id": "cell-45bb9fef0723e714",
     "locked": true,
     "points": 2,
     "schema_version": 3,
     "solution": false,
     "task": false
    }
   },
   "outputs": [],
   "source": []
  },
  {
   "cell_type": "markdown",
   "metadata": {
    "deletable": false,
    "editable": false,
    "nbgrader": {
     "cell_type": "markdown",
     "checksum": "dac6022b713452cb6bb37c201782b44d",
     "grade": false,
     "grade_id": "cell-175384240dac6faa",
     "locked": true,
     "schema_version": 3,
     "solution": false,
     "task": false
    }
   },
   "source": [
    "### Question 6\n",
    "\n",
    "For this question, use the `validation_curve` function in `sklearn.model_selection` to determine training and test scores for a Support Vector Classifier (`SVC`) with varying parameter values.\n",
    "\n",
    "Create an `SVC` with default parameters (i.e. `kernel='rbf', C=1`) and `random_state=0`. Recall that the kernel width of the RBF kernel is controlled using the `gamma` parameter.  Explore the effect of `gamma` on classifier accuracy by using the `validation_curve` function to find the training and test scores for 6 values of `gamma` from `0.0001` to `10` (i.e. `np.logspace(-4,1,6)`).\n",
    "\n",
    "For each level of `gamma`, `validation_curve` will use 3-fold cross validation (use `cv=3, n_jobs=2` as parameters for `validation_curve`), returning two 6x3 (6 levels of gamma x 3 fits per level) arrays of the scores for the training and test sets in each fold.\n",
    "\n",
    "Find the mean score across the five models for each level of `gamma` for both arrays, creating two arrays of length 6, and return a tuple with the two arrays.\n",
    "\n",
    "e.g.\n",
    "\n",
    "if one of your array of scores is\n",
    "\n",
    "    array([[ 0.5,  0.4,  0.6],\n",
    "           [ 0.7,  0.8,  0.7],\n",
    "           [ 0.9,  0.8,  0.8],\n",
    "           [ 0.8,  0.7,  0.8],\n",
    "           [ 0.7,  0.6,  0.6],\n",
    "           [ 0.4,  0.6,  0.5]])\n",
    "       \n",
    "it should then become\n",
    "\n",
    "    array([ 0.5,  0.73333333,  0.83333333,  0.76666667,  0.63333333, 0.5])\n",
    "\n",
    "*This function should return a tuple of numpy arrays `(training_scores, test_scores)` where each array in the tuple has shape `(6,)`.*"
   ]
  },
  {
   "cell_type": "code",
   "execution_count": 91,
   "metadata": {
    "execution": {
     "iopub.execute_input": "2023-05-26T14:58:15.457506Z",
     "iopub.status.busy": "2023-05-26T14:58:15.457506Z",
     "iopub.status.idle": "2023-05-26T14:58:15.826056Z",
     "shell.execute_reply": "2023-05-26T14:58:15.826056Z",
     "shell.execute_reply.started": "2023-05-26T14:58:15.457506Z"
    }
   },
   "outputs": [],
   "source": [
    "svclassifier = SVC(kernel = \"rbf\", C = 1, random_state = 0).fit(X_train2, y_train2)"
   ]
  },
  {
   "cell_type": "code",
   "execution_count": 94,
   "metadata": {
    "execution": {
     "iopub.execute_input": "2023-05-26T15:04:27.035313Z",
     "iopub.status.busy": "2023-05-26T15:04:27.035313Z",
     "iopub.status.idle": "2023-05-26T15:05:10.452038Z",
     "shell.execute_reply": "2023-05-26T15:05:10.452038Z",
     "shell.execute_reply.started": "2023-05-26T15:04:27.035313Z"
    }
   },
   "outputs": [],
   "source": [
    "train_scores, test_scores = validation_curve(estimator = svclassifier, X = X_mush, y = y_mush,\n",
    "                                             param_name = \"gamma\", param_range = np.logspace(-4,1,6), cv = 3, n_jobs = 2)"
   ]
  },
  {
   "cell_type": "code",
   "execution_count": 98,
   "metadata": {
    "execution": {
     "iopub.execute_input": "2023-05-26T15:05:40.949650Z",
     "iopub.status.busy": "2023-05-26T15:05:40.949650Z",
     "iopub.status.idle": "2023-05-26T15:05:40.970187Z",
     "shell.execute_reply": "2023-05-26T15:05:40.969164Z",
     "shell.execute_reply.started": "2023-05-26T15:05:40.949650Z"
    }
   },
   "outputs": [
    {
     "data": {
      "text/plain": [
       "array([0.89838749, 0.98104382, 0.99895372, 1.        , 1.        ,\n",
       "       1.        ])"
      ]
     },
     "execution_count": 98,
     "metadata": {},
     "output_type": "execute_result"
    }
   ],
   "source": [
    "train_scores.mean(axis = 1)"
   ]
  },
  {
   "cell_type": "code",
   "execution_count": 99,
   "metadata": {
    "execution": {
     "iopub.execute_input": "2023-05-26T15:06:05.516709Z",
     "iopub.status.busy": "2023-05-26T15:06:05.516709Z",
     "iopub.status.idle": "2023-05-26T15:06:05.536350Z",
     "shell.execute_reply": "2023-05-26T15:06:05.535769Z",
     "shell.execute_reply.started": "2023-05-26T15:06:05.516709Z"
    }
   },
   "outputs": [
    {
     "data": {
      "text/plain": [
       "array([0.88749385, 0.82951748, 0.84170359, 0.86582964, 0.83616445,\n",
       "       0.51797144])"
      ]
     },
     "execution_count": 99,
     "metadata": {},
     "output_type": "execute_result"
    }
   ],
   "source": [
    "test_scores.mean(axis = 1)"
   ]
  },
  {
   "cell_type": "code",
   "execution_count": 100,
   "metadata": {
    "deletable": false,
    "execution": {
     "iopub.execute_input": "2023-05-26T15:06:51.123266Z",
     "iopub.status.busy": "2023-05-26T15:06:51.123266Z",
     "iopub.status.idle": "2023-05-26T15:06:51.130636Z",
     "shell.execute_reply": "2023-05-26T15:06:51.129988Z",
     "shell.execute_reply.started": "2023-05-26T15:06:51.123266Z"
    },
    "nbgrader": {
     "cell_type": "code",
     "checksum": "65d5ad93c05a09042f9a32c0f8b84b9f",
     "grade": false,
     "grade_id": "cell-87cac6bdc8ea12a4",
     "locked": false,
     "schema_version": 3,
     "solution": true,
     "task": false
    }
   },
   "outputs": [],
   "source": [
    "def answer_six():\n",
    "    \n",
    "    svclassifier = SVC(kernel = \"rbf\", C = 1, random_state = 0).fit(X_train2, y_train2)\n",
    "    train_scores, test_scores = validation_curve(estimator = svclassifier, X = X_mush, y = y_mush,\n",
    "                                             param_name = \"gamma\", param_range = np.logspace(-4,1,6), cv = 3, n_jobs = 2)\n",
    "    return (train_scores.mean(axis = 1), test_scores.mean(axis = 1))"
   ]
  },
  {
   "cell_type": "code",
   "execution_count": 101,
   "metadata": {
    "execution": {
     "iopub.execute_input": "2023-05-26T15:06:57.484193Z",
     "iopub.status.busy": "2023-05-26T15:06:57.484193Z",
     "iopub.status.idle": "2023-05-26T15:07:42.718652Z",
     "shell.execute_reply": "2023-05-26T15:07:42.718652Z",
     "shell.execute_reply.started": "2023-05-26T15:06:57.484193Z"
    }
   },
   "outputs": [
    {
     "data": {
      "text/plain": [
       "(array([0.89838749, 0.98104382, 0.99895372, 1.        , 1.        ,\n",
       "        1.        ]),\n",
       " array([0.88749385, 0.82951748, 0.84170359, 0.86582964, 0.83616445,\n",
       "        0.51797144]))"
      ]
     },
     "execution_count": 101,
     "metadata": {},
     "output_type": "execute_result"
    }
   ],
   "source": [
    "answer_six()"
   ]
  },
  {
   "cell_type": "code",
   "execution_count": null,
   "metadata": {
    "deletable": false,
    "editable": false,
    "nbgrader": {
     "cell_type": "code",
     "checksum": "78bed9b2bb9eabdf0c3072db27c1af28",
     "grade": true,
     "grade_id": "cell-ae2a630e8862c3a3",
     "locked": true,
     "points": 2,
     "schema_version": 3,
     "solution": false,
     "task": false
    }
   },
   "outputs": [],
   "source": []
  },
  {
   "cell_type": "markdown",
   "metadata": {
    "deletable": false,
    "editable": false,
    "nbgrader": {
     "cell_type": "markdown",
     "checksum": "f6ac0808fe91645d2f5a9b37bdce3dda",
     "grade": false,
     "grade_id": "cell-40596e2acf966014",
     "locked": true,
     "schema_version": 3,
     "solution": false,
     "task": false
    }
   },
   "source": [
    "### Question 7\n",
    "\n",
    "Based on the scores from question 6, what gamma value corresponds to a model that is underfitting? What gamma value corresponds to a model that is overfitting? What choice of gamma would provide a model with good generalization performance on this dataset? \n",
    "\n",
    "(Hint: Try plotting the scores from question 6 to visualize the relationship)\n",
    "\n",
    "*This function should return a tuple with the degree values in this order: `(Underfitting, Overfitting, Good_Generalization)`*"
   ]
  },
  {
   "cell_type": "code",
   "execution_count": 103,
   "metadata": {
    "execution": {
     "iopub.execute_input": "2023-05-26T15:14:31.333116Z",
     "iopub.status.busy": "2023-05-26T15:14:31.333116Z",
     "iopub.status.idle": "2023-05-26T15:14:31.343647Z",
     "shell.execute_reply": "2023-05-26T15:14:31.343647Z",
     "shell.execute_reply.started": "2023-05-26T15:14:31.333116Z"
    }
   },
   "outputs": [
    {
     "data": {
      "text/plain": [
       "array([1.e-04, 1.e-03, 1.e-02, 1.e-01, 1.e+00, 1.e+01])"
      ]
     },
     "execution_count": 103,
     "metadata": {},
     "output_type": "execute_result"
    }
   ],
   "source": [
    "gamma = np.logspace(-4,1,6)\n",
    "rsq_train, rsq_test = answer_six()"
   ]
  },
  {
   "cell_type": "code",
   "execution_count": 113,
   "metadata": {
    "execution": {
     "iopub.execute_input": "2023-05-26T15:23:12.905847Z",
     "iopub.status.busy": "2023-05-26T15:23:12.905847Z",
     "iopub.status.idle": "2023-05-26T15:23:13.179051Z",
     "shell.execute_reply": "2023-05-26T15:23:13.179051Z",
     "shell.execute_reply.started": "2023-05-26T15:23:12.905847Z"
    }
   },
   "outputs": [
    {
     "data": {
      "image/png": "[encoded data removed]",
      "text/plain": [
       "<Figure size 640x480 with 1 Axes>"
      ]
     },
     "metadata": {},
     "output_type": "display_data"
    }
   ],
   "source": [
    "fig, axes = plt.subplots()\n",
    "axes.set_xscale(\"log\")\n",
    "axes.scatter(gamma, rsq_test, color = \"red\", edgecolor = \"black\", label = \"test\")\n",
    "axes.scatter(gamma, rsq_train, color = \"yellow\", edgecolor = \"black\", label = \"train\")\n",
    "axes.set_xlabel(\"$\\gamma$\")\n",
    "axes.legend()\n",
    "plt.show()"
   ]
  },
  {
   "cell_type": "code",
   "execution_count": 111,
   "metadata": {
    "execution": {
     "iopub.execute_input": "2023-05-26T15:19:25.662699Z",
     "iopub.status.busy": "2023-05-26T15:19:25.662699Z",
     "iopub.status.idle": "2023-05-26T15:19:25.674335Z",
     "shell.execute_reply": "2023-05-26T15:19:25.674335Z",
     "shell.execute_reply.started": "2023-05-26T15:19:25.662699Z"
    }
   },
   "outputs": [
    {
     "data": {
      "text/plain": [
       "array([0, 3, 1, 2, 4, 5], dtype=int64)"
      ]
     },
     "execution_count": 111,
     "metadata": {},
     "output_type": "execute_result"
    }
   ],
   "source": [
    "np.argsort(rsq_train - rsq_test)"
   ]
  },
  {
   "cell_type": "code",
   "execution_count": 116,
   "metadata": {
    "deletable": false,
    "execution": {
     "iopub.execute_input": "2023-05-26T15:34:34.366839Z",
     "iopub.status.busy": "2023-05-26T15:34:34.366839Z",
     "iopub.status.idle": "2023-05-26T15:34:34.375923Z",
     "shell.execute_reply": "2023-05-26T15:34:34.375923Z",
     "shell.execute_reply.started": "2023-05-26T15:34:34.366839Z"
    },
    "nbgrader": {
     "cell_type": "code",
     "checksum": "ac5a576f40d02669a67b9a16cac123a2",
     "grade": false,
     "grade_id": "cell-f159223bb2d29699",
     "locked": false,
     "schema_version": 3,
     "solution": true,
     "task": false
    }
   },
   "outputs": [],
   "source": [
    "def answer_seven():\n",
    "    return (1e-3, 1e1, 1e-1)"
   ]
  },
  {
   "cell_type": "code",
   "execution_count": null,
   "metadata": {
    "deletable": false,
    "editable": false,
    "nbgrader": {
     "cell_type": "code",
     "checksum": "9ece7c13194d0f29a3dd840ff2a87ea4",
     "grade": true,
     "grade_id": "cell-6372c6701a14c068",
     "locked": true,
     "points": 1,
     "schema_version": 3,
     "solution": false,
     "task": false
    }
   },
   "outputs": [],
   "source": []
  },
  {
   "cell_type": "code",
   "execution_count": 117,
   "metadata": {
    "execution": {
     "iopub.execute_input": "2023-05-26T15:34:35.014562Z",
     "iopub.status.busy": "2023-05-26T15:34:35.014562Z",
     "iopub.status.idle": "2023-05-26T15:34:35.028436Z",
     "shell.execute_reply": "2023-05-26T15:34:35.028436Z",
     "shell.execute_reply.started": "2023-05-26T15:34:35.014562Z"
    }
   },
   "outputs": [
    {
     "data": {
      "text/plain": [
       "(0.001, 10.0, 0.1)"
      ]
     },
     "execution_count": 117,
     "metadata": {},
     "output_type": "execute_result"
    }
   ],
   "source": [
    "answer_seven()"
   ]
  },
  {
   "cell_type": "code",
   "execution_count": null,
   "metadata": {},
   "outputs": [],
   "source": []
  },
  {
   "cell_type": "code",
   "execution_count": 1,
   "metadata": {
    "execution": {
     "iopub.execute_input": "2023-05-27T01:19:24.163038Z",
     "iopub.status.busy": "2023-05-27T01:19:24.163038Z",
     "iopub.status.idle": "2023-05-27T01:19:24.183267Z",
     "shell.execute_reply": "2023-05-27T01:19:24.182256Z",
     "shell.execute_reply.started": "2023-05-27T01:19:24.163038Z"
    }
   },
   "outputs": [],
   "source": [
    "# graded 100% :)"
   ]
  },
  {
   "cell_type": "code",
   "execution_count": null,
   "metadata": {},
   "outputs": [],
   "source": []
  }
 ],
 "metadata": {
  "coursera": {
   "schema_names": [
    "mooc_adswpy_v1_assignment2"
   ]
  },
  "kernelspec": {
   "display_name": "Python 3 (ipykernel)",
   "language": "python",
   "name": "python3"
  },
  "language_info": {
   "codemirror_mode": {
    "name": "ipython",
    "version": 3
   },
   "file_extension": ".py",
   "mimetype": "text/x-python",
   "name": "python",
   "nbconvert_exporter": "python",
   "pygments_lexer": "ipython3",
   "version": "3.11.3"
  }
 },
 "nbformat": 4,
 "nbformat_minor": 4
}
