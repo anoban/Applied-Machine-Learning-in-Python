{
 "cells": [
  {
   "cell_type": "code",
   "execution_count": 76,
   "metadata": {
    "deletable": true,
    "execution": {
     "iopub.execute_input": "2023-05-31T14:03:21.627537Z",
     "iopub.status.busy": "2023-05-31T14:03:21.626527Z",
     "iopub.status.idle": "2023-05-31T14:03:21.631531Z",
     "shell.execute_reply": "2023-05-31T14:03:21.631531Z",
     "shell.execute_reply.started": "2023-05-31T14:03:21.627537Z"
    },
    "nbgrader": {
     "cell_type": "code",
     "checksum": "78ebaa94d2ed34f270a36f999ec638cd",
     "grade": false,
     "grade_id": "cell-80e9d85c13c645fd",
     "locked": true,
     "schema_version": 3,
     "solution": false,
     "task": false
    }
   },
   "outputs": [],
   "source": [
    "import numpy as np\n",
    "import pandas as pd\n",
    "import matplotlib.pyplot as plt\n",
    "\n",
    "from sklearn.model_selection import (train_test_split, GridSearchCV)\n",
    "from sklearn.dummy import DummyClassifier\n",
    "from sklearn.metrics import (recall_score, precision_score, confusion_matrix, precision_recall_curve, roc_curve)\n",
    "from sklearn.linear_model import LogisticRegression\n",
    "from sklearn.svm import SVC"
   ]
  },
  {
   "cell_type": "markdown",
   "metadata": {
    "deletable": false,
    "editable": false,
    "nbgrader": {
     "cell_type": "markdown",
     "checksum": "195500c0fd1abb287b55c1fbf5aab703",
     "grade": false,
     "grade_id": "cell-e0c1d5d545368fe0",
     "locked": true,
     "schema_version": 3,
     "solution": false,
     "task": false
    }
   },
   "source": [
    "### Question 1\n",
    "Import the data from `assets/fraud_data.csv`. What percentage of the observations in the dataset are instances of fraud?\n",
    "\n",
    "*This function should return a float between 0 and 1.* "
   ]
  },
  {
   "cell_type": "code",
   "execution_count": 4,
   "metadata": {
    "execution": {
     "iopub.execute_input": "2023-05-31T13:03:46.231956Z",
     "iopub.status.busy": "2023-05-31T13:03:46.231956Z",
     "iopub.status.idle": "2023-05-31T13:03:46.364259Z",
     "shell.execute_reply": "2023-05-31T13:03:46.364259Z",
     "shell.execute_reply.started": "2023-05-31T13:03:46.231956Z"
    }
   },
   "outputs": [],
   "source": [
    "frauds = pd.read_csv(\"./assets/fraud_data.csv\")"
   ]
  },
  {
   "cell_type": "code",
   "execution_count": 7,
   "metadata": {
    "execution": {
     "iopub.execute_input": "2023-05-31T13:04:07.240564Z",
     "iopub.status.busy": "2023-05-31T13:04:07.240564Z",
     "iopub.status.idle": "2023-05-31T13:04:07.248320Z",
     "shell.execute_reply": "2023-05-31T13:04:07.247806Z",
     "shell.execute_reply.started": "2023-05-31T13:04:07.240564Z"
    }
   },
   "outputs": [
    {
     "data": {
      "text/plain": [
       "0.016410823768035772"
      ]
     },
     "execution_count": 7,
     "metadata": {},
     "output_type": "execute_result"
    }
   ],
   "source": [
    "frauds.Class.mean()"
   ]
  },
  {
   "cell_type": "code",
   "execution_count": 8,
   "metadata": {
    "deletable": false,
    "execution": {
     "iopub.execute_input": "2023-05-31T13:04:36.976932Z",
     "iopub.status.busy": "2023-05-31T13:04:36.976932Z",
     "iopub.status.idle": "2023-05-31T13:04:36.989491Z",
     "shell.execute_reply": "2023-05-31T13:04:36.989491Z",
     "shell.execute_reply.started": "2023-05-31T13:04:36.976932Z"
    },
    "nbgrader": {
     "cell_type": "code",
     "checksum": "92fc1620092b7a44f520d3bb2f2a81bf",
     "grade": false,
     "grade_id": "cell-9c71acc0882f1c07",
     "locked": false,
     "schema_version": 3,
     "solution": true,
     "task": false
    }
   },
   "outputs": [],
   "source": [
    "def answer_one():\n",
    "    frauds = pd.read_csv(\"./assets/fraud_data.csv\")\n",
    "    return frauds.Class.mean()"
   ]
  },
  {
   "cell_type": "code",
   "execution_count": 9,
   "metadata": {
    "execution": {
     "iopub.execute_input": "2023-05-31T13:04:46.619146Z",
     "iopub.status.busy": "2023-05-31T13:04:46.619146Z",
     "iopub.status.idle": "2023-05-31T13:04:46.738918Z",
     "shell.execute_reply": "2023-05-31T13:04:46.738918Z",
     "shell.execute_reply.started": "2023-05-31T13:04:46.619146Z"
    }
   },
   "outputs": [
    {
     "data": {
      "text/plain": [
       "0.016410823768035772"
      ]
     },
     "execution_count": 9,
     "metadata": {},
     "output_type": "execute_result"
    }
   ],
   "source": [
    "answer_one()"
   ]
  },
  {
   "cell_type": "code",
   "execution_count": null,
   "metadata": {
    "deletable": false,
    "editable": false,
    "nbgrader": {
     "cell_type": "code",
     "checksum": "e40a027a62e6abef7d96ab7e5b0347c3",
     "grade": true,
     "grade_id": "cell-09b987c4d8138e24",
     "locked": true,
     "points": 1,
     "schema_version": 3,
     "solution": false,
     "task": false
    }
   },
   "outputs": [],
   "source": []
  },
  {
   "cell_type": "code",
   "execution_count": 14,
   "metadata": {
    "deletable": true,
    "execution": {
     "iopub.execute_input": "2023-05-31T13:07:34.728575Z",
     "iopub.status.busy": "2023-05-31T13:07:34.728575Z",
     "iopub.status.idle": "2023-05-31T13:07:34.861138Z",
     "shell.execute_reply": "2023-05-31T13:07:34.860365Z",
     "shell.execute_reply.started": "2023-05-31T13:07:34.728575Z"
    },
    "nbgrader": {
     "cell_type": "code",
     "checksum": "0ba0341d27562125bb56f3ec5277a02d",
     "grade": false,
     "grade_id": "cell-62cf0dc0b1f98f9e",
     "locked": true,
     "schema_version": 3,
     "solution": false,
     "task": false
    }
   },
   "outputs": [],
   "source": [
    "# Use X_train, X_test, y_train, y_test for all of the following questions\n",
    "df = pd.read_csv('assets/fraud_data.csv')\n",
    "\n",
    "X = df.iloc[:, :-1]\n",
    "y = df.iloc[:, -1]\n",
    "\n",
    "X_train, X_test, y_train, y_test = train_test_split(X, y, random_state = 0)"
   ]
  },
  {
   "cell_type": "markdown",
   "metadata": {
    "deletable": false,
    "editable": false,
    "nbgrader": {
     "cell_type": "markdown",
     "checksum": "b421718a1f992d43b920e29cf286c745",
     "grade": false,
     "grade_id": "cell-cc63171c6f3c6e9d",
     "locked": true,
     "schema_version": 3,
     "solution": false,
     "task": false
    }
   },
   "source": [
    "### Question 2\n",
    "\n",
    "Using `X_train`, `X_test`, `y_train`, and `y_test` (as defined above), train a dummy classifier that classifies everything as the majority class of the training data. What is the accuracy of this classifier? What is the recall?\n",
    "\n",
    "*This function should a return a tuple with two floats, i.e. `(accuracy score, recall score)`.*"
   ]
  },
  {
   "cell_type": "code",
   "execution_count": 15,
   "metadata": {
    "deletable": false,
    "execution": {
     "iopub.execute_input": "2023-05-31T13:10:15.146082Z",
     "iopub.status.busy": "2023-05-31T13:10:15.146082Z",
     "iopub.status.idle": "2023-05-31T13:10:15.151112Z",
     "shell.execute_reply": "2023-05-31T13:10:15.150466Z",
     "shell.execute_reply.started": "2023-05-31T13:10:15.146082Z"
    },
    "nbgrader": {
     "cell_type": "code",
     "checksum": "46556467b5cb10fd1939438030fe2ef9",
     "grade": false,
     "grade_id": "cell-ae13208aa0cea621",
     "locked": false,
     "schema_version": 3,
     "solution": true,
     "task": false
    }
   },
   "outputs": [],
   "source": [
    "def answer_two():\n",
    "    dmmClassifier = DummyClassifier(strategy = \"most_frequent\").fit(X_train, y_train)\n",
    "    return dmmClassifier.score(X_test, y_test), recall_score(y_test, dmmClassifier.predict(X_test))\n",
    "    "
   ]
  },
  {
   "cell_type": "code",
   "execution_count": 16,
   "metadata": {
    "execution": {
     "iopub.execute_input": "2023-05-31T13:10:20.782625Z",
     "iopub.status.busy": "2023-05-31T13:10:20.782625Z",
     "iopub.status.idle": "2023-05-31T13:10:20.795228Z",
     "shell.execute_reply": "2023-05-31T13:10:20.794634Z",
     "shell.execute_reply.started": "2023-05-31T13:10:20.782625Z"
    }
   },
   "outputs": [
    {
     "data": {
      "text/plain": [
       "(0.9852507374631269, 0.0)"
      ]
     },
     "execution_count": 16,
     "metadata": {},
     "output_type": "execute_result"
    }
   ],
   "source": [
    "answer_two()"
   ]
  },
  {
   "cell_type": "code",
   "execution_count": null,
   "metadata": {
    "deletable": false,
    "editable": false,
    "nbgrader": {
     "cell_type": "code",
     "checksum": "75619397016c3f60e01b0babaed83e51",
     "grade": true,
     "grade_id": "cell-a901c7f5cfea1a8c",
     "locked": true,
     "points": 1,
     "schema_version": 3,
     "solution": false,
     "task": false
    }
   },
   "outputs": [],
   "source": []
  },
  {
   "cell_type": "markdown",
   "metadata": {
    "deletable": false,
    "editable": false,
    "nbgrader": {
     "cell_type": "markdown",
     "checksum": "2b34a3918d9036b813e0b0b5bf714d7f",
     "grade": false,
     "grade_id": "cell-3712ad9c5674649b",
     "locked": true,
     "schema_version": 3,
     "solution": false,
     "task": false
    }
   },
   "source": [
    "### Question 3\n",
    "\n",
    "Using X_train, X_test, y_train, y_test (as defined above), train a SVC classifer using the default parameters. What is the accuracy, recall, and precision of this classifier?\n",
    "\n",
    "*This function should a return a tuple with three floats, i.e. `(accuracy score, recall score, precision score)`.*"
   ]
  },
  {
   "cell_type": "code",
   "execution_count": 18,
   "metadata": {
    "deletable": false,
    "execution": {
     "iopub.execute_input": "2023-05-31T13:13:40.474802Z",
     "iopub.status.busy": "2023-05-31T13:13:40.474802Z",
     "iopub.status.idle": "2023-05-31T13:13:40.485835Z",
     "shell.execute_reply": "2023-05-31T13:13:40.485445Z",
     "shell.execute_reply.started": "2023-05-31T13:13:40.474802Z"
    },
    "nbgrader": {
     "cell_type": "code",
     "checksum": "623aab4a8492d59dbfa4fd3a1d21d660",
     "grade": false,
     "grade_id": "cell-c406ff1cd0d9b9cf",
     "locked": false,
     "schema_version": 3,
     "solution": true,
     "task": false
    }
   },
   "outputs": [],
   "source": [
    "def answer_three():\n",
    "    svc = SVC().fit(X_train, y_train)\n",
    "    preds = svc.predict(X_test)\n",
    "    return svc.score(X_test, y_test), recall_score(y_test, preds), precision_score(y_test, preds)\n",
    "    "
   ]
  },
  {
   "cell_type": "code",
   "execution_count": 19,
   "metadata": {
    "execution": {
     "iopub.execute_input": "2023-05-31T13:13:46.531498Z",
     "iopub.status.busy": "2023-05-31T13:13:46.531498Z",
     "iopub.status.idle": "2023-05-31T13:13:47.391085Z",
     "shell.execute_reply": "2023-05-31T13:13:47.391085Z",
     "shell.execute_reply.started": "2023-05-31T13:13:46.531498Z"
    }
   },
   "outputs": [
    {
     "data": {
      "text/plain": [
       "(0.9900442477876106, 0.35, 0.9333333333333333)"
      ]
     },
     "execution_count": 19,
     "metadata": {},
     "output_type": "execute_result"
    }
   ],
   "source": [
    "answer_three()"
   ]
  },
  {
   "cell_type": "code",
   "execution_count": null,
   "metadata": {
    "deletable": false,
    "editable": false,
    "nbgrader": {
     "cell_type": "code",
     "checksum": "5efade449563c8337b0746b739f492ea",
     "grade": true,
     "grade_id": "cell-30a8c78257c28475",
     "locked": true,
     "points": 1,
     "schema_version": 3,
     "solution": false,
     "task": false
    }
   },
   "outputs": [],
   "source": []
  },
  {
   "cell_type": "markdown",
   "metadata": {
    "deletable": false,
    "editable": false,
    "nbgrader": {
     "cell_type": "markdown",
     "checksum": "f192747899a034d58dabbce7ee21892f",
     "grade": false,
     "grade_id": "cell-a90b8ca88528b575",
     "locked": true,
     "schema_version": 3,
     "solution": false,
     "task": false
    }
   },
   "source": [
    "### Question 4\n",
    "\n",
    "Using the SVC classifier with parameters `{'C': 1e9, 'gamma': 1e-07}`, what is the confusion matrix when using a threshold of -220 on the decision function. Use X_test and y_test.\n",
    "\n",
    "*This function should return a confusion matrix, a 2x2 numpy array with 4 integers.*"
   ]
  },
  {
   "cell_type": "code",
   "execution_count": 21,
   "metadata": {
    "execution": {
     "iopub.execute_input": "2023-05-31T13:16:03.383666Z",
     "iopub.status.busy": "2023-05-31T13:16:03.383666Z",
     "iopub.status.idle": "2023-05-31T13:16:10.733752Z",
     "shell.execute_reply": "2023-05-31T13:16:10.733752Z",
     "shell.execute_reply.started": "2023-05-31T13:16:03.383666Z"
    }
   },
   "outputs": [],
   "source": [
    "svc = SVC(C = 1e9, gamma = 1e-7).fit(X_train, y_train)"
   ]
  },
  {
   "cell_type": "code",
   "execution_count": 27,
   "metadata": {
    "execution": {
     "iopub.execute_input": "2023-05-31T13:18:16.918543Z",
     "iopub.status.busy": "2023-05-31T13:18:16.918543Z",
     "iopub.status.idle": "2023-05-31T13:18:16.998904Z",
     "shell.execute_reply": "2023-05-31T13:18:16.998904Z",
     "shell.execute_reply.started": "2023-05-31T13:18:16.918543Z"
    }
   },
   "outputs": [
    {
     "data": {
      "text/plain": [
       "array([0, 0, 0, ..., 0, 0, 0], dtype=int64)"
      ]
     },
     "execution_count": 27,
     "metadata": {},
     "output_type": "execute_result"
    }
   ],
   "source": [
    "np.array(svc.decision_function(X_test) > -220, dtype = np.int64)"
   ]
  },
  {
   "cell_type": "code",
   "execution_count": null,
   "metadata": {},
   "outputs": [],
   "source": [
    "confusion_matrix()"
   ]
  },
  {
   "cell_type": "code",
   "execution_count": 28,
   "metadata": {
    "deletable": false,
    "execution": {
     "iopub.execute_input": "2023-05-31T13:19:42.853840Z",
     "iopub.status.busy": "2023-05-31T13:19:42.853840Z",
     "iopub.status.idle": "2023-05-31T13:19:42.870860Z",
     "shell.execute_reply": "2023-05-31T13:19:42.869989Z",
     "shell.execute_reply.started": "2023-05-31T13:19:42.853840Z"
    },
    "nbgrader": {
     "cell_type": "code",
     "checksum": "61a4ced01e471811f43ba8d9bf26a574",
     "grade": false,
     "grade_id": "cell-702dc0a87f16c21c",
     "locked": false,
     "schema_version": 3,
     "solution": true,
     "task": false
    }
   },
   "outputs": [],
   "source": [
    "def answer_four():\n",
    "    svc = SVC(C = 1e9, gamma = 1e-7).fit(X_train, y_train)\n",
    "    preds_min200threshold = np.array(svc.decision_function(X_test) > -220, dtype = np.int64)\n",
    "    return confusion_matrix(y_test, preds_min200threshold)"
   ]
  },
  {
   "cell_type": "code",
   "execution_count": 29,
   "metadata": {
    "execution": {
     "iopub.execute_input": "2023-05-31T13:19:49.199492Z",
     "iopub.status.busy": "2023-05-31T13:19:49.199492Z",
     "iopub.status.idle": "2023-05-31T13:19:56.951986Z",
     "shell.execute_reply": "2023-05-31T13:19:56.951986Z",
     "shell.execute_reply.started": "2023-05-31T13:19:49.199492Z"
    }
   },
   "outputs": [
    {
     "data": {
      "text/plain": [
       "array([[5320,   24],\n",
       "       [  14,   66]], dtype=int64)"
      ]
     },
     "execution_count": 29,
     "metadata": {},
     "output_type": "execute_result"
    }
   ],
   "source": [
    "answer_four()"
   ]
  },
  {
   "cell_type": "code",
   "execution_count": null,
   "metadata": {
    "deletable": false,
    "editable": false,
    "nbgrader": {
     "cell_type": "code",
     "checksum": "d9fe28ecaadc9b125d2fcbd0055a171c",
     "grade": true,
     "grade_id": "cell-d10afc8717f94586",
     "locked": true,
     "points": 1,
     "schema_version": 3,
     "solution": false,
     "task": false
    }
   },
   "outputs": [],
   "source": []
  },
  {
   "cell_type": "markdown",
   "metadata": {
    "deletable": false,
    "editable": false,
    "nbgrader": {
     "cell_type": "markdown",
     "checksum": "e95ea69114979ea0f84107954ec347d3",
     "grade": false,
     "grade_id": "cell-70bf75a83d786ad3",
     "locked": true,
     "schema_version": 3,
     "solution": false,
     "task": false
    }
   },
   "source": [
    "### Question 5\n",
    "\n",
    "Train a logisitic regression classifier with default parameters using X_train and y_train.\n",
    "\n",
    "For the logisitic regression classifier, create a precision recall curve and a roc curve using y_test and the probability estimates for X_test (probability it is fraud).\n",
    "\n",
    "Looking at the precision recall curve, what is the recall when the precision is `0.75`?\n",
    "\n",
    "Looking at the roc curve, what is the true positive rate when the false positive rate is `0.16`?\n",
    "\n",
    "*This function should return a tuple with two floats, i.e. `(recall, true positive rate)`.*"
   ]
  },
  {
   "cell_type": "code",
   "execution_count": 63,
   "metadata": {
    "deletable": false,
    "execution": {
     "iopub.execute_input": "2023-05-31T13:57:00.675068Z",
     "iopub.status.busy": "2023-05-31T13:57:00.675068Z",
     "iopub.status.idle": "2023-05-31T13:57:00.911019Z",
     "shell.execute_reply": "2023-05-31T13:57:00.911019Z",
     "shell.execute_reply.started": "2023-05-31T13:57:00.675068Z"
    },
    "nbgrader": {
     "cell_type": "code",
     "checksum": "a82ea845c3936f4c23c5753d28faccdd",
     "grade": false,
     "grade_id": "cell-4ee963ef1994f461",
     "locked": false,
     "schema_version": 3,
     "solution": true,
     "task": false
    }
   },
   "outputs": [],
   "source": [
    "logReg = LogisticRegression(max_iter = 1000, solver = \"liblinear\").fit(X_train, y_train)"
   ]
  },
  {
   "cell_type": "code",
   "execution_count": 64,
   "metadata": {
    "execution": {
     "iopub.execute_input": "2023-05-31T13:57:02.074397Z",
     "iopub.status.busy": "2023-05-31T13:57:02.074397Z",
     "iopub.status.idle": "2023-05-31T13:57:02.080083Z",
     "shell.execute_reply": "2023-05-31T13:57:02.079982Z",
     "shell.execute_reply.started": "2023-05-31T13:57:02.074397Z"
    }
   },
   "outputs": [
    {
     "data": {
      "text/plain": [
       "array([0, 1], dtype=int64)"
      ]
     },
     "execution_count": 64,
     "metadata": {},
     "output_type": "execute_result"
    }
   ],
   "source": [
    "logReg.classes_"
   ]
  },
  {
   "cell_type": "code",
   "execution_count": 65,
   "metadata": {
    "execution": {
     "iopub.execute_input": "2023-05-31T13:57:04.087173Z",
     "iopub.status.busy": "2023-05-31T13:57:04.087173Z",
     "iopub.status.idle": "2023-05-31T13:57:04.098292Z",
     "shell.execute_reply": "2023-05-31T13:57:04.097630Z",
     "shell.execute_reply.started": "2023-05-31T13:57:04.087173Z"
    }
   },
   "outputs": [
    {
     "data": {
      "text/plain": [
       "array([0.0012509 , 0.00145784, 0.00249531, ..., 0.00213747, 0.00041293,\n",
       "       0.00197765])"
      ]
     },
     "execution_count": 65,
     "metadata": {},
     "output_type": "execute_result"
    }
   ],
   "source": [
    "logReg.predict_proba(X_test)[:, 1]"
   ]
  },
  {
   "cell_type": "code",
   "execution_count": 66,
   "metadata": {
    "execution": {
     "iopub.execute_input": "2023-05-31T13:57:05.327350Z",
     "iopub.status.busy": "2023-05-31T13:57:05.327350Z",
     "iopub.status.idle": "2023-05-31T13:57:05.335519Z",
     "shell.execute_reply": "2023-05-31T13:57:05.335519Z",
     "shell.execute_reply.started": "2023-05-31T13:57:05.327350Z"
    }
   },
   "outputs": [],
   "source": [
    "precision, recall, _ = precision_recall_curve(y_test, logReg.predict_proba(X_test)[:, 1])"
   ]
  },
  {
   "cell_type": "code",
   "execution_count": 67,
   "metadata": {
    "execution": {
     "iopub.execute_input": "2023-05-31T13:57:06.439834Z",
     "iopub.status.busy": "2023-05-31T13:57:06.439834Z",
     "iopub.status.idle": "2023-05-31T13:57:06.535941Z",
     "shell.execute_reply": "2023-05-31T13:57:06.535941Z",
     "shell.execute_reply.started": "2023-05-31T13:57:06.439834Z"
    }
   },
   "outputs": [
    {
     "data": {
      "image/png": "[encoded data removed]",
      "text/plain": [
       "<Figure size 640x480 with 1 Axes>"
      ]
     },
     "metadata": {},
     "output_type": "display_data"
    }
   ],
   "source": [
    "fig, axes = plt.subplots()\n",
    "axes.plot(precision, recall)\n",
    "axes.vlines(x = 0.75, ymin = 0, ymax = 1)\n",
    "axes.set_xlabel(\"Precision\")\n",
    "axes.set_ylabel(\"Recall\")\n",
    "axes.grid(which = \"both\")\n",
    "plt.show()"
   ]
  },
  {
   "cell_type": "code",
   "execution_count": 69,
   "metadata": {
    "execution": {
     "iopub.execute_input": "2023-05-31T13:57:10.705131Z",
     "iopub.status.busy": "2023-05-31T13:57:10.705131Z",
     "iopub.status.idle": "2023-05-31T13:57:10.710993Z",
     "shell.execute_reply": "2023-05-31T13:57:10.710993Z",
     "shell.execute_reply.started": "2023-05-31T13:57:10.705131Z"
    }
   },
   "outputs": [
    {
     "data": {
      "text/plain": [
       "array([0.825])"
      ]
     },
     "execution_count": 69,
     "metadata": {},
     "output_type": "execute_result"
    }
   ],
   "source": [
    "recall[np.where(precision == 0.75)]"
   ]
  },
  {
   "cell_type": "code",
   "execution_count": null,
   "metadata": {},
   "outputs": [],
   "source": []
  },
  {
   "cell_type": "code",
   "execution_count": 70,
   "metadata": {
    "execution": {
     "iopub.execute_input": "2023-05-31T13:57:11.669867Z",
     "iopub.status.busy": "2023-05-31T13:57:11.669867Z",
     "iopub.status.idle": "2023-05-31T13:57:11.681215Z",
     "shell.execute_reply": "2023-05-31T13:57:11.681053Z",
     "shell.execute_reply.started": "2023-05-31T13:57:11.669867Z"
    }
   },
   "outputs": [],
   "source": [
    "fpr, tpr, _ = roc_curve(y_test, logReg.predict_proba(X_test)[:, 1])"
   ]
  },
  {
   "cell_type": "code",
   "execution_count": 74,
   "metadata": {
    "execution": {
     "iopub.execute_input": "2023-05-31T13:57:44.578109Z",
     "iopub.status.busy": "2023-05-31T13:57:44.578109Z",
     "iopub.status.idle": "2023-05-31T13:57:44.592925Z",
     "shell.execute_reply": "2023-05-31T13:57:44.592333Z",
     "shell.execute_reply.started": "2023-05-31T13:57:44.578109Z"
    }
   },
   "outputs": [
    {
     "data": {
      "text/plain": [
       "array([], dtype=float64)"
      ]
     },
     "execution_count": 74,
     "metadata": {},
     "output_type": "execute_result"
    }
   ],
   "source": [
    "fpr[np.where(fpr == 0.16)]"
   ]
  },
  {
   "cell_type": "code",
   "execution_count": 73,
   "metadata": {
    "execution": {
     "iopub.execute_input": "2023-05-31T13:57:35.256924Z",
     "iopub.status.busy": "2023-05-31T13:57:35.256924Z",
     "iopub.status.idle": "2023-05-31T13:57:35.264174Z",
     "shell.execute_reply": "2023-05-31T13:57:35.264174Z",
     "shell.execute_reply.started": "2023-05-31T13:57:35.256924Z"
    }
   },
   "outputs": [
    {
     "data": {
      "text/plain": [
       "array([], dtype=float64)"
      ]
     },
     "execution_count": 73,
     "metadata": {},
     "output_type": "execute_result"
    }
   ],
   "source": [
    "fpr[np.where(fpr == 0.61)]"
   ]
  },
  {
   "cell_type": "code",
   "execution_count": 75,
   "metadata": {
    "execution": {
     "iopub.execute_input": "2023-05-31T13:58:12.256993Z",
     "iopub.status.busy": "2023-05-31T13:58:12.256993Z",
     "iopub.status.idle": "2023-05-31T13:58:12.357738Z",
     "shell.execute_reply": "2023-05-31T13:58:12.357738Z",
     "shell.execute_reply.started": "2023-05-31T13:58:12.256993Z"
    }
   },
   "outputs": [
    {
     "data": {
      "image/png": "[encoded data removed]",
      "text/plain": [
       "<Figure size 640x480 with 1 Axes>"
      ]
     },
     "metadata": {},
     "output_type": "display_data"
    }
   ],
   "source": [
    "fig, axes = plt.subplots()\n",
    "axes.plot(fpr, tpr)\n",
    "axes.vlines(x = 0.16, ymin = 0, ymax = 1)\n",
    "axes.set_xlabel(\"FPR\")\n",
    "axes.set_ylabel(\"TPR\")\n",
    "axes.grid(which = \"both\")\n",
    "plt.show()"
   ]
  },
  {
   "cell_type": "code",
   "execution_count": null,
   "metadata": {},
   "outputs": [],
   "source": []
  },
  {
   "cell_type": "code",
   "execution_count": null,
   "metadata": {
    "deletable": false,
    "editable": false,
    "nbgrader": {
     "cell_type": "code",
     "checksum": "e1ac987569d588d842dacca9789be36d",
     "grade": true,
     "grade_id": "cell-17abc112ffe76f05",
     "locked": true,
     "points": 1,
     "schema_version": 3,
     "solution": false,
     "task": false
    }
   },
   "outputs": [],
   "source": []
  },
  {
   "cell_type": "markdown",
   "metadata": {
    "deletable": false,
    "editable": false,
    "nbgrader": {
     "cell_type": "markdown",
     "checksum": "07e877eccc933ca264ba74e2c75177a0",
     "grade": false,
     "grade_id": "cell-7e8f17384891743a",
     "locked": true,
     "schema_version": 3,
     "solution": false,
     "task": false
    }
   },
   "source": [
    "### Question 6\n",
    "\n",
    "Perform a grid search over the parameters listed below for a Logisitic Regression classifier, using recall for scoring and the default 3-fold cross validation. (Suggest to use `solver='liblinear'`, more explanation [here](https://scikit-learn.org/stable/modules/generated/sklearn.linear_model.LogisticRegression.html))\n",
    "\n",
    "`'penalty': ['l1', 'l2']`\n",
    "\n",
    "`'C':[0.01, 0.1, 1, 10]`\n",
    "\n",
    "From `.cv_results_`, create an array of the mean test scores of each parameter combination. i.e.\n",
    "\n",
    "|      \t| `l1` \t| `l2` \t|\n",
    "|:----:\t|----\t|----\t|\n",
    "| **`0.01`** \t|    ?\t|   ? \t|\n",
    "| **`0.1`**  \t|    ?\t|   ? \t|\n",
    "| **`1`**    \t|    ?\t|   ? \t|\n",
    "| **`10`**   \t|    ?\t|   ? \t|\n",
    "\n",
    "<br>\n",
    "\n",
    "*This function should return a 4 by 2 numpy array with 8 floats.* \n",
    "\n",
    "*Note: do not return a DataFrame, just the values denoted by `?` in a numpy array.*"
   ]
  },
  {
   "cell_type": "code",
   "execution_count": 81,
   "metadata": {
    "execution": {
     "iopub.execute_input": "2023-05-31T14:07:40.215345Z",
     "iopub.status.busy": "2023-05-31T14:07:40.215345Z",
     "iopub.status.idle": "2023-05-31T14:07:40.223607Z",
     "shell.execute_reply": "2023-05-31T14:07:40.223554Z",
     "shell.execute_reply.started": "2023-05-31T14:07:40.215345Z"
    }
   },
   "outputs": [],
   "source": [
    "params = {\"penalty\": ['l1', 'l2'], \"C\":[0.01, 0.1, 1, 10]}\n",
    "logReg = LogisticRegression(solver = \"liblinear\")"
   ]
  },
  {
   "cell_type": "code",
   "execution_count": 83,
   "metadata": {
    "execution": {
     "iopub.execute_input": "2023-05-31T14:07:48.045777Z",
     "iopub.status.busy": "2023-05-31T14:07:48.045777Z",
     "iopub.status.idle": "2023-05-31T14:07:50.232152Z",
     "shell.execute_reply": "2023-05-31T14:07:50.232152Z",
     "shell.execute_reply.started": "2023-05-31T14:07:48.045777Z"
    }
   },
   "outputs": [
    {
     "data": {
      "text/html": [
       "<style>#sk-container-id-2 {color: black;background-color: white;}#sk-container-id-2 pre{padding: 0;}#sk-container-id-2 div.sk-toggleable {background-color: white;}#sk-container-id-2 label.sk-toggleable__label {cursor: pointer;display: block;width: 100%;margin-bottom: 0;padding: 0.3em;box-sizing: border-box;text-align: center;}#sk-container-id-2 label.sk-toggleable__label-arrow:before {content: \"▸\";float: left;margin-right: 0.25em;color: #696969;}#sk-container-id-2 label.sk-toggleable__label-arrow:hover:before {color: black;}#sk-container-id-2 div.sk-estimator:hover label.sk-toggleable__label-arrow:before {color: black;}#sk-container-id-2 div.sk-toggleable__content {max-height: 0;max-width: 0;overflow: hidden;text-align: left;background-color: #f0f8ff;}#sk-container-id-2 div.sk-toggleable__content pre {margin: 0.2em;color: black;border-radius: 0.25em;background-color: #f0f8ff;}#sk-container-id-2 input.sk-toggleable__control:checked~div.sk-toggleable__content {max-height: 200px;max-width: 100%;overflow: auto;}#sk-container-id-2 input.sk-toggleable__control:checked~label.sk-toggleable__label-arrow:before {content: \"▾\";}#sk-container-id-2 div.sk-estimator input.sk-toggleable__control:checked~label.sk-toggleable__label {background-color: #d4ebff;}#sk-container-id-2 div.sk-label input.sk-toggleable__control:checked~label.sk-toggleable__label {background-color: #d4ebff;}#sk-container-id-2 input.sk-hidden--visually {border: 0;clip: rect(1px 1px 1px 1px);clip: rect(1px, 1px, 1px, 1px);height: 1px;margin: -1px;overflow: hidden;padding: 0;position: absolute;width: 1px;}#sk-container-id-2 div.sk-estimator {font-family: monospace;background-color: #f0f8ff;border: 1px dotted black;border-radius: 0.25em;box-sizing: border-box;margin-bottom: 0.5em;}#sk-container-id-2 div.sk-estimator:hover {background-color: #d4ebff;}#sk-container-id-2 div.sk-parallel-item::after {content: \"\";width: 100%;border-bottom: 1px solid gray;flex-grow: 1;}#sk-container-id-2 div.sk-label:hover label.sk-toggleable__label {background-color: #d4ebff;}#sk-container-id-2 div.sk-serial::before {content: \"\";position: absolute;border-left: 1px solid gray;box-sizing: border-box;top: 0;bottom: 0;left: 50%;z-index: 0;}#sk-container-id-2 div.sk-serial {display: flex;flex-direction: column;align-items: center;background-color: white;padding-right: 0.2em;padding-left: 0.2em;position: relative;}#sk-container-id-2 div.sk-item {position: relative;z-index: 1;}#sk-container-id-2 div.sk-parallel {display: flex;align-items: stretch;justify-content: center;background-color: white;position: relative;}#sk-container-id-2 div.sk-item::before, #sk-container-id-2 div.sk-parallel-item::before {content: \"\";position: absolute;border-left: 1px solid gray;box-sizing: border-box;top: 0;bottom: 0;left: 50%;z-index: -1;}#sk-container-id-2 div.sk-parallel-item {display: flex;flex-direction: column;z-index: 1;position: relative;background-color: white;}#sk-container-id-2 div.sk-parallel-item:first-child::after {align-self: flex-end;width: 50%;}#sk-container-id-2 div.sk-parallel-item:last-child::after {align-self: flex-start;width: 50%;}#sk-container-id-2 div.sk-parallel-item:only-child::after {width: 0;}#sk-container-id-2 div.sk-dashed-wrapped {border: 1px dashed gray;margin: 0 0.4em 0.5em 0.4em;box-sizing: border-box;padding-bottom: 0.4em;background-color: white;}#sk-container-id-2 div.sk-label label {font-family: monospace;font-weight: bold;display: inline-block;line-height: 1.2em;}#sk-container-id-2 div.sk-label-container {text-align: center;}#sk-container-id-2 div.sk-container {/* jupyter's `normalize.less` sets `[hidden] { display: none; }` but bootstrap.min.css set `[hidden] { display: none !important; }` so we also need the `!important` here to be able to override the default hidden behavior on the sphinx rendered scikit-learn.org. See: https://github.com/scikit-learn/scikit-learn/issues/21755 */display: inline-block !important;position: relative;}#sk-container-id-2 div.sk-text-repr-fallback {display: none;}</style><div id=\"sk-container-id-2\" class=\"sk-top-container\"><div class=\"sk-text-repr-fallback\"><pre>GridSearchCV(cv=3, estimator=LogisticRegression(solver=&#x27;liblinear&#x27;),\n",
       "             param_grid={&#x27;C&#x27;: [0.01, 0.1, 1, 10], &#x27;penalty&#x27;: [&#x27;l1&#x27;, &#x27;l2&#x27;]})</pre><b>In a Jupyter environment, please rerun this cell to show the HTML representation or trust the notebook. <br />On GitHub, the HTML representation is unable to render, please try loading this page with nbviewer.org.</b></div><div class=\"sk-container\" hidden><div class=\"sk-item sk-dashed-wrapped\"><div class=\"sk-label-container\"><div class=\"sk-label sk-toggleable\"><input class=\"sk-toggleable__control sk-hidden--visually\" id=\"sk-estimator-id-4\" type=\"checkbox\" ><label for=\"sk-estimator-id-4\" class=\"sk-toggleable__label sk-toggleable__label-arrow\">GridSearchCV</label><div class=\"sk-toggleable__content\"><pre>GridSearchCV(cv=3, estimator=LogisticRegression(solver=&#x27;liblinear&#x27;),\n",
       "             param_grid={&#x27;C&#x27;: [0.01, 0.1, 1, 10], &#x27;penalty&#x27;: [&#x27;l1&#x27;, &#x27;l2&#x27;]})</pre></div></div></div><div class=\"sk-parallel\"><div class=\"sk-parallel-item\"><div class=\"sk-item\"><div class=\"sk-label-container\"><div class=\"sk-label sk-toggleable\"><input class=\"sk-toggleable__control sk-hidden--visually\" id=\"sk-estimator-id-5\" type=\"checkbox\" ><label for=\"sk-estimator-id-5\" class=\"sk-toggleable__label sk-toggleable__label-arrow\">estimator: LogisticRegression</label><div class=\"sk-toggleable__content\"><pre>LogisticRegression(solver=&#x27;liblinear&#x27;)</pre></div></div></div><div class=\"sk-serial\"><div class=\"sk-item\"><div class=\"sk-estimator sk-toggleable\"><input class=\"sk-toggleable__control sk-hidden--visually\" id=\"sk-estimator-id-6\" type=\"checkbox\" ><label for=\"sk-estimator-id-6\" class=\"sk-toggleable__label sk-toggleable__label-arrow\">LogisticRegression</label><div class=\"sk-toggleable__content\"><pre>LogisticRegression(solver=&#x27;liblinear&#x27;)</pre></div></div></div></div></div></div></div></div></div></div>"
      ],
      "text/plain": [
       "GridSearchCV(cv=3, estimator=LogisticRegression(solver='liblinear'),\n",
       "             param_grid={'C': [0.01, 0.1, 1, 10], 'penalty': ['l1', 'l2']})"
      ]
     },
     "execution_count": 83,
     "metadata": {},
     "output_type": "execute_result"
    }
   ],
   "source": [
    "classifier_grid = GridSearchCV(logReg, param_grid = params, cv = 3)\n",
    "classifier_grid.fit(X_train, y_train)"
   ]
  },
  {
   "cell_type": "code",
   "execution_count": 86,
   "metadata": {
    "execution": {
     "iopub.execute_input": "2023-05-31T14:09:18.654614Z",
     "iopub.status.busy": "2023-05-31T14:09:18.654614Z",
     "iopub.status.idle": "2023-05-31T14:09:18.670774Z",
     "shell.execute_reply": "2023-05-31T14:09:18.670774Z",
     "shell.execute_reply.started": "2023-05-31T14:09:18.654614Z"
    }
   },
   "outputs": [
    {
     "data": {
      "text/plain": [
       "{'mean_fit_time': array([0.02624265, 0.05489119, 0.02784475, 0.07880576, 0.06825987,\n",
       "        0.09962821, 0.1624306 , 0.13102158]),\n",
       " 'std_fit_time': array([7.42945159e-03, 6.61935142e-03, 2.34301362e-03, 9.36270566e-05,\n",
       "        7.19874183e-03, 1.47070751e-02, 6.59950057e-02, 2.66626840e-02]),\n",
       " 'mean_score_time': array([0.00520539, 0.00039689, 0.        , 0.00518854, 0.00522415,\n",
       "        0.        , 0.        , 0.        ]),\n",
       " 'std_score_time': array([0.00736154, 0.00056128, 0.        , 0.00733771, 0.00738806,\n",
       "        0.        , 0.        , 0.        ]),\n",
       " 'param_C': masked_array(data=[0.01, 0.01, 0.1, 0.1, 1, 1, 10, 10],\n",
       "              mask=[False, False, False, False, False, False, False, False],\n",
       "        fill_value='?',\n",
       "             dtype=object),\n",
       " 'param_penalty': masked_array(data=['l1', 'l2', 'l1', 'l2', 'l1', 'l2', 'l1', 'l2'],\n",
       "              mask=[False, False, False, False, False, False, False, False],\n",
       "        fill_value='?',\n",
       "             dtype=object),\n",
       " 'params': [{'C': 0.01, 'penalty': 'l1'},\n",
       "  {'C': 0.01, 'penalty': 'l2'},\n",
       "  {'C': 0.1, 'penalty': 'l1'},\n",
       "  {'C': 0.1, 'penalty': 'l2'},\n",
       "  {'C': 1, 'penalty': 'l1'},\n",
       "  {'C': 1, 'penalty': 'l2'},\n",
       "  {'C': 10, 'penalty': 'l1'},\n",
       "  {'C': 10, 'penalty': 'l2'}],\n",
       " 'split0_test_score': array([0.99483681, 0.9959432 , 0.9961276 , 0.9964964 , 0.9961276 ,\n",
       "        0.9961276 , 0.9959432 , 0.9961276 ]),\n",
       " 'split1_test_score': array([0.99465241, 0.99539001, 0.9961276 , 0.9966808 , 0.9961276 ,\n",
       "        0.996312  , 0.9961276 , 0.9961276 ]),\n",
       " 'split2_test_score': array([0.99317721, 0.99483681, 0.9959432 , 0.99539001, 0.9959432 ,\n",
       "        0.9959432 , 0.99557441, 0.99557441]),\n",
       " 'mean_test_score': array([0.99422214, 0.99539001, 0.99606614, 0.99618907, 0.99606614,\n",
       "        0.9961276 , 0.99588174, 0.9959432 ]),\n",
       " 'std_test_score': array([7.42703668e-04, 4.51685367e-04, 8.69268893e-05, 5.70017733e-04,\n",
       "        8.69268893e-05, 1.50561789e-04, 2.29986931e-04, 2.60780668e-04]),\n",
       " 'rank_test_score': array([8, 7, 3, 1, 3, 2, 6, 5])}"
      ]
     },
     "execution_count": 86,
     "metadata": {},
     "output_type": "execute_result"
    }
   ],
   "source": [
    "classifier_grid.cv_results_"
   ]
  },
  {
   "cell_type": "code",
   "execution_count": 89,
   "metadata": {
    "execution": {
     "iopub.execute_input": "2023-05-31T14:15:10.321315Z",
     "iopub.status.busy": "2023-05-31T14:15:10.321315Z",
     "iopub.status.idle": "2023-05-31T14:15:10.331722Z",
     "shell.execute_reply": "2023-05-31T14:15:10.330716Z",
     "shell.execute_reply.started": "2023-05-31T14:15:10.321315Z"
    }
   },
   "outputs": [
    {
     "data": {
      "text/plain": [
       "array([0.99422214, 0.99539001, 0.99606614, 0.99618907, 0.99606614,\n",
       "       0.9961276 , 0.99588174, 0.9959432 ])"
      ]
     },
     "execution_count": 89,
     "metadata": {},
     "output_type": "execute_result"
    }
   ],
   "source": [
    "# [{'C': 0.01, 'penalty': 'l1'},\n",
    "#  {'C': 0.01, 'penalty': 'l2'},\n",
    "#  {'C': 0.1, 'penalty': 'l1'},\n",
    "#  {'C': 0.1, 'penalty': 'l2'},\n",
    "#  {'C': 1, 'penalty': 'l1'},\n",
    "#  {'C': 1, 'penalty': 'l2'},\n",
    "#  {'C': 10, 'penalty': 'l1'},\n",
    "#  {'C': 10, 'penalty': 'l2'}]\n",
    "\n",
    "\n",
    "classifier_grid.cv_results_[\"mean_test_score\"]"
   ]
  },
  {
   "cell_type": "code",
   "execution_count": 90,
   "metadata": {
    "execution": {
     "iopub.execute_input": "2023-05-31T14:15:12.375915Z",
     "iopub.status.busy": "2023-05-31T14:15:12.375915Z",
     "iopub.status.idle": "2023-05-31T14:15:12.383013Z",
     "shell.execute_reply": "2023-05-31T14:15:12.383013Z",
     "shell.execute_reply.started": "2023-05-31T14:15:12.375915Z"
    }
   },
   "outputs": [
    {
     "data": {
      "text/plain": [
       "array([[0.99422214, 0.99539001],\n",
       "       [0.99606614, 0.99618907],\n",
       "       [0.99606614, 0.9961276 ],\n",
       "       [0.99588174, 0.9959432 ]])"
      ]
     },
     "execution_count": 90,
     "metadata": {},
     "output_type": "execute_result"
    }
   ],
   "source": [
    "classifier_grid.cv_results_[\"mean_test_score\"].reshape(4, 2)"
   ]
  },
  {
   "cell_type": "markdown",
   "metadata": {},
   "source": [
    "![](./matrix.png)"
   ]
  },
  {
   "cell_type": "code",
   "execution_count": 91,
   "metadata": {
    "deletable": false,
    "execution": {
     "iopub.execute_input": "2023-05-31T14:16:21.750000Z",
     "iopub.status.busy": "2023-05-31T14:16:21.750000Z",
     "iopub.status.idle": "2023-05-31T14:16:21.760920Z",
     "shell.execute_reply": "2023-05-31T14:16:21.760920Z",
     "shell.execute_reply.started": "2023-05-31T14:16:21.750000Z"
    },
    "nbgrader": {
     "cell_type": "code",
     "checksum": "d455f68bbc10f87eed55511dfb3e0b81",
     "grade": false,
     "grade_id": "cell-970bb71bdd1a3c35",
     "locked": false,
     "schema_version": 3,
     "solution": true,
     "task": false
    }
   },
   "outputs": [],
   "source": [
    "def answer_six():    \n",
    "    params = {\"penalty\": ['l1', 'l2'], \"C\":[0.01, 0.1, 1, 10]}\n",
    "    logReg = LogisticRegression(solver = \"liblinear\")\n",
    "    classifier_grid = GridSearchCV(logReg, param_grid = params, cv = 3)\n",
    "    classifier_grid.fit(X_train, y_train)\n",
    "    return classifier_grid.cv_results_[\"mean_test_score\"].reshape(4, 2)"
   ]
  },
  {
   "cell_type": "code",
   "execution_count": 93,
   "metadata": {
    "execution": {
     "iopub.execute_input": "2023-05-31T14:17:08.841461Z",
     "iopub.status.busy": "2023-05-31T14:17:08.841461Z",
     "iopub.status.idle": "2023-05-31T14:17:10.964893Z",
     "shell.execute_reply": "2023-05-31T14:17:10.964893Z",
     "shell.execute_reply.started": "2023-05-31T14:17:08.841461Z"
    }
   },
   "outputs": [
    {
     "data": {
      "text/plain": [
       "array([[0.99422214, 0.99539001],\n",
       "       [0.99606614, 0.99618907],\n",
       "       [0.99606614, 0.9961276 ],\n",
       "       [0.99588174, 0.9959432 ]])"
      ]
     },
     "execution_count": 93,
     "metadata": {},
     "output_type": "execute_result"
    }
   ],
   "source": [
    "answer_six()"
   ]
  },
  {
   "cell_type": "code",
   "execution_count": null,
   "metadata": {
    "deletable": false,
    "editable": false,
    "nbgrader": {
     "cell_type": "code",
     "checksum": "86adef854a10996ddd1edef52b834632",
     "grade": true,
     "grade_id": "cell-6632a909e296b185",
     "locked": true,
     "points": 0,
     "schema_version": 3,
     "solution": false,
     "task": false
    }
   },
   "outputs": [],
   "source": []
  },
  {
   "cell_type": "code",
   "execution_count": null,
   "metadata": {},
   "outputs": [],
   "source": []
  },
  {
   "cell_type": "code",
   "execution_count": 94,
   "metadata": {
    "execution": {
     "iopub.execute_input": "2023-05-31T14:26:13.484107Z",
     "iopub.status.busy": "2023-05-31T14:26:13.484107Z",
     "iopub.status.idle": "2023-05-31T14:26:15.745321Z",
     "shell.execute_reply": "2023-05-31T14:26:15.744767Z",
     "shell.execute_reply.started": "2023-05-31T14:26:13.484107Z"
    }
   },
   "outputs": [
    {
     "data": {
      "image/png": "[encoded data removed]",
      "text/plain": [
       "<Figure size 640x480 with 2 Axes>"
      ]
     },
     "metadata": {},
     "output_type": "display_data"
    }
   ],
   "source": [
    "# Use the following function to help visualize results from the grid search\n",
    "def GridSearch_Heatmap(scores):\n",
    "    # %matplotlib notebook\n",
    "    import seaborn as sns\n",
    "    import matplotlib.pyplot as plt\n",
    "    plt.figure()\n",
    "    sns.heatmap(scores.reshape(4,2), xticklabels=['l1','l2'], yticklabels=[0.01, 0.1, 1, 10])\n",
    "    plt.yticks(rotation=0);\n",
    "\n",
    "GridSearch_Heatmap(answer_six())"
   ]
  },
  {
   "cell_type": "code",
   "execution_count": null,
   "metadata": {},
   "outputs": [],
   "source": []
  },
  {
   "cell_type": "code",
   "execution_count": null,
   "metadata": {},
   "outputs": [],
   "source": []
  }
 ],
 "metadata": {
  "coursera": {
   "schema_names": [
    "mooc_adswpy_v1_assignment3"
   ]
  },
  "kernelspec": {
   "display_name": "Python 3 (ipykernel)",
   "language": "python",
   "name": "python3"
  },
  "language_info": {
   "codemirror_mode": {
    "name": "ipython",
    "version": 3
   },
   "file_extension": ".py",
   "mimetype": "text/x-python",
   "name": "python",
   "nbconvert_exporter": "python",
   "pygments_lexer": "ipython3",
   "version": "3.11.3"
  }
 },
 "nbformat": 4,
 "nbformat_minor": 4
}
