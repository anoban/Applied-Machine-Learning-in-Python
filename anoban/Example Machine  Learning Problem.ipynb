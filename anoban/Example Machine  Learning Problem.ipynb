{
 "cells": [
  {
   "cell_type": "code",
   "execution_count": 1,
   "id": "b8b0ebf5-2d8b-47e7-8a69-0c807a36c4a5",
   "metadata": {
    "tags": []
   },
   "outputs": [],
   "source": [
    "import numpy as np\n",
    "import pandas as pd\n",
    "import matplotlib.pyplot as plt"
   ]
  },
  {
   "cell_type": "markdown",
   "id": "1ae800f0-d916-44bf-b233-68b336bdf8e9",
   "metadata": {},
   "source": [
    "# ___An Example Machine Learning Problem___\n",
    "----------------"
   ]
  },
  {
   "cell_type": "code",
   "execution_count": 2,
   "id": "1c0581a6-ecce-4da6-9b47-fc186a737898",
   "metadata": {
    "tags": []
   },
   "outputs": [],
   "source": [
    "# Let's build a very simple fruit recognition model.\n",
    "# This fruits data comes from Dr. Ian Murry from University of Edinburgh."
   ]
  },
  {
   "cell_type": "code",
   "execution_count": 6,
   "id": "c28b0ce8-e41e-4bb1-afe8-ee740da9bd8e",
   "metadata": {
    "tags": []
   },
   "outputs": [],
   "source": [
    "fruits = pd.read_csv(r\"../resources/assets/fruit_data_with_colors.txt\", delimiter = \"\\t\")"
   ]
  },
  {
   "cell_type": "code",
   "execution_count": 14,
   "id": "2d7f25f8-3aa6-4e3d-b1ec-a02e5f0db013",
   "metadata": {
    "tags": []
   },
   "outputs": [
    {
     "data": {
      "text/html": [
       "<div>\n",
       "<style scoped>\n",
       "    .dataframe tbody tr th:only-of-type {\n",
       "        vertical-align: middle;\n",
       "    }\n",
       "\n",
       "    .dataframe tbody tr th {\n",
       "        vertical-align: top;\n",
       "    }\n",
       "\n",
       "    .dataframe thead th {\n",
       "        text-align: right;\n",
       "    }\n",
       "</style>\n",
       "<table border=\"1\" class=\"dataframe\">\n",
       "  <thead>\n",
       "    <tr style=\"text-align: right;\">\n",
       "      <th></th>\n",
       "      <th>fruit_label</th>\n",
       "      <th>fruit_name</th>\n",
       "      <th>fruit_subtype</th>\n",
       "      <th>mass</th>\n",
       "      <th>width</th>\n",
       "      <th>height</th>\n",
       "      <th>color_score</th>\n",
       "    </tr>\n",
       "  </thead>\n",
       "  <tbody>\n",
       "    <tr>\n",
       "      <th>0</th>\n",
       "      <td>1</td>\n",
       "      <td>apple</td>\n",
       "      <td>granny_smith</td>\n",
       "      <td>192</td>\n",
       "      <td>8.4</td>\n",
       "      <td>7.3</td>\n",
       "      <td>0.55</td>\n",
       "    </tr>\n",
       "    <tr>\n",
       "      <th>1</th>\n",
       "      <td>1</td>\n",
       "      <td>apple</td>\n",
       "      <td>granny_smith</td>\n",
       "      <td>180</td>\n",
       "      <td>8.0</td>\n",
       "      <td>6.8</td>\n",
       "      <td>0.59</td>\n",
       "    </tr>\n",
       "    <tr>\n",
       "      <th>2</th>\n",
       "      <td>1</td>\n",
       "      <td>apple</td>\n",
       "      <td>granny_smith</td>\n",
       "      <td>176</td>\n",
       "      <td>7.4</td>\n",
       "      <td>7.2</td>\n",
       "      <td>0.60</td>\n",
       "    </tr>\n",
       "    <tr>\n",
       "      <th>3</th>\n",
       "      <td>2</td>\n",
       "      <td>mandarin</td>\n",
       "      <td>mandarin</td>\n",
       "      <td>86</td>\n",
       "      <td>6.2</td>\n",
       "      <td>4.7</td>\n",
       "      <td>0.80</td>\n",
       "    </tr>\n",
       "    <tr>\n",
       "      <th>4</th>\n",
       "      <td>2</td>\n",
       "      <td>mandarin</td>\n",
       "      <td>mandarin</td>\n",
       "      <td>84</td>\n",
       "      <td>6.0</td>\n",
       "      <td>4.6</td>\n",
       "      <td>0.79</td>\n",
       "    </tr>\n",
       "  </tbody>\n",
       "</table>\n",
       "</div>"
      ],
      "text/plain": [
       "   fruit_label fruit_name fruit_subtype  mass  width  height  color_score\n",
       "0            1      apple  granny_smith   192    8.4     7.3         0.55\n",
       "1            1      apple  granny_smith   180    8.0     6.8         0.59\n",
       "2            1      apple  granny_smith   176    7.4     7.2         0.60\n",
       "3            2   mandarin      mandarin    86    6.2     4.7         0.80\n",
       "4            2   mandarin      mandarin    84    6.0     4.6         0.79"
      ]
     },
     "execution_count": 14,
     "metadata": {},
     "output_type": "execute_result"
    }
   ],
   "source": [
    "fruits.head()"
   ]
  },
  {
   "cell_type": "code",
   "execution_count": 15,
   "id": "e9c47788-3f87-4b44-a768-41973feb317a",
   "metadata": {
    "tags": []
   },
   "outputs": [
    {
     "data": {
      "text/plain": [
       "fruit_label      0\n",
       "fruit_name       0\n",
       "fruit_subtype    0\n",
       "mass             0\n",
       "width            0\n",
       "height           0\n",
       "color_score      0\n",
       "dtype: int64"
      ]
     },
     "execution_count": 15,
     "metadata": {},
     "output_type": "execute_result"
    }
   ],
   "source": [
    "# no nans\n",
    "fruits.isna().sum(axis = 0)"
   ]
  },
  {
   "cell_type": "code",
   "execution_count": 19,
   "id": "7072c31d-85bd-4d3e-a2d0-a1b1e3627faf",
   "metadata": {
    "tags": []
   },
   "outputs": [
    {
     "data": {
      "text/plain": [
       "array(['apple', 'mandarin', 'orange', 'lemon'], dtype=object)"
      ]
     },
     "execution_count": 19,
     "metadata": {},
     "output_type": "execute_result"
    }
   ],
   "source": [
    "# Types of fruits in the dataset.\n",
    "fruits.fruit_name.unique()"
   ]
  },
  {
   "cell_type": "code",
   "execution_count": 20,
   "id": "6ce008b8-c896-44b6-938a-47b59cbd46f3",
   "metadata": {
    "tags": []
   },
   "outputs": [
    {
     "data": {
      "text/plain": [
       "array(['granny_smith', 'mandarin', 'braeburn', 'golden_delicious',\n",
       "       'cripps_pink', 'spanish_jumbo', 'selected_seconds', 'turkey_navel',\n",
       "       'spanish_belsan', 'unknown'], dtype=object)"
      ]
     },
     "execution_count": 20,
     "metadata": {},
     "output_type": "execute_result"
    }
   ],
   "source": [
    "# look at the unique subtypes.\n",
    "fruits.fruit_subtype.unique()"
   ]
  },
  {
   "cell_type": "code",
   "execution_count": 23,
   "id": "95dd9747-d14d-4ae9-8489-ee7af5992429",
   "metadata": {
    "tags": []
   },
   "outputs": [
    {
     "data": {
      "text/plain": [
       "Index(['fruit_label', 'fruit_name', 'fruit_subtype', 'mass', 'width', 'height',\n",
       "       'color_score'],\n",
       "      dtype='object')"
      ]
     },
     "execution_count": 23,
     "metadata": {},
     "output_type": "execute_result"
    }
   ],
   "source": [
    "# Features in the dataset.\n",
    "fruits.columns"
   ]
  },
  {
   "cell_type": "code",
   "execution_count": 26,
   "id": "b9370194-48cb-4596-95d9-a22e474f7094",
   "metadata": {
    "tags": []
   },
   "outputs": [
    {
     "data": {
      "text/html": [
       "<div>\n",
       "<style scoped>\n",
       "    .dataframe tbody tr th:only-of-type {\n",
       "        vertical-align: middle;\n",
       "    }\n",
       "\n",
       "    .dataframe tbody tr th {\n",
       "        vertical-align: top;\n",
       "    }\n",
       "\n",
       "    .dataframe thead th {\n",
       "        text-align: right;\n",
       "    }\n",
       "</style>\n",
       "<table border=\"1\" class=\"dataframe\">\n",
       "  <thead>\n",
       "    <tr style=\"text-align: right;\">\n",
       "      <th></th>\n",
       "      <th>fruit_label</th>\n",
       "      <th>fruit_name</th>\n",
       "      <th>fruit_subtype</th>\n",
       "    </tr>\n",
       "  </thead>\n",
       "  <tbody>\n",
       "    <tr>\n",
       "      <th>0</th>\n",
       "      <td>1</td>\n",
       "      <td>apple</td>\n",
       "      <td>granny_smith</td>\n",
       "    </tr>\n",
       "    <tr>\n",
       "      <th>1</th>\n",
       "      <td>1</td>\n",
       "      <td>apple</td>\n",
       "      <td>granny_smith</td>\n",
       "    </tr>\n",
       "    <tr>\n",
       "      <th>2</th>\n",
       "      <td>1</td>\n",
       "      <td>apple</td>\n",
       "      <td>granny_smith</td>\n",
       "    </tr>\n",
       "    <tr>\n",
       "      <th>3</th>\n",
       "      <td>2</td>\n",
       "      <td>mandarin</td>\n",
       "      <td>mandarin</td>\n",
       "    </tr>\n",
       "    <tr>\n",
       "      <th>4</th>\n",
       "      <td>2</td>\n",
       "      <td>mandarin</td>\n",
       "      <td>mandarin</td>\n",
       "    </tr>\n",
       "    <tr>\n",
       "      <th>5</th>\n",
       "      <td>2</td>\n",
       "      <td>mandarin</td>\n",
       "      <td>mandarin</td>\n",
       "    </tr>\n",
       "    <tr>\n",
       "      <th>6</th>\n",
       "      <td>2</td>\n",
       "      <td>mandarin</td>\n",
       "      <td>mandarin</td>\n",
       "    </tr>\n",
       "    <tr>\n",
       "      <th>7</th>\n",
       "      <td>2</td>\n",
       "      <td>mandarin</td>\n",
       "      <td>mandarin</td>\n",
       "    </tr>\n",
       "    <tr>\n",
       "      <th>8</th>\n",
       "      <td>1</td>\n",
       "      <td>apple</td>\n",
       "      <td>braeburn</td>\n",
       "    </tr>\n",
       "    <tr>\n",
       "      <th>9</th>\n",
       "      <td>1</td>\n",
       "      <td>apple</td>\n",
       "      <td>braeburn</td>\n",
       "    </tr>\n",
       "    <tr>\n",
       "      <th>10</th>\n",
       "      <td>1</td>\n",
       "      <td>apple</td>\n",
       "      <td>braeburn</td>\n",
       "    </tr>\n",
       "  </tbody>\n",
       "</table>\n",
       "</div>"
      ],
      "text/plain": [
       "    fruit_label fruit_name fruit_subtype\n",
       "0             1      apple  granny_smith\n",
       "1             1      apple  granny_smith\n",
       "2             1      apple  granny_smith\n",
       "3             2   mandarin      mandarin\n",
       "4             2   mandarin      mandarin\n",
       "5             2   mandarin      mandarin\n",
       "6             2   mandarin      mandarin\n",
       "7             2   mandarin      mandarin\n",
       "8             1      apple      braeburn\n",
       "9             1      apple      braeburn\n",
       "10            1      apple      braeburn"
      ]
     },
     "execution_count": 26,
     "metadata": {},
     "output_type": "execute_result"
    }
   ],
   "source": [
    "fruits.loc[:10, [\"fruit_label\", \"fruit_name\", \"fruit_subtype\"]]"
   ]
  },
  {
   "cell_type": "code",
   "execution_count": 27,
   "id": "0045e4be-9dba-4834-8c38-bee7aff9637c",
   "metadata": {
    "tags": []
   },
   "outputs": [],
   "source": [
    "# Each record in the table corresponds to an object.\n",
    "# Each column corresponds to a fruit feature.\n",
    "# Fruit label is a categorical nominal numerical representation of the fruit name feature.\n",
    "# Colour score column is a single real number that gives the fruit's colour an oversimplified numeric score in the range of 0 to 1.0\n",
    "    # red - 0.85 - 1.00\n",
    "    # orange 0.75 - 0.85\n",
    "    # yellow 0.65 - 0.75\n",
    "    # green 0.45 - 0.65\n",
    "\n",
    "# The records that has \"unknown\" in the fruit_subtype column are the contenders for the test dataset."
   ]
  },
  {
   "cell_type": "markdown",
   "id": "e10aea36-7da0-4e63-b8d2-00916c2adc83",
   "metadata": {},
   "source": [
    "### ___&darr; This is an alternative to `train_test_split`, since we have to split the dataset based on a specific criteria.___"
   ]
  },
  {
   "cell_type": "code",
   "execution_count": 30,
   "id": "6ed6b92c-fe6c-4036-98b8-ae72d1e0c35b",
   "metadata": {
    "tags": []
   },
   "outputs": [],
   "source": [
    "train = fruits.query(\"fruit_subtype != 'unknown'\")\n",
    "test = fruits.query(\"fruit_subtype == 'unknown'\")"
   ]
  },
  {
   "cell_type": "code",
   "execution_count": 35,
   "id": "953e44fb-f84d-4f6d-a377-342c19e6cc27",
   "metadata": {
    "tags": []
   },
   "outputs": [
    {
     "data": {
      "text/plain": [
       "((49, 7), (10, 7))"
      ]
     },
     "execution_count": 35,
     "metadata": {},
     "output_type": "execute_result"
    }
   ],
   "source": [
    "train.shape, test.shape"
   ]
  },
  {
   "cell_type": "code",
   "execution_count": 36,
   "id": "1cc9dae4-2d97-474f-b6ba-144193231a70",
   "metadata": {
    "tags": []
   },
   "outputs": [],
   "source": [
    "# We have 49 records in the training dataset and 10 records in the test dataset."
   ]
  },
  {
   "cell_type": "code",
   "execution_count": null,
   "id": "aed46d0d-f176-4bd1-b599-afb6a56faf6e",
   "metadata": {},
   "outputs": [],
   "source": []
  }
 ],
 "metadata": {
  "kernelspec": {
   "display_name": "Python 3 (ipykernel)",
   "language": "python",
   "name": "python3"
  },
  "language_info": {
   "codemirror_mode": {
    "name": "ipython",
    "version": 3
   },
   "file_extension": ".py",
   "mimetype": "text/x-python",
   "name": "python",
   "nbconvert_exporter": "python",
   "pygments_lexer": "ipython3",
   "version": "3.11.3"
  }
 },
 "nbformat": 4,
 "nbformat_minor": 5
}
