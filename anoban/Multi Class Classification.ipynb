{
 "cells": [
  {
   "cell_type": "code",
   "execution_count": 30,
   "id": "dc290acc-9a45-4be4-afff-a1bd56ebc5c6",
   "metadata": {
    "tags": []
   },
   "outputs": [],
   "source": [
    "import numpy as np\n",
    "import matplotlib.pyplot as plt\n",
    "import pandas as pd\n",
    "from sklearn.model_selection import train_test_split\n",
    "from sklearn.svm import LinearSVC"
   ]
  },
  {
   "cell_type": "markdown",
   "id": "3dda3116-2607-4537-aa3b-07ef05b747cb",
   "metadata": {},
   "source": [
    "# ___Multi Class Classification___\n",
    "---------"
   ]
  },
  {
   "cell_type": "code",
   "execution_count": 1,
   "id": "d3e4206d-8ece-4a7f-a0ee-fef8eef6a417",
   "metadata": {
    "tags": []
   },
   "outputs": [],
   "source": [
    "# So far we only have focused on binary classification, where the output is either the positive\n",
    "# or negative class."
   ]
  },
  {
   "cell_type": "code",
   "execution_count": 2,
   "id": "268d2183-d7ee-411b-ab4b-fbc854c5ef50",
   "metadata": {
    "tags": []
   },
   "outputs": [],
   "source": [
    "# In real world situations, the target often consists of multiple categories.\n",
    "# Sklearn handles multi-class classifictaion problems by convetring them into a series of binary classification problems.\n",
    "\n",
    "# For example if the target in the training set has 4 different labels A, B, C & D\n",
    "# Sklearn makes 4 classifiers -> \n",
    "    # 1 - one that predicts A or not A (this predicts A aginst all the 3 remaining classes)\n",
    "    # 2 - one that predicts B or not B\n",
    "    # 3 - C or not C\n",
    "    # 4 - D or not D\n",
    "    \n",
    "# So, Sklearn learns 4 different binary classifiers.\n",
    "# To predict a new data instance, it takes in the input, and runs it against all the 4 binary classifiers and gets their scores.\n",
    "# Then uses the prediction of the classifier that has given the highest score."
   ]
  },
  {
   "cell_type": "code",
   "execution_count": null,
   "id": "a634ae8d-a723-4518-aff8-9f4524b7cb90",
   "metadata": {},
   "outputs": [],
   "source": []
  },
  {
   "cell_type": "code",
   "execution_count": null,
   "id": "f0961684-1d7d-4383-8ad9-fb5db2c11f29",
   "metadata": {},
   "outputs": [],
   "source": [
    "# Let's take a look at this using the fruits dataset,"
   ]
  },
  {
   "cell_type": "code",
   "execution_count": 16,
   "id": "76eeda04-9cae-4063-be69-f78f894aecb4",
   "metadata": {
    "tags": []
   },
   "outputs": [],
   "source": [
    "fruits = pd.read_csv(r\"../resources/assets/fruit_data_with_colors.txt\", delimiter = \"\\t\")"
   ]
  },
  {
   "cell_type": "code",
   "execution_count": 48,
   "id": "365cb728-74be-4dfe-a26c-9aa7c67be7a4",
   "metadata": {
    "tags": []
   },
   "outputs": [],
   "source": [
    "features = fruits.loc[:, [\"width\", \"height\"]]\n",
    "targ = fruits.fruit_label"
   ]
  },
  {
   "cell_type": "code",
   "execution_count": 49,
   "id": "f9bd4f71-72ea-4218-acf6-95e9d6ec8672",
   "metadata": {
    "tags": []
   },
   "outputs": [],
   "source": [
    "train_x, test_x, train_y, test_y = train_test_split(features, targ, train_size = .7)"
   ]
  },
  {
   "cell_type": "code",
   "execution_count": null,
   "id": "a17b9879-415b-4b55-b92e-b546e2918230",
   "metadata": {},
   "outputs": [],
   "source": []
  },
  {
   "cell_type": "code",
   "execution_count": 50,
   "id": "cf96f12a-48cd-4502-aa9a-aa166655d2b2",
   "metadata": {
    "tags": []
   },
   "outputs": [
    {
     "name": "stderr",
     "output_type": "stream",
     "text": [
      "C:\\Program Files\\Python311\\Lib\\site-packages\\sklearn\\svm\\_base.py:1244: ConvergenceWarning: Liblinear failed to converge, increase the number of iterations.\n",
      "  warnings.warn(\n"
     ]
    }
   ],
   "source": [
    "mulLinSVC = LinearSVC(C = 10, max_iter = 10000).fit(train_x, train_y)"
   ]
  },
  {
   "cell_type": "code",
   "execution_count": 51,
   "id": "0e546d46-ad67-4b78-9784-6869422e9b72",
   "metadata": {
    "tags": []
   },
   "outputs": [
    {
     "data": {
      "text/plain": [
       "array([[ 0.87089998, -0.32691546],\n",
       "       [ 1.33085038, -1.88537759],\n",
       "       [ 0.38305087,  0.01236115],\n",
       "       [-2.05303296,  1.36962922]])"
      ]
     },
     "execution_count": 51,
     "metadata": {},
     "output_type": "execute_result"
    }
   ],
   "source": [
    "mulLinSVC.coef_"
   ]
  },
  {
   "cell_type": "code",
   "execution_count": 52,
   "id": "9d987624-5df7-4137-9683-004757ca7f8e",
   "metadata": {
    "tags": []
   },
   "outputs": [
    {
     "data": {
      "text/plain": [
       "array([-4.14593809,  1.36784204, -3.09358429,  2.79706473])"
      ]
     },
     "execution_count": 52,
     "metadata": {},
     "output_type": "execute_result"
    }
   ],
   "source": [
    "mulLinSVC.intercept_"
   ]
  },
  {
   "cell_type": "code",
   "execution_count": 53,
   "id": "598d5d6c-3ce3-4ea1-ace1-848475ab21c9",
   "metadata": {
    "tags": []
   },
   "outputs": [
    {
     "data": {
      "text/plain": [
       "0.6666666666666666"
      ]
     },
     "execution_count": 53,
     "metadata": {},
     "output_type": "execute_result"
    }
   ],
   "source": [
    "mulLinSVC.score(test_x, test_y)"
   ]
  },
  {
   "cell_type": "code",
   "execution_count": 55,
   "id": "d59d28ce-04de-4565-ad90-4b4feb37d676",
   "metadata": {
    "tags": []
   },
   "outputs": [
    {
     "data": {
      "text/plain": [
       "array(['apple', 'mandarin', 'orange', 'lemon'], dtype=object)"
      ]
     },
     "execution_count": 55,
     "metadata": {},
     "output_type": "execute_result"
    }
   ],
   "source": [
    "fruits.fruit_name.unique()"
   ]
  },
  {
   "cell_type": "code",
   "execution_count": 74,
   "id": "372c4c10-1dcc-44db-af3f-9e00ad1669f7",
   "metadata": {
    "tags": []
   },
   "outputs": [],
   "source": [
    "clrdict = {\"apple\": \"red\", \"lemon\": \"yellow\", \"orange\": \"orange\", \"mandarin\": \"green\"}\n",
    "\n",
    "clrs = list(map(lambda x: clrdict.get(x), fruits.fruit_name))"
   ]
  },
  {
   "cell_type": "code",
   "execution_count": 75,
   "id": "128c05f8-2d22-4614-9acf-727eb830d67c",
   "metadata": {
    "tags": []
   },
   "outputs": [],
   "source": [
    "# The four pairs of coefficients here correspond to the 4 fruit varieties.\n",
    "\n",
    "# the first pair of coefficients could be from a classifier that classifies -> apples - not apples (with the first intercept)\n",
    "# the second -> mandarins - not mandarins\n",
    "# etc.."
   ]
  },
  {
   "cell_type": "code",
   "execution_count": 76,
   "id": "bdc81363-ffc5-4a76-afe9-69ed1df208b3",
   "metadata": {
    "tags": []
   },
   "outputs": [
    {
     "data": {
      "image/png": "[encoded data removed]",
      "text/plain": [
       "<Figure size 800x800 with 1 Axes>"
      ]
     },
     "metadata": {},
     "output_type": "display_data"
    }
   ],
   "source": [
    "fig, axes = plt.subplots()\n",
    "fig.set_size_inches(8, 8)\n",
    "\n",
    "axes.scatter(fruits.height, fruits.width, c = clrs, edgecolor = \"black\", s = 50)\n",
    "axes.grid()\n",
    "axes.set_xlabel(\"Height\")\n",
    "axes.set_ylabel(\"Width\")\n",
    "\n",
    "\n",
    "\n",
    "plt.show()"
   ]
  },
  {
   "cell_type": "code",
   "execution_count": null,
   "id": "22d1f96d-f929-41d9-b480-bca9037a78bf",
   "metadata": {},
   "outputs": [],
   "source": []
  }
 ],
 "metadata": {
  "kernelspec": {
   "display_name": "Python 3 (ipykernel)",
   "language": "python",
   "name": "python3"
  },
  "language_info": {
   "codemirror_mode": {
    "name": "ipython",
    "version": 3
   },
   "file_extension": ".py",
   "mimetype": "text/x-python",
   "name": "python",
   "nbconvert_exporter": "python",
   "pygments_lexer": "ipython3",
   "version": "3.11.3"
  }
 },
 "nbformat": 4,
 "nbformat_minor": 5
}
