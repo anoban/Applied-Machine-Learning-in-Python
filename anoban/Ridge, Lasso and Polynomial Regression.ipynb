{
 "cells": [
  {
   "cell_type": "code",
   "execution_count": 41,
   "id": "9c7fb753-b09b-4f9a-82c4-d4a3f5dce6db",
   "metadata": {
    "tags": []
   },
   "outputs": [],
   "source": [
    "import numpy as np\n",
    "import pandas as pd\n",
    "import matplotlib.pyplot as plt\n",
    "from sklearn.linear_model import (Ridge, Lasso)\n",
    "from sklearn.preprocessing import MinMaxScaler\n",
    "from sklearn.model_selection import train_test_split"
   ]
  },
  {
   "cell_type": "code",
   "execution_count": 43,
   "id": "e03b3a8d-f69f-4a87-b7f5-91a0444c1aeb",
   "metadata": {
    "tags": []
   },
   "outputs": [],
   "source": [
    "np.random.seed(2023 - 5 - 9)\n",
    "\n",
    "crime = pd.read_table(\"../resources/assets/CommViolPredUnnormalizedData.txt\", sep = \",\", na_values = \"?\")\n",
    "# remove features with poor coverage or lower relevance, and keep ViolentCrimesPerPop target column\n",
    "columns_to_keep = [5, 6] + list(range(11,26)) + list(range(32, 103)) + [145]  \n",
    "crime = crime.iloc[:,columns_to_keep].dropna()\n",
    "\n",
    "x_crime = crime.iloc[:,range(0,88)]\n",
    "y_crime = crime['ViolentCrimesPerPop']\n",
    "\n",
    "train_x, test_x, train_y, test_y = train_test_split(x_crime, y_crime, train_size = 0.85)\n",
    "\n",
    "mmscaler = MinMaxScaler().fit(train_x)\n",
    "scaled_trainx = mmscaler.transform(train_x)\n",
    "scaled_testx = mmscaler.transform(test_x)"
   ]
  },
  {
   "cell_type": "markdown",
   "id": "a30d3e4b-fe74-4981-ba9f-3d76d785095c",
   "metadata": {},
   "source": [
    "# ___Linear Regression: Ridge, Lasso and Polynomial Regression___\n",
    "------------"
   ]
  },
  {
   "cell_type": "code",
   "execution_count": null,
   "id": "b89c43e4-6e6a-4165-bef4-282b1ddaabee",
   "metadata": {},
   "outputs": [],
   "source": []
  },
  {
   "cell_type": "markdown",
   "id": "4e1426aa-636d-402f-8e7c-1149edf2c845",
   "metadata": {},
   "source": [
    "# ___Ridge Regression___\n",
    "----------"
   ]
  },
  {
   "cell_type": "code",
   "execution_count": 46,
   "id": "f86c1b30-f25e-4faa-bece-bce6fadf38bd",
   "metadata": {},
   "outputs": [],
   "source": [
    "# Ridge regression is similar to Simple linear regression, but adds a penalty to feature weights that are too large.\n",
    "# This penalty is called L2 penalty.\n",
    "# Large weights mean that the sum of their squared values is large.\n",
    "# Once Ridge regression has estimated the w and b parameters, prediction of y value is identical to simple linear regression."
   ]
  },
  {
   "cell_type": "code",
   "execution_count": 47,
   "id": "946e98be-b44d-4021-8980-49d18a54a5f6",
   "metadata": {
    "tags": []
   },
   "outputs": [],
   "source": [
    "# So when does the penalty of larger weights prove useful?\n",
    "# Addition of a penalty parameter to a learning algorithm's function is called REGULARIZATION.\n",
    "# Regularization helps prevent overfitting by restricting the model from giving disproportionately higher priority to features with \n",
    "# higher weights and thus helps reduce complexity."
   ]
  },
  {
   "cell_type": "code",
   "execution_count": 48,
   "id": "88730308-2e79-4ce6-8073-b63ff3a09198",
   "metadata": {
    "tags": []
   },
   "outputs": [],
   "source": [
    "# If Ridge regression finds two models that predict equally well, it'll prefer the one that has the smallest sum of \n",
    "# squared feature weights.\n",
    "# The application of ridge regression is to find feature weights w_i, fit the data well and set the feature weights to very small values.\n",
    "# This is fairly inconsequential in single feature linear regression but very rigorous in models with hundreds of features."
   ]
  },
  {
   "cell_type": "markdown",
   "id": "7990878e-995f-431a-b4ab-ed88fc1681a8",
   "metadata": {},
   "source": [
    "# ___$RSS_{ridge}(w, b)~=~\\sum_{i = 1}^{N}{(y_i - (w \\cdot x_i + b))^2}~+~\\alpha~\\sum_{j = 1}^{P}{w_j^2}$___"
   ]
  },
  {
   "cell_type": "code",
   "execution_count": 49,
   "id": "bc5f7636-a49b-4afd-bcef-20da87421779",
   "metadata": {
    "tags": []
   },
   "outputs": [],
   "source": [
    "# The amount of regularization is regulated by the alpha parameter.\n",
    "# Larger alpha means more regularization & simpler linear models with weights closer to 0.\n",
    "# The default value for alpha is 1.0\n",
    "\n",
    "# Setting alpha = 0 makes the Ridge regression;"
   ]
  },
  {
   "cell_type": "markdown",
   "id": "65ff73eb-34dd-4a3e-a647-27fbf08fdfe5",
   "metadata": {},
   "source": [
    "# ___$RSS_{ridge}(w, b)~=~\\sum_{i = 1}^{N}{(y_i - (w \\cdot x_i + b))^2}~+~0$___"
   ]
  },
  {
   "cell_type": "code",
   "execution_count": 50,
   "id": "e1293bad-789a-4eb1-aba6-e65a6eb52848",
   "metadata": {
    "tags": []
   },
   "outputs": [],
   "source": [
    "# equivalent to ordinary least squares regression."
   ]
  },
  {
   "cell_type": "code",
   "execution_count": 51,
   "id": "e0c912d3-99ba-42e4-8e88-c3eb34a36c71",
   "metadata": {
    "tags": []
   },
   "outputs": [],
   "source": [
    "linRidge = Ridge(alpha = 87.98).fit(train_x, train_y)"
   ]
  },
  {
   "cell_type": "code",
   "execution_count": 52,
   "id": "c9238f58-be73-44a3-931f-92c232157d8e",
   "metadata": {
    "tags": []
   },
   "outputs": [
    {
     "data": {
      "text/plain": [
       "array([-6.60084497e-04,  3.53589022e+00,  9.16851521e+00, -3.56582449e+01,\n",
       "        9.99640571e+00, -1.39330648e+01, -8.16782025e-05,  1.30630173e+00,\n",
       "       -8.81188208e-03, -7.71485452e+00,  1.36243077e+01, -8.17064112e+00,\n",
       "        6.86523931e+00,  5.19807833e+00, -8.10027286e+00,  7.79608383e-03,\n",
       "       -7.97427381e-04,  1.45764865e-03, -7.94065850e+00, -1.52084542e+01,\n",
       "        5.28797145e+00,  3.39123888e+00,  5.14827384e+00,  1.03045599e+01,\n",
       "       -2.63168369e+00, -1.78508334e-01, -5.50971976e-01,  2.28959735e+00,\n",
       "        3.70260655e+01,  1.00891822e+01, -1.90689956e+01, -1.23924416e+01,\n",
       "        3.40763238e+00,  1.18699926e+01, -2.25486014e+01,  1.70742503e+00,\n",
       "       -6.23605343e-02,  1.84261431e+00, -7.29838077e+00, -9.70091944e-03,\n",
       "        6.31426623e+01,  1.45691483e-03,  8.90503519e-01, -1.07138633e+00,\n",
       "       -3.90449376e-01,  1.46929372e+00, -1.05527168e+01, -2.65735077e+00,\n",
       "       -7.10969247e+00, -4.39027959e+00,  1.38130022e+00, -2.20333508e+01,\n",
       "        6.28169592e+00, -1.61115268e+01,  1.03432922e+01,  1.81132747e+01,\n",
       "       -1.69711913e+01, -1.69718171e+01,  2.20163823e+01,  2.10477701e+00,\n",
       "        1.42464996e+01,  2.32777920e-02, -1.43023419e+00,  1.36541489e+01,\n",
       "        1.56850698e+01, -2.47221653e+00,  1.96132021e+00,  7.27525753e+00,\n",
       "       -1.22961798e+01, -1.24071841e-04,  3.48533983e-05, -2.43208150e-04,\n",
       "       -1.19104284e-04, -7.04412493e-01, -1.04291955e-02, -5.65193628e-01,\n",
       "        1.39218866e-01,  1.03017792e+00,  3.37533118e+00,  3.90403230e+00,\n",
       "       -3.18687586e+01,  1.47822313e-01, -1.16249363e-01,  1.76149698e+01,\n",
       "        4.10868036e-01,  2.89319612e+00,  1.11922463e+00, -1.35788012e+00])"
      ]
     },
     "execution_count": 52,
     "metadata": {},
     "output_type": "execute_result"
    }
   ],
   "source": [
    "# we have 10 features, and consequently 10 weights.\n",
    "linRidge.coef_"
   ]
  },
  {
   "cell_type": "code",
   "execution_count": 53,
   "id": "c953cb98-9765-431b-a0e5-00e1eb18b673",
   "metadata": {
    "tags": []
   },
   "outputs": [
    {
     "data": {
      "text/plain": [
       "-1650.6571292595556"
      ]
     },
     "execution_count": 53,
     "metadata": {},
     "output_type": "execute_result"
    }
   ],
   "source": [
    "linRidge.intercept_"
   ]
  },
  {
   "cell_type": "code",
   "execution_count": 54,
   "id": "69e2d2d8-b19d-4f91-8d29-a842646ecc7b",
   "metadata": {
    "tags": []
   },
   "outputs": [
    {
     "data": {
      "text/plain": [
       "0.658047206497478"
      ]
     },
     "execution_count": 54,
     "metadata": {},
     "output_type": "execute_result"
    }
   ],
   "source": [
    "linRidge.score(train_x, train_y)"
   ]
  },
  {
   "cell_type": "code",
   "execution_count": 55,
   "id": "37d0786d-47bc-469b-a4ba-506ea94d5ae0",
   "metadata": {
    "tags": []
   },
   "outputs": [
    {
     "data": {
      "text/plain": [
       "0.6776183247569071"
      ]
     },
     "execution_count": 55,
     "metadata": {},
     "output_type": "execute_result"
    }
   ],
   "source": [
    "linRidge.score(test_x, test_y)"
   ]
  },
  {
   "cell_type": "code",
   "execution_count": 57,
   "id": "6949bf49-098e-4afb-ace3-a4891462643e",
   "metadata": {
    "tags": []
   },
   "outputs": [],
   "source": [
    "# However these scores are not impressive."
   ]
  },
  {
   "cell_type": "code",
   "execution_count": null,
   "id": "490b195d-26fd-4b27-a549-0be21bf58616",
   "metadata": {},
   "outputs": [],
   "source": []
  },
  {
   "cell_type": "markdown",
   "id": "a5f5bee0-827a-4bd4-9582-6de50cd67598",
   "metadata": {},
   "source": [
    "## ___Feature preprocessing & normalization to improve Ridge regression performance___\n",
    "------------"
   ]
  },
  {
   "cell_type": "code",
   "execution_count": 58,
   "id": "30524710-d42d-46f1-a4bf-9d059a918a17",
   "metadata": {
    "tags": []
   },
   "outputs": [],
   "source": [
    "# In ridge regression the effect of increasing alpha is to shrink the feature weight close to 0.0\n",
    "# But when the dataset has input variables (features) on different scales, they will contribute differently to the penalty.\n",
    "# Because the penalty is the sum of squares of all feature weights."
   ]
  },
  {
   "cell_type": "code",
   "execution_count": 59,
   "id": "61466484-2235-4ef9-a78d-ea261e77a754",
   "metadata": {
    "tags": []
   },
   "outputs": [],
   "source": [
    "# Transforming the features to a common scale will help prevent the unduly weighting of certain features due to their scale.\n",
    "# e.g. we have dataset of used cars, a feature is manufactures year, which will be in the range 1990 - 2023\n",
    "# and another feature is mileage, this can range from 0 to 1,000,000 or more\n",
    "# So, these two features are in very different scales."
   ]
  },
  {
   "cell_type": "code",
   "execution_count": 60,
   "id": "17e42f11-2af6-4e8a-8501-bf85b5161d3a",
   "metadata": {
    "tags": []
   },
   "outputs": [],
   "source": [
    "# The influence of such disparities can be countered by normalization."
   ]
  },
  {
   "cell_type": "code",
   "execution_count": 61,
   "id": "1cd9a59e-009b-4b2c-9ed3-a3f7c0f28aad",
   "metadata": {
    "tags": []
   },
   "outputs": [],
   "source": [
    "# Feature normalization is important to many ML algorithms, beyond the Ridge regression."
   ]
  },
  {
   "cell_type": "code",
   "execution_count": null,
   "id": "54c4c108-06d7-4a8c-85ae-2ef7c8a64c1d",
   "metadata": {},
   "outputs": [],
   "source": []
  },
  {
   "cell_type": "markdown",
   "id": "51062208-5fa3-4e9d-a1c4-014ec1645b39",
   "metadata": {},
   "source": [
    "## ___MinMax Scaling___\n",
    "-----------"
   ]
  },
  {
   "cell_type": "code",
   "execution_count": 62,
   "id": "44915248-525c-4895-9f5b-4b9532851345",
   "metadata": {
    "tags": []
   },
   "outputs": [],
   "source": [
    "# For each feature x, computes the minimum and maximum.\n",
    "# And transforms the feature value to a scaled version using the following formula,"
   ]
  },
  {
   "cell_type": "markdown",
   "id": "20b1c9c9-0db1-48ba-a5c6-199243100aa8",
   "metadata": {},
   "source": [
    "# ___$x_i'~=~\\frac{x_i - x_{min}}{x_{max} - x_{min}}$___"
   ]
  },
  {
   "cell_type": "code",
   "execution_count": 63,
   "id": "4f634e04-af7d-4522-9f29-eecf30248dc5",
   "metadata": {
    "tags": []
   },
   "outputs": [
    {
     "data": {
      "text/plain": [
       "array([104, 129, 100, 124, 142, 123, 140, 133, 144, 121])"
      ]
     },
     "execution_count": 63,
     "metadata": {},
     "output_type": "execute_result"
    }
   ],
   "source": [
    "x = np.random.randint(100, 150, 10)\n",
    "x"
   ]
  },
  {
   "cell_type": "code",
   "execution_count": 65,
   "id": "914cfc8f-e0aa-4a33-a178-73074b4d9d2e",
   "metadata": {
    "tags": []
   },
   "outputs": [
    {
     "data": {
      "text/plain": [
       "array([0.09090909, 0.65909091, 0.        , 0.54545455, 0.95454545,\n",
       "       0.52272727, 0.90909091, 0.75      , 1.        , 0.47727273])"
      ]
     },
     "execution_count": 65,
     "metadata": {},
     "output_type": "execute_result"
    }
   ],
   "source": [
    "# min max scaled x;\n",
    "\n",
    "(x - x.min()) / (x.max() - x.min())"
   ]
  },
  {
   "cell_type": "code",
   "execution_count": 2,
   "id": "d4d7c08b-48b8-40c5-9db6-de6a5c3c3275",
   "metadata": {
    "tags": []
   },
   "outputs": [],
   "source": [
    "x = np.random.randint(10, 15, 10)\n",
    "y = np.random.randint(250, 300, 10)\n",
    "\n",
    "x_scaled = (x - x.min()) / (x.max() - x.min())\n",
    "y_scaled = (y - y.min()) / (y.max() - y.min())"
   ]
  },
  {
   "cell_type": "code",
   "execution_count": 5,
   "id": "eb680582-a377-41a4-bd2f-3f4333e44988",
   "metadata": {
    "tags": []
   },
   "outputs": [
    {
     "data": {
      "image/png": "[encoded data removed]",
      "text/plain": [
       "<Figure size 1200x500 with 2 Axes>"
      ]
     },
     "metadata": {},
     "output_type": "display_data"
    }
   ],
   "source": [
    "fig, (axes0, axes1) = plt.subplots(ncols = 2)\n",
    "fig.set_size_inches(12, 5)\n",
    "\n",
    "axes0.scatter(x, y, color = \"lightgreen\", edgecolor = \"black\")\n",
    "axes0.set_xlabel(\"x\")\n",
    "axes0.set_ylabel(\"y\")\n",
    "axes1.scatter(x_scaled, y_scaled, color = \"violet\", edgecolor = \"black\")\n",
    "axes1.set_xlabel(\"x_scaled\")\n",
    "axes1.set_ylabel(\"y_scaled\")\n",
    "plt.show()"
   ]
  },
  {
   "cell_type": "code",
   "execution_count": 80,
   "id": "27bdd5a1-cdf5-4ede-ad7f-8809945eafb8",
   "metadata": {
    "tags": []
   },
   "outputs": [],
   "source": [
    "# Look at the scales.\n",
    "# In MinMax scaling the lowest value gets mapped to 0 and the highest value gets mapped to 1.\n",
    "# So the order or distribution is preserved albeit the values getting modified."
   ]
  },
  {
   "cell_type": "code",
   "execution_count": 81,
   "id": "47ce5701-406a-4842-b690-4c597f05297a",
   "metadata": {
    "tags": []
   },
   "outputs": [],
   "source": [
    "minmax = MinMaxScaler().fit(train_x)"
   ]
  },
  {
   "cell_type": "code",
   "execution_count": 83,
   "id": "85ba8045-0d2b-434e-91c3-55a64a4790bc",
   "metadata": {
    "tags": []
   },
   "outputs": [],
   "source": [
    "trainx_scaled = minmax.transform(train_x)\n",
    "testx_scaled = minmax.transform(test_x)"
   ]
  },
  {
   "cell_type": "code",
   "execution_count": 84,
   "id": "dd528d48-9320-4789-8d9c-486115214a5f",
   "metadata": {
    "tags": []
   },
   "outputs": [],
   "source": [
    "linRidge = Ridge(alpha = 10.00).fit(trainx_scaled, train_y)"
   ]
  },
  {
   "cell_type": "code",
   "execution_count": 86,
   "id": "f8d4e7e9-3e93-48fe-b9bf-7f228a124f5a",
   "metadata": {
    "tags": []
   },
   "outputs": [
    {
     "data": {
      "text/plain": [
       "0.6526612001133569"
      ]
     },
     "execution_count": 86,
     "metadata": {},
     "output_type": "execute_result"
    }
   ],
   "source": [
    "# R2 score\n",
    "\n",
    "linRidge.score(testx_scaled, test_y)"
   ]
  },
  {
   "cell_type": "code",
   "execution_count": null,
   "id": "7615ca90-9818-4ddb-9541-209dcf695fd6",
   "metadata": {},
   "outputs": [],
   "source": [
    "# Cautions on applying the minmax scalar:\n",
    "    # The same scalar should be used to scale the train_x and the test_x\n",
    "    # The scalar must be trained using the train_x not the test_x\n",
    "    # Targets are not scaled."
   ]
  },
  {
   "cell_type": "code",
   "execution_count": 15,
   "id": "695c3d69-1137-4572-9e86-d69ba14f5a64",
   "metadata": {
    "tags": []
   },
   "outputs": [],
   "source": [
    "x = np.random.randint(0, 10, 100).reshape(-1, 1)"
   ]
  },
  {
   "cell_type": "code",
   "execution_count": 16,
   "id": "b4a73029-a0ca-4f1a-8b62-d270f985f690",
   "metadata": {
    "tags": []
   },
   "outputs": [],
   "source": [
    "# Now we have a scaler that has fitted the data.\n",
    "# i.e it has learned the min and max values of the passed array.\n",
    "minmax = MinMaxScaler().fit(x)"
   ]
  },
  {
   "cell_type": "code",
   "execution_count": 17,
   "id": "39e9a715-f36f-4927-9ec7-ece631cd5f1f",
   "metadata": {
    "tags": []
   },
   "outputs": [
    {
     "data": {
      "text/plain": [
       "array([0.66666667, 0.66666667, 0.66666667, 1.        , 1.        ,\n",
       "       0.77777778, 0.66666667, 0.33333333, 0.88888889, 0.88888889,\n",
       "       0.88888889, 1.        , 0.66666667, 0.        , 0.22222222,\n",
       "       1.        , 0.88888889, 0.44444444, 0.44444444, 0.11111111,\n",
       "       0.44444444, 0.66666667, 0.33333333, 0.55555556, 0.66666667,\n",
       "       0.88888889, 0.33333333, 0.44444444, 1.        , 0.22222222,\n",
       "       0.44444444, 0.44444444, 0.66666667, 0.88888889, 0.55555556,\n",
       "       0.44444444, 0.77777778, 0.55555556, 0.        , 0.11111111,\n",
       "       1.        , 0.55555556, 0.        , 0.77777778, 0.44444444,\n",
       "       0.55555556, 1.        , 1.        , 1.        , 0.11111111,\n",
       "       0.77777778, 0.88888889, 0.11111111, 0.55555556, 0.55555556,\n",
       "       0.        , 0.11111111, 1.        , 0.44444444, 0.33333333,\n",
       "       0.22222222, 0.22222222, 0.11111111, 0.55555556, 1.        ,\n",
       "       0.88888889, 0.22222222, 0.        , 0.        , 0.66666667,\n",
       "       0.66666667, 0.        , 1.        , 0.77777778, 0.33333333,\n",
       "       0.55555556, 0.11111111, 0.77777778, 0.44444444, 0.77777778,\n",
       "       0.77777778, 0.77777778, 0.66666667, 0.55555556, 0.55555556,\n",
       "       0.66666667, 0.66666667, 0.        , 0.33333333, 0.33333333,\n",
       "       0.55555556, 0.        , 0.88888889, 0.88888889, 0.        ,\n",
       "       0.        , 0.33333333, 0.        , 0.22222222, 0.33333333])"
      ]
     },
     "execution_count": 17,
     "metadata": {},
     "output_type": "execute_result"
    }
   ],
   "source": [
    "# Next step is normalization.\n",
    "minmax.transform(x).ravel()"
   ]
  },
  {
   "cell_type": "code",
   "execution_count": 20,
   "id": "a8e8a272-7e55-4e40-91f8-6e0cee0759b8",
   "metadata": {
    "tags": []
   },
   "outputs": [
    {
     "data": {
      "text/plain": [
       "array([0.66666667, 0.66666667, 0.66666667, 1.        , 1.        ,\n",
       "       0.77777778, 0.66666667, 0.33333333, 0.88888889, 0.88888889,\n",
       "       0.88888889, 1.        , 0.66666667, 0.        , 0.22222222,\n",
       "       1.        , 0.88888889, 0.44444444, 0.44444444, 0.11111111,\n",
       "       0.44444444, 0.66666667, 0.33333333, 0.55555556, 0.66666667,\n",
       "       0.88888889, 0.33333333, 0.44444444, 1.        , 0.22222222,\n",
       "       0.44444444, 0.44444444, 0.66666667, 0.88888889, 0.55555556,\n",
       "       0.44444444, 0.77777778, 0.55555556, 0.        , 0.11111111,\n",
       "       1.        , 0.55555556, 0.        , 0.77777778, 0.44444444,\n",
       "       0.55555556, 1.        , 1.        , 1.        , 0.11111111,\n",
       "       0.77777778, 0.88888889, 0.11111111, 0.55555556, 0.55555556,\n",
       "       0.        , 0.11111111, 1.        , 0.44444444, 0.33333333,\n",
       "       0.22222222, 0.22222222, 0.11111111, 0.55555556, 1.        ,\n",
       "       0.88888889, 0.22222222, 0.        , 0.        , 0.66666667,\n",
       "       0.66666667, 0.        , 1.        , 0.77777778, 0.33333333,\n",
       "       0.55555556, 0.11111111, 0.77777778, 0.44444444, 0.77777778,\n",
       "       0.77777778, 0.77777778, 0.66666667, 0.55555556, 0.55555556,\n",
       "       0.66666667, 0.66666667, 0.        , 0.33333333, 0.33333333,\n",
       "       0.55555556, 0.        , 0.88888889, 0.88888889, 0.        ,\n",
       "       0.        , 0.33333333, 0.        , 0.22222222, 0.33333333])"
      ]
     },
     "execution_count": 20,
     "metadata": {},
     "output_type": "execute_result"
    }
   ],
   "source": [
    "# See, the above and below are identical.\n",
    "((x - x.min()) / (x.max() - x.min())).ravel()"
   ]
  },
  {
   "cell_type": "code",
   "execution_count": 22,
   "id": "09c3ada7-1fa8-4a1c-9907-0e76264ffcc3",
   "metadata": {
    "tags": []
   },
   "outputs": [
    {
     "data": {
      "text/plain": [
       "array([0.66666667, 0.66666667, 0.66666667, 1.        , 1.        ,\n",
       "       0.77777778, 0.66666667, 0.33333333, 0.88888889, 0.88888889,\n",
       "       0.88888889, 1.        , 0.66666667, 0.        , 0.22222222,\n",
       "       1.        , 0.88888889, 0.44444444, 0.44444444, 0.11111111,\n",
       "       0.44444444, 0.66666667, 0.33333333, 0.55555556, 0.66666667,\n",
       "       0.88888889, 0.33333333, 0.44444444, 1.        , 0.22222222,\n",
       "       0.44444444, 0.44444444, 0.66666667, 0.88888889, 0.55555556,\n",
       "       0.44444444, 0.77777778, 0.55555556, 0.        , 0.11111111,\n",
       "       1.        , 0.55555556, 0.        , 0.77777778, 0.44444444,\n",
       "       0.55555556, 1.        , 1.        , 1.        , 0.11111111,\n",
       "       0.77777778, 0.88888889, 0.11111111, 0.55555556, 0.55555556,\n",
       "       0.        , 0.11111111, 1.        , 0.44444444, 0.33333333,\n",
       "       0.22222222, 0.22222222, 0.11111111, 0.55555556, 1.        ,\n",
       "       0.88888889, 0.22222222, 0.        , 0.        , 0.66666667,\n",
       "       0.66666667, 0.        , 1.        , 0.77777778, 0.33333333,\n",
       "       0.55555556, 0.11111111, 0.77777778, 0.44444444, 0.77777778,\n",
       "       0.77777778, 0.77777778, 0.66666667, 0.55555556, 0.55555556,\n",
       "       0.66666667, 0.66666667, 0.        , 0.33333333, 0.33333333,\n",
       "       0.55555556, 0.        , 0.88888889, 0.88888889, 0.        ,\n",
       "       0.        , 0.33333333, 0.        , 0.22222222, 0.33333333])"
      ]
     },
     "execution_count": 22,
     "metadata": {},
     "output_type": "execute_result"
    }
   ],
   "source": [
    "# Instead of fitting and transforming in two steps, we could use the fit_transform() method.\n",
    "MinMaxScaler().fit_transform(x).ravel()"
   ]
  },
  {
   "cell_type": "code",
   "execution_count": 23,
   "id": "e6397ebe-1158-4159-abcf-758c148fa300",
   "metadata": {
    "tags": []
   },
   "outputs": [],
   "source": [
    "# If we normalize the training set and test set using different scalers, we'll end up with more/less randomly skewed data,\n",
    "# which will invalidate our predictions.\n",
    "\n",
    "# Fitting the scaler on the test data will lead to data leakage. Where the training phase has information about the test set that is \n",
    "# leaked during the fitting process. Models that had the chance of exposure to test sets in the learning process may perform exceptionally\n",
    "# well given the test set, but may fail to generalize when provided with new, unseen datasets.\n",
    "\n",
    "# Learned parameters of models created using scaled training sets may not clearly reflect the nature of the training data. "
   ]
  },
  {
   "cell_type": "code",
   "execution_count": 24,
   "id": "0155e22f-664f-4f86-851b-98b138a9ca07",
   "metadata": {
    "tags": []
   },
   "outputs": [],
   "source": [
    "# Regularization works well when we have relatively small amounts of training data.\n",
    "# But becomes less important when the training data is large."
   ]
  },
  {
   "cell_type": "code",
   "execution_count": null,
   "id": "97a88bf0-80a9-43bd-8f83-bbb9634f26ef",
   "metadata": {},
   "outputs": [],
   "source": []
  },
  {
   "cell_type": "markdown",
   "id": "8e89a648-8d3d-483f-bc02-cf816e946a42",
   "metadata": {},
   "source": [
    "## ___Effect of Different Magnitudes of Regularization in Model Performance___\n",
    "---------------"
   ]
  },
  {
   "cell_type": "code",
   "execution_count": 26,
   "id": "eff5db7d-0f52-43cb-93fd-7bf51d6935f0",
   "metadata": {
    "tags": []
   },
   "outputs": [],
   "source": []
  },
  {
   "cell_type": "code",
   "execution_count": 87,
   "id": "9b50311b-58fc-43c5-9c57-ad9b439bf13a",
   "metadata": {
    "tags": []
   },
   "outputs": [
    {
     "name": "stdout",
     "output_type": "stream",
     "text": [
      "alpha:      0 R2 score: 0.674652\n",
      "alpha:   0.05 R2 score: 0.684330\n",
      "alpha:  0.075 R2 score: 0.684946\n",
      "alpha:    0.1 R2 score: 0.685159\n",
      "alpha:    0.2 R2 score: 0.684942\n",
      "alpha:    0.3 R2 score: 0.684356\n",
      "alpha:    0.4 R2 score: 0.683724\n",
      "alpha:    0.5 R2 score: 0.683098\n",
      "alpha:      1 R2 score: 0.680245\n",
      "alpha:      2 R2 score: 0.675545\n",
      "alpha:      3 R2 score: 0.671616\n",
      "alpha:      4 R2 score: 0.668167\n",
      "alpha:      5 R2 score: 0.665062\n",
      "alpha:     10 R2 score: 0.652661\n",
      "alpha:     20 R2 score: 0.635347\n",
      "alpha:     25 R2 score: 0.628526\n",
      "alpha:     30 R2 score: 0.622431\n",
      "alpha:     40 R2 score: 0.611759\n",
      "alpha:     50 R2 score: 0.602490\n",
      "alpha:     60 R2 score: 0.594203\n"
     ]
    }
   ],
   "source": [
    "for i in [0, 0.05, 0.075, 0.1, 0.2, 0.3, 0.4, 0.5, 1, 2, 3, 4, 5, 10, 20, 25, 30, 40, 50, 60]:\n",
    "    linRidge = Ridge(alpha = i).fit(scaled_trainx, train_y)\n",
    "    print(f\"alpha: {i:6}\", f\"R2 score: {linRidge.score(scaled_testx, test_y):.6f}\")"
   ]
  },
  {
   "cell_type": "code",
   "execution_count": null,
   "id": "85e46d4e-1b85-4b12-9979-71ef12d077cb",
   "metadata": {},
   "outputs": [],
   "source": [
    "# The R2 increases as alpha increases until 0.1, and then starts to decrease slowly."
   ]
  },
  {
   "cell_type": "code",
   "execution_count": null,
   "id": "614316be-662f-47ec-91c1-0ea2588aa7de",
   "metadata": {},
   "outputs": [],
   "source": []
  },
  {
   "cell_type": "markdown",
   "id": "15ea5009-8832-48a5-beec-054cbaa75ffc",
   "metadata": {},
   "source": [
    "# ___Lasso Regression___\n",
    "----------"
   ]
  },
  {
   "cell_type": "code",
   "execution_count": null,
   "id": "81446297-667b-407e-963b-73148514d62a",
   "metadata": {},
   "outputs": [],
   "source": [
    "# Lasso regression is similar to Ridge regression is using a penalty for larger feature weights, but uses a different\n",
    "# penalty scheme called L1 penalty, compared to the L2 penalty used by Ridge regression.\n",
    "\n",
    "# L1 penalty computes the sum of the absolute values of feature weights, unlike L2 penalty which computes the sum of squares of the \n",
    "# feature weights."
   ]
  },
  {
   "cell_type": "markdown",
   "id": "4a9e6ae4-13d2-4b1b-8286-68d1fe2211d9",
   "metadata": {},
   "source": [
    "# ___$RSS_{lasso}(w, b)~=~\\sum_{i = 1}^{N}{(y_i - (w \\cdot x_i + b))^2}~+~\\alpha~\\sum_{j = 1}^{P}{|{w_j}|}$___"
   ]
  },
  {
   "cell_type": "code",
   "execution_count": 39,
   "id": "dc1d0b5e-4e07-45cd-9ee6-583fa7a0a5a5",
   "metadata": {
    "tags": []
   },
   "outputs": [],
   "source": [
    "# N -> number of entities in a feature\n",
    "# P -> number of features"
   ]
  },
  {
   "cell_type": "code",
   "execution_count": 40,
   "id": "2d386038-d424-4d40-bf3f-db6b7f9330c0",
   "metadata": {
    "tags": []
   },
   "outputs": [],
   "source": [
    "# With Lasso, some weights of some features are forced to be precisely 0.\n",
    "# This essentially eliminates these features from training. -> a way of automatic feature selection.\n",
    "# With a weight of 0, the feature is completely ignored in the model.\n",
    "\n",
    "# Only a subset of the total features are left with non-zero weights, which makes the model easier to interpret.\n",
    "# Similar to Ridge regression, the default alpha value is 1.0"
   ]
  },
  {
   "cell_type": "code",
   "execution_count": null,
   "id": "96ca8f49-4976-4b6c-90db-2e6c0705d6d2",
   "metadata": {},
   "outputs": [],
   "source": [
    "# Lasso regression is particulary useful when there's only a few features in the dataset that have meaningful influence \n",
    "# on the outcome.\n",
    "# If there are many features that equally contribute to the outcome, Ridge regression will be a better choice."
   ]
  },
  {
   "cell_type": "code",
   "execution_count": null,
   "id": "573d205e-e340-439f-b241-753045680c67",
   "metadata": {},
   "outputs": [],
   "source": []
  },
  {
   "cell_type": "code",
   "execution_count": 45,
   "id": "ac739a3a-873c-49d6-b168-c5a3067ef945",
   "metadata": {
    "tags": []
   },
   "outputs": [],
   "source": [
    "linLasso = Lasso(alpha = 3.5, max_iter = 10_000).fit(scaled_trainx, train_y)"
   ]
  },
  {
   "cell_type": "code",
   "execution_count": 47,
   "id": "1c4952db-2bfc-4a65-ad52-c73646a31165",
   "metadata": {
    "tags": []
   },
   "outputs": [
    {
     "data": {
      "text/plain": [
       "array([    0.        ,     0.        ,    -0.        ,    -0.        ,\n",
       "          -0.        ,     0.        ,     0.        ,   137.04409226,\n",
       "           0.        ,    -0.        ,     0.        ,  -113.42163761,\n",
       "          -0.        ,     0.        ,    -0.        ,     0.        ,\n",
       "           0.        ,     0.        ,     0.        ,     0.        ,\n",
       "           0.        ,     0.        ,     0.        ,    -0.        ,\n",
       "         -63.34224745,    -0.        ,    -0.        ,     0.        ,\n",
       "          83.01522472,    -0.        ,     0.        ,   227.91971142,\n",
       "           0.        ,    -0.        , -1059.01787379,    -0.        ,\n",
       "          -0.        ,    -0.        ,  -122.55476646,     0.        ,\n",
       "        1595.8841211 ,     0.        ,    -0.        ,    -0.        ,\n",
       "           0.        ,     0.        ,     0.        ,     0.        ,\n",
       "           0.        ,     0.        ,    -0.        ,     0.        ,\n",
       "          89.65462616,     0.        ,     0.        ,     0.        ,\n",
       "           0.        ,     0.        ,     0.        ,     0.        ,\n",
       "          -0.        ,     0.        ,    -0.        ,     0.        ,\n",
       "         131.72151373,    -0.        ,    39.13440616,     0.        ,\n",
       "           0.        ,     0.        ,     0.        ,     0.        ,\n",
       "           0.        ,    -0.        ,     0.        ,     0.        ,\n",
       "           0.        ,     0.        ,     0.        ,     0.        ,\n",
       "          -0.        ,     0.        ,     0.        ,   271.54789203,\n",
       "         -34.68001724,     0.        ,     0.        ,     0.        ])"
      ]
     },
     "execution_count": 47,
     "metadata": {},
     "output_type": "execute_result"
    }
   ],
   "source": [
    "linLasso.coef_"
   ]
  },
  {
   "cell_type": "code",
   "execution_count": 49,
   "id": "69d29761-b96e-4280-abfc-b563f11b61ed",
   "metadata": {
    "tags": []
   },
   "outputs": [
    {
     "data": {
      "text/plain": [
       "936.1608224424688"
      ]
     },
     "execution_count": 49,
     "metadata": {},
     "output_type": "execute_result"
    }
   ],
   "source": [
    "linLasso.intercept_"
   ]
  },
  {
   "cell_type": "code",
   "execution_count": 50,
   "id": "3b1ac35d-605f-4115-b500-6cac441ea223",
   "metadata": {
    "tags": []
   },
   "outputs": [
    {
     "data": {
      "text/plain": [
       "0.6477263610439878"
      ]
     },
     "execution_count": 50,
     "metadata": {},
     "output_type": "execute_result"
    }
   ],
   "source": [
    "linLasso.score(scaled_testx, test_y)"
   ]
  },
  {
   "cell_type": "code",
   "execution_count": 66,
   "id": "d05c9ca7-d391-4d85-9642-9a040e4f7c8e",
   "metadata": {
    "tags": []
   },
   "outputs": [
    {
     "name": "stdout",
     "output_type": "stream",
     "text": [
      "pctUrban: 137.04409\n",
      "pctWInvInc: -113.42164\n",
      "PctEmplManu: -63.34225\n",
      "MalePctDivorce: 83.01522\n",
      "TotalPctDiv: 227.91971\n",
      "PctKids2Par: -1059.01787\n",
      "PctWorkMom: -122.55477\n",
      "PctKidsBornNeverMar: 1595.88412\n",
      "PctLargHouseFam: 89.65463\n",
      "PctVacantBoarded: 131.72151\n",
      "MedYrHousBuilt: 39.13441\n",
      "PctForeignBorn: 271.54789\n",
      "PctBornSameState: -34.68002\n"
     ]
    }
   ],
   "source": [
    "# Features with non-zero weights.\n",
    "nonzero_feats_offset = linLasso.coef_ != 0\n",
    "\n",
    "for (feature, weight) in zip(train_x.columns[nonzero_feats_offset], linLasso.coef_[nonzero_feats_offset]):\n",
    "    print(f\"{feature}: {weight:.5f}\")"
   ]
  },
  {
   "cell_type": "code",
   "execution_count": 67,
   "id": "b2e8b1cc-6a90-436e-b743-1b9d41af4455",
   "metadata": {
    "tags": []
   },
   "outputs": [],
   "source": [
    "# Also the interpretations need to be made very cautiously, Lasso helps us understand the features that are most influential on the \n",
    "# outcome\n",
    "\n",
    "# e.g. In our crimes example,\n",
    "# PctKidsBornNeverMar is the feature with highest weight -> percentage of kids born to unmarried parents.\n",
    "\n",
    "# feature with the lowest weight is PctKids2Par -> kids with 2 parents.\n",
    "# Insinuates a negative correlation, kids of single parents are more likely to become criminals.\n",
    "\n",
    "# These are very plausible deductions."
   ]
  },
  {
   "cell_type": "code",
   "execution_count": null,
   "id": "c9f26df2-339c-4e6b-8e06-026f581712a9",
   "metadata": {},
   "outputs": [],
   "source": []
  },
  {
   "cell_type": "code",
   "execution_count": 92,
   "id": "757c44f6-363d-41b4-a60c-e88de7638b7a",
   "metadata": {
    "tags": []
   },
   "outputs": [
    {
     "name": "stderr",
     "output_type": "stream",
     "text": [
      "C:\\Program Files\\Python311\\Lib\\site-packages\\sklearn\\linear_model\\_coordinate_descent.py:631: ConvergenceWarning: Objective did not converge. You might want to increase the number of iterations, check the scale of the features or consider increasing regularisation. Duality gap: 8.045e+04, tolerance: 6.305e+04\n",
      "  model = cd_fast.enet_coordinate_descent(\n"
     ]
    },
    {
     "name": "stdout",
     "output_type": "stream",
     "text": [
      "alpha: 0.01 R2 score: 0.677513\n",
      "alpha: 0.05 R2 score: 0.684884\n",
      "alpha: 0.075 R2 score: 0.685371\n",
      "alpha:  0.1 R2 score: 0.683815\n",
      "alpha:  0.2 R2 score: 0.681213\n",
      "alpha:  0.3 R2 score: 0.679997\n",
      "alpha:  0.4 R2 score: 0.678847\n",
      "alpha:  0.5 R2 score: 0.677312\n",
      "alpha:    1 R2 score: 0.671832\n",
      "alpha:    2 R2 score: 0.661237\n",
      "alpha:    3 R2 score: 0.651646\n",
      "alpha:    4 R2 score: 0.643936\n",
      "alpha:    5 R2 score: 0.638120\n",
      "alpha:   10 R2 score: 0.617433\n",
      "alpha:   20 R2 score: 0.559169\n",
      "alpha:   25 R2 score: 0.528970\n"
     ]
    }
   ],
   "source": [
    "for i in [0.01, 0.05, 0.075, 0.1, 0.2, 0.3, 0.4, 0.5, 1, 2, 3, 4, 5, 10, 20, 25]:\n",
    "    linLasso = Lasso(alpha = i, max_iter = 10000).fit(scaled_trainx, train_y)\n",
    "    print(f\"alpha: {i:4}\", f\"R2 score: {linLasso.score(scaled_testx, test_y):.6f}\")"
   ]
  },
  {
   "cell_type": "code",
   "execution_count": null,
   "id": "ef18d962-d8a7-47d1-a7e9-a719024c3c61",
   "metadata": {},
   "outputs": [],
   "source": []
  },
  {
   "cell_type": "markdown",
   "id": "d86b067a-b3af-4954-b84a-7e0abdd88f52",
   "metadata": {},
   "source": [
    "# ___Polynomial Features with Linear Regression___\n",
    "-----------"
   ]
  },
  {
   "cell_type": "code",
   "execution_count": null,
   "id": "cc459931-bdbf-4fa7-b1f4-46c99204d934",
   "metadata": {},
   "outputs": [],
   "source": []
  }
 ],
 "metadata": {
  "kernelspec": {
   "display_name": "Python 3 (ipykernel)",
   "language": "python",
   "name": "python3"
  },
  "language_info": {
   "codemirror_mode": {
    "name": "ipython",
    "version": 3
   },
   "file_extension": ".py",
   "mimetype": "text/x-python",
   "name": "python",
   "nbconvert_exporter": "python",
   "pygments_lexer": "ipython3",
   "version": "3.11.3"
  }
 },
 "nbformat": 4,
 "nbformat_minor": 5
}
