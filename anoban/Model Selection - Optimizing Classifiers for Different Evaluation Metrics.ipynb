{
 "cells": [
  {
   "cell_type": "code",
   "execution_count": 109,
   "id": "a7cda091-a817-494f-bb68-1f89ecd20169",
   "metadata": {
    "execution": {
     "iopub.execute_input": "2023-05-31T12:47:12.764487Z",
     "iopub.status.busy": "2023-05-31T12:47:12.764487Z",
     "iopub.status.idle": "2023-05-31T12:47:13.379309Z",
     "shell.execute_reply": "2023-05-31T12:47:13.379309Z",
     "shell.execute_reply.started": "2023-05-31T12:47:12.764487Z"
    }
   },
   "outputs": [],
   "source": [
    "from sklearn.model_selection import (cross_val_score, train_test_split, GridSearchCV)\n",
    "from sklearn.svm import SVC\n",
    "from sklearn.datasets import load_digits\n",
    "from sklearn.metrics import (precision_recall_curve, get_scorer_names)\n",
    "\n",
    "import numpy as np\n",
    "import matplotlib.pyplot as plt"
   ]
  },
  {
   "cell_type": "markdown",
   "id": "f5d9583c-44de-4747-9638-5b57cc8e976b",
   "metadata": {},
   "source": [
    "# ___Model Selection - Optimizing Classifiers for Different Evaluation Metrics___\n",
    "--------------"
   ]
  },
  {
   "cell_type": "code",
   "execution_count": 1,
   "id": "f49d671b-9c98-43c6-ba92-d06c4a94af92",
   "metadata": {
    "execution": {
     "iopub.execute_input": "2023-05-31T11:14:38.932507Z",
     "iopub.status.busy": "2023-05-31T11:14:38.932507Z",
     "iopub.status.idle": "2023-05-31T11:14:38.949097Z",
     "shell.execute_reply": "2023-05-31T11:14:38.948501Z",
     "shell.execute_reply.started": "2023-05-31T11:14:38.932507Z"
    }
   },
   "outputs": [],
   "source": [
    "# Model selection -> the process of selecting the best classifier for our application.\n",
    "\n",
    "# 1) Using the same dataset for training and testing -> overfits badly and doesn't generalize well to new data.\n",
    "# However, this can be a useful sanity check for the functionalities of the S.E and feature generation pipelines.\n",
    "\n",
    "# 2) Using a single train-test split -> \n",
    "# This is fast and easy, however does not give information on how well the model may perform on new data with different compositions.\n",
    "\n",
    "# 3) Using k-fold cross validation, where the evaluation metric is averaged across a set of train-test splits.\n",
    "# Produces more reliable models.\n",
    "# We can use grid search to search over a range of parameter values to figure out the best values for model parameters."
   ]
  },
  {
   "cell_type": "code",
   "execution_count": 2,
   "id": "de042a9c-d44b-465e-b40c-84e79abe66ae",
   "metadata": {
    "execution": {
     "iopub.execute_input": "2023-05-31T11:16:31.378589Z",
     "iopub.status.busy": "2023-05-31T11:16:31.378589Z",
     "iopub.status.idle": "2023-05-31T11:16:31.387447Z",
     "shell.execute_reply": "2023-05-31T11:16:31.387270Z",
     "shell.execute_reply.started": "2023-05-31T11:16:31.378589Z"
    }
   },
   "outputs": [],
   "source": [
    "# The default evaluation metric used for cross_val_score or grid search cross-validation is accuracy (R2 score)\n",
    "# However, we have the liberty to choose the metric of our choosing through the \"scoring\" kwarg"
   ]
  },
  {
   "cell_type": "code",
   "execution_count": null,
   "id": "cec07443-68ae-4440-bae7-5f3bbf6945cd",
   "metadata": {},
   "outputs": [],
   "source": []
  },
  {
   "cell_type": "code",
   "execution_count": 4,
   "id": "41301896-e51d-444f-91b1-8ea2d131aef1",
   "metadata": {
    "execution": {
     "iopub.execute_input": "2023-05-31T11:18:34.213913Z",
     "iopub.status.busy": "2023-05-31T11:18:34.213913Z",
     "iopub.status.idle": "2023-05-31T11:18:34.294182Z",
     "shell.execute_reply": "2023-05-31T11:18:34.294182Z",
     "shell.execute_reply.started": "2023-05-31T11:18:34.213913Z"
    }
   },
   "outputs": [],
   "source": [
    "digits = load_digits()\n",
    "# train_x, test_x, train_y, test_y = train_test_split(digits.data, digits.target, train_size = 0.8)\n",
    "# train_test_split is not needed !"
   ]
  },
  {
   "cell_type": "code",
   "execution_count": 25,
   "id": "d45ddc3f-684b-4d93-a06d-e9d719acfe80",
   "metadata": {
    "execution": {
     "iopub.execute_input": "2023-05-31T11:30:21.001480Z",
     "iopub.status.busy": "2023-05-31T11:30:21.001480Z",
     "iopub.status.idle": "2023-05-31T11:30:21.011643Z",
     "shell.execute_reply": "2023-05-31T11:30:21.011579Z",
     "shell.execute_reply.started": "2023-05-31T11:30:21.001480Z"
    }
   },
   "outputs": [],
   "source": [
    "mask = np.logical_or(digits.target == 1, digits.target == 0)"
   ]
  },
  {
   "cell_type": "code",
   "execution_count": 26,
   "id": "a6552215-98f5-4f26-aedb-3556216526a4",
   "metadata": {
    "execution": {
     "iopub.execute_input": "2023-05-31T11:30:33.730277Z",
     "iopub.status.busy": "2023-05-31T11:30:33.730277Z",
     "iopub.status.idle": "2023-05-31T11:30:33.747904Z",
     "shell.execute_reply": "2023-05-31T11:30:33.747778Z",
     "shell.execute_reply.started": "2023-05-31T11:30:33.730277Z"
    }
   },
   "outputs": [],
   "source": [
    "x, y = digits.data[mask], digits.target[mask]"
   ]
  },
  {
   "cell_type": "code",
   "execution_count": 27,
   "id": "10f8f145-6ab1-46e7-8c24-809a5c1b0b16",
   "metadata": {
    "execution": {
     "iopub.execute_input": "2023-05-31T11:30:34.784185Z",
     "iopub.status.busy": "2023-05-31T11:30:34.784185Z",
     "iopub.status.idle": "2023-05-31T11:30:34.802211Z",
     "shell.execute_reply": "2023-05-31T11:30:34.801198Z",
     "shell.execute_reply.started": "2023-05-31T11:30:34.784185Z"
    }
   },
   "outputs": [],
   "source": [
    "svClassifier = SVC(C = 0.5, kernel = \"linear\")"
   ]
  },
  {
   "cell_type": "code",
   "execution_count": 29,
   "id": "22f5635f-03fe-4ccf-99df-b28c6f14d4e5",
   "metadata": {
    "execution": {
     "iopub.execute_input": "2023-05-31T11:30:39.051317Z",
     "iopub.status.busy": "2023-05-31T11:30:39.051317Z",
     "iopub.status.idle": "2023-05-31T11:30:39.073873Z",
     "shell.execute_reply": "2023-05-31T11:30:39.073873Z",
     "shell.execute_reply.started": "2023-05-31T11:30:39.051317Z"
    }
   },
   "outputs": [
    {
     "data": {
      "text/plain": [
       "array([1., 1., 1., 1., 1., 1., 1., 1., 1., 1.])"
      ]
     },
     "execution_count": 29,
     "metadata": {},
     "output_type": "execute_result"
    }
   ],
   "source": [
    "cross_val_score(estimator = svClassifier, X = x, y = y, cv = 10, scoring = \"accuracy\")"
   ]
  },
  {
   "cell_type": "code",
   "execution_count": 32,
   "id": "9007efd1-c8df-4567-a867-6bd7058de0ca",
   "metadata": {
    "execution": {
     "iopub.execute_input": "2023-05-31T11:31:04.314739Z",
     "iopub.status.busy": "2023-05-31T11:31:04.314739Z",
     "iopub.status.idle": "2023-05-31T11:31:04.348454Z",
     "shell.execute_reply": "2023-05-31T11:31:04.348454Z",
     "shell.execute_reply.started": "2023-05-31T11:31:04.314739Z"
    }
   },
   "outputs": [
    {
     "data": {
      "text/plain": [
       "array([1., 1., 1., 1., 1., 1., 1., 1., 1., 1.])"
      ]
     },
     "execution_count": 32,
     "metadata": {},
     "output_type": "execute_result"
    }
   ],
   "source": [
    "cross_val_score(estimator = svClassifier, X = x, y = y, cv = 10, scoring = \"roc_auc\")"
   ]
  },
  {
   "cell_type": "code",
   "execution_count": 33,
   "id": "df7c4e42-68a9-4bff-a8df-ba68e77b3ddc",
   "metadata": {
    "execution": {
     "iopub.execute_input": "2023-05-31T11:31:08.708914Z",
     "iopub.status.busy": "2023-05-31T11:31:08.708914Z",
     "iopub.status.idle": "2023-05-31T11:31:08.746600Z",
     "shell.execute_reply": "2023-05-31T11:31:08.746529Z",
     "shell.execute_reply.started": "2023-05-31T11:31:08.708914Z"
    }
   },
   "outputs": [
    {
     "data": {
      "text/plain": [
       "array([1., 1., 1., 1., 1., 1., 1., 1., 1., 1.])"
      ]
     },
     "execution_count": 33,
     "metadata": {},
     "output_type": "execute_result"
    }
   ],
   "source": [
    "cross_val_score(estimator = svClassifier, X = x, y = y, cv = 10, scoring = \"recall\")"
   ]
  },
  {
   "cell_type": "code",
   "execution_count": 34,
   "id": "759cd9d3-5321-4451-a578-5451f6a02cc1",
   "metadata": {
    "execution": {
     "iopub.execute_input": "2023-05-31T11:32:29.886370Z",
     "iopub.status.busy": "2023-05-31T11:32:29.886370Z",
     "iopub.status.idle": "2023-05-31T11:32:29.897860Z",
     "shell.execute_reply": "2023-05-31T11:32:29.897187Z",
     "shell.execute_reply.started": "2023-05-31T11:32:29.886370Z"
    }
   },
   "outputs": [],
   "source": [
    "# Above, we did not do any parameter tusing.\n",
    "# We simply evaluated a predefined model's performance over different sets of train-test splits, using different evaluation metrics."
   ]
  },
  {
   "cell_type": "code",
   "execution_count": null,
   "id": "7be94daf-868f-492f-be57-99602f99b064",
   "metadata": {},
   "outputs": [],
   "source": []
  },
  {
   "cell_type": "markdown",
   "id": "7a739e40-baad-4b6d-82c3-eb594edf7c69",
   "metadata": {},
   "source": [
    "## ___Grid Search___\n",
    "-------------"
   ]
  },
  {
   "cell_type": "code",
   "execution_count": 45,
   "id": "e46725a4-c023-4e97-92f8-924735e999c8",
   "metadata": {
    "execution": {
     "iopub.execute_input": "2023-05-31T11:50:26.894833Z",
     "iopub.status.busy": "2023-05-31T11:50:26.894833Z",
     "iopub.status.idle": "2023-05-31T11:50:26.903455Z",
     "shell.execute_reply": "2023-05-31T11:50:26.903455Z",
     "shell.execute_reply.started": "2023-05-31T11:50:26.894833Z"
    }
   },
   "outputs": [],
   "source": [
    "x, y = digits.data, digits.target"
   ]
  },
  {
   "cell_type": "code",
   "execution_count": 46,
   "id": "bc3bd341-96ab-41eb-ab1f-3904dad850d0",
   "metadata": {
    "execution": {
     "iopub.execute_input": "2023-05-31T11:50:27.181379Z",
     "iopub.status.busy": "2023-05-31T11:50:27.181379Z",
     "iopub.status.idle": "2023-05-31T11:50:27.190006Z",
     "shell.execute_reply": "2023-05-31T11:50:27.190006Z",
     "shell.execute_reply.started": "2023-05-31T11:50:27.181379Z"
    }
   },
   "outputs": [
    {
     "data": {
      "text/plain": [
       "((1797, 64), (1797, 64))"
      ]
     },
     "execution_count": 46,
     "metadata": {},
     "output_type": "execute_result"
    }
   ],
   "source": [
    "digits.data.shape, x.shape"
   ]
  },
  {
   "cell_type": "code",
   "execution_count": 47,
   "id": "1dd43493-97ec-4e73-9b51-9455797f1b93",
   "metadata": {
    "execution": {
     "iopub.execute_input": "2023-05-31T11:50:27.482506Z",
     "iopub.status.busy": "2023-05-31T11:50:27.473988Z",
     "iopub.status.idle": "2023-05-31T11:50:27.489084Z",
     "shell.execute_reply": "2023-05-31T11:50:27.488069Z",
     "shell.execute_reply.started": "2023-05-31T11:50:27.482506Z"
    }
   },
   "outputs": [
    {
     "data": {
      "text/plain": [
       "((1797,), (1797,))"
      ]
     },
     "execution_count": 47,
     "metadata": {},
     "output_type": "execute_result"
    }
   ],
   "source": [
    "digits.target.shape, y.shape"
   ]
  },
  {
   "cell_type": "code",
   "execution_count": 48,
   "id": "d66c4a32-70f9-4843-983e-562cde7c12a8",
   "metadata": {
    "execution": {
     "iopub.execute_input": "2023-05-31T11:51:12.884880Z",
     "iopub.status.busy": "2023-05-31T11:51:12.884880Z",
     "iopub.status.idle": "2023-05-31T11:51:12.896130Z",
     "shell.execute_reply": "2023-05-31T11:51:12.896130Z",
     "shell.execute_reply.started": "2023-05-31T11:51:12.884880Z"
    }
   },
   "outputs": [],
   "source": [
    "train_x, test_x, train_y, test_y = train_test_split(x, y, train_size = 0.75)"
   ]
  },
  {
   "cell_type": "code",
   "execution_count": 50,
   "id": "db920c39-b34a-49d2-a797-53159f67e68f",
   "metadata": {
    "execution": {
     "iopub.execute_input": "2023-05-31T11:52:07.185764Z",
     "iopub.status.busy": "2023-05-31T11:52:07.185764Z",
     "iopub.status.idle": "2023-05-31T11:52:07.192368Z",
     "shell.execute_reply": "2023-05-31T11:52:07.192245Z",
     "shell.execute_reply.started": "2023-05-31T11:52:07.185764Z"
    }
   },
   "outputs": [],
   "source": [
    "svClassifier = SVC(kernel = \"rbf\")"
   ]
  },
  {
   "cell_type": "code",
   "execution_count": null,
   "id": "6e8c2bcf-5e24-46df-8ce1-bec6983ef428",
   "metadata": {},
   "outputs": [],
   "source": []
  },
  {
   "cell_type": "code",
   "execution_count": 70,
   "id": "52e69acb-533d-45c7-99c0-6d3b9a8cbf93",
   "metadata": {
    "execution": {
     "iopub.execute_input": "2023-05-31T12:20:22.203589Z",
     "iopub.status.busy": "2023-05-31T12:20:22.203589Z",
     "iopub.status.idle": "2023-05-31T12:20:22.212974Z",
     "shell.execute_reply": "2023-05-31T12:20:22.212912Z",
     "shell.execute_reply.started": "2023-05-31T12:20:22.203589Z"
    }
   },
   "outputs": [],
   "source": [
    "params = {\"gamma\": np.logspace(0.001, 100, num = 10)}"
   ]
  },
  {
   "cell_type": "code",
   "execution_count": 71,
   "id": "da23690a-7578-41f9-940e-02db50f083bc",
   "metadata": {
    "execution": {
     "iopub.execute_input": "2023-05-31T12:20:23.223989Z",
     "iopub.status.busy": "2023-05-31T12:20:23.223989Z",
     "iopub.status.idle": "2023-05-31T12:20:23.236236Z",
     "shell.execute_reply": "2023-05-31T12:20:23.236236Z",
     "shell.execute_reply.started": "2023-05-31T12:20:23.223989Z"
    }
   },
   "outputs": [
    {
     "data": {
      "text/plain": [
       "{'gamma': array([1.00230524e+000, 1.29419584e+011, 1.67109061e+022, 2.15774441e+033,\n",
       "        2.78612117e+044, 3.59749335e+055, 4.64515275e+066, 5.99791076e+077,\n",
       "        7.74461798e+088, 1.00000000e+100])}"
      ]
     },
     "execution_count": 71,
     "metadata": {},
     "output_type": "execute_result"
    }
   ],
   "source": [
    "params"
   ]
  },
  {
   "cell_type": "code",
   "execution_count": 72,
   "id": "291c07b7-f73e-490d-9720-6d58862f8441",
   "metadata": {
    "execution": {
     "iopub.execute_input": "2023-05-31T12:20:24.386354Z",
     "iopub.status.busy": "2023-05-31T12:20:24.386354Z",
     "iopub.status.idle": "2023-05-31T12:20:24.403569Z",
     "shell.execute_reply": "2023-05-31T12:20:24.402510Z",
     "shell.execute_reply.started": "2023-05-31T12:20:24.386354Z"
    }
   },
   "outputs": [],
   "source": [
    "classifier_grid = GridSearchCV(estimator = svClassifier, param_grid = params)"
   ]
  },
  {
   "cell_type": "code",
   "execution_count": 74,
   "id": "eb7a2f09-82eb-4ca2-98a2-22abbd28fc2b",
   "metadata": {
    "execution": {
     "iopub.execute_input": "2023-05-31T12:20:38.728573Z",
     "iopub.status.busy": "2023-05-31T12:20:38.728573Z",
     "iopub.status.idle": "2023-05-31T12:20:46.663163Z",
     "shell.execute_reply": "2023-05-31T12:20:46.663163Z",
     "shell.execute_reply.started": "2023-05-31T12:20:38.728573Z"
    }
   },
   "outputs": [
    {
     "data": {
      "text/html": [
       "<style>#sk-container-id-7 {color: black;background-color: white;}#sk-container-id-7 pre{padding: 0;}#sk-container-id-7 div.sk-toggleable {background-color: white;}#sk-container-id-7 label.sk-toggleable__label {cursor: pointer;display: block;width: 100%;margin-bottom: 0;padding: 0.3em;box-sizing: border-box;text-align: center;}#sk-container-id-7 label.sk-toggleable__label-arrow:before {content: \"▸\";float: left;margin-right: 0.25em;color: #696969;}#sk-container-id-7 label.sk-toggleable__label-arrow:hover:before {color: black;}#sk-container-id-7 div.sk-estimator:hover label.sk-toggleable__label-arrow:before {color: black;}#sk-container-id-7 div.sk-toggleable__content {max-height: 0;max-width: 0;overflow: hidden;text-align: left;background-color: #f0f8ff;}#sk-container-id-7 div.sk-toggleable__content pre {margin: 0.2em;color: black;border-radius: 0.25em;background-color: #f0f8ff;}#sk-container-id-7 input.sk-toggleable__control:checked~div.sk-toggleable__content {max-height: 200px;max-width: 100%;overflow: auto;}#sk-container-id-7 input.sk-toggleable__control:checked~label.sk-toggleable__label-arrow:before {content: \"▾\";}#sk-container-id-7 div.sk-estimator input.sk-toggleable__control:checked~label.sk-toggleable__label {background-color: #d4ebff;}#sk-container-id-7 div.sk-label input.sk-toggleable__control:checked~label.sk-toggleable__label {background-color: #d4ebff;}#sk-container-id-7 input.sk-hidden--visually {border: 0;clip: rect(1px 1px 1px 1px);clip: rect(1px, 1px, 1px, 1px);height: 1px;margin: -1px;overflow: hidden;padding: 0;position: absolute;width: 1px;}#sk-container-id-7 div.sk-estimator {font-family: monospace;background-color: #f0f8ff;border: 1px dotted black;border-radius: 0.25em;box-sizing: border-box;margin-bottom: 0.5em;}#sk-container-id-7 div.sk-estimator:hover {background-color: #d4ebff;}#sk-container-id-7 div.sk-parallel-item::after {content: \"\";width: 100%;border-bottom: 1px solid gray;flex-grow: 1;}#sk-container-id-7 div.sk-label:hover label.sk-toggleable__label {background-color: #d4ebff;}#sk-container-id-7 div.sk-serial::before {content: \"\";position: absolute;border-left: 1px solid gray;box-sizing: border-box;top: 0;bottom: 0;left: 50%;z-index: 0;}#sk-container-id-7 div.sk-serial {display: flex;flex-direction: column;align-items: center;background-color: white;padding-right: 0.2em;padding-left: 0.2em;position: relative;}#sk-container-id-7 div.sk-item {position: relative;z-index: 1;}#sk-container-id-7 div.sk-parallel {display: flex;align-items: stretch;justify-content: center;background-color: white;position: relative;}#sk-container-id-7 div.sk-item::before, #sk-container-id-7 div.sk-parallel-item::before {content: \"\";position: absolute;border-left: 1px solid gray;box-sizing: border-box;top: 0;bottom: 0;left: 50%;z-index: -1;}#sk-container-id-7 div.sk-parallel-item {display: flex;flex-direction: column;z-index: 1;position: relative;background-color: white;}#sk-container-id-7 div.sk-parallel-item:first-child::after {align-self: flex-end;width: 50%;}#sk-container-id-7 div.sk-parallel-item:last-child::after {align-self: flex-start;width: 50%;}#sk-container-id-7 div.sk-parallel-item:only-child::after {width: 0;}#sk-container-id-7 div.sk-dashed-wrapped {border: 1px dashed gray;margin: 0 0.4em 0.5em 0.4em;box-sizing: border-box;padding-bottom: 0.4em;background-color: white;}#sk-container-id-7 div.sk-label label {font-family: monospace;font-weight: bold;display: inline-block;line-height: 1.2em;}#sk-container-id-7 div.sk-label-container {text-align: center;}#sk-container-id-7 div.sk-container {/* jupyter's `normalize.less` sets `[hidden] { display: none; }` but bootstrap.min.css set `[hidden] { display: none !important; }` so we also need the `!important` here to be able to override the default hidden behavior on the sphinx rendered scikit-learn.org. See: https://github.com/scikit-learn/scikit-learn/issues/21755 */display: inline-block !important;position: relative;}#sk-container-id-7 div.sk-text-repr-fallback {display: none;}</style><div id=\"sk-container-id-7\" class=\"sk-top-container\"><div class=\"sk-text-repr-fallback\"><pre>GridSearchCV(estimator=SVC(),\n",
       "             param_grid={&#x27;gamma&#x27;: array([1.00230524e+000, 1.29419584e+011, 1.67109061e+022, 2.15774441e+033,\n",
       "       2.78612117e+044, 3.59749335e+055, 4.64515275e+066, 5.99791076e+077,\n",
       "       7.74461798e+088, 1.00000000e+100])})</pre><b>In a Jupyter environment, please rerun this cell to show the HTML representation or trust the notebook. <br />On GitHub, the HTML representation is unable to render, please try loading this page with nbviewer.org.</b></div><div class=\"sk-container\" hidden><div class=\"sk-item sk-dashed-wrapped\"><div class=\"sk-label-container\"><div class=\"sk-label sk-toggleable\"><input class=\"sk-toggleable__control sk-hidden--visually\" id=\"sk-estimator-id-15\" type=\"checkbox\" ><label for=\"sk-estimator-id-15\" class=\"sk-toggleable__label sk-toggleable__label-arrow\">GridSearchCV</label><div class=\"sk-toggleable__content\"><pre>GridSearchCV(estimator=SVC(),\n",
       "             param_grid={&#x27;gamma&#x27;: array([1.00230524e+000, 1.29419584e+011, 1.67109061e+022, 2.15774441e+033,\n",
       "       2.78612117e+044, 3.59749335e+055, 4.64515275e+066, 5.99791076e+077,\n",
       "       7.74461798e+088, 1.00000000e+100])})</pre></div></div></div><div class=\"sk-parallel\"><div class=\"sk-parallel-item\"><div class=\"sk-item\"><div class=\"sk-label-container\"><div class=\"sk-label sk-toggleable\"><input class=\"sk-toggleable__control sk-hidden--visually\" id=\"sk-estimator-id-16\" type=\"checkbox\" ><label for=\"sk-estimator-id-16\" class=\"sk-toggleable__label sk-toggleable__label-arrow\">estimator: SVC</label><div class=\"sk-toggleable__content\"><pre>SVC()</pre></div></div></div><div class=\"sk-serial\"><div class=\"sk-item\"><div class=\"sk-estimator sk-toggleable\"><input class=\"sk-toggleable__control sk-hidden--visually\" id=\"sk-estimator-id-17\" type=\"checkbox\" ><label for=\"sk-estimator-id-17\" class=\"sk-toggleable__label sk-toggleable__label-arrow\">SVC</label><div class=\"sk-toggleable__content\"><pre>SVC()</pre></div></div></div></div></div></div></div></div></div></div>"
      ],
      "text/plain": [
       "GridSearchCV(estimator=SVC(),\n",
       "             param_grid={'gamma': array([1.00230524e+000, 1.29419584e+011, 1.67109061e+022, 2.15774441e+033,\n",
       "       2.78612117e+044, 3.59749335e+055, 4.64515275e+066, 5.99791076e+077,\n",
       "       7.74461798e+088, 1.00000000e+100])})"
      ]
     },
     "execution_count": 74,
     "metadata": {},
     "output_type": "execute_result"
    }
   ],
   "source": [
    "classifier_grid.fit(train_x, train_y)"
   ]
  },
  {
   "cell_type": "code",
   "execution_count": 75,
   "id": "711438d7-ed46-4cef-bd27-cdaec40fb5ab",
   "metadata": {
    "execution": {
     "iopub.execute_input": "2023-05-31T12:20:46.665173Z",
     "iopub.status.busy": "2023-05-31T12:20:46.663163Z",
     "iopub.status.idle": "2023-05-31T12:20:46.749197Z",
     "shell.execute_reply": "2023-05-31T12:20:46.749197Z",
     "shell.execute_reply.started": "2023-05-31T12:20:46.665173Z"
    }
   },
   "outputs": [
    {
     "data": {
      "text/plain": [
       "array([[ 6.04883779,  5.03059309,  9.13080169, ...,  1.94775409,\n",
       "        -0.18764523,  3.00966903],\n",
       "       [ 6.04883779,  5.03059309,  9.13080169, ...,  1.94775409,\n",
       "        -0.18764523,  3.00966903],\n",
       "       [ 6.04883779,  5.03059309,  9.13080169, ...,  1.94775409,\n",
       "        -0.18764523,  3.00966903],\n",
       "       ...,\n",
       "       [ 6.04883779,  5.03059309,  9.13080169, ...,  1.94775409,\n",
       "        -0.18764523,  3.00966903],\n",
       "       [ 6.04883779,  5.03059309,  9.13080169, ...,  1.94775409,\n",
       "        -0.18764523,  3.00966903],\n",
       "       [ 6.04883779,  5.03059309,  9.13080169, ...,  1.94775409,\n",
       "        -0.18764523,  3.00966903]])"
      ]
     },
     "execution_count": 75,
     "metadata": {},
     "output_type": "execute_result"
    }
   ],
   "source": [
    "classifier_grid.decision_function(test_x)"
   ]
  },
  {
   "cell_type": "code",
   "execution_count": 76,
   "id": "720d6c1e-b201-4efb-b8be-39209e3275db",
   "metadata": {
    "execution": {
     "iopub.execute_input": "2023-05-31T12:20:50.121882Z",
     "iopub.status.busy": "2023-05-31T12:20:50.121882Z",
     "iopub.status.idle": "2023-05-31T12:20:50.136490Z",
     "shell.execute_reply": "2023-05-31T12:20:50.136490Z",
     "shell.execute_reply.started": "2023-05-31T12:20:50.121882Z"
    }
   },
   "outputs": [
    {
     "data": {
      "text/html": [
       "<style>#sk-container-id-8 {color: black;background-color: white;}#sk-container-id-8 pre{padding: 0;}#sk-container-id-8 div.sk-toggleable {background-color: white;}#sk-container-id-8 label.sk-toggleable__label {cursor: pointer;display: block;width: 100%;margin-bottom: 0;padding: 0.3em;box-sizing: border-box;text-align: center;}#sk-container-id-8 label.sk-toggleable__label-arrow:before {content: \"▸\";float: left;margin-right: 0.25em;color: #696969;}#sk-container-id-8 label.sk-toggleable__label-arrow:hover:before {color: black;}#sk-container-id-8 div.sk-estimator:hover label.sk-toggleable__label-arrow:before {color: black;}#sk-container-id-8 div.sk-toggleable__content {max-height: 0;max-width: 0;overflow: hidden;text-align: left;background-color: #f0f8ff;}#sk-container-id-8 div.sk-toggleable__content pre {margin: 0.2em;color: black;border-radius: 0.25em;background-color: #f0f8ff;}#sk-container-id-8 input.sk-toggleable__control:checked~div.sk-toggleable__content {max-height: 200px;max-width: 100%;overflow: auto;}#sk-container-id-8 input.sk-toggleable__control:checked~label.sk-toggleable__label-arrow:before {content: \"▾\";}#sk-container-id-8 div.sk-estimator input.sk-toggleable__control:checked~label.sk-toggleable__label {background-color: #d4ebff;}#sk-container-id-8 div.sk-label input.sk-toggleable__control:checked~label.sk-toggleable__label {background-color: #d4ebff;}#sk-container-id-8 input.sk-hidden--visually {border: 0;clip: rect(1px 1px 1px 1px);clip: rect(1px, 1px, 1px, 1px);height: 1px;margin: -1px;overflow: hidden;padding: 0;position: absolute;width: 1px;}#sk-container-id-8 div.sk-estimator {font-family: monospace;background-color: #f0f8ff;border: 1px dotted black;border-radius: 0.25em;box-sizing: border-box;margin-bottom: 0.5em;}#sk-container-id-8 div.sk-estimator:hover {background-color: #d4ebff;}#sk-container-id-8 div.sk-parallel-item::after {content: \"\";width: 100%;border-bottom: 1px solid gray;flex-grow: 1;}#sk-container-id-8 div.sk-label:hover label.sk-toggleable__label {background-color: #d4ebff;}#sk-container-id-8 div.sk-serial::before {content: \"\";position: absolute;border-left: 1px solid gray;box-sizing: border-box;top: 0;bottom: 0;left: 50%;z-index: 0;}#sk-container-id-8 div.sk-serial {display: flex;flex-direction: column;align-items: center;background-color: white;padding-right: 0.2em;padding-left: 0.2em;position: relative;}#sk-container-id-8 div.sk-item {position: relative;z-index: 1;}#sk-container-id-8 div.sk-parallel {display: flex;align-items: stretch;justify-content: center;background-color: white;position: relative;}#sk-container-id-8 div.sk-item::before, #sk-container-id-8 div.sk-parallel-item::before {content: \"\";position: absolute;border-left: 1px solid gray;box-sizing: border-box;top: 0;bottom: 0;left: 50%;z-index: -1;}#sk-container-id-8 div.sk-parallel-item {display: flex;flex-direction: column;z-index: 1;position: relative;background-color: white;}#sk-container-id-8 div.sk-parallel-item:first-child::after {align-self: flex-end;width: 50%;}#sk-container-id-8 div.sk-parallel-item:last-child::after {align-self: flex-start;width: 50%;}#sk-container-id-8 div.sk-parallel-item:only-child::after {width: 0;}#sk-container-id-8 div.sk-dashed-wrapped {border: 1px dashed gray;margin: 0 0.4em 0.5em 0.4em;box-sizing: border-box;padding-bottom: 0.4em;background-color: white;}#sk-container-id-8 div.sk-label label {font-family: monospace;font-weight: bold;display: inline-block;line-height: 1.2em;}#sk-container-id-8 div.sk-label-container {text-align: center;}#sk-container-id-8 div.sk-container {/* jupyter's `normalize.less` sets `[hidden] { display: none; }` but bootstrap.min.css set `[hidden] { display: none !important; }` so we also need the `!important` here to be able to override the default hidden behavior on the sphinx rendered scikit-learn.org. See: https://github.com/scikit-learn/scikit-learn/issues/21755 */display: inline-block !important;position: relative;}#sk-container-id-8 div.sk-text-repr-fallback {display: none;}</style><div id=\"sk-container-id-8\" class=\"sk-top-container\"><div class=\"sk-text-repr-fallback\"><pre>SVC(gamma=1.0023052380778996)</pre><b>In a Jupyter environment, please rerun this cell to show the HTML representation or trust the notebook. <br />On GitHub, the HTML representation is unable to render, please try loading this page with nbviewer.org.</b></div><div class=\"sk-container\" hidden><div class=\"sk-item\"><div class=\"sk-estimator sk-toggleable\"><input class=\"sk-toggleable__control sk-hidden--visually\" id=\"sk-estimator-id-18\" type=\"checkbox\" checked><label for=\"sk-estimator-id-18\" class=\"sk-toggleable__label sk-toggleable__label-arrow\">SVC</label><div class=\"sk-toggleable__content\"><pre>SVC(gamma=1.0023052380778996)</pre></div></div></div></div></div>"
      ],
      "text/plain": [
       "SVC(gamma=1.0023052380778996)"
      ]
     },
     "execution_count": 76,
     "metadata": {},
     "output_type": "execute_result"
    }
   ],
   "source": [
    "classifier_grid.best_estimator_"
   ]
  },
  {
   "cell_type": "code",
   "execution_count": 77,
   "id": "db73f9f9-0b24-4a79-98aa-2a1d25855f43",
   "metadata": {
    "execution": {
     "iopub.execute_input": "2023-05-31T12:20:52.489593Z",
     "iopub.status.busy": "2023-05-31T12:20:52.489593Z",
     "iopub.status.idle": "2023-05-31T12:20:52.500580Z",
     "shell.execute_reply": "2023-05-31T12:20:52.500469Z",
     "shell.execute_reply.started": "2023-05-31T12:20:52.489593Z"
    }
   },
   "outputs": [
    {
     "data": {
      "text/plain": [
       "{'gamma': 1.0023052380778996}"
      ]
     },
     "execution_count": 77,
     "metadata": {},
     "output_type": "execute_result"
    }
   ],
   "source": [
    "classifier_grid.best_params_"
   ]
  },
  {
   "cell_type": "code",
   "execution_count": 78,
   "id": "abac3624-fed7-4bcf-b45e-9b502b5c971c",
   "metadata": {
    "execution": {
     "iopub.execute_input": "2023-05-31T12:20:53.760978Z",
     "iopub.status.busy": "2023-05-31T12:20:53.760978Z",
     "iopub.status.idle": "2023-05-31T12:20:53.780749Z",
     "shell.execute_reply": "2023-05-31T12:20:53.780749Z",
     "shell.execute_reply.started": "2023-05-31T12:20:53.760978Z"
    }
   },
   "outputs": [
    {
     "data": {
      "text/plain": [
       "0.1069062370921107"
      ]
     },
     "execution_count": 78,
     "metadata": {},
     "output_type": "execute_result"
    }
   ],
   "source": [
    "classifier_grid.best_score_"
   ]
  },
  {
   "cell_type": "code",
   "execution_count": null,
   "id": "05dd6b9f-bbd3-4d53-a780-79b783649c48",
   "metadata": {},
   "outputs": [],
   "source": []
  },
  {
   "cell_type": "raw",
   "id": "cce8de1d-83ec-497c-a91a-89d8b8aefb72",
   "metadata": {
    "execution": {
     "iopub.execute_input": "2023-05-31T12:21:27.792602Z",
     "iopub.status.busy": "2023-05-31T12:21:27.792602Z",
     "iopub.status.idle": "2023-05-31T12:21:30.821872Z",
     "shell.execute_reply": "2023-05-31T12:21:30.821872Z",
     "shell.execute_reply.started": "2023-05-31T12:21:27.792602Z"
    }
   },
   "source": [
    "# Errors -> Multiclass classifications are not supported.\n",
    "\n",
    "classifier_grid = GridSearchCV(estimator = svClassifier, param_grid = params, scoring = \"roc_auc\")\n",
    "classifier_grid.fit(train_x, train_y)"
   ]
  },
  {
   "cell_type": "code",
   "execution_count": 86,
   "id": "533c059d-f575-402f-a5e1-0596f832ea90",
   "metadata": {
    "execution": {
     "iopub.execute_input": "2023-05-31T12:24:48.126764Z",
     "iopub.status.busy": "2023-05-31T12:24:48.126764Z",
     "iopub.status.idle": "2023-05-31T12:24:48.143588Z",
     "shell.execute_reply": "2023-05-31T12:24:48.142974Z",
     "shell.execute_reply.started": "2023-05-31T12:24:48.126764Z"
    }
   },
   "outputs": [
    {
     "data": {
      "text/plain": [
       "['accuracy',\n",
       " 'adjusted_mutual_info_score',\n",
       " 'adjusted_rand_score',\n",
       " 'average_precision',\n",
       " 'balanced_accuracy',\n",
       " 'completeness_score',\n",
       " 'explained_variance',\n",
       " 'f1',\n",
       " 'f1_macro',\n",
       " 'f1_micro',\n",
       " 'f1_samples',\n",
       " 'f1_weighted',\n",
       " 'fowlkes_mallows_score',\n",
       " 'homogeneity_score',\n",
       " 'jaccard',\n",
       " 'jaccard_macro',\n",
       " 'jaccard_micro',\n",
       " 'jaccard_samples',\n",
       " 'jaccard_weighted',\n",
       " 'matthews_corrcoef',\n",
       " 'max_error',\n",
       " 'mutual_info_score',\n",
       " 'neg_brier_score',\n",
       " 'neg_log_loss',\n",
       " 'neg_mean_absolute_error',\n",
       " 'neg_mean_absolute_percentage_error',\n",
       " 'neg_mean_gamma_deviance',\n",
       " 'neg_mean_poisson_deviance',\n",
       " 'neg_mean_squared_error',\n",
       " 'neg_mean_squared_log_error',\n",
       " 'neg_median_absolute_error',\n",
       " 'neg_negative_likelihood_ratio',\n",
       " 'neg_root_mean_squared_error',\n",
       " 'normalized_mutual_info_score',\n",
       " 'positive_likelihood_ratio',\n",
       " 'precision',\n",
       " 'precision_macro',\n",
       " 'precision_micro',\n",
       " 'precision_samples',\n",
       " 'precision_weighted',\n",
       " 'r2',\n",
       " 'rand_score',\n",
       " 'recall',\n",
       " 'recall_macro',\n",
       " 'recall_micro',\n",
       " 'recall_samples',\n",
       " 'recall_weighted',\n",
       " 'roc_auc',\n",
       " 'roc_auc_ovo',\n",
       " 'roc_auc_ovo_weighted',\n",
       " 'roc_auc_ovr',\n",
       " 'roc_auc_ovr_weighted',\n",
       " 'top_k_accuracy',\n",
       " 'v_measure_score']"
      ]
     },
     "execution_count": 86,
     "metadata": {},
     "output_type": "execute_result"
    }
   ],
   "source": [
    "# There are many metrics supported by the \"scoring\" parameter.\n",
    "\n",
    "get_scorer_names()"
   ]
  },
  {
   "cell_type": "code",
   "execution_count": null,
   "id": "213618d7-81ca-4bba-8338-394b0b0828f7",
   "metadata": {},
   "outputs": [],
   "source": []
  },
  {
   "cell_type": "code",
   "execution_count": 89,
   "id": "6412826c-c63b-447b-a7bc-fa0cf26e64fb",
   "metadata": {
    "execution": {
     "iopub.execute_input": "2023-05-31T12:27:09.076489Z",
     "iopub.status.busy": "2023-05-31T12:27:09.076489Z",
     "iopub.status.idle": "2023-05-31T12:27:09.092954Z",
     "shell.execute_reply": "2023-05-31T12:27:09.092954Z",
     "shell.execute_reply.started": "2023-05-31T12:27:09.076489Z"
    }
   },
   "outputs": [],
   "source": [
    "# A classifier's decision boundary changes when it is optimized for a specific evaluation metric."
   ]
  },
  {
   "cell_type": "code",
   "execution_count": 91,
   "id": "07d38dec-919e-4ed6-b37f-f29693a1d244",
   "metadata": {
    "execution": {
     "iopub.execute_input": "2023-05-31T12:27:33.460249Z",
     "iopub.status.busy": "2023-05-31T12:27:33.460249Z",
     "iopub.status.idle": "2023-05-31T12:27:33.477512Z",
     "shell.execute_reply": "2023-05-31T12:27:33.477512Z",
     "shell.execute_reply.started": "2023-05-31T12:27:33.460249Z"
    }
   },
   "outputs": [],
   "source": [
    "train_x, test_x, train_y, test_y = train_test_split(digits.data, digits.target, train_size = 0.75)"
   ]
  },
  {
   "cell_type": "code",
   "execution_count": 96,
   "id": "bcfa81f5-eeb2-4dd4-97f5-550e059dace4",
   "metadata": {
    "execution": {
     "iopub.execute_input": "2023-05-31T12:30:15.399317Z",
     "iopub.status.busy": "2023-05-31T12:30:15.399317Z",
     "iopub.status.idle": "2023-05-31T12:30:15.409412Z",
     "shell.execute_reply": "2023-05-31T12:30:15.408891Z",
     "shell.execute_reply.started": "2023-05-31T12:30:15.399317Z"
    }
   },
   "outputs": [
    {
     "data": {
      "text/plain": [
       "(1347, 64)"
      ]
     },
     "execution_count": 96,
     "metadata": {},
     "output_type": "execute_result"
    }
   ],
   "source": [
    "train_x.shape"
   ]
  },
  {
   "cell_type": "code",
   "execution_count": 97,
   "id": "fba9f9fb-7a5f-4923-917f-7dc09441633f",
   "metadata": {
    "execution": {
     "iopub.execute_input": "2023-05-31T12:30:30.583883Z",
     "iopub.status.busy": "2023-05-31T12:30:30.583883Z",
     "iopub.status.idle": "2023-05-31T12:30:30.593392Z",
     "shell.execute_reply": "2023-05-31T12:30:30.593392Z",
     "shell.execute_reply.started": "2023-05-31T12:30:30.583883Z"
    }
   },
   "outputs": [
    {
     "data": {
      "text/plain": [
       "array([[10., 16.],\n",
       "       [16., 16.],\n",
       "       [14.,  0.],\n",
       "       ...,\n",
       "       [14., 13.],\n",
       "       [ 6., 16.],\n",
       "       [16., 11.]])"
      ]
     },
     "execution_count": 97,
     "metadata": {},
     "output_type": "execute_result"
    }
   ],
   "source": [
    "# all rows, 2 columns\n",
    "\n",
    "train_x[:, [20, 59]]"
   ]
  },
  {
   "cell_type": "code",
   "execution_count": 98,
   "id": "9a6f33f0-24aa-44ea-9e97-a896bb658efc",
   "metadata": {
    "execution": {
     "iopub.execute_input": "2023-05-31T12:32:34.687707Z",
     "iopub.status.busy": "2023-05-31T12:32:34.687707Z",
     "iopub.status.idle": "2023-05-31T12:32:34.735982Z",
     "shell.execute_reply": "2023-05-31T12:32:34.735982Z",
     "shell.execute_reply.started": "2023-05-31T12:32:34.687707Z"
    }
   },
   "outputs": [],
   "source": [
    "JITTER = 0.125\n",
    "\n",
    "x_train = train_x[:, [20, 59]] + np.random.rand(train_x.shape[0], 2) - JITTER\n",
    "x_test = test_x[:, [20, 59]] + np.random.rand(test_x.shape[0], 2) - JITTER"
   ]
  },
  {
   "cell_type": "code",
   "execution_count": 101,
   "id": "c12fe4e5-4e81-48ae-be0d-ec524916ea97",
   "metadata": {
    "execution": {
     "iopub.execute_input": "2023-05-31T12:37:24.356569Z",
     "iopub.status.busy": "2023-05-31T12:37:24.356569Z",
     "iopub.status.idle": "2023-05-31T12:37:24.375199Z",
     "shell.execute_reply": "2023-05-31T12:37:24.375101Z",
     "shell.execute_reply.started": "2023-05-31T12:37:24.356569Z"
    }
   },
   "outputs": [],
   "source": [
    "svc = SVC(kernel = \"linear\")"
   ]
  },
  {
   "cell_type": "code",
   "execution_count": 102,
   "id": "d0a7aa9d-7b2f-4051-a394-a8ba45489d07",
   "metadata": {
    "execution": {
     "iopub.execute_input": "2023-05-31T12:37:25.395496Z",
     "iopub.status.busy": "2023-05-31T12:37:25.395496Z",
     "iopub.status.idle": "2023-05-31T12:37:25.404026Z",
     "shell.execute_reply": "2023-05-31T12:37:25.403512Z",
     "shell.execute_reply.started": "2023-05-31T12:37:25.395496Z"
    }
   },
   "outputs": [],
   "source": [
    "gparams = {\"class_weight\": [\"balanced\", {1: 2}, {1: 3}, {1: 4}, {1: 5}, {1: 10}, {1: 20}, {1: 50}]}"
   ]
  },
  {
   "cell_type": "raw",
   "id": "b654d171-0f63-4155-8050-af90ce3fb2f0",
   "metadata": {
    "execution": {
     "iopub.execute_input": "2023-05-31T12:41:33.817833Z",
     "iopub.status.busy": "2023-05-31T12:41:33.817833Z",
     "iopub.status.idle": "2023-05-31T12:41:49.156436Z",
     "shell.execute_reply": "2023-05-31T12:41:49.156436Z",
     "shell.execute_reply.started": "2023-05-31T12:41:33.817833Z"
    }
   },
   "source": [
    "for metric in [\"precision_micro\", \"recall_micro\", \"f1_micro\", \"roc_auc\"]:\n",
    "    classifier_grid = GridSearchCV(estimator = svc, param_grid = gparams, scoring = metric)\n",
    "    classifier_grid.fit(x_train, train_y)\n",
    "    print(classifier_grid.best_estimator_)\n",
    "    print(classifier_grid.best_params_)\n",
    "    print(classifier_grid.best_score_)"
   ]
  },
  {
   "cell_type": "code",
   "execution_count": null,
   "id": "38ea9e85-a7d7-48d9-9956-606e0c28970c",
   "metadata": {},
   "outputs": [],
   "source": []
  },
  {
   "cell_type": "markdown",
   "id": "6bde85f9-87bf-4afc-8526-4b9b5b19674a",
   "metadata": {},
   "source": [
    "## ___Precision - Recall Tradeoff___\n",
    "------------------"
   ]
  },
  {
   "cell_type": "code",
   "execution_count": 111,
   "id": "1dbaf778-4085-48aa-a974-430646c51318",
   "metadata": {
    "execution": {
     "iopub.execute_input": "2023-05-31T12:47:53.345005Z",
     "iopub.status.busy": "2023-05-31T12:47:53.345005Z",
     "iopub.status.idle": "2023-05-31T12:47:53.352025Z",
     "shell.execute_reply": "2023-05-31T12:47:53.351513Z",
     "shell.execute_reply.started": "2023-05-31T12:47:53.345005Z"
    }
   },
   "outputs": [],
   "source": [
    "train_x, test_x, train_y, test_y = train_test_split(digits.data, digits.target, train_size = 0.65)\n",
    "JITTER = 0.125\n",
    "x_train = train_x[:, [20, 59]] + np.random.rand(train_x.shape[0], 2) - JITTER\n",
    "x_test = test_x[:, [20, 59]] + np.random.rand(test_x.shape[0], 2) - JITTER"
   ]
  },
  {
   "cell_type": "code",
   "execution_count": 113,
   "id": "ec9167e1-f1e4-4e70-82ac-7edb1668a036",
   "metadata": {
    "execution": {
     "iopub.execute_input": "2023-05-31T12:49:06.685555Z",
     "iopub.status.busy": "2023-05-31T12:49:06.685555Z",
     "iopub.status.idle": "2023-05-31T12:49:06.780337Z",
     "shell.execute_reply": "2023-05-31T12:49:06.780337Z",
     "shell.execute_reply.started": "2023-05-31T12:49:06.685555Z"
    }
   },
   "outputs": [],
   "source": [
    "svc = SVC(kernel = \"linear\", class_weight = \"balanced\").fit(x_train, train_y)"
   ]
  },
  {
   "cell_type": "code",
   "execution_count": 115,
   "id": "1f35cb47-3bb3-4e95-bd98-141ffc56112b",
   "metadata": {
    "execution": {
     "iopub.execute_input": "2023-05-31T12:49:49.324912Z",
     "iopub.status.busy": "2023-05-31T12:49:49.324912Z",
     "iopub.status.idle": "2023-05-31T12:49:49.363077Z",
     "shell.execute_reply": "2023-05-31T12:49:49.362560Z",
     "shell.execute_reply.started": "2023-05-31T12:49:49.324912Z"
    }
   },
   "outputs": [],
   "source": [
    "pred_probs = svc.decision_function(x_test)"
   ]
  },
  {
   "cell_type": "code",
   "execution_count": 116,
   "id": "c5950c86-73e9-492d-9282-15b00a5a9d06",
   "metadata": {
    "execution": {
     "iopub.execute_input": "2023-05-31T12:50:09.333491Z",
     "iopub.status.busy": "2023-05-31T12:50:09.333491Z",
     "iopub.status.idle": "2023-05-31T12:50:09.406746Z",
     "shell.execute_reply": "2023-05-31T12:50:09.406746Z",
     "shell.execute_reply.started": "2023-05-31T12:50:09.333491Z"
    }
   },
   "outputs": [
    {
     "ename": "ValueError",
     "evalue": "multiclass format is not supported",
     "output_type": "error",
     "traceback": [
      "\u001b[1;31m---------------------------------------------------------------------------\u001b[0m",
      "\u001b[1;31mValueError\u001b[0m                                Traceback (most recent call last)",
      "Cell \u001b[1;32mIn[116], line 1\u001b[0m\n\u001b[1;32m----> 1\u001b[0m \u001b[43mprecision_recall_curve\u001b[49m\u001b[43m(\u001b[49m\u001b[43mtest_y\u001b[49m\u001b[43m,\u001b[49m\u001b[43m \u001b[49m\u001b[43mpred_probs\u001b[49m\u001b[43m)\u001b[49m\n",
      "File \u001b[1;32mC:\\Program Files\\Python311\\Lib\\site-packages\\sklearn\\metrics\\_ranking.py:878\u001b[0m, in \u001b[0;36mprecision_recall_curve\u001b[1;34m(y_true, probas_pred, pos_label, sample_weight)\u001b[0m\n\u001b[0;32m    797\u001b[0m \u001b[38;5;28;01mdef\u001b[39;00m \u001b[38;5;21mprecision_recall_curve\u001b[39m(y_true, probas_pred, \u001b[38;5;241m*\u001b[39m, pos_label\u001b[38;5;241m=\u001b[39m\u001b[38;5;28;01mNone\u001b[39;00m, sample_weight\u001b[38;5;241m=\u001b[39m\u001b[38;5;28;01mNone\u001b[39;00m):\n\u001b[0;32m    798\u001b[0m \u001b[38;5;250m    \u001b[39m\u001b[38;5;124;03m\"\"\"Compute precision-recall pairs for different probability thresholds.\u001b[39;00m\n\u001b[0;32m    799\u001b[0m \n\u001b[0;32m    800\u001b[0m \u001b[38;5;124;03m    Note: this implementation is restricted to the binary classification task.\u001b[39;00m\n\u001b[1;32m   (...)\u001b[0m\n\u001b[0;32m    876\u001b[0m \u001b[38;5;124;03m    array([0.1 , 0.35, 0.4 , 0.8 ])\u001b[39;00m\n\u001b[0;32m    877\u001b[0m \u001b[38;5;124;03m    \"\"\"\u001b[39;00m\n\u001b[1;32m--> 878\u001b[0m     fps, tps, thresholds \u001b[38;5;241m=\u001b[39m \u001b[43m_binary_clf_curve\u001b[49m\u001b[43m(\u001b[49m\n\u001b[0;32m    879\u001b[0m \u001b[43m        \u001b[49m\u001b[43my_true\u001b[49m\u001b[43m,\u001b[49m\u001b[43m \u001b[49m\u001b[43mprobas_pred\u001b[49m\u001b[43m,\u001b[49m\u001b[43m \u001b[49m\u001b[43mpos_label\u001b[49m\u001b[38;5;241;43m=\u001b[39;49m\u001b[43mpos_label\u001b[49m\u001b[43m,\u001b[49m\u001b[43m \u001b[49m\u001b[43msample_weight\u001b[49m\u001b[38;5;241;43m=\u001b[39;49m\u001b[43msample_weight\u001b[49m\n\u001b[0;32m    880\u001b[0m \u001b[43m    \u001b[49m\u001b[43m)\u001b[49m\n\u001b[0;32m    882\u001b[0m     ps \u001b[38;5;241m=\u001b[39m tps \u001b[38;5;241m+\u001b[39m fps\n\u001b[0;32m    883\u001b[0m     \u001b[38;5;66;03m# Initialize the result array with zeros to make sure that precision[ps == 0]\u001b[39;00m\n\u001b[0;32m    884\u001b[0m     \u001b[38;5;66;03m# does not contain uninitialized values.\u001b[39;00m\n",
      "File \u001b[1;32mC:\\Program Files\\Python311\\Lib\\site-packages\\sklearn\\metrics\\_ranking.py:749\u001b[0m, in \u001b[0;36m_binary_clf_curve\u001b[1;34m(y_true, y_score, pos_label, sample_weight)\u001b[0m\n\u001b[0;32m    747\u001b[0m y_type \u001b[38;5;241m=\u001b[39m type_of_target(y_true, input_name\u001b[38;5;241m=\u001b[39m\u001b[38;5;124m\"\u001b[39m\u001b[38;5;124my_true\u001b[39m\u001b[38;5;124m\"\u001b[39m)\n\u001b[0;32m    748\u001b[0m \u001b[38;5;28;01mif\u001b[39;00m \u001b[38;5;129;01mnot\u001b[39;00m (y_type \u001b[38;5;241m==\u001b[39m \u001b[38;5;124m\"\u001b[39m\u001b[38;5;124mbinary\u001b[39m\u001b[38;5;124m\"\u001b[39m \u001b[38;5;129;01mor\u001b[39;00m (y_type \u001b[38;5;241m==\u001b[39m \u001b[38;5;124m\"\u001b[39m\u001b[38;5;124mmulticlass\u001b[39m\u001b[38;5;124m\"\u001b[39m \u001b[38;5;129;01mand\u001b[39;00m pos_label \u001b[38;5;129;01mis\u001b[39;00m \u001b[38;5;129;01mnot\u001b[39;00m \u001b[38;5;28;01mNone\u001b[39;00m)):\n\u001b[1;32m--> 749\u001b[0m     \u001b[38;5;28;01mraise\u001b[39;00m \u001b[38;5;167;01mValueError\u001b[39;00m(\u001b[38;5;124m\"\u001b[39m\u001b[38;5;132;01m{0}\u001b[39;00m\u001b[38;5;124m format is not supported\u001b[39m\u001b[38;5;124m\"\u001b[39m\u001b[38;5;241m.\u001b[39mformat(y_type))\n\u001b[0;32m    751\u001b[0m check_consistent_length(y_true, y_score, sample_weight)\n\u001b[0;32m    752\u001b[0m y_true \u001b[38;5;241m=\u001b[39m column_or_1d(y_true)\n",
      "\u001b[1;31mValueError\u001b[0m: multiclass format is not supported"
     ]
    }
   ],
   "source": [
    "precision_recall_curve(test_y, pred_probs)"
   ]
  },
  {
   "cell_type": "code",
   "execution_count": 117,
   "id": "df2209ff-f26c-4fcd-a94b-71c6b7d2cadc",
   "metadata": {
    "execution": {
     "iopub.execute_input": "2023-05-31T12:54:18.561667Z",
     "iopub.status.busy": "2023-05-31T12:54:18.560135Z",
     "iopub.status.idle": "2023-05-31T12:54:18.565687Z",
     "shell.execute_reply": "2023-05-31T12:54:18.565687Z",
     "shell.execute_reply.started": "2023-05-31T12:54:18.561667Z"
    }
   },
   "outputs": [],
   "source": [
    "# Man fuck this shit!"
   ]
  },
  {
   "cell_type": "code",
   "execution_count": null,
   "id": "9cdd3f68-f483-42f1-a2cc-306d3ec6314b",
   "metadata": {},
   "outputs": [],
   "source": []
  }
 ],
 "metadata": {
  "kernelspec": {
   "display_name": "Python 3 (ipykernel)",
   "language": "python",
   "name": "python3"
  },
  "language_info": {
   "codemirror_mode": {
    "name": "ipython",
    "version": 3
   },
   "file_extension": ".py",
   "mimetype": "text/x-python",
   "name": "python",
   "nbconvert_exporter": "python",
   "pygments_lexer": "ipython3",
   "version": "3.11.3"
  }
 },
 "nbformat": 4,
 "nbformat_minor": 5
}
