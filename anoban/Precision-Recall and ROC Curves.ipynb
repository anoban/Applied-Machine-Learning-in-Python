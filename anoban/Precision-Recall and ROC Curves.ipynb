{
 "cells": [
  {
   "cell_type": "code",
   "execution_count": 11,
   "id": "b6b10794-fa95-4858-a844-b0824fc3ef36",
   "metadata": {
    "execution": {
     "iopub.execute_input": "2023-05-30T04:11:03.362373Z",
     "iopub.status.busy": "2023-05-30T04:11:03.362373Z",
     "iopub.status.idle": "2023-05-30T04:11:03.380217Z",
     "shell.execute_reply": "2023-05-30T04:11:03.379227Z",
     "shell.execute_reply.started": "2023-05-30T04:11:03.362373Z"
    }
   },
   "outputs": [],
   "source": [
    "import numpy as np\n",
    "import matplotlib.pyplot as plt\n",
    "from sklearn.datasets import load_digits\n",
    "from sklearn.svm import SVC\n",
    "from sklearn.model_selection import train_test_split\n",
    "from sklearn.metrics import (accuracy_score, precision_score, recall_score, precision_recall_curve)"
   ]
  },
  {
   "cell_type": "markdown",
   "id": "b13681bb-62a9-47a0-bd76-35cadc28e7b7",
   "metadata": {},
   "source": [
    "# ___Precision-Recall and ROC Curves___\n",
    "----------------"
   ]
  },
  {
   "cell_type": "code",
   "execution_count": null,
   "id": "f38f561b-dfee-42a1-9b45-da1b520c894d",
   "metadata": {},
   "outputs": [],
   "source": []
  },
  {
   "cell_type": "markdown",
   "id": "93b72eb3-f72b-4fcb-8d83-a94eb25867ba",
   "metadata": {},
   "source": [
    "## ___Precision-Recall Curves___\n",
    "----------"
   ]
  },
  {
   "cell_type": "code",
   "execution_count": 4,
   "id": "b6930942-0aff-423b-93a6-000f5a34212e",
   "metadata": {
    "execution": {
     "iopub.execute_input": "2023-05-29T12:50:59.725839Z",
     "iopub.status.busy": "2023-05-29T12:50:59.725839Z",
     "iopub.status.idle": "2023-05-29T12:50:59.742894Z",
     "shell.execute_reply": "2023-05-29T12:50:59.742527Z",
     "shell.execute_reply.started": "2023-05-29T12:50:59.725839Z"
    }
   },
   "outputs": [],
   "source": [
    "# Precision-Recall curves are very widely used to evaluate performance in ML.\n",
    "# An ideal classifier may be able to provide a precision = 1 and recall = 1\n",
    "# Typically x axes -> precision and y axes -> recall\n",
    "# The closer the curve is to the top right corner (x = 1, y = 1) (max precision, max recall), the better the performance is.\n",
    "# In real-world applications the tradeoff between precision and recall will be obvious.\n",
    "# Steepness of Precision-Recall curves indicates increase in Precision and Recall."
   ]
  },
  {
   "cell_type": "code",
   "execution_count": null,
   "id": "bc583249-32a8-4cb0-8115-8fe19043b242",
   "metadata": {},
   "outputs": [],
   "source": []
  },
  {
   "cell_type": "markdown",
   "id": "4224bbfb-3e84-497d-b525-ea2cc175c61a",
   "metadata": {},
   "source": [
    "## ___Receiver Operating characteristic (ROC) Curves___\n",
    "-------------"
   ]
  },
  {
   "cell_type": "code",
   "execution_count": 5,
   "id": "3078a609-f6a8-4f80-96d5-75fdc06db856",
   "metadata": {
    "execution": {
     "iopub.execute_input": "2023-05-29T12:51:54.519276Z",
     "iopub.status.busy": "2023-05-29T12:51:54.519276Z",
     "iopub.status.idle": "2023-05-29T12:51:54.527807Z",
     "shell.execute_reply": "2023-05-29T12:51:54.527807Z",
     "shell.execute_reply.started": "2023-05-29T12:51:54.519276Z"
    }
   },
   "outputs": [],
   "source": [
    "# ROC curves -> Receiver Operating characteristic curves\n",
    "# ROC curves are very widely used in visualizations methods that illustrate the performance of binary classifiers.\n",
    "\n",
    "# typicall x axis -> FPR\n",
    "# y axis -> TPR\n",
    "\n",
    "# y axis of the ROC curve is just the recall metric.\n",
    "# Steepness of ROC curve indicates maximized TPR and minimized FPR.\n",
    "\n",
    "# An arbitraty random classifier will have a (0, 0), (1, 1) straight line for the curve.\n",
    "# A reasonably good classifier will give a curve that is consistently better than the random classifier."
   ]
  },
  {
   "cell_type": "code",
   "execution_count": null,
   "id": "083d2a1c-096c-4c31-8f62-7073fc6fbd03",
   "metadata": {},
   "outputs": [],
   "source": []
  },
  {
   "cell_type": "markdown",
   "id": "3b3fea52-1f89-4708-8ebb-705162a9acd6",
   "metadata": {},
   "source": [
    "## ___AUC Scores___\n",
    "---------------"
   ]
  },
  {
   "cell_type": "code",
   "execution_count": 2,
   "id": "02059e4b-d081-4499-a21c-38d655872cb3",
   "metadata": {
    "execution": {
     "iopub.execute_input": "2023-05-30T04:08:42.112380Z",
     "iopub.status.busy": "2023-05-30T04:08:42.112380Z",
     "iopub.status.idle": "2023-05-30T04:08:42.121162Z",
     "shell.execute_reply": "2023-05-30T04:08:42.121162Z",
     "shell.execute_reply.started": "2023-05-30T04:08:42.112380Z"
    }
   },
   "outputs": [],
   "source": [
    "# Advantages of AUC over ROC or Precision-Recall curves =>\n",
    "# 1) Gives a single float, easy for comparison\n",
    "# 2) No need to specify a decision threshold.\n",
    "\n",
    "# Shortcomings =>\n",
    "# 1) As with other single number metrics, AOC loses information.\n",
    "# 2) Becomes problemetic when performances of 2 ML models give overlapping ROC curves."
   ]
  },
  {
   "cell_type": "code",
   "execution_count": null,
   "id": "e835a6f4-b5e5-491b-b9a0-a9daba2a2686",
   "metadata": {},
   "outputs": [],
   "source": []
  },
  {
   "cell_type": "code",
   "execution_count": 3,
   "id": "6c4fcf3d-6b72-4e10-917a-07d7a9f0eee2",
   "metadata": {
    "execution": {
     "iopub.execute_input": "2023-05-30T04:08:43.368678Z",
     "iopub.status.busy": "2023-05-30T04:08:43.368678Z",
     "iopub.status.idle": "2023-05-30T04:08:43.400925Z",
     "shell.execute_reply": "2023-05-30T04:08:43.400364Z",
     "shell.execute_reply.started": "2023-05-30T04:08:43.368678Z"
    }
   },
   "outputs": [],
   "source": [
    "digits = load_digits()\n",
    "\n",
    "# Skewing the class distribution.\n",
    "targets = np.array(list(map(lambda x: 0 if x == 0 else 1, digits.target)))"
   ]
  },
  {
   "cell_type": "code",
   "execution_count": 5,
   "id": "641164ed-7c77-45ec-bbef-01e228ddf1a8",
   "metadata": {
    "execution": {
     "iopub.execute_input": "2023-05-30T04:09:05.802451Z",
     "iopub.status.busy": "2023-05-30T04:09:05.802451Z",
     "iopub.status.idle": "2023-05-30T04:09:05.866372Z",
     "shell.execute_reply": "2023-05-30T04:09:05.866372Z",
     "shell.execute_reply.started": "2023-05-30T04:09:05.802451Z"
    }
   },
   "outputs": [],
   "source": [
    "train_x, test_x, train_y, test_y = train_test_split(digits.data, targets, train_size = 0.6)\n",
    "svc = SVC(C = 0.001, kernel = \"rbf\", probability = True).fit(train_x, train_y)"
   ]
  },
  {
   "cell_type": "code",
   "execution_count": 6,
   "id": "61220ca5-ce71-41f2-ab2e-76fbbae31a1d",
   "metadata": {
    "execution": {
     "iopub.execute_input": "2023-05-30T04:09:27.160985Z",
     "iopub.status.busy": "2023-05-30T04:09:27.160985Z",
     "iopub.status.idle": "2023-05-30T04:09:28.549510Z",
     "shell.execute_reply": "2023-05-30T04:09:28.549510Z",
     "shell.execute_reply.started": "2023-05-30T04:09:27.160985Z"
    }
   },
   "outputs": [],
   "source": [
    "# 1 is the label with highest frequency.\n",
    "ascores = []\n",
    "\n",
    "for prob in np.arange(0.01, 1, step = 0.01):\n",
    "    preds = np.array(list(map(lambda lst: 1 if (lst[1] > prob) else 0, svc.predict_proba(test_x))))\n",
    "    labels, counts = np.unique(preds, return_counts = True)\n",
    "    ascore = accuracy_score(test_y, preds)\n",
    "    ascores.append((prob, ascore))"
   ]
  },
  {
   "cell_type": "code",
   "execution_count": 9,
   "id": "d5c5d46a-5a05-4f10-a57d-a3747feaad7a",
   "metadata": {
    "execution": {
     "iopub.execute_input": "2023-05-30T04:09:53.065701Z",
     "iopub.status.busy": "2023-05-30T04:09:53.065701Z",
     "iopub.status.idle": "2023-05-30T04:09:53.085822Z",
     "shell.execute_reply": "2023-05-30T04:09:53.085822Z",
     "shell.execute_reply.started": "2023-05-30T04:09:53.065701Z"
    }
   },
   "outputs": [
    {
     "data": {
      "text/plain": [
       "array([[0.01      , 0.99165508],\n",
       "       [0.02      , 0.99165508],\n",
       "       [0.03      , 0.9930459 ],\n",
       "       [0.04      , 0.99443672],\n",
       "       [0.05      , 0.99443672],\n",
       "       [0.06      , 0.99443672],\n",
       "       [0.07      , 0.99443672],\n",
       "       [0.08      , 0.99443672],\n",
       "       [0.09      , 0.99582754],\n",
       "       [0.1       , 0.99582754]])"
      ]
     },
     "execution_count": 9,
     "metadata": {},
     "output_type": "execute_result"
    }
   ],
   "source": [
    "ascores = np.array(ascores)\n",
    "ascores[:10]"
   ]
  },
  {
   "cell_type": "code",
   "execution_count": null,
   "id": "3c5f4763-aa22-4b16-8f97-2c8eec39478f",
   "metadata": {},
   "outputs": [],
   "source": []
  },
  {
   "cell_type": "code",
   "execution_count": 10,
   "id": "2266ef05-a6b8-45a0-b13e-c925b6441e84",
   "metadata": {
    "execution": {
     "iopub.execute_input": "2023-05-30T04:10:03.369381Z",
     "iopub.status.busy": "2023-05-30T04:10:03.369381Z",
     "iopub.status.idle": "2023-05-30T04:10:03.604635Z",
     "shell.execute_reply": "2023-05-30T04:10:03.604635Z",
     "shell.execute_reply.started": "2023-05-30T04:10:03.369381Z"
    }
   },
   "outputs": [
    {
     "data": {
      "image/png": "[encoded data removed]",
      "text/plain": [
       "<Figure size 700x700 with 1 Axes>"
      ]
     },
     "metadata": {},
     "output_type": "display_data"
    }
   ],
   "source": [
    "fig, axes = plt.subplots()\n",
    "fig.set_size_inches(7, 7)\n",
    "axes.plot(ascores[:, 0], ascores[:, 1], mfc = \"white\", mec = \"black\", linestyle = \"--\", marker = \"o\", ms = 3)\n",
    "axes.set_xlabel(\"Threshold\")\n",
    "axes.set_ylabel(\"$R^{2}\\hspace{1}Score$\")\n",
    "axes.set_title(\"Effect of varying the decision threshold on accuracy score ($R^{2}$)\")\n",
    "plt.show()"
   ]
  },
  {
   "cell_type": "code",
   "execution_count": null,
   "id": "6ce9084e-5123-421a-81ed-4ac7195c3c9e",
   "metadata": {},
   "outputs": [],
   "source": []
  },
  {
   "cell_type": "code",
   "execution_count": 22,
   "id": "604f8df2-5ec2-4438-a0af-387c33430a04",
   "metadata": {
    "execution": {
     "iopub.execute_input": "2023-05-30T04:15:48.881462Z",
     "iopub.status.busy": "2023-05-30T04:15:48.881462Z",
     "iopub.status.idle": "2023-05-30T04:16:04.027031Z",
     "shell.execute_reply": "2023-05-30T04:16:04.027031Z",
     "shell.execute_reply.started": "2023-05-30T04:15:48.881462Z"
    }
   },
   "outputs": [],
   "source": [
    "# Precision-Recall curve\n",
    "precisions = []\n",
    "recalls = []\n",
    "\n",
    "for prob in np.arange(0.01, 1, step = 0.001):\n",
    "    preds = np.array(list(map(lambda lst: 1 if (lst[1] > prob) else 0, svc.predict_proba(test_x))))\n",
    "    labels, counts = np.unique(preds, return_counts = True)\n",
    "    precisions.append(precision_score(test_y, preds))\n",
    "    recalls.append(recall_score(test_y, preds))"
   ]
  },
  {
   "cell_type": "code",
   "execution_count": 23,
   "id": "f12dba9d-44e8-4c7a-bde4-e6194bcccd10",
   "metadata": {
    "execution": {
     "iopub.execute_input": "2023-05-30T04:16:07.055024Z",
     "iopub.status.busy": "2023-05-30T04:16:07.039382Z",
     "iopub.status.idle": "2023-05-30T04:16:07.172951Z",
     "shell.execute_reply": "2023-05-30T04:16:07.172951Z",
     "shell.execute_reply.started": "2023-05-30T04:16:07.055024Z"
    }
   },
   "outputs": [
    {
     "data": {
      "image/png": "[encoded data removed]",
      "text/plain": [
       "<Figure size 700x700 with 1 Axes>"
      ]
     },
     "metadata": {},
     "output_type": "display_data"
    }
   ],
   "source": [
    "fig, axes = plt.subplots()\n",
    "fig.set_size_inches(7, 7)\n",
    "axes.plot(precisions, recalls, mfc = \"white\", mec = \"black\", linestyle = \"--\", marker = \"o\", ms = 5)\n",
    "axes.set_xlabel(\"$Precision$\")\n",
    "axes.set_ylabel(\"$Recall$\")\n",
    "plt.show()"
   ]
  },
  {
   "cell_type": "code",
   "execution_count": null,
   "id": "04c8bf2b-cded-49ef-896d-f90e37af6690",
   "metadata": {},
   "outputs": [],
   "source": []
  }
 ],
 "metadata": {
  "kernelspec": {
   "display_name": "Python 3 (ipykernel)",
   "language": "python",
   "name": "python3"
  },
  "language_info": {
   "codemirror_mode": {
    "name": "ipython",
    "version": 3
   },
   "file_extension": ".py",
   "mimetype": "text/x-python",
   "name": "python",
   "nbconvert_exporter": "python",
   "pygments_lexer": "ipython3",
   "version": "3.11.3"
  }
 },
 "nbformat": 4,
 "nbformat_minor": 5
}
