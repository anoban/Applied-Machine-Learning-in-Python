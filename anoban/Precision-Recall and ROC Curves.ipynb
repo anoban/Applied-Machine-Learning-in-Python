{
 "cells": [
  {
   "cell_type": "markdown",
   "id": "b13681bb-62a9-47a0-bd76-35cadc28e7b7",
   "metadata": {},
   "source": [
    "# ___Precision-Recall and ROC Curves___\n",
    "----------------"
   ]
  },
  {
   "cell_type": "code",
   "execution_count": null,
   "id": "f38f561b-dfee-42a1-9b45-da1b520c894d",
   "metadata": {},
   "outputs": [],
   "source": []
  },
  {
   "cell_type": "markdown",
   "id": "93b72eb3-f72b-4fcb-8d83-a94eb25867ba",
   "metadata": {},
   "source": [
    "## ___Precision-Recall Curves___\n",
    "----------"
   ]
  },
  {
   "cell_type": "code",
   "execution_count": 4,
   "id": "b6930942-0aff-423b-93a6-000f5a34212e",
   "metadata": {
    "execution": {
     "iopub.execute_input": "2023-05-29T12:50:59.725839Z",
     "iopub.status.busy": "2023-05-29T12:50:59.725839Z",
     "iopub.status.idle": "2023-05-29T12:50:59.742894Z",
     "shell.execute_reply": "2023-05-29T12:50:59.742527Z",
     "shell.execute_reply.started": "2023-05-29T12:50:59.725839Z"
    }
   },
   "outputs": [],
   "source": [
    "# Precision-Recall curves are very widely used to evaluate performance in ML.\n",
    "# An ideal classifier may be able to provide a precision = 1 and recall = 1\n",
    "# Typically x axes -> precision and y axes -> recall\n",
    "# The closer the curve is to the top right corner (x = 1, y = 1) (max precision, max recall), the better the performance is.\n",
    "# In real-world applications the tradeoff between precision and recall will be obvious.\n",
    "# Steepness of Precision-Recall curves indicates increase in Precision and Recall."
   ]
  },
  {
   "cell_type": "code",
   "execution_count": null,
   "id": "bc583249-32a8-4cb0-8115-8fe19043b242",
   "metadata": {},
   "outputs": [],
   "source": []
  },
  {
   "cell_type": "markdown",
   "id": "4224bbfb-3e84-497d-b525-ea2cc175c61a",
   "metadata": {},
   "source": [
    "## ___Receiver Operating characteristic (ROC) Curves___\n",
    "-------------"
   ]
  },
  {
   "cell_type": "code",
   "execution_count": 5,
   "id": "3078a609-f6a8-4f80-96d5-75fdc06db856",
   "metadata": {
    "execution": {
     "iopub.execute_input": "2023-05-29T12:51:54.519276Z",
     "iopub.status.busy": "2023-05-29T12:51:54.519276Z",
     "iopub.status.idle": "2023-05-29T12:51:54.527807Z",
     "shell.execute_reply": "2023-05-29T12:51:54.527807Z",
     "shell.execute_reply.started": "2023-05-29T12:51:54.519276Z"
    }
   },
   "outputs": [],
   "source": [
    "# ROC curves -> Receiver Operating characteristic curves\n",
    "# ROC curves are very widely used in visualizations methods that illustrate the performance of binary classifiers.\n",
    "\n",
    "# typicall x axis -> FPR\n",
    "# y axis -> TPR\n",
    "\n",
    "# y axis of the ROC curve is just the recall metric.\n",
    "# Steepness of ROC curve indicates maximized TPR and minimized FPR.\n",
    "\n",
    "# An arbitraty random classifier will have a (0, 0), (1, 1) straight line for the curve.\n",
    "# A reasonably good classifier will give a curve that is consistently better than the random classifier."
   ]
  },
  {
   "cell_type": "code",
   "execution_count": null,
   "id": "083d2a1c-096c-4c31-8f62-7073fc6fbd03",
   "metadata": {},
   "outputs": [],
   "source": []
  },
  {
   "cell_type": "markdown",
   "id": "3b3fea52-1f89-4708-8ebb-705162a9acd6",
   "metadata": {},
   "source": [
    "## ___AUC Scores___\n",
    "---------------"
   ]
  },
  {
   "cell_type": "code",
   "execution_count": null,
   "id": "02059e4b-d081-4499-a21c-38d655872cb3",
   "metadata": {},
   "outputs": [],
   "source": [
    "# Advantages of AUC over ROC or Precision-Recall curves =>\n",
    "# 1) Gives a single float, easy for comparison\n",
    "# 2) No need to specify a decision threshold.\n",
    "\n",
    "# Shortcomings =>\n",
    "# 1) As with other single number metrics, AOC loses information.\n",
    "# 2) Becomes problemetic when performances of 2 ML models give overlapping ROC curves."
   ]
  }
 ],
 "metadata": {
  "kernelspec": {
   "display_name": "Python 3 (ipykernel)",
   "language": "python",
   "name": "python3"
  },
  "language_info": {
   "codemirror_mode": {
    "name": "ipython",
    "version": 3
   },
   "file_extension": ".py",
   "mimetype": "text/x-python",
   "name": "python",
   "nbconvert_exporter": "python",
   "pygments_lexer": "ipython3",
   "version": "3.11.3"
  }
 },
 "nbformat": 4,
 "nbformat_minor": 5
}
