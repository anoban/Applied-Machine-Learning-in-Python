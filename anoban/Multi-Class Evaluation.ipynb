{
 "cells": [
  {
   "cell_type": "code",
   "execution_count": 85,
   "id": "74cce612-5182-4b6a-840a-ceca9b0f6cec",
   "metadata": {
    "execution": {
     "iopub.execute_input": "2023-05-30T21:34:58.020335Z",
     "iopub.status.busy": "2023-05-30T21:34:58.020335Z",
     "iopub.status.idle": "2023-05-30T21:34:59.443679Z",
     "shell.execute_reply": "2023-05-30T21:34:59.443679Z",
     "shell.execute_reply.started": "2023-05-30T21:34:58.020335Z"
    }
   },
   "outputs": [],
   "source": [
    "import numpy as np\n",
    "import numpy.typing as npt\n",
    "import matplotlib.pyplot as plt\n",
    "import pandas as pd\n",
    "\n",
    "from sklearn.datasets import load_digits\n",
    "from sklearn.linear_model import LogisticRegression\n",
    "from sklearn.svm import SVC\n",
    "from sklearn.model_selection import train_test_split\n",
    "from sklearn.metrics import (confusion_matrix, classification_report)"
   ]
  },
  {
   "cell_type": "markdown",
   "id": "497a9641-268e-45c6-957a-9952640275b5",
   "metadata": {},
   "source": [
    "# ___Multi-Class Evaluation___\n",
    "---------------"
   ]
  },
  {
   "cell_type": "code",
   "execution_count": 4,
   "id": "714a5579-395c-470a-a414-d75484fbc989",
   "metadata": {
    "execution": {
     "iopub.execute_input": "2023-05-30T20:42:32.427087Z",
     "iopub.status.busy": "2023-05-30T20:42:32.427087Z",
     "iopub.status.idle": "2023-05-30T20:42:32.432929Z",
     "shell.execute_reply": "2023-05-30T20:42:32.432929Z",
     "shell.execute_reply.started": "2023-05-30T20:42:32.427087Z"
    }
   },
   "outputs": [],
   "source": [
    "# Multi class evaluation is a straightforward extension of the binary use case.\n",
    "# It will give a collection of true vs predicted binary outcomes -> one per class.\n",
    "# Confusion matrices are also possible.\n",
    "# Classification reports.\n",
    "\n",
    "# Overall metrics are averages across classes.\n",
    "# There are multiple ways to average multi-class results.\n",
    "# The support for each class is important to consider, e.g. in the case of imbalanced classes.\n",
    "\n",
    "# There is also multi-label classification, where each instance may have multiple labels\n",
    "# e.g. a web page may be labelled -> technology, news and sensational.\n",
    "# This type is not covered here."
   ]
  },
  {
   "cell_type": "code",
   "execution_count": 5,
   "id": "5bcc7f78-efaa-4cd1-93ce-ae8d8ecfd5a8",
   "metadata": {
    "execution": {
     "iopub.execute_input": "2023-05-30T20:42:33.826707Z",
     "iopub.status.busy": "2023-05-30T20:42:33.826707Z",
     "iopub.status.idle": "2023-05-30T20:42:33.831994Z",
     "shell.execute_reply": "2023-05-30T20:42:33.830900Z",
     "shell.execute_reply.started": "2023-05-30T20:42:33.826707Z"
    }
   },
   "outputs": [],
   "source": [
    "# Multi-class confusion matrix is a straightforward extension of the binary classifier's 2x2 confusion matrix."
   ]
  },
  {
   "cell_type": "code",
   "execution_count": null,
   "id": "aea0fc32-9281-4b8e-a37b-f79bbb7d24c8",
   "metadata": {},
   "outputs": [],
   "source": []
  },
  {
   "cell_type": "code",
   "execution_count": 167,
   "id": "4132ab19-bb7e-4d34-8033-50b908c35a6d",
   "metadata": {
    "execution": {
     "iopub.execute_input": "2023-05-30T22:11:03.332847Z",
     "iopub.status.busy": "2023-05-30T22:11:03.332847Z",
     "iopub.status.idle": "2023-05-30T22:11:03.365627Z",
     "shell.execute_reply": "2023-05-30T22:11:03.364369Z",
     "shell.execute_reply.started": "2023-05-30T22:11:03.332847Z"
    }
   },
   "outputs": [],
   "source": [
    "digits = load_digits()\n",
    "train_x, test_x, train_y, test_y = train_test_split(digits.data, digits.target)"
   ]
  },
  {
   "cell_type": "code",
   "execution_count": 168,
   "id": "755c1126-67ff-48a6-86b8-d684879df021",
   "metadata": {
    "execution": {
     "iopub.execute_input": "2023-05-30T22:11:03.803659Z",
     "iopub.status.busy": "2023-05-30T22:11:03.803659Z",
     "iopub.status.idle": "2023-05-30T22:11:04.809877Z",
     "shell.execute_reply": "2023-05-30T22:11:04.809877Z",
     "shell.execute_reply.started": "2023-05-30T22:11:03.803659Z"
    }
   },
   "outputs": [],
   "source": [
    "logReg = LogisticRegression(C = 0.5, max_iter = 10000).fit(train_x, train_y)"
   ]
  },
  {
   "cell_type": "code",
   "execution_count": 169,
   "id": "e65c8be0-1f48-4228-80fa-29809d805925",
   "metadata": {
    "execution": {
     "iopub.execute_input": "2023-05-30T22:11:04.809877Z",
     "iopub.status.busy": "2023-05-30T22:11:04.809877Z",
     "iopub.status.idle": "2023-05-30T22:11:04.817542Z",
     "shell.execute_reply": "2023-05-30T22:11:04.817423Z",
     "shell.execute_reply.started": "2023-05-30T22:11:04.809877Z"
    }
   },
   "outputs": [
    {
     "data": {
      "text/plain": [
       "array([0, 1, 2, 3, 4, 5, 6, 7, 8, 9])"
      ]
     },
     "execution_count": 169,
     "metadata": {},
     "output_type": "execute_result"
    }
   ],
   "source": [
    "logReg.classes_"
   ]
  },
  {
   "cell_type": "code",
   "execution_count": 170,
   "id": "1a746a08-794f-4030-887e-200c0faa0012",
   "metadata": {
    "execution": {
     "iopub.execute_input": "2023-05-30T22:11:05.454577Z",
     "iopub.status.busy": "2023-05-30T22:11:05.454577Z",
     "iopub.status.idle": "2023-05-30T22:11:05.467847Z",
     "shell.execute_reply": "2023-05-30T22:11:05.467740Z",
     "shell.execute_reply.started": "2023-05-30T22:11:05.454577Z"
    }
   },
   "outputs": [
    {
     "data": {
      "text/plain": [
       "0.9622222222222222"
      ]
     },
     "execution_count": 170,
     "metadata": {},
     "output_type": "execute_result"
    }
   ],
   "source": [
    "logReg.score(test_x, test_y)"
   ]
  },
  {
   "cell_type": "code",
   "execution_count": 171,
   "id": "240038db-1316-4483-8a04-e7b751d0fd7e",
   "metadata": {
    "execution": {
     "iopub.execute_input": "2023-05-30T22:11:05.829116Z",
     "iopub.status.busy": "2023-05-30T22:11:05.829116Z",
     "iopub.status.idle": "2023-05-30T22:11:05.833182Z",
     "shell.execute_reply": "2023-05-30T22:11:05.833182Z",
     "shell.execute_reply.started": "2023-05-30T22:11:05.829116Z"
    }
   },
   "outputs": [],
   "source": [
    "preds = logReg.predict(test_x)"
   ]
  },
  {
   "cell_type": "code",
   "execution_count": 172,
   "id": "70440f67-a28d-441d-925f-ab8d3e9f9d13",
   "metadata": {
    "execution": {
     "iopub.execute_input": "2023-05-30T22:11:06.055307Z",
     "iopub.status.busy": "2023-05-30T22:11:06.055307Z",
     "iopub.status.idle": "2023-05-30T22:11:06.066038Z",
     "shell.execute_reply": "2023-05-30T22:11:06.065888Z",
     "shell.execute_reply.started": "2023-05-30T22:11:06.055307Z"
    }
   },
   "outputs": [],
   "source": [
    "cfmat = confusion_matrix(test_y, preds)"
   ]
  },
  {
   "cell_type": "code",
   "execution_count": 173,
   "id": "4aa89806-1d35-4351-b462-7ec8ada34cea",
   "metadata": {
    "execution": {
     "iopub.execute_input": "2023-05-30T22:11:06.457280Z",
     "iopub.status.busy": "2023-05-30T22:11:06.457280Z",
     "iopub.status.idle": "2023-05-30T22:11:06.467379Z",
     "shell.execute_reply": "2023-05-30T22:11:06.466653Z",
     "shell.execute_reply.started": "2023-05-30T22:11:06.457280Z"
    }
   },
   "outputs": [
    {
     "data": {
      "text/plain": [
       "array([43, 54, 49, 49, 36, 51, 41, 39, 48, 40], dtype=int64)"
      ]
     },
     "execution_count": 173,
     "metadata": {},
     "output_type": "execute_result"
    }
   ],
   "source": [
    "np.bincount(test_y)"
   ]
  },
  {
   "cell_type": "code",
   "execution_count": 174,
   "id": "87c19476-56bb-4890-a714-6fcee4cdd9c9",
   "metadata": {
    "execution": {
     "iopub.execute_input": "2023-05-30T22:11:06.957462Z",
     "iopub.status.busy": "2023-05-30T22:11:06.957462Z",
     "iopub.status.idle": "2023-05-30T22:11:06.963306Z",
     "shell.execute_reply": "2023-05-30T22:11:06.963306Z",
     "shell.execute_reply.started": "2023-05-30T22:11:06.957462Z"
    }
   },
   "outputs": [
    {
     "data": {
      "text/plain": [
       "array([[43,  0,  0,  0,  0,  0,  0,  0,  0,  0],\n",
       "       [ 0, 51,  0,  0,  1,  0,  0,  0,  2,  0],\n",
       "       [ 0,  0, 49,  0,  0,  0,  0,  0,  0,  0],\n",
       "       [ 0,  0,  1, 45,  0,  2,  0,  0,  1,  0],\n",
       "       [ 0,  0,  0,  0, 36,  0,  0,  0,  0,  0],\n",
       "       [ 0,  0,  0,  0,  0, 50,  0,  0,  0,  1],\n",
       "       [ 0,  0,  0,  0,  0,  1, 40,  0,  0,  0],\n",
       "       [ 0,  0,  0,  0,  0,  0,  0, 39,  0,  0],\n",
       "       [ 0,  2,  0,  0,  1,  3,  0,  0, 42,  0],\n",
       "       [ 0,  0,  0,  0,  0,  1,  0,  0,  1, 38]], dtype=int64)"
      ]
     },
     "execution_count": 174,
     "metadata": {},
     "output_type": "execute_result"
    }
   ],
   "source": [
    "cfmat"
   ]
  },
  {
   "cell_type": "code",
   "execution_count": 175,
   "id": "0347fd28-9c28-471e-957c-ff76181e87cf",
   "metadata": {
    "execution": {
     "iopub.execute_input": "2023-05-30T22:11:07.352641Z",
     "iopub.status.busy": "2023-05-30T22:11:07.352641Z",
     "iopub.status.idle": "2023-05-30T22:11:07.362717Z",
     "shell.execute_reply": "2023-05-30T22:11:07.362717Z",
     "shell.execute_reply.started": "2023-05-30T22:11:07.352641Z"
    }
   },
   "outputs": [
    {
     "data": {
      "text/plain": [
       "array([43,  0,  0,  0,  0,  0,  0,  0,  0,  0], dtype=int64)"
      ]
     },
     "execution_count": 175,
     "metadata": {},
     "output_type": "execute_result"
    }
   ],
   "source": [
    "cfmat[0, :]"
   ]
  },
  {
   "cell_type": "code",
   "execution_count": 176,
   "id": "c532a479-e9e4-4c07-aa61-e2e7550540c3",
   "metadata": {
    "execution": {
     "iopub.execute_input": "2023-05-30T22:11:07.745768Z",
     "iopub.status.busy": "2023-05-30T22:11:07.745768Z",
     "iopub.status.idle": "2023-05-30T22:11:07.763101Z",
     "shell.execute_reply": "2023-05-30T22:11:07.762951Z",
     "shell.execute_reply.started": "2023-05-30T22:11:07.745768Z"
    }
   },
   "outputs": [
    {
     "data": {
      "text/plain": [
       "5"
      ]
     },
     "execution_count": 176,
     "metadata": {},
     "output_type": "execute_result"
    }
   ],
   "source": [
    "np.argmax(cfmat[5, :])"
   ]
  },
  {
   "cell_type": "code",
   "execution_count": 177,
   "id": "bf5f2598-6c22-4172-b0e1-24e3c5bd57cd",
   "metadata": {
    "execution": {
     "iopub.execute_input": "2023-05-30T22:11:08.231830Z",
     "iopub.status.busy": "2023-05-30T22:11:08.231830Z",
     "iopub.status.idle": "2023-05-30T22:11:08.243253Z",
     "shell.execute_reply": "2023-05-30T22:11:08.242739Z",
     "shell.execute_reply.started": "2023-05-30T22:11:08.231830Z"
    }
   },
   "outputs": [
    {
     "data": {
      "text/plain": [
       "(10, 10)"
      ]
     },
     "execution_count": 177,
     "metadata": {},
     "output_type": "execute_result"
    }
   ],
   "source": [
    "cfmat.shape"
   ]
  },
  {
   "cell_type": "code",
   "execution_count": 178,
   "id": "7f879d75-720c-446a-a45f-471f27985013",
   "metadata": {
    "execution": {
     "iopub.execute_input": "2023-05-30T22:11:08.687869Z",
     "iopub.status.busy": "2023-05-30T22:11:08.687869Z",
     "iopub.status.idle": "2023-05-30T22:11:08.877114Z",
     "shell.execute_reply": "2023-05-30T22:11:08.877114Z",
     "shell.execute_reply.started": "2023-05-30T22:11:08.687869Z"
    }
   },
   "outputs": [
    {
     "data": {
      "image/png": "[encoded data removed]",
      "text/plain": [
       "<Figure size 700x700 with 1 Axes>"
      ]
     },
     "metadata": {},
     "output_type": "display_data"
    }
   ],
   "source": [
    "fig, axes = plt.subplots()\n",
    "fig.set_size_inches(7, 7)\n",
    "axes.pcolormesh(cfmat, cmap = \"binary\", edgecolors = \"black\")\n",
    "\n",
    "for column in range(0, 10):\n",
    "    for row in range(0, 10):\n",
    "        if column == row:\n",
    "            axes.text(y = row + 0.45, x = column + 0.45, s = cfmat[row, column], color = \"white\")\n",
    "        else:\n",
    "            axes.text(y = row + 0.45, x = column + 0.45, s = cfmat[row, column])\n",
    "\n",
    "axes.set_xticks(np.arange(0, 10, step = 1))\n",
    "axes.set_yticks(np.arange(0, 10, step = 1))\n",
    "axes.set_xlabel(\"Predictions\")\n",
    "axes.set_ylabel(\"True labels\")\n",
    "axes.set_title(\"Confusion Matrix - LogisticRegression\")\n",
    "plt.show()"
   ]
  },
  {
   "cell_type": "code",
   "execution_count": 179,
   "id": "bdd51585-7386-4f79-83cf-89bb0d2fda92",
   "metadata": {
    "execution": {
     "iopub.execute_input": "2023-05-30T22:11:09.346529Z",
     "iopub.status.busy": "2023-05-30T22:11:09.346529Z",
     "iopub.status.idle": "2023-05-30T22:11:09.352520Z",
     "shell.execute_reply": "2023-05-30T22:11:09.352520Z",
     "shell.execute_reply.started": "2023-05-30T22:11:09.346529Z"
    }
   },
   "outputs": [],
   "source": [
    "# All true positives are aligned in the diagonal axis.\n",
    "# All misclassifications are off the diagonal."
   ]
  },
  {
   "cell_type": "code",
   "execution_count": 180,
   "id": "0d6bb8e4-57a5-4322-b8d5-2e8aa4286396",
   "metadata": {
    "execution": {
     "iopub.execute_input": "2023-05-30T22:11:09.966374Z",
     "iopub.status.busy": "2023-05-30T22:11:09.966374Z",
     "iopub.status.idle": "2023-05-30T22:11:09.979092Z",
     "shell.execute_reply": "2023-05-30T22:11:09.979092Z",
     "shell.execute_reply.started": "2023-05-30T22:11:09.966374Z"
    }
   },
   "outputs": [],
   "source": [
    "def plot_confusion_matrix(confusion_matrix: npt.NDArray[np.int64], model: str) -> None:\n",
    "    \n",
    "    fig, axes = plt.subplots()\n",
    "    fig.set_size_inches(7, 7)\n",
    "    axes.pcolormesh(confusion_matrix, cmap = \"binary\", edgecolors = \"black\")\n",
    "    \n",
    "    for row in range(0, confusion_matrix.shape[0]):\n",
    "        maxx_offset = np.argmax(confusion_matrix[row, :])\n",
    "        for column in range(0, confusion_matrix.shape[0]):\n",
    "            if column == maxx_offset:\n",
    "                # print(f\"(row {row}, column {column})\", confusion_matrix[row, :], \"->\", np.argmax(confusion_matrix[row, :]))\n",
    "                axes.text(x = column + 0.4, y = row + 0.45, s = confusion_matrix[row, column], color = \"white\")\n",
    "            else:\n",
    "                axes.text(x = column + 0.4, y = row + 0.45, s = confusion_matrix[row, column], color = \"black\")\n",
    "    \n",
    "    axes.set_xticks(ticks = np.arange(0, confusion_matrix.shape[0], step = 1) + 0.5, labels = np.arange(0, confusion_matrix.shape[0], step = 1))\n",
    "    axes.set_yticks(ticks = np.arange(0, confusion_matrix.shape[0], step = 1) + 0.5, labels = np.arange(0, confusion_matrix.shape[0], step = 1))\n",
    "    axes.set_xlabel(\"Predictions\")\n",
    "    axes.set_ylabel(\"True labels\")\n",
    "    axes.set_title(f\"Confusion Matrix - {model}\")\n",
    "    plt.show()"
   ]
  },
  {
   "cell_type": "code",
   "execution_count": 181,
   "id": "b3cd88c0-9f4b-44f5-a32b-c582a9a63343",
   "metadata": {
    "execution": {
     "iopub.execute_input": "2023-05-30T22:11:10.758317Z",
     "iopub.status.busy": "2023-05-30T22:11:10.758317Z",
     "iopub.status.idle": "2023-05-30T22:11:10.937859Z",
     "shell.execute_reply": "2023-05-30T22:11:10.937859Z",
     "shell.execute_reply.started": "2023-05-30T22:11:10.758317Z"
    }
   },
   "outputs": [
    {
     "data": {
      "image/png": "[encoded data removed]",
      "text/plain": [
       "<Figure size 700x700 with 1 Axes>"
      ]
     },
     "metadata": {},
     "output_type": "display_data"
    }
   ],
   "source": [
    "plot_confusion_matrix(confusion_matrix = cfmat, model = \"LogisticRegression\")"
   ]
  },
  {
   "cell_type": "code",
   "execution_count": null,
   "id": "28282062-1535-4a08-bb10-b202df2891e1",
   "metadata": {},
   "outputs": [],
   "source": []
  },
  {
   "cell_type": "code",
   "execution_count": 182,
   "id": "a7a450ff-644f-4569-8763-06e493757da3",
   "metadata": {
    "execution": {
     "iopub.execute_input": "2023-05-30T22:11:12.217057Z",
     "iopub.status.busy": "2023-05-30T22:11:12.217057Z",
     "iopub.status.idle": "2023-05-30T22:11:12.255522Z",
     "shell.execute_reply": "2023-05-30T22:11:12.254503Z",
     "shell.execute_reply.started": "2023-05-30T22:11:12.217057Z"
    }
   },
   "outputs": [],
   "source": [
    "svcLin = SVC(C = 0.05, kernel = \"linear\").fit(train_x, train_y)\n",
    "preds = svcLin.predict(test_x)\n",
    "svcLin_cfmat = confusion_matrix(test_y, preds)"
   ]
  },
  {
   "cell_type": "code",
   "execution_count": 183,
   "id": "8c5fdac1-55c4-45cf-a5b1-ce222324c9cc",
   "metadata": {
    "execution": {
     "iopub.execute_input": "2023-05-30T22:11:12.973993Z",
     "iopub.status.busy": "2023-05-30T22:11:12.973993Z",
     "iopub.status.idle": "2023-05-30T22:11:13.148729Z",
     "shell.execute_reply": "2023-05-30T22:11:13.148729Z",
     "shell.execute_reply.started": "2023-05-30T22:11:12.973993Z"
    }
   },
   "outputs": [
    {
     "data": {
      "image/png": "[encoded data removed]",
      "text/plain": [
       "<Figure size 700x700 with 1 Axes>"
      ]
     },
     "metadata": {},
     "output_type": "display_data"
    }
   ],
   "source": [
    "plot_confusion_matrix(svcLin_cfmat, \"SVC with Linear kernel\")"
   ]
  },
  {
   "cell_type": "code",
   "execution_count": 184,
   "id": "3a6a0858-4c9f-4408-bba8-457869b442af",
   "metadata": {
    "execution": {
     "iopub.execute_input": "2023-05-30T22:11:17.705529Z",
     "iopub.status.busy": "2023-05-30T22:11:17.705529Z",
     "iopub.status.idle": "2023-05-30T22:11:17.935147Z",
     "shell.execute_reply": "2023-05-30T22:11:17.935147Z",
     "shell.execute_reply.started": "2023-05-30T22:11:17.705529Z"
    }
   },
   "outputs": [
    {
     "data": {
      "image/png": "[encoded data removed]",
      "text/plain": [
       "<Figure size 700x700 with 1 Axes>"
      ]
     },
     "metadata": {},
     "output_type": "display_data"
    }
   ],
   "source": [
    "svcLin = SVC(C = 0.5, kernel = \"rbf\").fit(train_x, train_y)\n",
    "preds = svcLin.predict(test_x)\n",
    "svcLin_cfmat = confusion_matrix(test_y, preds)\n",
    "plot_confusion_matrix(svcLin_cfmat, \"SVC with RBF kernel\")"
   ]
  },
  {
   "cell_type": "code",
   "execution_count": null,
   "id": "70358580-1203-438a-a446-39c903698ed0",
   "metadata": {},
   "outputs": [],
   "source": []
  },
  {
   "cell_type": "code",
   "execution_count": 185,
   "id": "cefd1fdb-8510-4fb9-acc7-68e32524861d",
   "metadata": {
    "execution": {
     "iopub.execute_input": "2023-05-30T22:11:19.400858Z",
     "iopub.status.busy": "2023-05-30T22:11:19.400858Z",
     "iopub.status.idle": "2023-05-30T22:11:19.717629Z",
     "shell.execute_reply": "2023-05-30T22:11:19.717629Z",
     "shell.execute_reply.started": "2023-05-30T22:11:19.400858Z"
    }
   },
   "outputs": [
    {
     "data": {
      "image/png": "[encoded data removed]",
      "text/plain": [
       "<Figure size 700x700 with 1 Axes>"
      ]
     },
     "metadata": {},
     "output_type": "display_data"
    }
   ],
   "source": [
    "svcLin = SVC(C = 0.02125, kernel = \"rbf\").fit(train_x, train_y)\n",
    "preds = svcLin.predict(test_x)\n",
    "svcLin_cfmat = confusion_matrix(test_y, preds)\n",
    "plot_confusion_matrix(svcLin_cfmat, \"SVC with RBF kernel\")"
   ]
  },
  {
   "cell_type": "code",
   "execution_count": 186,
   "id": "a90169eb-d78a-4ade-9fcb-ed96f14d86bf",
   "metadata": {
    "execution": {
     "iopub.execute_input": "2023-05-30T22:11:34.092900Z",
     "iopub.status.busy": "2023-05-30T22:11:34.092900Z",
     "iopub.status.idle": "2023-05-30T22:11:34.096197Z",
     "shell.execute_reply": "2023-05-30T22:11:34.096197Z",
     "shell.execute_reply.started": "2023-05-30T22:11:34.092900Z"
    }
   },
   "outputs": [],
   "source": [
    "# The above is a really bad classifier.\n",
    "# Confusion matrices like this can reveal information on where and how these misclassifications occur!\n",
    "\n",
    "# Many 8s and 2s are misclassified as 1 by the classifier.\n",
    "# The classifier did not predict any 8s.\n",
    "# 9 8s were classified as 9s by the classifier.\n",
    "\n",
    "# Some classes may be more prone to certain types of errors."
   ]
  },
  {
   "cell_type": "code",
   "execution_count": null,
   "id": "6ede0f12-0086-4f67-932a-fdcdc889c368",
   "metadata": {},
   "outputs": [],
   "source": []
  },
  {
   "cell_type": "code",
   "execution_count": 187,
   "id": "4e12accb-3a2a-4f86-b787-0d4b8623d7b2",
   "metadata": {
    "execution": {
     "iopub.execute_input": "2023-05-30T22:11:35.144970Z",
     "iopub.status.busy": "2023-05-30T22:11:35.144970Z",
     "iopub.status.idle": "2023-05-30T22:11:35.220877Z",
     "shell.execute_reply": "2023-05-30T22:11:35.220877Z",
     "shell.execute_reply.started": "2023-05-30T22:11:35.144970Z"
    }
   },
   "outputs": [
    {
     "name": "stdout",
     "output_type": "stream",
     "text": [
      "              precision    recall  f1-score   support\n",
      "\n",
      "           0       0.98      0.98      0.98        43\n",
      "           1       0.88      0.65      0.74        54\n",
      "           2       0.93      0.86      0.89        49\n",
      "           3       0.67      0.04      0.08        49\n",
      "           4       0.77      0.94      0.85        36\n",
      "           5       1.00      0.63      0.77        51\n",
      "           6       0.89      0.95      0.92        41\n",
      "           7       0.55      1.00      0.71        39\n",
      "           8       1.00      0.02      0.04        48\n",
      "           9       0.29      0.93      0.44        40\n",
      "\n",
      "    accuracy                           0.67       450\n",
      "   macro avg       0.80      0.70      0.64       450\n",
      "weighted avg       0.81      0.67      0.63       450\n",
      "\n"
     ]
    }
   ],
   "source": [
    "print(classification_report(test_y, svcLin.predict(test_x)))"
   ]
  },
  {
   "cell_type": "code",
   "execution_count": null,
   "id": "c0260107-2763-4573-b939-45e63cd3974c",
   "metadata": {},
   "outputs": [],
   "source": []
  },
  {
   "cell_type": "markdown",
   "id": "764782b3-e507-4d20-8f87-f8df6c5a7302",
   "metadata": {},
   "source": [
    "## ___Micro vs Macro Averaging___\n",
    "----------------"
   ]
  },
  {
   "cell_type": "code",
   "execution_count": 188,
   "id": "67f9d74a-89cd-4094-80ef-4a1118d5518e",
   "metadata": {
    "execution": {
     "iopub.execute_input": "2023-05-30T22:11:36.589150Z",
     "iopub.status.busy": "2023-05-30T22:11:36.589150Z",
     "iopub.status.idle": "2023-05-30T22:11:36.605080Z",
     "shell.execute_reply": "2023-05-30T22:11:36.604062Z",
     "shell.execute_reply.started": "2023-05-30T22:11:36.589150Z"
    }
   },
   "outputs": [],
   "source": [
    "fruits = pd.read_csv(\"../resources/assets/fruit_data_with_colors.txt\", delimiter = \"\\t\")"
   ]
  },
  {
   "cell_type": "code",
   "execution_count": 189,
   "id": "90f8a3de-0abf-4641-b060-b2a55305be73",
   "metadata": {
    "execution": {
     "iopub.execute_input": "2023-05-30T22:11:36.981681Z",
     "iopub.status.busy": "2023-05-30T22:11:36.981681Z",
     "iopub.status.idle": "2023-05-30T22:11:37.004873Z",
     "shell.execute_reply": "2023-05-30T22:11:37.003855Z",
     "shell.execute_reply.started": "2023-05-30T22:11:36.981681Z"
    }
   },
   "outputs": [
    {
     "data": {
      "text/html": [
       "<div>\n",
       "<style scoped>\n",
       "    .dataframe tbody tr th:only-of-type {\n",
       "        vertical-align: middle;\n",
       "    }\n",
       "\n",
       "    .dataframe tbody tr th {\n",
       "        vertical-align: top;\n",
       "    }\n",
       "\n",
       "    .dataframe thead th {\n",
       "        text-align: right;\n",
       "    }\n",
       "</style>\n",
       "<table border=\"1\" class=\"dataframe\">\n",
       "  <thead>\n",
       "    <tr style=\"text-align: right;\">\n",
       "      <th></th>\n",
       "      <th>fruit_label</th>\n",
       "      <th>fruit_name</th>\n",
       "      <th>fruit_subtype</th>\n",
       "      <th>mass</th>\n",
       "      <th>width</th>\n",
       "      <th>height</th>\n",
       "      <th>color_score</th>\n",
       "    </tr>\n",
       "  </thead>\n",
       "  <tbody>\n",
       "    <tr>\n",
       "      <th>0</th>\n",
       "      <td>1</td>\n",
       "      <td>apple</td>\n",
       "      <td>granny_smith</td>\n",
       "      <td>192</td>\n",
       "      <td>8.4</td>\n",
       "      <td>7.3</td>\n",
       "      <td>0.55</td>\n",
       "    </tr>\n",
       "    <tr>\n",
       "      <th>1</th>\n",
       "      <td>1</td>\n",
       "      <td>apple</td>\n",
       "      <td>granny_smith</td>\n",
       "      <td>180</td>\n",
       "      <td>8.0</td>\n",
       "      <td>6.8</td>\n",
       "      <td>0.59</td>\n",
       "    </tr>\n",
       "    <tr>\n",
       "      <th>2</th>\n",
       "      <td>1</td>\n",
       "      <td>apple</td>\n",
       "      <td>granny_smith</td>\n",
       "      <td>176</td>\n",
       "      <td>7.4</td>\n",
       "      <td>7.2</td>\n",
       "      <td>0.60</td>\n",
       "    </tr>\n",
       "    <tr>\n",
       "      <th>3</th>\n",
       "      <td>2</td>\n",
       "      <td>mandarin</td>\n",
       "      <td>mandarin</td>\n",
       "      <td>86</td>\n",
       "      <td>6.2</td>\n",
       "      <td>4.7</td>\n",
       "      <td>0.80</td>\n",
       "    </tr>\n",
       "    <tr>\n",
       "      <th>4</th>\n",
       "      <td>2</td>\n",
       "      <td>mandarin</td>\n",
       "      <td>mandarin</td>\n",
       "      <td>84</td>\n",
       "      <td>6.0</td>\n",
       "      <td>4.6</td>\n",
       "      <td>0.79</td>\n",
       "    </tr>\n",
       "  </tbody>\n",
       "</table>\n",
       "</div>"
      ],
      "text/plain": [
       "   fruit_label fruit_name fruit_subtype  mass  width  height  color_score\n",
       "0            1      apple  granny_smith   192    8.4     7.3         0.55\n",
       "1            1      apple  granny_smith   180    8.0     6.8         0.59\n",
       "2            1      apple  granny_smith   176    7.4     7.2         0.60\n",
       "3            2   mandarin      mandarin    86    6.2     4.7         0.80\n",
       "4            2   mandarin      mandarin    84    6.0     4.6         0.79"
      ]
     },
     "execution_count": 189,
     "metadata": {},
     "output_type": "execute_result"
    }
   ],
   "source": [
    "fruits.head()"
   ]
  },
  {
   "cell_type": "code",
   "execution_count": 91,
   "id": "9317b47a-3657-4ab5-985e-8dd09f9e8629",
   "metadata": {
    "execution": {
     "iopub.execute_input": "2023-05-30T21:36:54.573886Z",
     "iopub.status.busy": "2023-05-30T21:36:54.573886Z",
     "iopub.status.idle": "2023-05-30T21:36:54.619584Z",
     "shell.execute_reply": "2023-05-30T21:36:54.619584Z",
     "shell.execute_reply.started": "2023-05-30T21:36:54.573886Z"
    }
   },
   "outputs": [
    {
     "data": {
      "text/plain": [
       "fruit_label\n",
       "1    19\n",
       "3    19\n",
       "4    16\n",
       "2     5\n",
       "Name: count, dtype: int64"
      ]
     },
     "execution_count": 91,
     "metadata": {},
     "output_type": "execute_result"
    }
   ],
   "source": [
    "# In macro averaging, each class has equal weight.\n",
    "\n",
    "fruits.fruit_label.value_counts()"
   ]
  },
  {
   "cell_type": "code",
   "execution_count": 98,
   "id": "cdc96e33-9291-46a3-891f-bb098a10740e",
   "metadata": {
    "execution": {
     "iopub.execute_input": "2023-05-30T21:40:38.111522Z",
     "iopub.status.busy": "2023-05-30T21:40:38.111522Z",
     "iopub.status.idle": "2023-05-30T21:40:38.120155Z",
     "shell.execute_reply": "2023-05-30T21:40:38.118704Z",
     "shell.execute_reply.started": "2023-05-30T21:40:38.111522Z"
    }
   },
   "outputs": [],
   "source": [
    "train_x, test_x, train_y, test_y = train_test_split(fruits.loc[:, [\"mass\", \"width\", \"height\"]], fruits.fruit_label, train_size = 0.7)"
   ]
  },
  {
   "cell_type": "code",
   "execution_count": 111,
   "id": "66c4a375-0f5a-4855-8eb3-795ae8431c3c",
   "metadata": {
    "execution": {
     "iopub.execute_input": "2023-05-30T21:41:26.697737Z",
     "iopub.status.busy": "2023-05-30T21:41:26.697737Z",
     "iopub.status.idle": "2023-05-30T21:41:26.724743Z",
     "shell.execute_reply": "2023-05-30T21:41:26.724743Z",
     "shell.execute_reply.started": "2023-05-30T21:41:26.697737Z"
    }
   },
   "outputs": [],
   "source": [
    "svc = SVC(kernel = \"linear\", C = 0.6).fit(train_x, train_y)"
   ]
  },
  {
   "cell_type": "code",
   "execution_count": 112,
   "id": "4448b65a-44aa-4698-b94e-b17d75eab854",
   "metadata": {
    "execution": {
     "iopub.execute_input": "2023-05-30T21:41:27.152815Z",
     "iopub.status.busy": "2023-05-30T21:41:27.152815Z",
     "iopub.status.idle": "2023-05-30T21:41:27.176136Z",
     "shell.execute_reply": "2023-05-30T21:41:27.175056Z",
     "shell.execute_reply.started": "2023-05-30T21:41:27.152815Z"
    }
   },
   "outputs": [
    {
     "data": {
      "text/plain": [
       "0.7777777777777778"
      ]
     },
     "execution_count": 112,
     "metadata": {},
     "output_type": "execute_result"
    }
   ],
   "source": [
    "svc.score(test_x, test_y)"
   ]
  },
  {
   "cell_type": "code",
   "execution_count": 117,
   "id": "7dc9ddad-c1f5-4d0d-9e6f-7f7b841a1bc5",
   "metadata": {
    "execution": {
     "iopub.execute_input": "2023-05-30T21:44:47.789607Z",
     "iopub.status.busy": "2023-05-30T21:44:47.789607Z",
     "iopub.status.idle": "2023-05-30T21:44:47.801339Z",
     "shell.execute_reply": "2023-05-30T21:44:47.801339Z",
     "shell.execute_reply.started": "2023-05-30T21:44:47.789607Z"
    }
   },
   "outputs": [],
   "source": [
    "pred_summary = pd.DataFrame({\"PredictedLabel\": svc.predict(test_x), \"TrueLabel\": test_y})\n",
    "pred_summary[\"isCorrect\"] = pred_summary.PredictedLabel == pred_summary.TrueLabel\n",
    "pred_summary.reset_index(drop = True, inplace = True)"
   ]
  },
  {
   "cell_type": "code",
   "execution_count": 119,
   "id": "08d9b2cc-f529-4bcf-8f3b-974a93ae4cb8",
   "metadata": {
    "execution": {
     "iopub.execute_input": "2023-05-30T21:45:18.186929Z",
     "iopub.status.busy": "2023-05-30T21:45:18.186929Z",
     "iopub.status.idle": "2023-05-30T21:45:18.204655Z",
     "shell.execute_reply": "2023-05-30T21:45:18.204076Z",
     "shell.execute_reply.started": "2023-05-30T21:45:18.186929Z"
    }
   },
   "outputs": [
    {
     "data": {
      "text/html": [
       "<div>\n",
       "<style scoped>\n",
       "    .dataframe tbody tr th:only-of-type {\n",
       "        vertical-align: middle;\n",
       "    }\n",
       "\n",
       "    .dataframe tbody tr th {\n",
       "        vertical-align: top;\n",
       "    }\n",
       "\n",
       "    .dataframe thead th {\n",
       "        text-align: right;\n",
       "    }\n",
       "</style>\n",
       "<table border=\"1\" class=\"dataframe\">\n",
       "  <thead>\n",
       "    <tr style=\"text-align: right;\">\n",
       "      <th></th>\n",
       "      <th>PredictedLabel</th>\n",
       "      <th>TrueLabel</th>\n",
       "      <th>isCorrect</th>\n",
       "    </tr>\n",
       "  </thead>\n",
       "  <tbody>\n",
       "    <tr>\n",
       "      <th>0</th>\n",
       "      <td>1</td>\n",
       "      <td>1</td>\n",
       "      <td>True</td>\n",
       "    </tr>\n",
       "    <tr>\n",
       "      <th>1</th>\n",
       "      <td>4</td>\n",
       "      <td>4</td>\n",
       "      <td>True</td>\n",
       "    </tr>\n",
       "    <tr>\n",
       "      <th>2</th>\n",
       "      <td>2</td>\n",
       "      <td>2</td>\n",
       "      <td>True</td>\n",
       "    </tr>\n",
       "    <tr>\n",
       "      <th>3</th>\n",
       "      <td>1</td>\n",
       "      <td>1</td>\n",
       "      <td>True</td>\n",
       "    </tr>\n",
       "    <tr>\n",
       "      <th>4</th>\n",
       "      <td>1</td>\n",
       "      <td>1</td>\n",
       "      <td>True</td>\n",
       "    </tr>\n",
       "    <tr>\n",
       "      <th>5</th>\n",
       "      <td>1</td>\n",
       "      <td>1</td>\n",
       "      <td>True</td>\n",
       "    </tr>\n",
       "    <tr>\n",
       "      <th>6</th>\n",
       "      <td>3</td>\n",
       "      <td>1</td>\n",
       "      <td>False</td>\n",
       "    </tr>\n",
       "    <tr>\n",
       "      <th>7</th>\n",
       "      <td>1</td>\n",
       "      <td>3</td>\n",
       "      <td>False</td>\n",
       "    </tr>\n",
       "    <tr>\n",
       "      <th>8</th>\n",
       "      <td>4</td>\n",
       "      <td>4</td>\n",
       "      <td>True</td>\n",
       "    </tr>\n",
       "    <tr>\n",
       "      <th>9</th>\n",
       "      <td>4</td>\n",
       "      <td>4</td>\n",
       "      <td>True</td>\n",
       "    </tr>\n",
       "    <tr>\n",
       "      <th>10</th>\n",
       "      <td>4</td>\n",
       "      <td>4</td>\n",
       "      <td>True</td>\n",
       "    </tr>\n",
       "    <tr>\n",
       "      <th>11</th>\n",
       "      <td>3</td>\n",
       "      <td>3</td>\n",
       "      <td>True</td>\n",
       "    </tr>\n",
       "    <tr>\n",
       "      <th>12</th>\n",
       "      <td>4</td>\n",
       "      <td>4</td>\n",
       "      <td>True</td>\n",
       "    </tr>\n",
       "    <tr>\n",
       "      <th>13</th>\n",
       "      <td>3</td>\n",
       "      <td>3</td>\n",
       "      <td>True</td>\n",
       "    </tr>\n",
       "    <tr>\n",
       "      <th>14</th>\n",
       "      <td>2</td>\n",
       "      <td>2</td>\n",
       "      <td>True</td>\n",
       "    </tr>\n",
       "    <tr>\n",
       "      <th>15</th>\n",
       "      <td>3</td>\n",
       "      <td>1</td>\n",
       "      <td>False</td>\n",
       "    </tr>\n",
       "    <tr>\n",
       "      <th>16</th>\n",
       "      <td>1</td>\n",
       "      <td>1</td>\n",
       "      <td>True</td>\n",
       "    </tr>\n",
       "    <tr>\n",
       "      <th>17</th>\n",
       "      <td>1</td>\n",
       "      <td>3</td>\n",
       "      <td>False</td>\n",
       "    </tr>\n",
       "  </tbody>\n",
       "</table>\n",
       "</div>"
      ],
      "text/plain": [
       "    PredictedLabel  TrueLabel  isCorrect\n",
       "0                1          1       True\n",
       "1                4          4       True\n",
       "2                2          2       True\n",
       "3                1          1       True\n",
       "4                1          1       True\n",
       "5                1          1       True\n",
       "6                3          1      False\n",
       "7                1          3      False\n",
       "8                4          4       True\n",
       "9                4          4       True\n",
       "10               4          4       True\n",
       "11               3          3       True\n",
       "12               4          4       True\n",
       "13               3          3       True\n",
       "14               2          2       True\n",
       "15               3          1      False\n",
       "16               1          1       True\n",
       "17               1          3      False"
      ]
     },
     "execution_count": 119,
     "metadata": {},
     "output_type": "execute_result"
    }
   ],
   "source": [
    "pred_summary"
   ]
  },
  {
   "cell_type": "code",
   "execution_count": 137,
   "id": "8f540c5e-21ff-436d-82ec-5bdd46867096",
   "metadata": {
    "execution": {
     "iopub.execute_input": "2023-05-30T21:57:48.230674Z",
     "iopub.status.busy": "2023-05-30T21:57:48.230674Z",
     "iopub.status.idle": "2023-05-30T21:57:48.250153Z",
     "shell.execute_reply": "2023-05-30T21:57:48.250153Z",
     "shell.execute_reply.started": "2023-05-30T21:57:48.230674Z"
    }
   },
   "outputs": [
    {
     "data": {
      "text/html": [
       "<div>\n",
       "<style scoped>\n",
       "    .dataframe tbody tr th:only-of-type {\n",
       "        vertical-align: middle;\n",
       "    }\n",
       "\n",
       "    .dataframe tbody tr th {\n",
       "        vertical-align: top;\n",
       "    }\n",
       "\n",
       "    .dataframe thead th {\n",
       "        text-align: right;\n",
       "    }\n",
       "</style>\n",
       "<table border=\"1\" class=\"dataframe\">\n",
       "  <thead>\n",
       "    <tr style=\"text-align: right;\">\n",
       "      <th></th>\n",
       "      <th>PredictedLabel</th>\n",
       "      <th>TrueLabel</th>\n",
       "      <th>isCorrect</th>\n",
       "    </tr>\n",
       "  </thead>\n",
       "  <tbody>\n",
       "    <tr>\n",
       "      <th>0</th>\n",
       "      <td>1</td>\n",
       "      <td>1</td>\n",
       "      <td>True</td>\n",
       "    </tr>\n",
       "    <tr>\n",
       "      <th>3</th>\n",
       "      <td>1</td>\n",
       "      <td>1</td>\n",
       "      <td>True</td>\n",
       "    </tr>\n",
       "    <tr>\n",
       "      <th>4</th>\n",
       "      <td>1</td>\n",
       "      <td>1</td>\n",
       "      <td>True</td>\n",
       "    </tr>\n",
       "    <tr>\n",
       "      <th>5</th>\n",
       "      <td>1</td>\n",
       "      <td>1</td>\n",
       "      <td>True</td>\n",
       "    </tr>\n",
       "    <tr>\n",
       "      <th>7</th>\n",
       "      <td>1</td>\n",
       "      <td>3</td>\n",
       "      <td>False</td>\n",
       "    </tr>\n",
       "    <tr>\n",
       "      <th>16</th>\n",
       "      <td>1</td>\n",
       "      <td>1</td>\n",
       "      <td>True</td>\n",
       "    </tr>\n",
       "    <tr>\n",
       "      <th>17</th>\n",
       "      <td>1</td>\n",
       "      <td>3</td>\n",
       "      <td>False</td>\n",
       "    </tr>\n",
       "  </tbody>\n",
       "</table>\n",
       "</div>"
      ],
      "text/plain": [
       "    PredictedLabel  TrueLabel  isCorrect\n",
       "0                1          1       True\n",
       "3                1          1       True\n",
       "4                1          1       True\n",
       "5                1          1       True\n",
       "7                1          3      False\n",
       "16               1          1       True\n",
       "17               1          3      False"
      ]
     },
     "execution_count": 137,
     "metadata": {},
     "output_type": "execute_result"
    }
   ],
   "source": [
    "# Compute the metric for each class.\n",
    "\n",
    "# Precision = TP / (TP + FP)\n",
    "\n",
    "pred_summary.query(\"PredictedLabel == 1\") # .isCorrect.mean()"
   ]
  },
  {
   "cell_type": "code",
   "execution_count": 143,
   "id": "f3ae6433-de6a-43f2-8698-d6f983297ab8",
   "metadata": {
    "execution": {
     "iopub.execute_input": "2023-05-30T22:00:29.967855Z",
     "iopub.status.busy": "2023-05-30T22:00:29.967855Z",
     "iopub.status.idle": "2023-05-30T22:00:29.980146Z",
     "shell.execute_reply": "2023-05-30T22:00:29.979582Z",
     "shell.execute_reply.started": "2023-05-30T22:00:29.967855Z"
    }
   },
   "outputs": [
    {
     "data": {
      "text/html": [
       "<div>\n",
       "<style scoped>\n",
       "    .dataframe tbody tr th:only-of-type {\n",
       "        vertical-align: middle;\n",
       "    }\n",
       "\n",
       "    .dataframe tbody tr th {\n",
       "        vertical-align: top;\n",
       "    }\n",
       "\n",
       "    .dataframe thead th {\n",
       "        text-align: right;\n",
       "    }\n",
       "</style>\n",
       "<table border=\"1\" class=\"dataframe\">\n",
       "  <thead>\n",
       "    <tr style=\"text-align: right;\">\n",
       "      <th></th>\n",
       "      <th>fruit_label</th>\n",
       "      <th>fruit_name</th>\n",
       "    </tr>\n",
       "  </thead>\n",
       "  <tbody>\n",
       "    <tr>\n",
       "      <th>0</th>\n",
       "      <td>1</td>\n",
       "      <td>apple</td>\n",
       "    </tr>\n",
       "    <tr>\n",
       "      <th>3</th>\n",
       "      <td>2</td>\n",
       "      <td>mandarin</td>\n",
       "    </tr>\n",
       "    <tr>\n",
       "      <th>24</th>\n",
       "      <td>3</td>\n",
       "      <td>orange</td>\n",
       "    </tr>\n",
       "    <tr>\n",
       "      <th>43</th>\n",
       "      <td>4</td>\n",
       "      <td>lemon</td>\n",
       "    </tr>\n",
       "  </tbody>\n",
       "</table>\n",
       "</div>"
      ],
      "text/plain": [
       "    fruit_label fruit_name\n",
       "0             1      apple\n",
       "3             2   mandarin\n",
       "24            3     orange\n",
       "43            4      lemon"
      ]
     },
     "execution_count": 143,
     "metadata": {},
     "output_type": "execute_result"
    }
   ],
   "source": [
    "labels = fruits.loc[:, [\"fruit_label\", \"fruit_name\"]].drop_duplicates()\n",
    "labels"
   ]
  },
  {
   "cell_type": "code",
   "execution_count": 151,
   "id": "c7164ddb-1abd-483d-a5ef-9eea5f6b35c9",
   "metadata": {
    "execution": {
     "iopub.execute_input": "2023-05-30T22:06:04.335380Z",
     "iopub.status.busy": "2023-05-30T22:06:04.335380Z",
     "iopub.status.idle": "2023-05-30T22:06:04.356418Z",
     "shell.execute_reply": "2023-05-30T22:06:04.355901Z",
     "shell.execute_reply.started": "2023-05-30T22:06:04.335380Z"
    }
   },
   "outputs": [
    {
     "name": "stdout",
     "output_type": "stream",
     "text": [
      "Class apple -> Precision 0.7143\n",
      "Class mandarin -> Precision 1.0000\n",
      "Class orange -> Precision 0.5000\n",
      "Class lemon -> Precision 1.0000\n"
     ]
    }
   ],
   "source": [
    "prec_sum = []\n",
    "\n",
    "for (label, name) in zip(labels.fruit_label, labels.fruit_name):\n",
    "    print(\"Class {} -> Precision {:.4f}\".format(name, pred_summary.query(\"PredictedLabel == @label\").isCorrect.mean()))\n",
    "    prec_sum.append(pred_summary.query(\"PredictedLabel == @label\").isCorrect.mean())"
   ]
  },
  {
   "cell_type": "code",
   "execution_count": 153,
   "id": "bded7131-d33c-464d-ad76-25ed49f52f0c",
   "metadata": {
    "execution": {
     "iopub.execute_input": "2023-05-30T22:06:21.892086Z",
     "iopub.status.busy": "2023-05-30T22:06:21.892086Z",
     "iopub.status.idle": "2023-05-30T22:06:21.900349Z",
     "shell.execute_reply": "2023-05-30T22:06:21.900349Z",
     "shell.execute_reply.started": "2023-05-30T22:06:21.892086Z"
    }
   },
   "outputs": [
    {
     "data": {
      "text/plain": [
       "[0.7142857142857143, 1.0, 0.5, 1.0]"
      ]
     },
     "execution_count": 153,
     "metadata": {},
     "output_type": "execute_result"
    }
   ],
   "source": [
    "prec_sum"
   ]
  },
  {
   "cell_type": "code",
   "execution_count": 155,
   "id": "3c23f483-3bad-4f49-adc3-70e14463f53e",
   "metadata": {
    "execution": {
     "iopub.execute_input": "2023-05-30T22:07:06.262644Z",
     "iopub.status.busy": "2023-05-30T22:07:06.247136Z",
     "iopub.status.idle": "2023-05-30T22:07:06.267280Z",
     "shell.execute_reply": "2023-05-30T22:07:06.267280Z",
     "shell.execute_reply.started": "2023-05-30T22:07:06.262644Z"
    }
   },
   "outputs": [
    {
     "data": {
      "text/plain": [
       "0.8035714285714286"
      ]
     },
     "execution_count": 155,
     "metadata": {},
     "output_type": "execute_result"
    }
   ],
   "source": [
    "# Macro average precision = \n",
    "\n",
    "np.mean(prec_sum)"
   ]
  },
  {
   "cell_type": "code",
   "execution_count": null,
   "id": "696ac602-a11a-4252-a736-e35c0ce87af8",
   "metadata": {},
   "outputs": [],
   "source": []
  },
  {
   "cell_type": "code",
   "execution_count": 190,
   "id": "5f6fb421-86ef-4a35-94d6-e7b48ade7b1b",
   "metadata": {
    "execution": {
     "iopub.execute_input": "2023-05-30T22:16:03.402701Z",
     "iopub.status.busy": "2023-05-30T22:16:03.402701Z",
     "iopub.status.idle": "2023-05-30T22:16:03.411484Z",
     "shell.execute_reply": "2023-05-30T22:16:03.411484Z",
     "shell.execute_reply.started": "2023-05-30T22:16:03.402701Z"
    }
   },
   "outputs": [],
   "source": [
    "# Micro averages\n",
    "# Each instance is given an equal weight.\n",
    "# Largest class has the most influence."
   ]
  },
  {
   "cell_type": "code",
   "execution_count": 191,
   "id": "c2077273-47ae-43a0-abcf-3082b87e8a1f",
   "metadata": {
    "execution": {
     "iopub.execute_input": "2023-05-30T22:19:01.181252Z",
     "iopub.status.busy": "2023-05-30T22:19:01.181252Z",
     "iopub.status.idle": "2023-05-30T22:19:01.195920Z",
     "shell.execute_reply": "2023-05-30T22:19:01.195839Z",
     "shell.execute_reply.started": "2023-05-30T22:19:01.181252Z"
    }
   },
   "outputs": [],
   "source": [
    "# Aggregate the outcomes across all classes. (no class wise grouping)\n",
    "# Compute the metric on the aggregate."
   ]
  },
  {
   "cell_type": "code",
   "execution_count": 193,
   "id": "f6da8555-26f4-4fe9-adc6-f52eeb8a896c",
   "metadata": {
    "execution": {
     "iopub.execute_input": "2023-05-30T22:19:14.199818Z",
     "iopub.status.busy": "2023-05-30T22:19:14.199818Z",
     "iopub.status.idle": "2023-05-30T22:19:14.217043Z",
     "shell.execute_reply": "2023-05-30T22:19:14.216433Z",
     "shell.execute_reply.started": "2023-05-30T22:19:14.199818Z"
    }
   },
   "outputs": [
    {
     "data": {
      "text/plain": [
       "0.7777777777777778"
      ]
     },
     "execution_count": 193,
     "metadata": {},
     "output_type": "execute_result"
    }
   ],
   "source": [
    "pred_summary.isCorrect.mean()"
   ]
  },
  {
   "cell_type": "code",
   "execution_count": null,
   "id": "847dcee7-11d7-42ca-853d-6578f8c7db32",
   "metadata": {},
   "outputs": [],
   "source": []
  },
  {
   "cell_type": "code",
   "execution_count": 194,
   "id": "867f6ecb-be2c-4f74-9600-6419c9b4879e",
   "metadata": {
    "execution": {
     "iopub.execute_input": "2023-05-30T22:19:56.789190Z",
     "iopub.status.busy": "2023-05-30T22:19:56.789190Z",
     "iopub.status.idle": "2023-05-30T22:19:56.795232Z",
     "shell.execute_reply": "2023-05-30T22:19:56.795232Z",
     "shell.execute_reply.started": "2023-05-30T22:19:56.789190Z"
    }
   },
   "outputs": [],
   "source": [
    "# Summary"
   ]
  },
  {
   "cell_type": "code",
   "execution_count": 195,
   "id": "be75f418-f670-42b9-8bd5-1aa1c13253dc",
   "metadata": {
    "execution": {
     "iopub.execute_input": "2023-05-30T22:36:22.553442Z",
     "iopub.status.busy": "2023-05-30T22:36:22.537971Z",
     "iopub.status.idle": "2023-05-30T22:36:22.557627Z",
     "shell.execute_reply": "2023-05-30T22:36:22.557627Z",
     "shell.execute_reply.started": "2023-05-30T22:36:22.553442Z"
    }
   },
   "outputs": [],
   "source": [
    "# If the feature is made of balanced classes, micro and macro averaging won't make much difference\n",
    "# If the classes are indeed imbalanced, \n",
    "    # If we intend to reduce the influence of larger classes -> use macro averaging\n",
    "    # If we intend to emphasize the influence of larger classes -> use micro averaging"
   ]
  },
  {
   "cell_type": "code",
   "execution_count": null,
   "id": "bf525854-cf2f-4cdf-92b6-d3443c29d0ec",
   "metadata": {},
   "outputs": [],
   "source": []
  },
  {
   "cell_type": "code",
   "execution_count": null,
   "id": "8181365c-4216-499b-95e9-8fe7eabb93ef",
   "metadata": {},
   "outputs": [],
   "source": []
  }
 ],
 "metadata": {
  "kernelspec": {
   "display_name": "Python 3 (ipykernel)",
   "language": "python",
   "name": "python3"
  },
  "language_info": {
   "codemirror_mode": {
    "name": "ipython",
    "version": 3
   },
   "file_extension": ".py",
   "mimetype": "text/x-python",
   "name": "python",
   "nbconvert_exporter": "python",
   "pygments_lexer": "ipython3",
   "version": "3.11.3"
  }
 },
 "nbformat": 4,
 "nbformat_minor": 5
}
