{
 "cells": [
  {
   "cell_type": "markdown",
   "id": "497a9641-268e-45c6-957a-9952640275b5",
   "metadata": {},
   "source": [
    "# ___Multi-Class Evaluation___\n",
    "---------------"
   ]
  },
  {
   "cell_type": "code",
   "execution_count": 1,
   "id": "714a5579-395c-470a-a414-d75484fbc989",
   "metadata": {
    "execution": {
     "iopub.execute_input": "2023-05-29T22:52:27.780174Z",
     "iopub.status.busy": "2023-05-29T22:52:27.780174Z",
     "iopub.status.idle": "2023-05-29T22:52:27.792254Z",
     "shell.execute_reply": "2023-05-29T22:52:27.791725Z",
     "shell.execute_reply.started": "2023-05-29T22:52:27.780174Z"
    }
   },
   "outputs": [],
   "source": [
    "# Multi class evaluation is an extension of the binary use case.\n",
    "# It will give a collection of true vs predicted binary outcomes -> one per class.\n",
    "# Confusion matrices are also possible.\n",
    "# Classification reports.\n",
    "\n",
    "# Overall metrics are averages across classes.\n",
    "# There are multiple ways to average multi-class results.\n",
    "# The support for each class is important to consider, E.G. in the case of imbalanced classes.\n",
    "\n",
    "# There is also multi-label classification, where each instance may have multiple labels\n",
    "# e.g. a web page may be labelled -> technology, news and sensational.\n",
    "# This type is not covered here."
   ]
  },
  {
   "cell_type": "code",
   "execution_count": null,
   "id": "5bcc7f78-efaa-4cd1-93ce-ae8d8ecfd5a8",
   "metadata": {},
   "outputs": [],
   "source": [
    "# Multi-class confucion matrix is a straightforward extension of the binary classifier's 2x2 confusion matrix.\n",
    "# "
   ]
  }
 ],
 "metadata": {
  "kernelspec": {
   "display_name": "Python 3 (ipykernel)",
   "language": "python",
   "name": "python3"
  },
  "language_info": {
   "codemirror_mode": {
    "name": "ipython",
    "version": 3
   },
   "file_extension": ".py",
   "mimetype": "text/x-python",
   "name": "python",
   "nbconvert_exporter": "python",
   "pygments_lexer": "ipython3",
   "version": "3.11.3"
  }
 },
 "nbformat": 4,
 "nbformat_minor": 5
}
