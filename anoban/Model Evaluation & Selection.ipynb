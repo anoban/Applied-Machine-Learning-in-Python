{
 "cells": [
  {
   "cell_type": "code",
   "execution_count": 51,
   "id": "c9448671-e96f-438a-8a30-865b9cc9e145",
   "metadata": {
    "execution": {
     "iopub.execute_input": "2023-05-28T01:05:44.531372Z",
     "iopub.status.busy": "2023-05-28T01:05:44.531372Z",
     "iopub.status.idle": "2023-05-28T01:05:44.539924Z",
     "shell.execute_reply": "2023-05-28T01:05:44.539924Z",
     "shell.execute_reply.started": "2023-05-28T01:05:44.531372Z"
    }
   },
   "outputs": [],
   "source": [
    "import numpy as np\n",
    "import pandas as pd\n",
    "import matplotlib.pyplot as plt\n",
    "\n",
    "from sklearn.datasets import load_digits\n",
    "from sklearn.model_selection import train_test_split\n",
    "from sklearn.svm import SVC\n",
    "from sklearn.dummy import DummyClassifier\n",
    "from sklearn.metrics import confusion_matrix\n",
    "from sklearn.linear_model import LogisticRegression\n",
    "from sklearn.tree import DecisionTreeClassifier"
   ]
  },
  {
   "cell_type": "markdown",
   "id": "8caaa947-5786-4aaa-9843-37045688a793",
   "metadata": {},
   "source": [
    "# ___Model Evaluation & Selection___\n",
    "---------------"
   ]
  },
  {
   "cell_type": "code",
   "execution_count": 1,
   "id": "a6295ac1-cc3e-43ae-a72b-6d4769796fac",
   "metadata": {
    "execution": {
     "iopub.execute_input": "2023-05-27T11:17:29.925394Z",
     "iopub.status.busy": "2023-05-27T11:17:29.925394Z",
     "iopub.status.idle": "2023-05-27T11:17:29.937489Z",
     "shell.execute_reply": "2023-05-27T11:17:29.937489Z",
     "shell.execute_reply.started": "2023-05-27T11:17:29.925394Z"
    }
   },
   "outputs": [],
   "source": [
    "# Typical workflow diagram of ML models,\n",
    "\n",
    "# 1) Representation -> extract, identify and select features\n",
    "# 2) Training phase -> fitting the estimator to the dataset\n",
    "# 3) Evaluation \n",
    "# 4) Feature & model refinement"
   ]
  },
  {
   "cell_type": "code",
   "execution_count": 2,
   "id": "eadd2f2a-ab64-43c8-8afd-16a2dbdc7da2",
   "metadata": {
    "execution": {
     "iopub.execute_input": "2023-05-27T11:23:10.259568Z",
     "iopub.status.busy": "2023-05-27T11:23:10.259568Z",
     "iopub.status.idle": "2023-05-27T11:23:10.268594Z",
     "shell.execute_reply": "2023-05-27T11:23:10.268594Z",
     "shell.execute_reply.started": "2023-05-27T11:23:10.259568Z"
    }
   },
   "outputs": [],
   "source": [
    "# Refinement -> provides insights into the trained model's performance characteristics.\n",
    "# This might allow us to switch to better features/ different kernel functions or other parameter tuning.\n",
    "\n",
    "# Evaluation methods also help to derive surrogate benefits from trained models.\n",
    "# e.g. a model trained to provide the most relevant results for a user query can also be used to determine the browsing time, frequency of visits and\n",
    "# pages requested subsequently from a given host."
   ]
  },
  {
   "cell_type": "code",
   "execution_count": 3,
   "id": "82f39c63-8190-4fa4-8f6a-9edb9334d7ae",
   "metadata": {
    "execution": {
     "iopub.execute_input": "2023-05-27T11:26:03.007930Z",
     "iopub.status.busy": "2023-05-27T11:26:03.003337Z",
     "iopub.status.idle": "2023-05-27T11:26:03.011914Z",
     "shell.execute_reply": "2023-05-27T11:26:03.011633Z",
     "shell.execute_reply.started": "2023-05-27T11:26:03.007930Z"
    }
   },
   "outputs": [],
   "source": [
    "# This evaluation measures are critical in selecting the best model among a set of trained models.\n",
    "# Evaluation metric is variable and depends on the use case of the model.\n",
    "# model accuracy is the most common metric, however other metrics like user satisfaction (in web searches), amount of revenue (business sites)\n",
    "# and increased patient survival rates (medical applications) can also be used depending on the domain which the models are used."
   ]
  },
  {
   "cell_type": "code",
   "execution_count": 5,
   "id": "2244820d-2b8e-4db1-bbad-6c47928b7edd",
   "metadata": {
    "execution": {
     "iopub.execute_input": "2023-05-27T11:31:10.016039Z",
     "iopub.status.busy": "2023-05-27T11:31:10.016039Z",
     "iopub.status.idle": "2023-05-27T11:31:10.019897Z",
     "shell.execute_reply": "2023-05-27T11:31:10.019106Z",
     "shell.execute_reply.started": "2023-05-27T11:31:10.016039Z"
    }
   },
   "outputs": [],
   "source": [
    "# If the ML model we are designing is to predict patients' benign tumors developing into cancerous tumors,\n",
    "# we need the model to be as rigorous as possible. We need it to classify the tumors with meager chances of becoming cancerous as potentially\n",
    "# dangerous. Even if this will likely increase the fraction of false positives in the predictions.\n",
    "# Because, given the domain, we cannot afford to falsely classify a cancerous tumor as healthy tissue.\n",
    "# So, the risking higher number of false positives becomes acceptable."
   ]
  },
  {
   "cell_type": "code",
   "execution_count": null,
   "id": "1b79ac27-6e0a-4759-8aab-29b6c7652b4b",
   "metadata": {},
   "outputs": [],
   "source": []
  },
  {
   "cell_type": "markdown",
   "id": "6191b5cf-c61c-40c1-b20c-0cc61760b2bc",
   "metadata": {},
   "source": [
    "## ___Accuracy with Imbalanced Classes___\n",
    "----------"
   ]
  },
  {
   "cell_type": "code",
   "execution_count": 6,
   "id": "621887da-2a4f-425e-a183-b5d6ea22dd9d",
   "metadata": {
    "execution": {
     "iopub.execute_input": "2023-05-27T11:34:38.317798Z",
     "iopub.status.busy": "2023-05-27T11:34:38.317798Z",
     "iopub.status.idle": "2023-05-27T11:34:38.322615Z",
     "shell.execute_reply": "2023-05-27T11:34:38.322615Z",
     "shell.execute_reply.started": "2023-05-27T11:34:38.317798Z"
    }
   },
   "outputs": [],
   "source": [
    "# Suppose we have two classes in the labels,\n",
    "# 1) relevant (R)\n",
    "# 2) irrelevant (I)\n",
    "\n",
    "# In a test set with 1,000 data points,\n",
    "# one gets classified as relevant (R)\n",
    "# remaining 999 get classified as irrelevant (I)\n",
    "\n",
    "# accuracy = N(correct predictions) / N(total predictions)"
   ]
  },
  {
   "cell_type": "code",
   "execution_count": 7,
   "id": "469e6fa7-81c3-4faa-9f5f-270340f59cf0",
   "metadata": {
    "execution": {
     "iopub.execute_input": "2023-05-27T11:38:23.836923Z",
     "iopub.status.busy": "2023-05-27T11:38:23.836923Z",
     "iopub.status.idle": "2023-05-27T11:38:23.842644Z",
     "shell.execute_reply": "2023-05-27T11:38:23.842644Z",
     "shell.execute_reply.started": "2023-05-27T11:38:23.836923Z"
    }
   },
   "outputs": [],
   "source": [
    "# Here the accuracy score alone cannot be a sufficient measure for the classifier's performance.\n",
    "# When the class frequencies distribution is highly skewed, it is called an imbalanced class situation.\n",
    "\n",
    "# e.g. credit card transactions -> where most of them are legit, with very few illegal transactions.\n",
    "# reccomendations on an e-commerce site, where only one/two may be relevant to the user while all the remainning suggestions won't even make sense."
   ]
  },
  {
   "cell_type": "code",
   "execution_count": 8,
   "id": "6f3672f6-45c5-4b5c-8fda-e9eef08c75d8",
   "metadata": {
    "execution": {
     "iopub.execute_input": "2023-05-27T11:41:27.418038Z",
     "iopub.status.busy": "2023-05-27T11:41:27.418038Z",
     "iopub.status.idle": "2023-05-27T11:41:27.434641Z",
     "shell.execute_reply": "2023-05-27T11:41:27.432743Z",
     "shell.execute_reply.started": "2023-05-27T11:41:27.418038Z"
    }
   },
   "outputs": [],
   "source": [
    "# In addition to binary classes, this siuation migh tpresent itself in multiclass prediction problems as well."
   ]
  },
  {
   "cell_type": "code",
   "execution_count": null,
   "id": "b63463e5-3294-4e2b-bad5-16b931b95ce5",
   "metadata": {},
   "outputs": [],
   "source": []
  },
  {
   "cell_type": "code",
   "execution_count": 9,
   "id": "05dded8f-dd7f-4315-82ad-f62486e76c59",
   "metadata": {
    "execution": {
     "iopub.execute_input": "2023-05-27T11:44:38.893532Z",
     "iopub.status.busy": "2023-05-27T11:44:38.893532Z",
     "iopub.status.idle": "2023-05-27T11:44:38.899021Z",
     "shell.execute_reply": "2023-05-27T11:44:38.899021Z",
     "shell.execute_reply.started": "2023-05-27T11:44:38.893532Z"
    }
   },
   "outputs": [],
   "source": [
    "# Let's say that we have a binary classifier that predicts with 99.0 % accuracy\n",
    "# Let's test a dummy classifier that returns the class with highest frequency for all inputs.\n",
    "\n",
    "# In a highly imbalanced dataset, like (1 relevant and 999 irrelevant),\n",
    "# The dummy classifer will also show a 999/1000 accuracy!"
   ]
  },
  {
   "cell_type": "code",
   "execution_count": 13,
   "id": "09ecbc37-3780-4fb6-a4d4-a54214f996be",
   "metadata": {
    "execution": {
     "iopub.execute_input": "2023-05-27T11:45:52.607715Z",
     "iopub.status.busy": "2023-05-27T11:45:52.607715Z",
     "iopub.status.idle": "2023-05-27T11:45:52.613046Z",
     "shell.execute_reply": "2023-05-27T11:45:52.613046Z",
     "shell.execute_reply.started": "2023-05-27T11:45:52.607715Z"
    }
   },
   "outputs": [
    {
     "name": "stdout",
     "output_type": "stream",
     "text": [
      "Accuracy -> Dummy classifier = 99.9%\n",
      "Accuracy -> Trained classifier = 99.0%\n"
     ]
    }
   ],
   "source": [
    "# So,\n",
    "\n",
    "print(f\"Accuracy -> Dummy classifier = {999 / 1000 * 100}%\")\n",
    "print(f\"Accuracy -> Trained classifier = {99.0}%\")"
   ]
  },
  {
   "cell_type": "code",
   "execution_count": null,
   "id": "59a588d1-f0a8-4b89-a079-7be172e6af4a",
   "metadata": {},
   "outputs": [],
   "source": []
  },
  {
   "cell_type": "code",
   "execution_count": 3,
   "id": "28cfbb80-6ffb-460a-aa0c-55f0969ae783",
   "metadata": {
    "execution": {
     "iopub.execute_input": "2023-05-28T00:46:01.698411Z",
     "iopub.status.busy": "2023-05-28T00:46:01.698411Z",
     "iopub.status.idle": "2023-05-28T00:46:01.784318Z",
     "shell.execute_reply": "2023-05-28T00:46:01.784318Z",
     "shell.execute_reply.started": "2023-05-28T00:46:01.698411Z"
    }
   },
   "outputs": [],
   "source": [
    "# A real word example\n",
    "\n",
    "digits = load_digits()"
   ]
  },
  {
   "cell_type": "code",
   "execution_count": 4,
   "id": "c6898fc2-e35c-496c-a5b5-48054f7b3366",
   "metadata": {
    "execution": {
     "iopub.execute_input": "2023-05-28T00:46:02.123629Z",
     "iopub.status.busy": "2023-05-28T00:46:02.123629Z",
     "iopub.status.idle": "2023-05-28T00:46:02.176355Z",
     "shell.execute_reply": "2023-05-28T00:46:02.176355Z",
     "shell.execute_reply.started": "2023-05-28T00:46:02.123629Z"
    }
   },
   "outputs": [
    {
     "data": {
      "text/plain": [
       "(array([0, 1, 2, 3, 4, 5, 6, 7, 8, 9]),\n",
       " array([178, 182, 177, 183, 181, 182, 181, 179, 174, 180], dtype=int64))"
      ]
     },
     "execution_count": 4,
     "metadata": {},
     "output_type": "execute_result"
    }
   ],
   "source": [
    "# This dataset has images of handwritten digits labelled with 10 classes (0 to 9)\n",
    "# Let's see the distribution opf classes,\n",
    "\n",
    "np.unique(digits.target, return_counts = True)"
   ]
  },
  {
   "cell_type": "code",
   "execution_count": 5,
   "id": "f7f5e8fe-35d0-42af-98aa-44d533b096c2",
   "metadata": {
    "execution": {
     "iopub.execute_input": "2023-05-28T00:46:02.661580Z",
     "iopub.status.busy": "2023-05-28T00:46:02.661580Z",
     "iopub.status.idle": "2023-05-28T00:46:02.670416Z",
     "shell.execute_reply": "2023-05-28T00:46:02.669827Z",
     "shell.execute_reply.started": "2023-05-28T00:46:02.661580Z"
    }
   },
   "outputs": [],
   "source": [
    "# Labels seem more/less balancedly distributed."
   ]
  },
  {
   "cell_type": "code",
   "execution_count": null,
   "id": "3fb82b01-dc33-4cf4-97f0-5c18d17c0775",
   "metadata": {},
   "outputs": [],
   "source": []
  },
  {
   "cell_type": "code",
   "execution_count": 6,
   "id": "5449eca0-66a6-4925-b043-48a2b0ed7cda",
   "metadata": {
    "execution": {
     "iopub.execute_input": "2023-05-28T00:46:03.223229Z",
     "iopub.status.busy": "2023-05-28T00:46:03.223229Z",
     "iopub.status.idle": "2023-05-28T00:46:03.234723Z",
     "shell.execute_reply": "2023-05-28T00:46:03.234101Z",
     "shell.execute_reply.started": "2023-05-28T00:46:03.223229Z"
    }
   },
   "outputs": [
    {
     "data": {
      "text/plain": [
       "array([0, 1, 1, ..., 1, 1, 1])"
      ]
     },
     "execution_count": 6,
     "metadata": {},
     "output_type": "execute_result"
    }
   ],
   "source": [
    "# let's skew this dataset by convetring all non-zero lables as positive, i.e. 1 (Positive class)\n",
    "# and keep the 0 labels as the negative class.\n",
    "\n",
    "skewed_targets = digits.target.copy()\n",
    "skewed_targets[np.where(skewed_targets != 0)] = 1\n",
    "skewed_targets"
   ]
  },
  {
   "cell_type": "code",
   "execution_count": 7,
   "id": "8ed58ab5-8a15-40de-807f-346e543b786d",
   "metadata": {
    "execution": {
     "iopub.execute_input": "2023-05-28T00:46:03.514347Z",
     "iopub.status.busy": "2023-05-28T00:46:03.505332Z",
     "iopub.status.idle": "2023-05-28T00:46:03.522092Z",
     "shell.execute_reply": "2023-05-28T00:46:03.521572Z",
     "shell.execute_reply.started": "2023-05-28T00:46:03.514347Z"
    }
   },
   "outputs": [
    {
     "data": {
      "text/plain": [
       "(array([0, 1]), array([ 178, 1619], dtype=int64))"
      ]
     },
     "execution_count": 7,
     "metadata": {},
     "output_type": "execute_result"
    }
   ],
   "source": [
    "np.unique(skewed_targets, return_counts = True)"
   ]
  },
  {
   "cell_type": "code",
   "execution_count": 8,
   "id": "a1c3c204-f6ed-4e66-9053-16ba95f50c3f",
   "metadata": {
    "execution": {
     "iopub.execute_input": "2023-05-28T00:46:03.757193Z",
     "iopub.status.busy": "2023-05-28T00:46:03.757193Z",
     "iopub.status.idle": "2023-05-28T00:46:03.764645Z",
     "shell.execute_reply": "2023-05-28T00:46:03.764348Z",
     "shell.execute_reply.started": "2023-05-28T00:46:03.757193Z"
    }
   },
   "outputs": [],
   "source": [
    "# Now we have a very skewed target"
   ]
  },
  {
   "cell_type": "code",
   "execution_count": 9,
   "id": "55d00af2-24d7-4204-a015-7fc6b4430d2d",
   "metadata": {
    "execution": {
     "iopub.execute_input": "2023-05-28T00:46:03.945473Z",
     "iopub.status.busy": "2023-05-28T00:46:03.945473Z",
     "iopub.status.idle": "2023-05-28T00:46:03.958948Z",
     "shell.execute_reply": "2023-05-28T00:46:03.958357Z",
     "shell.execute_reply.started": "2023-05-28T00:46:03.945473Z"
    }
   },
   "outputs": [],
   "source": [
    "train_x, test_x, train_y, test_y = train_test_split(digits.data, skewed_targets, train_size = 0.8)"
   ]
  },
  {
   "cell_type": "code",
   "execution_count": 10,
   "id": "db66d7ef-f30e-41fc-a6fb-b5d0f83414f4",
   "metadata": {
    "execution": {
     "iopub.execute_input": "2023-05-28T00:46:04.102974Z",
     "iopub.status.busy": "2023-05-28T00:46:04.102974Z",
     "iopub.status.idle": "2023-05-28T00:46:04.129016Z",
     "shell.execute_reply": "2023-05-28T00:46:04.129016Z",
     "shell.execute_reply.started": "2023-05-28T00:46:04.102974Z"
    }
   },
   "outputs": [],
   "source": [
    "svclassifier = SVC(kernel = \"rbf\", C = 1).fit(train_x, train_y)"
   ]
  },
  {
   "cell_type": "code",
   "execution_count": 11,
   "id": "2aa2e96a-2dbc-4d61-97b9-c42e88eb8ce1",
   "metadata": {
    "execution": {
     "iopub.execute_input": "2023-05-28T00:46:04.260438Z",
     "iopub.status.busy": "2023-05-28T00:46:04.260438Z",
     "iopub.status.idle": "2023-05-28T00:46:04.294518Z",
     "shell.execute_reply": "2023-05-28T00:46:04.293508Z",
     "shell.execute_reply.started": "2023-05-28T00:46:04.260438Z"
    }
   },
   "outputs": [
    {
     "data": {
      "text/plain": [
       "1.0"
      ]
     },
     "execution_count": 11,
     "metadata": {},
     "output_type": "execute_result"
    }
   ],
   "source": [
    "svclassifier.score(train_x, train_y)"
   ]
  },
  {
   "cell_type": "code",
   "execution_count": 12,
   "id": "89c5b519-d852-483a-9614-74800d402fca",
   "metadata": {
    "execution": {
     "iopub.execute_input": "2023-05-28T00:46:04.433090Z",
     "iopub.status.busy": "2023-05-28T00:46:04.433090Z",
     "iopub.status.idle": "2023-05-28T00:46:04.453294Z",
     "shell.execute_reply": "2023-05-28T00:46:04.453294Z",
     "shell.execute_reply.started": "2023-05-28T00:46:04.433090Z"
    }
   },
   "outputs": [
    {
     "data": {
      "text/plain": [
       "1.0"
      ]
     },
     "execution_count": 12,
     "metadata": {},
     "output_type": "execute_result"
    }
   ],
   "source": [
    "svclassifier.score(test_x, test_y)"
   ]
  },
  {
   "cell_type": "code",
   "execution_count": 13,
   "id": "912e5b76-f8bc-425d-866c-452b955f8571",
   "metadata": {
    "execution": {
     "iopub.execute_input": "2023-05-28T00:46:04.574528Z",
     "iopub.status.busy": "2023-05-28T00:46:04.574528Z",
     "iopub.status.idle": "2023-05-28T00:46:04.589197Z",
     "shell.execute_reply": "2023-05-28T00:46:04.589197Z",
     "shell.execute_reply.started": "2023-05-28T00:46:04.574528Z"
    }
   },
   "outputs": [],
   "source": [
    "# Now that's a 100% accuracy\n",
    "# Let's do a control experiment and make a dummy classifier."
   ]
  },
  {
   "cell_type": "code",
   "execution_count": 14,
   "id": "3b4a5556-3466-4faf-8af0-42ec021ba207",
   "metadata": {
    "execution": {
     "iopub.execute_input": "2023-05-28T00:46:04.747149Z",
     "iopub.status.busy": "2023-05-28T00:46:04.747149Z",
     "iopub.status.idle": "2023-05-28T00:46:04.767060Z",
     "shell.execute_reply": "2023-05-28T00:46:04.765961Z",
     "shell.execute_reply.started": "2023-05-28T00:46:04.747149Z"
    }
   },
   "outputs": [],
   "source": [
    "dmmyClassifier = DummyClassifier(strategy = \"most_frequent\").fit(train_x, train_y)"
   ]
  },
  {
   "cell_type": "code",
   "execution_count": 15,
   "id": "6c9e22b4-8aeb-4d9f-b4b5-d7664c225065",
   "metadata": {
    "execution": {
     "iopub.execute_input": "2023-05-28T00:46:04.919461Z",
     "iopub.status.busy": "2023-05-28T00:46:04.919461Z",
     "iopub.status.idle": "2023-05-28T00:46:04.928983Z",
     "shell.execute_reply": "2023-05-28T00:46:04.928983Z",
     "shell.execute_reply.started": "2023-05-28T00:46:04.919461Z"
    }
   },
   "outputs": [
    {
     "data": {
      "text/plain": [
       "0.8970076548364648"
      ]
     },
     "execution_count": 15,
     "metadata": {},
     "output_type": "execute_result"
    }
   ],
   "source": [
    "dmmyClassifier.score(train_x, train_y)"
   ]
  },
  {
   "cell_type": "code",
   "execution_count": 16,
   "id": "3b4dd807-d432-4350-9ab5-bf1c8fba6409",
   "metadata": {
    "execution": {
     "iopub.execute_input": "2023-05-28T00:46:05.092309Z",
     "iopub.status.busy": "2023-05-28T00:46:05.092309Z",
     "iopub.status.idle": "2023-05-28T00:46:05.115836Z",
     "shell.execute_reply": "2023-05-28T00:46:05.115279Z",
     "shell.execute_reply.started": "2023-05-28T00:46:05.092309Z"
    }
   },
   "outputs": [
    {
     "data": {
      "text/plain": [
       "0.9166666666666666"
      ]
     },
     "execution_count": 16,
     "metadata": {},
     "output_type": "execute_result"
    }
   ],
   "source": [
    "dmmyClassifier.score(test_x, test_y)"
   ]
  },
  {
   "cell_type": "code",
   "execution_count": 17,
   "id": "773b0236-36a0-4084-89e5-3bea42d315bb",
   "metadata": {
    "execution": {
     "iopub.execute_input": "2023-05-28T00:46:05.263300Z",
     "iopub.status.busy": "2023-05-28T00:46:05.263300Z",
     "iopub.status.idle": "2023-05-28T00:46:05.269125Z",
     "shell.execute_reply": "2023-05-28T00:46:05.268093Z",
     "shell.execute_reply.started": "2023-05-28T00:46:05.263300Z"
    }
   },
   "outputs": [],
   "source": [
    "# Dummy classifiers completely ignore train_x but examine the train_y to determine the frequency of the labels, \n",
    "# to figure out the label with the highest frequency.\n",
    "# Even a classifier that did not truly assimilate the data gives a 87% accuracy score."
   ]
  },
  {
   "cell_type": "code",
   "execution_count": 18,
   "id": "cfa8328e-2a6f-4598-9bdd-22c96187aa0e",
   "metadata": {
    "execution": {
     "iopub.execute_input": "2023-05-28T00:46:05.436624Z",
     "iopub.status.busy": "2023-05-28T00:46:05.436624Z",
     "iopub.status.idle": "2023-05-28T00:46:05.456505Z",
     "shell.execute_reply": "2023-05-28T00:46:05.455971Z",
     "shell.execute_reply.started": "2023-05-28T00:46:05.436624Z"
    }
   },
   "outputs": [
    {
     "data": {
      "text/plain": [
       "array([1, 1, 1, 1, 1, 1, 1, 1, 1, 1, 1, 1, 1, 1, 1, 1, 1, 1, 1, 1, 1, 1,\n",
       "       1, 1, 1, 1, 1, 1, 1, 1, 1, 1, 1, 1, 1, 1, 1, 1, 1, 1, 1, 1, 1, 1,\n",
       "       1, 1, 1, 1, 1, 1, 1, 1, 1, 1, 1, 1, 1, 1, 1, 1, 1, 1, 1, 1, 1, 1,\n",
       "       1, 1, 1, 1, 1, 1, 1, 1, 1, 1, 1, 1, 1, 1, 1, 1, 1, 1, 1, 1, 1, 1,\n",
       "       1, 1, 1, 1, 1, 1, 1, 1, 1, 1, 1, 1, 1, 1, 1, 1, 1, 1, 1, 1, 1, 1,\n",
       "       1, 1, 1, 1, 1, 1, 1, 1, 1, 1, 1, 1, 1, 1, 1, 1, 1, 1, 1, 1, 1, 1,\n",
       "       1, 1, 1, 1, 1, 1, 1, 1, 1, 1, 1, 1, 1, 1, 1, 1, 1, 1, 1, 1, 1, 1,\n",
       "       1, 1, 1, 1, 1, 1, 1, 1, 1, 1, 1, 1, 1, 1, 1, 1, 1, 1, 1, 1, 1, 1,\n",
       "       1, 1, 1, 1, 1, 1, 1, 1, 1, 1, 1, 1, 1, 1, 1, 1, 1, 1, 1, 1, 1, 1,\n",
       "       1, 1, 1, 1, 1, 1, 1, 1, 1, 1, 1, 1, 1, 1, 1, 1, 1, 1, 1, 1, 1, 1,\n",
       "       1, 1, 1, 1, 1, 1, 1, 1, 1, 1, 1, 1, 1, 1, 1, 1, 1, 1, 1, 1, 1, 1,\n",
       "       1, 1, 1, 1, 1, 1, 1, 1, 1, 1, 1, 1, 1, 1, 1, 1, 1, 1, 1, 1, 1, 1,\n",
       "       1, 1, 1, 1, 1, 1, 1, 1, 1, 1, 1, 1, 1, 1, 1, 1, 1, 1, 1, 1, 1, 1,\n",
       "       1, 1, 1, 1, 1, 1, 1, 1, 1, 1, 1, 1, 1, 1, 1, 1, 1, 1, 1, 1, 1, 1,\n",
       "       1, 1, 1, 1, 1, 1, 1, 1, 1, 1, 1, 1, 1, 1, 1, 1, 1, 1, 1, 1, 1, 1,\n",
       "       1, 1, 1, 1, 1, 1, 1, 1, 1, 1, 1, 1, 1, 1, 1, 1, 1, 1, 1, 1, 1, 1,\n",
       "       1, 1, 1, 1, 1, 1, 1, 1])"
      ]
     },
     "execution_count": 18,
     "metadata": {},
     "output_type": "execute_result"
    }
   ],
   "source": [
    "# See the homogenous predictions\n",
    "\n",
    "dmmyClassifier.predict(test_x)"
   ]
  },
  {
   "cell_type": "code",
   "execution_count": 19,
   "id": "a735589a-320d-41bd-bd84-654c7bb1bd1b",
   "metadata": {
    "execution": {
     "iopub.execute_input": "2023-05-28T00:46:05.610178Z",
     "iopub.status.busy": "2023-05-28T00:46:05.610178Z",
     "iopub.status.idle": "2023-05-28T00:46:05.619368Z",
     "shell.execute_reply": "2023-05-28T00:46:05.619315Z",
     "shell.execute_reply.started": "2023-05-28T00:46:05.610178Z"
    }
   },
   "outputs": [],
   "source": [
    "# Dummy classifiers provide a NULL accuracy baseline.\n",
    "# Albeit peing useless for real problems, it provides a way to do sanity checks for comparison.\n",
    "# There are different strategies available to determine how the dummy classifier is to choose the label.\n",
    "\n",
    "# 1) most frequent -> returns the label with the highest frequency\n",
    "# 2) stratified -> random predictions based on the class distribution in the train_y\n",
    "# 3) uniform -> predictions made randomly and uniformly\n",
    "# 4) constant -> returns a constant user provided label"
   ]
  },
  {
   "cell_type": "code",
   "execution_count": null,
   "id": "c8cab126-d9fb-4069-be80-b4fb196477bc",
   "metadata": {},
   "outputs": [],
   "source": []
  },
  {
   "cell_type": "markdown",
   "id": "a3557435-b45c-491b-bdf9-a3ac24c103aa",
   "metadata": {},
   "source": [
    "## ___What if a Model's Accuracy is Close to the Null Baseline?___\n",
    "------------------"
   ]
  },
  {
   "cell_type": "code",
   "execution_count": 20,
   "id": "7e0b36fb-af45-4624-a0e4-08b742796806",
   "metadata": {
    "execution": {
     "iopub.execute_input": "2023-05-28T00:46:07.025597Z",
     "iopub.status.busy": "2023-05-28T00:46:07.025597Z",
     "iopub.status.idle": "2023-05-28T00:46:07.037908Z",
     "shell.execute_reply": "2023-05-28T00:46:07.036753Z",
     "shell.execute_reply.started": "2023-05-28T00:46:07.025597Z"
    }
   },
   "outputs": [],
   "source": [
    "# This might indicate\n",
    "\n",
    "# 1) Ineffective, erroneous or missing features\n",
    "# 2) Poorly chosen kernel or parameters\n",
    "# 3) Huge disparity in classes (highly imbalanced)"
   ]
  },
  {
   "cell_type": "code",
   "execution_count": 21,
   "id": "1b9c3be5-db65-4097-b07e-cad4a230cc1a",
   "metadata": {
    "execution": {
     "iopub.execute_input": "2023-05-28T00:46:07.245407Z",
     "iopub.status.busy": "2023-05-28T00:46:07.245407Z",
     "iopub.status.idle": "2023-05-28T00:46:07.254321Z",
     "shell.execute_reply": "2023-05-28T00:46:07.253711Z",
     "shell.execute_reply.started": "2023-05-28T00:46:07.245407Z"
    }
   },
   "outputs": [],
   "source": [
    "# In general, for datasets with imbalanced classes we should opt for perofrmance metrics other than the accuracy score (R square)\n",
    "# e.g. AUC score -> Area Under the Curve"
   ]
  },
  {
   "cell_type": "code",
   "execution_count": null,
   "id": "8af29835-81b6-403e-aa2c-7465cdb52871",
   "metadata": {},
   "outputs": [],
   "source": []
  },
  {
   "cell_type": "markdown",
   "id": "23d963c3-ea04-4c8f-9a72-e6c6df0d3138",
   "metadata": {},
   "source": [
    "## ___Dummy Regressors___\n",
    "------------"
   ]
  },
  {
   "cell_type": "code",
   "execution_count": 22,
   "id": "8f38f914-a3e4-4c88-83f0-fd3766f933fe",
   "metadata": {
    "execution": {
     "iopub.execute_input": "2023-05-28T00:46:08.044562Z",
     "iopub.status.busy": "2023-05-28T00:46:08.044562Z",
     "iopub.status.idle": "2023-05-28T00:46:08.053443Z",
     "shell.execute_reply": "2023-05-28T00:46:08.053384Z",
     "shell.execute_reply.started": "2023-05-28T00:46:08.044562Z"
    }
   },
   "outputs": [],
   "source": [
    "# Dummy regressors are the regression counterparts for dummy classifiers.\n",
    "# Dummy regressors also have several strategies to determine the output.\n",
    "# mean -> mean of all values in train_y\n",
    "# median -> median of all values in train_y\n",
    "# quantile -> returns a user provided nth quantile of train_y\n",
    "# constant -> returns a user provided constant.\n",
    "\n",
    "# Dummy regressors give a null basedline for sanity checks on regression models."
   ]
  },
  {
   "cell_type": "code",
   "execution_count": null,
   "id": "5795a697-147c-4e64-9567-1d284e76d272",
   "metadata": {},
   "outputs": [],
   "source": []
  },
  {
   "cell_type": "markdown",
   "id": "2471872d-13a5-4b91-ad82-137f12201f54",
   "metadata": {},
   "source": [
    "## ___Binary Prediction Outcomes___\n",
    "--------------"
   ]
  },
  {
   "cell_type": "code",
   "execution_count": 23,
   "id": "697e9933-e394-42a1-b353-6c1a87e08d56",
   "metadata": {
    "execution": {
     "iopub.execute_input": "2023-05-28T00:46:09.002317Z",
     "iopub.status.busy": "2023-05-28T00:46:09.002317Z",
     "iopub.status.idle": "2023-05-28T00:46:09.022882Z",
     "shell.execute_reply": "2023-05-28T00:46:09.022357Z",
     "shell.execute_reply.started": "2023-05-28T00:46:09.002317Z"
    }
   },
   "outputs": [],
   "source": [
    "# True positives -> when the real output and the predictions are \"true\"\n",
    "# False positives -> when the real output should be \"false\", but the prediction is \"true\"\n",
    "\n",
    "# True negative -> when the real output and the prediction are \"false\"\n",
    "# False negative -> when the real output is \"true\", bu the prediction is \"false\""
   ]
  },
  {
   "cell_type": "code",
   "execution_count": null,
   "id": "640d1e43-3eb8-4715-addc-03323a273ed4",
   "metadata": {},
   "outputs": [],
   "source": []
  },
  {
   "cell_type": "markdown",
   "id": "1fb5aed7-6f9f-44a5-aec5-f5fd295cde4f",
   "metadata": {},
   "source": [
    "## ___Confusion Matrix___\n",
    "----------"
   ]
  },
  {
   "cell_type": "code",
   "execution_count": 24,
   "id": "568679c9-7fcb-4050-b92f-d81180ea5fd1",
   "metadata": {
    "execution": {
     "iopub.execute_input": "2023-05-28T00:46:09.837491Z",
     "iopub.status.busy": "2023-05-28T00:46:09.837491Z",
     "iopub.status.idle": "2023-05-28T00:46:09.853178Z",
     "shell.execute_reply": "2023-05-28T00:46:09.852177Z",
     "shell.execute_reply.started": "2023-05-28T00:46:09.837491Z"
    }
   },
   "outputs": [],
   "source": [
    "# A matrix of all combinations of predicted labels and true labels is called a confusion matrix."
   ]
  },
  {
   "cell_type": "markdown",
   "id": "bf804716-a438-4fc0-b55a-238a903cb964",
   "metadata": {},
   "source": [
    "| State | Positives | Negatives |\n",
    "| :---- | :--------- | :-------- |\n",
    "| True |5          | 356 |\n",
    "| False| 51 | 38|\n",
    "\n",
    "### __$N = 450$__"
   ]
  },
  {
   "cell_type": "code",
   "execution_count": 25,
   "id": "b4773b4b-195c-4e94-afb5-e95b4c9bcf62",
   "metadata": {
    "execution": {
     "iopub.execute_input": "2023-05-28T00:46:10.625258Z",
     "iopub.status.busy": "2023-05-28T00:46:10.625258Z",
     "iopub.status.idle": "2023-05-28T00:46:10.635441Z",
     "shell.execute_reply": "2023-05-28T00:46:10.634932Z",
     "shell.execute_reply.started": "2023-05-28T00:46:10.625258Z"
    }
   },
   "outputs": [],
   "source": [
    "# We can take any prediction of the classifier and categorize it into one of the cells of this matrix.\n",
    "# Confusion matrices are aslo possible for multiclass classifications, instead of a 2x2 matrix we'd have a kxk matrix where k indicates the \n",
    "# number of classes."
   ]
  },
  {
   "cell_type": "code",
   "execution_count": null,
   "id": "ed579e49-da53-4f0c-b976-8ff0199f44b5",
   "metadata": {},
   "outputs": [],
   "source": []
  },
  {
   "cell_type": "code",
   "execution_count": 39,
   "id": "ae242732-e0c0-4ebd-ad84-8c92a1f5b3d3",
   "metadata": {
    "execution": {
     "iopub.execute_input": "2023-05-28T00:57:10.680632Z",
     "iopub.status.busy": "2023-05-28T00:57:10.680632Z",
     "iopub.status.idle": "2023-05-28T00:57:10.688388Z",
     "shell.execute_reply": "2023-05-28T00:57:10.688388Z",
     "shell.execute_reply.started": "2023-05-28T00:57:10.680632Z"
    }
   },
   "outputs": [],
   "source": [
    "target = digits.target.copy()\n",
    "target[np.where(target != 0)] = 1\n",
    "train_x, test_x, train_y, test_y = train_test_split(digits.data, target, train_size = 0.8)"
   ]
  },
  {
   "cell_type": "code",
   "execution_count": 40,
   "id": "b7409f8d-1ae2-433d-8547-924f09933d93",
   "metadata": {
    "execution": {
     "iopub.execute_input": "2023-05-28T00:57:11.114807Z",
     "iopub.status.busy": "2023-05-28T00:57:11.114807Z",
     "iopub.status.idle": "2023-05-28T00:57:11.121020Z",
     "shell.execute_reply": "2023-05-28T00:57:11.120502Z",
     "shell.execute_reply.started": "2023-05-28T00:57:11.114807Z"
    }
   },
   "outputs": [],
   "source": [
    "dmyClassifier = DummyClassifier(strategy = \"most_frequent\").fit(train_x, train_y)\n",
    "preds = dmyClassifier.predict(test_x)"
   ]
  },
  {
   "cell_type": "code",
   "execution_count": 41,
   "id": "01aae866-3d65-446a-9049-ccb7aa872c43",
   "metadata": {
    "execution": {
     "iopub.execute_input": "2023-05-28T00:57:12.004016Z",
     "iopub.status.busy": "2023-05-28T00:57:12.004016Z",
     "iopub.status.idle": "2023-05-28T00:57:12.019404Z",
     "shell.execute_reply": "2023-05-28T00:57:12.018350Z",
     "shell.execute_reply.started": "2023-05-28T00:57:12.004016Z"
    }
   },
   "outputs": [
    {
     "data": {
      "text/plain": [
       "array([[  0,  35],\n",
       "       [  0, 325]], dtype=int64)"
      ]
     },
     "execution_count": 41,
     "metadata": {},
     "output_type": "execute_result"
    }
   ],
   "source": [
    "confusion_matrix(y_true = test_y, y_pred = preds)"
   ]
  },
  {
   "cell_type": "code",
   "execution_count": 38,
   "id": "9c8da836-8a79-4de8-a61c-353848a0308c",
   "metadata": {
    "execution": {
     "iopub.execute_input": "2023-05-28T00:56:34.510931Z",
     "iopub.status.busy": "2023-05-28T00:56:34.510931Z",
     "iopub.status.idle": "2023-05-28T00:56:34.521505Z",
     "shell.execute_reply": "2023-05-28T00:56:34.519239Z",
     "shell.execute_reply.started": "2023-05-28T00:56:34.510931Z"
    }
   },
   "outputs": [],
   "source": [
    "# Successfull predictions are along the diagonal axis of the matrix, where the true class matches the predicted class.\n",
    "\n",
    "# Right column is where the classifier predicted the 1 label (majority)\n",
    "# Left column is where the prediction was label 0 -> none made since it is not the most frequent label.\n",
    "\n",
    "# So, in the confusion matrix we only have true positives and false positives .\n",
    "# True positives -> 332\n",
    "# False positives -> 28\n",
    "\n",
    "# No negatives since our classifier did not predict any negative (0) labels."
   ]
  },
  {
   "cell_type": "code",
   "execution_count": 42,
   "id": "38ff15d0-08cd-4d14-9120-5c1cff88a952",
   "metadata": {
    "execution": {
     "iopub.execute_input": "2023-05-28T00:57:58.250190Z",
     "iopub.status.busy": "2023-05-28T00:57:58.250190Z",
     "iopub.status.idle": "2023-05-28T00:57:58.294346Z",
     "shell.execute_reply": "2023-05-28T00:57:58.294346Z",
     "shell.execute_reply.started": "2023-05-28T00:57:58.250190Z"
    }
   },
   "outputs": [
    {
     "data": {
      "text/plain": [
       "array([[  5,  30],\n",
       "       [ 32, 293]], dtype=int64)"
      ]
     },
     "execution_count": 42,
     "metadata": {},
     "output_type": "execute_result"
    }
   ],
   "source": [
    "# Let's see are there any changes when we change the strategy,\n",
    "\n",
    "dmyClassifier = DummyClassifier(strategy = \"stratified\").fit(train_x, train_y)\n",
    "preds = dmyClassifier.predict(test_x)\n",
    "confusion_matrix(y_true = test_y, y_pred = preds)"
   ]
  },
  {
   "cell_type": "code",
   "execution_count": 43,
   "id": "a806c1a2-b2c6-4d3e-824e-a03c247aa2ae",
   "metadata": {
    "execution": {
     "iopub.execute_input": "2023-05-28T01:00:28.807487Z",
     "iopub.status.busy": "2023-05-28T01:00:28.807487Z",
     "iopub.status.idle": "2023-05-28T01:00:28.815465Z",
     "shell.execute_reply": "2023-05-28T01:00:28.814373Z",
     "shell.execute_reply.started": "2023-05-28T01:00:28.807487Z"
    }
   },
   "outputs": [],
   "source": [
    "# Now the left column is no longer all zeroes, since this classifier did predict some negative (0) labels."
   ]
  },
  {
   "cell_type": "code",
   "execution_count": null,
   "id": "2860db9b-ef7d-46c7-9a82-5544d65e9d03",
   "metadata": {},
   "outputs": [],
   "source": []
  },
  {
   "cell_type": "code",
   "execution_count": 45,
   "id": "e0ead2ce-8123-4bcc-bb15-c191c7bf67cf",
   "metadata": {
    "execution": {
     "iopub.execute_input": "2023-05-28T01:01:40.241602Z",
     "iopub.status.busy": "2023-05-28T01:01:40.241602Z",
     "iopub.status.idle": "2023-05-28T01:01:40.263534Z",
     "shell.execute_reply": "2023-05-28T01:01:40.263022Z",
     "shell.execute_reply.started": "2023-05-28T01:01:40.241602Z"
    }
   },
   "outputs": [
    {
     "data": {
      "text/plain": [
       "array([[ 35,   0],\n",
       "       [  0, 325]], dtype=int64)"
      ]
     },
     "execution_count": 45,
     "metadata": {},
     "output_type": "execute_result"
    }
   ],
   "source": [
    "svclassifier = SVC(kernel = \"linear\", C = 1).fit(train_x, train_y)\n",
    "preds = svclassifier.predict(test_x)\n",
    "confusion_matrix(y_true = test_y, y_pred = preds)"
   ]
  },
  {
   "cell_type": "code",
   "execution_count": 46,
   "id": "2f95892f-88db-43b5-abe9-f3292a9af7c0",
   "metadata": {
    "execution": {
     "iopub.execute_input": "2023-05-28T01:02:13.063627Z",
     "iopub.status.busy": "2023-05-28T01:02:13.063627Z",
     "iopub.status.idle": "2023-05-28T01:02:13.070983Z",
     "shell.execute_reply": "2023-05-28T01:02:13.070314Z",
     "shell.execute_reply.started": "2023-05-28T01:02:13.063627Z"
    }
   },
   "outputs": [],
   "source": [
    "# No incorrect predictions."
   ]
  },
  {
   "cell_type": "code",
   "execution_count": null,
   "id": "15178400-16cb-47d9-b70a-aa494bbd59ed",
   "metadata": {},
   "outputs": [],
   "source": []
  },
  {
   "cell_type": "code",
   "execution_count": 52,
   "id": "70f8d302-1f28-4712-9ea7-ae81e4733a41",
   "metadata": {
    "execution": {
     "iopub.execute_input": "2023-05-28T01:06:38.230566Z",
     "iopub.status.busy": "2023-05-28T01:06:38.230566Z",
     "iopub.status.idle": "2023-05-28T01:06:38.345048Z",
     "shell.execute_reply": "2023-05-28T01:06:38.345048Z",
     "shell.execute_reply.started": "2023-05-28T01:06:38.230566Z"
    }
   },
   "outputs": [
    {
     "data": {
      "text/plain": [
       "array([[ 35,   0],\n",
       "       [  0, 325]], dtype=int64)"
      ]
     },
     "execution_count": 52,
     "metadata": {},
     "output_type": "execute_result"
    }
   ],
   "source": [
    "logReg = LogisticRegression(max_iter = 10000).fit(train_x, train_y)\n",
    "preds = logReg.predict(test_x)\n",
    "confusion_matrix(y_true = test_y, y_pred = preds)"
   ]
  },
  {
   "cell_type": "code",
   "execution_count": 53,
   "id": "96d46f8d-3792-4210-975a-f4021d2d6aae",
   "metadata": {
    "execution": {
     "iopub.execute_input": "2023-05-28T01:06:38.380803Z",
     "iopub.status.busy": "2023-05-28T01:06:38.380803Z",
     "iopub.status.idle": "2023-05-28T01:06:38.396468Z",
     "shell.execute_reply": "2023-05-28T01:06:38.395450Z",
     "shell.execute_reply.started": "2023-05-28T01:06:38.380803Z"
    }
   },
   "outputs": [],
   "source": [
    "# Again, no incorrect predictions."
   ]
  },
  {
   "cell_type": "code",
   "execution_count": null,
   "id": "85775294-aea0-46e9-9204-b67b49aa9a3c",
   "metadata": {},
   "outputs": [],
   "source": []
  },
  {
   "cell_type": "code",
   "execution_count": 66,
   "id": "2097d016-6247-438a-b011-6f0b350af856",
   "metadata": {
    "execution": {
     "iopub.execute_input": "2023-05-28T01:07:37.391152Z",
     "iopub.status.busy": "2023-05-28T01:07:37.391152Z",
     "iopub.status.idle": "2023-05-28T01:07:37.409264Z",
     "shell.execute_reply": "2023-05-28T01:07:37.408231Z",
     "shell.execute_reply.started": "2023-05-28T01:07:37.391152Z"
    }
   },
   "outputs": [
    {
     "data": {
      "text/plain": [
       "array([[ 33,   2],\n",
       "       [  0, 325]], dtype=int64)"
      ]
     },
     "execution_count": 66,
     "metadata": {},
     "output_type": "execute_result"
    }
   ],
   "source": [
    "dtClassifier = DecisionTreeClassifier(min_samples_leaf = 10, max_depth = 5).fit(train_x, train_y)\n",
    "preds = dtClassifier.predict(test_x)\n",
    "confusion_matrix(y_true = test_y, y_pred = preds)"
   ]
  },
  {
   "cell_type": "code",
   "execution_count": null,
   "id": "4efda7a9-c859-4735-abd6-bb7c2120cbc9",
   "metadata": {},
   "outputs": [],
   "source": [
    "# 2 False positives!"
   ]
  }
 ],
 "metadata": {
  "kernelspec": {
   "display_name": "Python 3 (ipykernel)",
   "language": "python",
   "name": "python3"
  },
  "language_info": {
   "codemirror_mode": {
    "name": "ipython",
    "version": 3
   },
   "file_extension": ".py",
   "mimetype": "text/x-python",
   "name": "python",
   "nbconvert_exporter": "python",
   "pygments_lexer": "ipython3",
   "version": "3.11.3"
  }
 },
 "nbformat": 4,
 "nbformat_minor": 5
}
