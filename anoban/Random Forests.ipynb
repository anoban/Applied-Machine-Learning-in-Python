{
 "cells": [
  {
   "cell_type": "code",
   "execution_count": 7,
   "id": "1cd01911-af1d-4c8e-b5b6-ba624775108d",
   "metadata": {
    "execution": {
     "iopub.execute_input": "2023-06-02T12:39:26.689837Z",
     "iopub.status.busy": "2023-06-02T12:39:26.689837Z",
     "iopub.status.idle": "2023-06-02T12:39:26.695243Z",
     "shell.execute_reply": "2023-06-02T12:39:26.695243Z",
     "shell.execute_reply.started": "2023-06-02T12:39:26.689837Z"
    }
   },
   "outputs": [],
   "source": [
    "from sklearn.ensemble import RandomForestClassifier\n",
    "from sklearn.model_selection import train_test_split\n",
    "from sklearn.datasets import load_breast_cancer"
   ]
  },
  {
   "cell_type": "markdown",
   "id": "60c85ea0-152b-40c6-9ed8-25b86b972826",
   "metadata": {},
   "source": [
    "# ___Random Forests___\n",
    "--------------"
   ]
  },
  {
   "cell_type": "code",
   "execution_count": 1,
   "id": "1e71dab9-b828-41ba-ad46-d7c1bb298017",
   "metadata": {
    "execution": {
     "iopub.execute_input": "2023-06-02T11:58:57.228336Z",
     "iopub.status.busy": "2023-06-02T11:58:57.228336Z",
     "iopub.status.idle": "2023-06-02T11:58:57.232396Z",
     "shell.execute_reply": "2023-06-02T11:58:57.232325Z",
     "shell.execute_reply.started": "2023-06-02T11:58:57.228336Z"
    }
   },
   "outputs": [],
   "source": [
    "# A widely used and effective ML models are called ensambles.\n",
    "# Ensambles are made of combination of multiple individual models.\n",
    "# This aggregate models are more powerful than any of the constituent models alone."
   ]
  },
  {
   "cell_type": "code",
   "execution_count": 2,
   "id": "5cab0aaf-427c-4774-ab53-1d16d3de60dc",
   "metadata": {
    "execution": {
     "iopub.execute_input": "2023-06-02T12:01:43.968706Z",
     "iopub.status.busy": "2023-06-02T12:01:43.968706Z",
     "iopub.status.idle": "2023-06-02T12:01:43.983437Z",
     "shell.execute_reply": "2023-06-02T12:01:43.983437Z",
     "shell.execute_reply.started": "2023-06-02T12:01:43.968706Z"
    }
   },
   "outputs": [],
   "source": [
    "# The efficiency comes from articulating multiple models into an aggregate.\n",
    "# Even though the individual models may show good performance, they are prone to specific shortcomings.\n",
    "# They may overfit/underfit certain subsets/features of data.\n",
    "# By combining multiple models and averaging them, we reduce the risk of such shortcomings."
   ]
  },
  {
   "cell_type": "code",
   "execution_count": 3,
   "id": "25ca1602-be13-457d-842c-45d6a04502ca",
   "metadata": {
    "execution": {
     "iopub.execute_input": "2023-06-02T12:04:10.434869Z",
     "iopub.status.busy": "2023-06-02T12:04:10.434869Z",
     "iopub.status.idle": "2023-06-02T12:04:10.440315Z",
     "shell.execute_reply": "2023-06-02T12:04:10.439716Z",
     "shell.execute_reply.started": "2023-06-02T12:04:10.434869Z"
    }
   },
   "outputs": [],
   "source": [
    "# Random forests are an ensemble of decision trees.\n",
    "# Can be used for classification and regression.\n",
    "\n",
    "# Since decision trees are prone to overfitting data, combining multiple decision trees help mitigate this problem.\n",
    "# Multiple decision trees, in synergy show better generalizing capacity.\n",
    "# Trees that make up the ensemble must be diverse, during tree building via random variation."
   ]
  },
  {
   "cell_type": "code",
   "execution_count": 4,
   "id": "8ff0f38e-43c5-4c1d-a612-bbeb26903b1f",
   "metadata": {
    "execution": {
     "iopub.execute_input": "2023-06-02T12:07:54.680747Z",
     "iopub.status.busy": "2023-06-02T12:07:54.680747Z",
     "iopub.status.idle": "2023-06-02T12:07:54.687619Z",
     "shell.execute_reply": "2023-06-02T12:07:54.687353Z",
     "shell.execute_reply.started": "2023-06-02T12:07:54.680747Z"
    }
   },
   "outputs": [],
   "source": [
    "# Random variation is introduced into tree building in two ways.\n",
    "# 1) The data used to train each tree is chosen randomly.\n",
    "# 2) The features chosen for training each tree are also randomly selected."
   ]
  },
  {
   "cell_type": "code",
   "execution_count": 5,
   "id": "c49b276a-b906-448a-8017-1a915f006734",
   "metadata": {
    "execution": {
     "iopub.execute_input": "2023-06-02T12:32:18.239541Z",
     "iopub.status.busy": "2023-06-02T12:32:18.239541Z",
     "iopub.status.idle": "2023-06-02T12:32:18.248898Z",
     "shell.execute_reply": "2023-06-02T12:32:18.248843Z",
     "shell.execute_reply.started": "2023-06-02T12:32:18.239541Z"
    }
   },
   "outputs": [],
   "source": [
    "# To create a random forest model, you first decide on how many trees to build.\n",
    "# Each tree will be built from a different random sample of the data.\n",
    "# These samples are called the bootstrap samples.\n",
    "\n",
    "# If we have a training dataset with n records,\n",
    "# A bootstrap sample is created by randomly selecting n number of records from the training set WITH REPLACEMENT.\n",
    "# The size of the bootstrap sample is identical to the original training set (in contrast to k fold cross validation)\n",
    "# These samples may missing some rows from the original training set and may have multiple occurrences of a few records.\n",
    "\n",
    "# In contrast to decision trees where the deterministic feature is evaluated from all available features at nodes,\n",
    "# trees in random forests use a random subset of total features to evaluate the decisive feature at node.\n",
    "\n",
    "# These randomizations virtually gurantee that decision trees in random forests won't be identical.\n",
    "# random forest models are quite sensitive to the number of randomly chosen features (n) to be considered at nodes.\n",
    "# n = 1 leads to trees with branches made based on single features at nodes -> diverse, more complex trees. \n",
    "# n almost equal to the number of total features -> forests with similar and simpler trees. (less diversity)"
   ]
  },
  {
   "cell_type": "code",
   "execution_count": 6,
   "id": "f8e1398c-a3ee-423d-aaef-a6fd72e96848",
   "metadata": {
    "execution": {
     "iopub.execute_input": "2023-06-02T12:37:53.957829Z",
     "iopub.status.busy": "2023-06-02T12:37:53.957829Z",
     "iopub.status.idle": "2023-06-02T12:37:53.969152Z",
     "shell.execute_reply": "2023-06-02T12:37:53.968047Z",
     "shell.execute_reply.started": "2023-06-02T12:37:53.957829Z"
    }
   },
   "outputs": [],
   "source": [
    "# Random forests make predictions by first having every tree make a prediction for a given data point.\n",
    "# For regression, the overall prediction is the mean of the predictions made by all trees.\n",
    "# For classification, the overall prediction is based on weighted vote."
   ]
  },
  {
   "cell_type": "code",
   "execution_count": null,
   "id": "af15637c-4218-487a-9ea9-85e279fcfb90",
   "metadata": {},
   "outputs": [],
   "source": [
    "# Random forests, similar to decision trees does not require scaling or other feature preprocessings."
   ]
  },
  {
   "cell_type": "code",
   "execution_count": null,
   "id": "bfef1eb2-401b-462c-b3c7-25778c18fce6",
   "metadata": {},
   "outputs": [],
   "source": []
  },
  {
   "cell_type": "code",
   "execution_count": 8,
   "id": "a0998c96-0337-4588-88c0-404c0e6bf0ae",
   "metadata": {
    "execution": {
     "iopub.execute_input": "2023-06-02T12:40:11.195837Z",
     "iopub.status.busy": "2023-06-02T12:40:11.180359Z",
     "iopub.status.idle": "2023-06-02T12:40:11.218135Z",
     "shell.execute_reply": "2023-06-02T12:40:11.218081Z",
     "shell.execute_reply.started": "2023-06-02T12:40:11.195837Z"
    }
   },
   "outputs": [],
   "source": [
    "bcancer = load_breast_cancer()\n",
    "train_x, test_x, train_y, test_y = train_test_split(bcancer.data, bcancer.target, train_size = 0.8)"
   ]
  },
  {
   "cell_type": "code",
   "execution_count": 9,
   "id": "bba8fc80-d15a-4a99-8527-54b0c7816dc4",
   "metadata": {
    "execution": {
     "iopub.execute_input": "2023-06-02T12:41:33.895919Z",
     "iopub.status.busy": "2023-06-02T12:41:33.895919Z",
     "iopub.status.idle": "2023-06-02T12:41:33.908136Z",
     "shell.execute_reply": "2023-06-02T12:41:33.908136Z",
     "shell.execute_reply.started": "2023-06-02T12:41:33.895919Z"
    }
   },
   "outputs": [
    {
     "data": {
      "text/plain": [
       "(455, 30)"
      ]
     },
     "execution_count": 9,
     "metadata": {},
     "output_type": "execute_result"
    }
   ],
   "source": [
    "train_x.shape"
   ]
  },
  {
   "cell_type": "code",
   "execution_count": 31,
   "id": "8a87398f-e591-47f4-9908-63676cf38367",
   "metadata": {
    "execution": {
     "iopub.execute_input": "2023-06-02T12:46:13.579263Z",
     "iopub.status.busy": "2023-06-02T12:46:13.579263Z",
     "iopub.status.idle": "2023-06-02T12:46:13.878517Z",
     "shell.execute_reply": "2023-06-02T12:46:13.878517Z",
     "shell.execute_reply.started": "2023-06-02T12:46:13.579263Z"
    }
   },
   "outputs": [],
   "source": [
    "rfClassifier = RandomForestClassifier(n_estimators = 250, max_depth = 5, min_samples_leaf = 5, max_features = 8, n_jobs = -1).fit(train_x, train_y)"
   ]
  },
  {
   "cell_type": "code",
   "execution_count": 32,
   "id": "85f479b9-58f7-498b-954f-c3eacbd38162",
   "metadata": {
    "execution": {
     "iopub.execute_input": "2023-06-02T12:46:14.442035Z",
     "iopub.status.busy": "2023-06-02T12:46:14.442035Z",
     "iopub.status.idle": "2023-06-02T12:46:14.490250Z",
     "shell.execute_reply": "2023-06-02T12:46:14.490250Z",
     "shell.execute_reply.started": "2023-06-02T12:46:14.442035Z"
    }
   },
   "outputs": [
    {
     "data": {
      "text/plain": [
       "0.9473684210526315"
      ]
     },
     "execution_count": 32,
     "metadata": {},
     "output_type": "execute_result"
    }
   ],
   "source": [
    "rfClassifier.score(test_x, test_y)"
   ]
  },
  {
   "cell_type": "code",
   "execution_count": null,
   "id": "bcc9d4c1-9b1a-49e2-a592-441db6b4c38c",
   "metadata": {},
   "outputs": [],
   "source": []
  }
 ],
 "metadata": {
  "kernelspec": {
   "display_name": "Python 3 (ipykernel)",
   "language": "python",
   "name": "python3"
  },
  "language_info": {
   "codemirror_mode": {
    "name": "ipython",
    "version": 3
   },
   "file_extension": ".py",
   "mimetype": "text/x-python",
   "name": "python",
   "nbconvert_exporter": "python",
   "pygments_lexer": "ipython3",
   "version": "3.11.3"
  }
 },
 "nbformat": 4,
 "nbformat_minor": 5
}
