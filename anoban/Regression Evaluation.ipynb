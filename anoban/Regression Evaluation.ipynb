{
 "cells": [
  {
   "cell_type": "code",
   "execution_count": 30,
   "id": "0e6e23d7-7b74-48fa-a696-dbaafe0db0e3",
   "metadata": {
    "execution": {
     "iopub.execute_input": "2023-05-31T03:17:14.433148Z",
     "iopub.status.busy": "2023-05-31T03:17:14.433148Z",
     "iopub.status.idle": "2023-05-31T03:17:14.866912Z",
     "shell.execute_reply": "2023-05-31T03:17:14.866912Z",
     "shell.execute_reply.started": "2023-05-31T03:17:14.433148Z"
    }
   },
   "outputs": [],
   "source": [
    "from sklearn.datasets import load_diabetes\n",
    "from sklearn.linear_model import LinearRegression\n",
    "from sklearn.model_selection import train_test_split\n",
    "from sklearn.metrics import (mean_squared_error, r2_score)\n",
    "from sklearn.dummy import DummyRegressor\n",
    "import matplotlib.pyplot as plt"
   ]
  },
  {
   "cell_type": "markdown",
   "id": "c1a2e014-e1a8-4884-92f7-b27c441a6e92",
   "metadata": {},
   "source": [
    "# ___Regression Evaluation___\n",
    "--------------------"
   ]
  },
  {
   "cell_type": "code",
   "execution_count": 1,
   "id": "cb12c768-6cab-48c8-989d-342f581813a4",
   "metadata": {
    "execution": {
     "iopub.execute_input": "2023-05-31T02:58:27.387463Z",
     "iopub.status.busy": "2023-05-31T02:58:27.387463Z",
     "iopub.status.idle": "2023-05-31T02:58:27.395103Z",
     "shell.execute_reply": "2023-05-31T02:58:27.394065Z",
     "shell.execute_reply.started": "2023-05-31T02:58:27.387463Z"
    }
   },
   "outputs": [],
   "source": [
    "# In classification, the consequences of false positives are very different than false negatives.\n",
    "# These analyses could also be done for regression problems.\n",
    "\n",
    "# We could anlyze regression model's poerformance by calculating instances where the predictions were larger than the true value \n",
    "# and where the predictions were smaller than the true value.\n",
    "\n",
    "# However, for most regression problems differentiating between these two errors are not as important.\n",
    "# This simplifies evaluation of regression models quite a bit.\n",
    "# In most cases, the default R2 score (accuracy score) is adequate for most tasks.\n",
    "# R2 for a perfect predictor -> 1.0\n",
    "# R2 for a constant predictor -> 0.0"
   ]
  },
  {
   "cell_type": "code",
   "execution_count": 2,
   "id": "97178923-64f0-47db-84a2-e8d4d55d80c2",
   "metadata": {
    "execution": {
     "iopub.execute_input": "2023-05-31T03:01:29.427590Z",
     "iopub.status.busy": "2023-05-31T03:01:29.427590Z",
     "iopub.status.idle": "2023-05-31T03:01:29.434694Z",
     "shell.execute_reply": "2023-05-31T03:01:29.434694Z",
     "shell.execute_reply.started": "2023-05-31T03:01:29.427590Z"
    }
   },
   "outputs": [],
   "source": [
    "# R2 score has the potential to become negative in certain cases of bad model fits.\n",
    "# There are some alternative metrics for evaluating regression models that work a little different than R2 score.\n",
    "\n",
    "# 1) mean_absolute_error -> absolute difference between target & prediction\n",
    "# 2) mean_squared_error -> squared difference between target & prediction\n",
    "# 3) median_absolute_error -> less sensitive to outliers"
   ]
  },
  {
   "cell_type": "code",
   "execution_count": 3,
   "id": "b48a621b-6212-4441-97fd-ac180e1968c8",
   "metadata": {
    "execution": {
     "iopub.execute_input": "2023-05-31T03:03:58.664201Z",
     "iopub.status.busy": "2023-05-31T03:03:58.664201Z",
     "iopub.status.idle": "2023-05-31T03:03:58.671289Z",
     "shell.execute_reply": "2023-05-31T03:03:58.671289Z",
     "shell.execute_reply.started": "2023-05-31T03:03:58.664201Z"
    }
   },
   "outputs": [],
   "source": [
    "# Dummy regressors \n",
    "\n",
    "# Dummy regressors can give simple and useful baselines to compare against regressors.\n",
    "# Dummy regressors make predictions based on simple criteria without actually looking at the training data."
   ]
  },
  {
   "cell_type": "code",
   "execution_count": null,
   "id": "bc55c4f8-16c1-4e28-aa19-ff657358215f",
   "metadata": {},
   "outputs": [],
   "source": []
  },
  {
   "cell_type": "code",
   "execution_count": 5,
   "id": "62310fe3-d5cd-47e6-b88a-15a6dc6a0c74",
   "metadata": {
    "execution": {
     "iopub.execute_input": "2023-05-31T03:06:16.348398Z",
     "iopub.status.busy": "2023-05-31T03:06:16.348398Z",
     "iopub.status.idle": "2023-05-31T03:06:16.429202Z",
     "shell.execute_reply": "2023-05-31T03:06:16.429202Z",
     "shell.execute_reply.started": "2023-05-31T03:06:16.348398Z"
    }
   },
   "outputs": [],
   "source": [
    "diabetes = load_diabetes()"
   ]
  },
  {
   "cell_type": "code",
   "execution_count": 9,
   "id": "8d3553c1-f985-4461-8903-a9d4eda68f11",
   "metadata": {
    "execution": {
     "iopub.execute_input": "2023-05-31T03:06:38.435044Z",
     "iopub.status.busy": "2023-05-31T03:06:38.435044Z",
     "iopub.status.idle": "2023-05-31T03:06:38.446425Z",
     "shell.execute_reply": "2023-05-31T03:06:38.445411Z",
     "shell.execute_reply.started": "2023-05-31T03:06:38.435044Z"
    }
   },
   "outputs": [
    {
     "data": {
      "text/plain": [
       "(442, 10)"
      ]
     },
     "execution_count": 9,
     "metadata": {},
     "output_type": "execute_result"
    }
   ],
   "source": [
    "diabetes.data.shape"
   ]
  },
  {
   "cell_type": "code",
   "execution_count": 13,
   "id": "7a1c728f-444a-42c1-a957-3403ee7d8af6",
   "metadata": {
    "execution": {
     "iopub.execute_input": "2023-05-31T03:07:04.684216Z",
     "iopub.status.busy": "2023-05-31T03:07:04.684216Z",
     "iopub.status.idle": "2023-05-31T03:07:04.703026Z",
     "shell.execute_reply": "2023-05-31T03:07:04.701771Z",
     "shell.execute_reply.started": "2023-05-31T03:07:04.684216Z"
    }
   },
   "outputs": [
    {
     "data": {
      "text/plain": [
       "['age', 'sex', 'bmi', 'bp', 's1', 's2', 's3', 's4', 's5', 's6']"
      ]
     },
     "execution_count": 13,
     "metadata": {},
     "output_type": "execute_result"
    }
   ],
   "source": [
    "diabetes.feature_names"
   ]
  },
  {
   "cell_type": "code",
   "execution_count": 21,
   "id": "d1520f46-464e-4ad6-8e88-30a204249f04",
   "metadata": {
    "execution": {
     "iopub.execute_input": "2023-05-31T03:12:00.772918Z",
     "iopub.status.busy": "2023-05-31T03:12:00.772918Z",
     "iopub.status.idle": "2023-05-31T03:12:00.792454Z",
     "shell.execute_reply": "2023-05-31T03:12:00.791319Z",
     "shell.execute_reply.started": "2023-05-31T03:12:00.772918Z"
    }
   },
   "outputs": [],
   "source": [
    "x = diabetes.data[:, 6].reshape(-1, 1)"
   ]
  },
  {
   "cell_type": "code",
   "execution_count": 22,
   "id": "879d6ef1-edce-4a4c-b8f2-598b13c3f80d",
   "metadata": {
    "execution": {
     "iopub.execute_input": "2023-05-31T03:12:35.569840Z",
     "iopub.status.busy": "2023-05-31T03:12:35.569840Z",
     "iopub.status.idle": "2023-05-31T03:12:35.580050Z",
     "shell.execute_reply": "2023-05-31T03:12:35.579042Z",
     "shell.execute_reply.started": "2023-05-31T03:12:35.569840Z"
    }
   },
   "outputs": [],
   "source": [
    "train_x, test_x, train_y, test_y = train_test_split(x, diabetes.target, train_size = 0.8)"
   ]
  },
  {
   "cell_type": "code",
   "execution_count": 24,
   "id": "cc5bc233-fa78-4db5-bed6-dacfdc3f60e2",
   "metadata": {
    "execution": {
     "iopub.execute_input": "2023-05-31T03:13:37.806885Z",
     "iopub.status.busy": "2023-05-31T03:13:37.806885Z",
     "iopub.status.idle": "2023-05-31T03:13:37.819200Z",
     "shell.execute_reply": "2023-05-31T03:13:37.819200Z",
     "shell.execute_reply.started": "2023-05-31T03:13:37.806885Z"
    }
   },
   "outputs": [],
   "source": [
    "linReg = LinearRegression().fit(train_x, train_y)\n",
    "dmmyReg = DummyRegressor(strategy = \"mean\").fit(train_x, train_y)"
   ]
  },
  {
   "cell_type": "code",
   "execution_count": 25,
   "id": "1b7fd929-6259-4ca4-ae6d-5215f865bb74",
   "metadata": {
    "execution": {
     "iopub.execute_input": "2023-05-31T03:14:32.536557Z",
     "iopub.status.busy": "2023-05-31T03:14:32.536557Z",
     "iopub.status.idle": "2023-05-31T03:14:32.545162Z",
     "shell.execute_reply": "2023-05-31T03:14:32.544462Z",
     "shell.execute_reply.started": "2023-05-31T03:14:32.536557Z"
    }
   },
   "outputs": [],
   "source": [
    "preds_linreg = linReg.predict(test_x)\n",
    "preds_dummy = dmmyReg.predict(test_x)"
   ]
  },
  {
   "cell_type": "code",
   "execution_count": 26,
   "id": "f7685c38-df89-4ab5-a567-e9849c9619c6",
   "metadata": {
    "execution": {
     "iopub.execute_input": "2023-05-31T03:15:06.151802Z",
     "iopub.status.busy": "2023-05-31T03:15:06.151802Z",
     "iopub.status.idle": "2023-05-31T03:15:06.170893Z",
     "shell.execute_reply": "2023-05-31T03:15:06.170893Z",
     "shell.execute_reply.started": "2023-05-31T03:15:06.151802Z"
    }
   },
   "outputs": [
    {
     "data": {
      "text/plain": [
       "6242.103220039316"
      ]
     },
     "execution_count": 26,
     "metadata": {},
     "output_type": "execute_result"
    }
   ],
   "source": [
    "mean_squared_error(test_y, preds_linreg)"
   ]
  },
  {
   "cell_type": "code",
   "execution_count": 27,
   "id": "e6ad92f7-3bc6-407e-8334-446aec20f80d",
   "metadata": {
    "execution": {
     "iopub.execute_input": "2023-05-31T03:15:19.773478Z",
     "iopub.status.busy": "2023-05-31T03:15:19.773478Z",
     "iopub.status.idle": "2023-05-31T03:15:19.795427Z",
     "shell.execute_reply": "2023-05-31T03:15:19.794413Z",
     "shell.execute_reply.started": "2023-05-31T03:15:19.773478Z"
    }
   },
   "outputs": [
    {
     "data": {
      "text/plain": [
       "6280.960298645623"
      ]
     },
     "execution_count": 27,
     "metadata": {},
     "output_type": "execute_result"
    }
   ],
   "source": [
    "mean_squared_error(test_y, preds_dummy)"
   ]
  },
  {
   "cell_type": "code",
   "execution_count": 28,
   "id": "be81102c-a105-417b-a1c8-2de31fdb2c33",
   "metadata": {
    "execution": {
     "iopub.execute_input": "2023-05-31T03:15:41.490719Z",
     "iopub.status.busy": "2023-05-31T03:15:41.490719Z",
     "iopub.status.idle": "2023-05-31T03:15:41.498757Z",
     "shell.execute_reply": "2023-05-31T03:15:41.498757Z",
     "shell.execute_reply.started": "2023-05-31T03:15:41.490719Z"
    }
   },
   "outputs": [
    {
     "data": {
      "text/plain": [
       "0.0026356445966945197"
      ]
     },
     "execution_count": 28,
     "metadata": {},
     "output_type": "execute_result"
    }
   ],
   "source": [
    "r2_score(test_y, preds_linreg)"
   ]
  },
  {
   "cell_type": "code",
   "execution_count": 29,
   "id": "92655022-2f88-486f-bfc1-11b4dbce204d",
   "metadata": {
    "execution": {
     "iopub.execute_input": "2023-05-31T03:16:18.149490Z",
     "iopub.status.busy": "2023-05-31T03:16:18.149490Z",
     "iopub.status.idle": "2023-05-31T03:16:18.156620Z",
     "shell.execute_reply": "2023-05-31T03:16:18.155516Z",
     "shell.execute_reply.started": "2023-05-31T03:16:18.149490Z"
    }
   },
   "outputs": [
    {
     "data": {
      "text/plain": [
       "-0.003572946288604939"
      ]
     },
     "execution_count": 29,
     "metadata": {},
     "output_type": "execute_result"
    }
   ],
   "source": [
    "r2_score(test_y, preds_dummy)"
   ]
  },
  {
   "cell_type": "code",
   "execution_count": null,
   "id": "7384f60d-9ae3-4e69-9be7-ec6c352ccf0b",
   "metadata": {},
   "outputs": [],
   "source": [
    "# If we compare the linear regressor and the dummy regressor, they both have equally poor performance."
   ]
  },
  {
   "cell_type": "code",
   "execution_count": 42,
   "id": "ec0b38e8-46fc-4f8e-ad7e-82a5eb131521",
   "metadata": {
    "execution": {
     "iopub.execute_input": "2023-05-31T03:21:36.454853Z",
     "iopub.status.busy": "2023-05-31T03:21:36.454853Z",
     "iopub.status.idle": "2023-05-31T03:21:36.599519Z",
     "shell.execute_reply": "2023-05-31T03:21:36.599519Z",
     "shell.execute_reply.started": "2023-05-31T03:21:36.454853Z"
    }
   },
   "outputs": [
    {
     "data": {
      "image/png": "[encoded data removed]",
      "text/plain": [
       "<Figure size 700x700 with 1 Axes>"
      ]
     },
     "metadata": {},
     "output_type": "display_data"
    }
   ],
   "source": [
    "fig, axes = plt.subplots()\n",
    "fig.set_size_inches(7, 7)\n",
    "\n",
    "axes.scatter(test_x, test_y, ec = \"black\", color = \"cyan\")\n",
    "axes.plot(test_x, preds_linreg, color = \"red\", linestyle = \"--\", label = \"LinearRegression\")\n",
    "axes.plot(test_x, preds_dummy, color = \"green\", linestyle = \"--\", label = \"DummyRegression\")\n",
    "axes.legend()\n",
    "\n",
    "plt.show()"
   ]
  },
  {
   "cell_type": "code",
   "execution_count": null,
   "id": "6995f8a4-3ad4-4b37-bb33-a6dc7b5c1209",
   "metadata": {},
   "outputs": [],
   "source": [
    "# Strategies available for dummy regressors;\n",
    "# 1) mean\n",
    "# 2) median\n",
    "# 3) quantile\n",
    "# 4) constant"
   ]
  }
 ],
 "metadata": {
  "kernelspec": {
   "display_name": "Python 3 (ipykernel)",
   "language": "python",
   "name": "python3"
  },
  "language_info": {
   "codemirror_mode": {
    "name": "ipython",
    "version": 3
   },
   "file_extension": ".py",
   "mimetype": "text/x-python",
   "name": "python",
   "nbconvert_exporter": "python",
   "pygments_lexer": "ipython3",
   "version": "3.11.3"
  }
 },
 "nbformat": 4,
 "nbformat_minor": 5
}
