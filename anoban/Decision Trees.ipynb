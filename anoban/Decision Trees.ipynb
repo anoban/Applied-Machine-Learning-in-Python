{
 "cells": [
  {
   "cell_type": "code",
   "execution_count": 48,
   "id": "ba0048ca-3f63-4e0a-aadd-1196e4d93290",
   "metadata": {
    "execution": {
     "iopub.execute_input": "2023-05-26T13:11:38.623153Z",
     "iopub.status.busy": "2023-05-26T13:11:38.623153Z",
     "iopub.status.idle": "2023-05-26T13:11:38.642471Z",
     "shell.execute_reply": "2023-05-26T13:11:38.642197Z",
     "shell.execute_reply.started": "2023-05-26T13:11:38.623153Z"
    }
   },
   "outputs": [],
   "source": [
    "import numpy as np\n",
    "import pandas as pd\n",
    "import matplotlib.pyplot as plt\n",
    "from sklearn.datasets import (load_iris, load_breast_cancer)\n",
    "from sklearn.tree import DecisionTreeClassifier\n",
    "from sklearn.model_selection import train_test_split"
   ]
  },
  {
   "cell_type": "markdown",
   "id": "fb11839e-6b9a-4a60-8c2e-11e49c034e54",
   "metadata": {},
   "source": [
    "# ___Decision Trees___\n",
    "---------------"
   ]
  },
  {
   "cell_type": "code",
   "execution_count": 9,
   "id": "54ce0efa-4b7e-49e5-a726-6e487fee79ca",
   "metadata": {
    "execution": {
     "iopub.execute_input": "2023-05-26T13:03:06.871149Z",
     "iopub.status.busy": "2023-05-26T13:03:06.871149Z",
     "iopub.status.idle": "2023-05-26T13:03:06.879850Z",
     "shell.execute_reply": "2023-05-26T13:03:06.879666Z",
     "shell.execute_reply.started": "2023-05-26T13:03:06.871149Z"
    }
   },
   "outputs": [],
   "source": [
    "# Decision trees are a supervised learning models, that can be used for classification & regression.\n",
    "# These are easy to use and understand and are helpful in figuring out influential features in datasets exploratively.\n",
    "# Decision trees learn a series of \"if then\" rules that result in a decision that predicts a target value."
   ]
  },
  {
   "cell_type": "code",
   "execution_count": 10,
   "id": "9bbe5f80-d897-4eba-91e7-9c983366ccc4",
   "metadata": {
    "execution": {
     "iopub.execute_input": "2023-05-26T13:03:06.927704Z",
     "iopub.status.busy": "2023-05-26T13:03:06.927704Z",
     "iopub.status.idle": "2023-05-26T13:03:06.936237Z",
     "shell.execute_reply": "2023-05-26T13:03:06.936237Z",
     "shell.execute_reply.started": "2023-05-26T13:03:06.927704Z"
    }
   },
   "outputs": [],
   "source": [
    "# An analogy for decision trees.\n",
    "\n",
    "# Say one person guesses an object.\n",
    "# The next person has to find out the guess, asking as few questions as possible!\n",
    "\n",
    "# => Person 1 guesses a cat.\n",
    "# Q1 => Is it alive? -> yes\n",
    "# Q2 => Is it a biped? -> no\n",
    "# Q3 => Is it a pet? -> yes\n",
    "# Q4 => Does it bark? -> yes"
   ]
  },
  {
   "cell_type": "code",
   "execution_count": 11,
   "id": "79774b7d-d028-4283-8f7a-960775c6fd6f",
   "metadata": {
    "execution": {
     "iopub.execute_input": "2023-05-26T13:03:06.966093Z",
     "iopub.status.busy": "2023-05-26T13:03:06.966093Z",
     "iopub.status.idle": "2023-05-26T13:03:06.973041Z",
     "shell.execute_reply": "2023-05-26T13:03:06.973041Z",
     "shell.execute_reply.started": "2023-05-26T13:03:06.966093Z"
    }
   },
   "outputs": [],
   "source": [
    "# Broader questions help eliminate a large set of elements from the possible choices.\n",
    "# Specific questions are useful later down in the decision trees, one we have narrowed down our choices.\n",
    "# Then we could ask very specific questions to pin down the answer?\n",
    "\n",
    "# e.g. once we know it is a quadruped mammal that is a domestic pet, we could ask does it have long whiskers and a furry tail?"
   ]
  },
  {
   "cell_type": "code",
   "execution_count": 12,
   "id": "b89b4335-4268-4f94-bafd-934241841a86",
   "metadata": {
    "execution": {
     "iopub.execute_input": "2023-05-26T13:03:07.027990Z",
     "iopub.status.busy": "2023-05-26T13:03:07.027990Z",
     "iopub.status.idle": "2023-05-26T13:03:07.036244Z",
     "shell.execute_reply": "2023-05-26T13:03:07.036244Z",
     "shell.execute_reply.started": "2023-05-26T13:03:07.027990Z"
    }
   },
   "outputs": [],
   "source": [
    "# These decision trees can be represented by a tree, with nodes representing questions.\n",
    "# And yes & no answers as the left and right branches from that node.\n",
    "\n",
    "# The node where the tree starts => root node.\n",
    "# At the bottom of the tree, where the branches terminate => leaf nodes."
   ]
  },
  {
   "cell_type": "code",
   "execution_count": 13,
   "id": "751c8efa-21a1-4bb6-8d8b-99dda8c4aae5",
   "metadata": {
    "execution": {
     "iopub.execute_input": "2023-05-26T13:03:07.059498Z",
     "iopub.status.busy": "2023-05-26T13:03:07.059498Z",
     "iopub.status.idle": "2023-05-26T13:03:07.065902Z",
     "shell.execute_reply": "2023-05-26T13:03:07.065902Z",
     "shell.execute_reply.started": "2023-05-26T13:03:07.059498Z"
    }
   },
   "outputs": [],
   "source": [
    "# An object is identified by the path from the root node to the given leaf node, in terms of a set of yes/no asnwers to a set of questions.\n",
    "\n",
    "# e.g.\n",
    "\n",
    "# Alive? yes\n",
    "# Quadruped? yes\n",
    "# Pet? yes\n",
    "# Bark? no\n",
    "# Furry coat? yes\n",
    "\n",
    "# Then, that's a cat\n",
    "\n",
    "# Alive? yes\n",
    "# Quadruped? yes\n",
    "# Pet? no\n",
    "# Large? yes\n",
    "# Furry coat? no\n",
    "# Trunk? yes\n",
    "\n",
    "# Then, that's an elephant."
   ]
  },
  {
   "cell_type": "code",
   "execution_count": null,
   "id": "25bcd2df-f120-44c8-a9d6-d18a8a3265f0",
   "metadata": {},
   "outputs": [],
   "source": []
  },
  {
   "cell_type": "markdown",
   "id": "54660834-1dd6-434c-a795-f7bf1204faff",
   "metadata": {},
   "source": [
    "## ___Decision Trees with Iris dataset___\n",
    "--------------"
   ]
  },
  {
   "cell_type": "code",
   "execution_count": 14,
   "id": "bc9840cb-1cd0-46ef-b3f4-36004d1ce3a1",
   "metadata": {
    "execution": {
     "iopub.execute_input": "2023-05-26T13:03:07.228349Z",
     "iopub.status.busy": "2023-05-26T13:03:07.228349Z",
     "iopub.status.idle": "2023-05-26T13:03:07.235377Z",
     "shell.execute_reply": "2023-05-26T13:03:07.235377Z",
     "shell.execute_reply.started": "2023-05-26T13:03:07.228349Z"
    }
   },
   "outputs": [],
   "source": [
    "iris = load_iris()"
   ]
  },
  {
   "cell_type": "code",
   "execution_count": 15,
   "id": "f0d23df9-7d4b-4b42-9846-f15384e8e061",
   "metadata": {
    "execution": {
     "iopub.execute_input": "2023-05-26T13:03:07.264520Z",
     "iopub.status.busy": "2023-05-26T13:03:07.264520Z",
     "iopub.status.idle": "2023-05-26T13:03:07.279130Z",
     "shell.execute_reply": "2023-05-26T13:03:07.279130Z",
     "shell.execute_reply.started": "2023-05-26T13:03:07.264520Z"
    }
   },
   "outputs": [
    {
     "data": {
      "text/plain": [
       "(array([[5.1, 3.5, 1.4, 0.2],\n",
       "        [4.9, 3. , 1.4, 0.2],\n",
       "        [4.7, 3.2, 1.3, 0.2],\n",
       "        [4.6, 3.1, 1.5, 0.2],\n",
       "        [5. , 3.6, 1.4, 0.2],\n",
       "        [5.4, 3.9, 1.7, 0.4],\n",
       "        [4.6, 3.4, 1.4, 0.3],\n",
       "        [5. , 3.4, 1.5, 0.2],\n",
       "        [4.4, 2.9, 1.4, 0.2],\n",
       "        [4.9, 3.1, 1.5, 0.1],\n",
       "        [5.4, 3.7, 1.5, 0.2],\n",
       "        [4.8, 3.4, 1.6, 0.2],\n",
       "        [4.8, 3. , 1.4, 0.1],\n",
       "        [4.3, 3. , 1.1, 0.1],\n",
       "        [5.8, 4. , 1.2, 0.2],\n",
       "        [5.7, 4.4, 1.5, 0.4],\n",
       "        [5.4, 3.9, 1.3, 0.4],\n",
       "        [5.1, 3.5, 1.4, 0.3],\n",
       "        [5.7, 3.8, 1.7, 0.3],\n",
       "        [5.1, 3.8, 1.5, 0.3],\n",
       "        [5.4, 3.4, 1.7, 0.2],\n",
       "        [5.1, 3.7, 1.5, 0.4],\n",
       "        [4.6, 3.6, 1. , 0.2],\n",
       "        [5.1, 3.3, 1.7, 0.5],\n",
       "        [4.8, 3.4, 1.9, 0.2],\n",
       "        [5. , 3. , 1.6, 0.2],\n",
       "        [5. , 3.4, 1.6, 0.4],\n",
       "        [5.2, 3.5, 1.5, 0.2],\n",
       "        [5.2, 3.4, 1.4, 0.2],\n",
       "        [4.7, 3.2, 1.6, 0.2],\n",
       "        [4.8, 3.1, 1.6, 0.2],\n",
       "        [5.4, 3.4, 1.5, 0.4],\n",
       "        [5.2, 4.1, 1.5, 0.1],\n",
       "        [5.5, 4.2, 1.4, 0.2],\n",
       "        [4.9, 3.1, 1.5, 0.2],\n",
       "        [5. , 3.2, 1.2, 0.2],\n",
       "        [5.5, 3.5, 1.3, 0.2],\n",
       "        [4.9, 3.6, 1.4, 0.1],\n",
       "        [4.4, 3. , 1.3, 0.2],\n",
       "        [5.1, 3.4, 1.5, 0.2],\n",
       "        [5. , 3.5, 1.3, 0.3],\n",
       "        [4.5, 2.3, 1.3, 0.3],\n",
       "        [4.4, 3.2, 1.3, 0.2],\n",
       "        [5. , 3.5, 1.6, 0.6],\n",
       "        [5.1, 3.8, 1.9, 0.4],\n",
       "        [4.8, 3. , 1.4, 0.3],\n",
       "        [5.1, 3.8, 1.6, 0.2],\n",
       "        [4.6, 3.2, 1.4, 0.2],\n",
       "        [5.3, 3.7, 1.5, 0.2],\n",
       "        [5. , 3.3, 1.4, 0.2],\n",
       "        [7. , 3.2, 4.7, 1.4],\n",
       "        [6.4, 3.2, 4.5, 1.5],\n",
       "        [6.9, 3.1, 4.9, 1.5],\n",
       "        [5.5, 2.3, 4. , 1.3],\n",
       "        [6.5, 2.8, 4.6, 1.5],\n",
       "        [5.7, 2.8, 4.5, 1.3],\n",
       "        [6.3, 3.3, 4.7, 1.6],\n",
       "        [4.9, 2.4, 3.3, 1. ],\n",
       "        [6.6, 2.9, 4.6, 1.3],\n",
       "        [5.2, 2.7, 3.9, 1.4],\n",
       "        [5. , 2. , 3.5, 1. ],\n",
       "        [5.9, 3. , 4.2, 1.5],\n",
       "        [6. , 2.2, 4. , 1. ],\n",
       "        [6.1, 2.9, 4.7, 1.4],\n",
       "        [5.6, 2.9, 3.6, 1.3],\n",
       "        [6.7, 3.1, 4.4, 1.4],\n",
       "        [5.6, 3. , 4.5, 1.5],\n",
       "        [5.8, 2.7, 4.1, 1. ],\n",
       "        [6.2, 2.2, 4.5, 1.5],\n",
       "        [5.6, 2.5, 3.9, 1.1],\n",
       "        [5.9, 3.2, 4.8, 1.8],\n",
       "        [6.1, 2.8, 4. , 1.3],\n",
       "        [6.3, 2.5, 4.9, 1.5],\n",
       "        [6.1, 2.8, 4.7, 1.2],\n",
       "        [6.4, 2.9, 4.3, 1.3],\n",
       "        [6.6, 3. , 4.4, 1.4],\n",
       "        [6.8, 2.8, 4.8, 1.4],\n",
       "        [6.7, 3. , 5. , 1.7],\n",
       "        [6. , 2.9, 4.5, 1.5],\n",
       "        [5.7, 2.6, 3.5, 1. ],\n",
       "        [5.5, 2.4, 3.8, 1.1],\n",
       "        [5.5, 2.4, 3.7, 1. ],\n",
       "        [5.8, 2.7, 3.9, 1.2],\n",
       "        [6. , 2.7, 5.1, 1.6],\n",
       "        [5.4, 3. , 4.5, 1.5],\n",
       "        [6. , 3.4, 4.5, 1.6],\n",
       "        [6.7, 3.1, 4.7, 1.5],\n",
       "        [6.3, 2.3, 4.4, 1.3],\n",
       "        [5.6, 3. , 4.1, 1.3],\n",
       "        [5.5, 2.5, 4. , 1.3],\n",
       "        [5.5, 2.6, 4.4, 1.2],\n",
       "        [6.1, 3. , 4.6, 1.4],\n",
       "        [5.8, 2.6, 4. , 1.2],\n",
       "        [5. , 2.3, 3.3, 1. ],\n",
       "        [5.6, 2.7, 4.2, 1.3],\n",
       "        [5.7, 3. , 4.2, 1.2],\n",
       "        [5.7, 2.9, 4.2, 1.3],\n",
       "        [6.2, 2.9, 4.3, 1.3],\n",
       "        [5.1, 2.5, 3. , 1.1],\n",
       "        [5.7, 2.8, 4.1, 1.3],\n",
       "        [6.3, 3.3, 6. , 2.5],\n",
       "        [5.8, 2.7, 5.1, 1.9],\n",
       "        [7.1, 3. , 5.9, 2.1],\n",
       "        [6.3, 2.9, 5.6, 1.8],\n",
       "        [6.5, 3. , 5.8, 2.2],\n",
       "        [7.6, 3. , 6.6, 2.1],\n",
       "        [4.9, 2.5, 4.5, 1.7],\n",
       "        [7.3, 2.9, 6.3, 1.8],\n",
       "        [6.7, 2.5, 5.8, 1.8],\n",
       "        [7.2, 3.6, 6.1, 2.5],\n",
       "        [6.5, 3.2, 5.1, 2. ],\n",
       "        [6.4, 2.7, 5.3, 1.9],\n",
       "        [6.8, 3. , 5.5, 2.1],\n",
       "        [5.7, 2.5, 5. , 2. ],\n",
       "        [5.8, 2.8, 5.1, 2.4],\n",
       "        [6.4, 3.2, 5.3, 2.3],\n",
       "        [6.5, 3. , 5.5, 1.8],\n",
       "        [7.7, 3.8, 6.7, 2.2],\n",
       "        [7.7, 2.6, 6.9, 2.3],\n",
       "        [6. , 2.2, 5. , 1.5],\n",
       "        [6.9, 3.2, 5.7, 2.3],\n",
       "        [5.6, 2.8, 4.9, 2. ],\n",
       "        [7.7, 2.8, 6.7, 2. ],\n",
       "        [6.3, 2.7, 4.9, 1.8],\n",
       "        [6.7, 3.3, 5.7, 2.1],\n",
       "        [7.2, 3.2, 6. , 1.8],\n",
       "        [6.2, 2.8, 4.8, 1.8],\n",
       "        [6.1, 3. , 4.9, 1.8],\n",
       "        [6.4, 2.8, 5.6, 2.1],\n",
       "        [7.2, 3. , 5.8, 1.6],\n",
       "        [7.4, 2.8, 6.1, 1.9],\n",
       "        [7.9, 3.8, 6.4, 2. ],\n",
       "        [6.4, 2.8, 5.6, 2.2],\n",
       "        [6.3, 2.8, 5.1, 1.5],\n",
       "        [6.1, 2.6, 5.6, 1.4],\n",
       "        [7.7, 3. , 6.1, 2.3],\n",
       "        [6.3, 3.4, 5.6, 2.4],\n",
       "        [6.4, 3.1, 5.5, 1.8],\n",
       "        [6. , 3. , 4.8, 1.8],\n",
       "        [6.9, 3.1, 5.4, 2.1],\n",
       "        [6.7, 3.1, 5.6, 2.4],\n",
       "        [6.9, 3.1, 5.1, 2.3],\n",
       "        [5.8, 2.7, 5.1, 1.9],\n",
       "        [6.8, 3.2, 5.9, 2.3],\n",
       "        [6.7, 3.3, 5.7, 2.5],\n",
       "        [6.7, 3. , 5.2, 2.3],\n",
       "        [6.3, 2.5, 5. , 1.9],\n",
       "        [6.5, 3. , 5.2, 2. ],\n",
       "        [6.2, 3.4, 5.4, 2.3],\n",
       "        [5.9, 3. , 5.1, 1.8]]),\n",
       " array([0, 0, 0, 0, 0, 0, 0, 0, 0, 0, 0, 0, 0, 0, 0, 0, 0, 0, 0, 0, 0, 0,\n",
       "        0, 0, 0, 0, 0, 0, 0, 0, 0, 0, 0, 0, 0, 0, 0, 0, 0, 0, 0, 0, 0, 0,\n",
       "        0, 0, 0, 0, 0, 0, 1, 1, 1, 1, 1, 1, 1, 1, 1, 1, 1, 1, 1, 1, 1, 1,\n",
       "        1, 1, 1, 1, 1, 1, 1, 1, 1, 1, 1, 1, 1, 1, 1, 1, 1, 1, 1, 1, 1, 1,\n",
       "        1, 1, 1, 1, 1, 1, 1, 1, 1, 1, 1, 1, 2, 2, 2, 2, 2, 2, 2, 2, 2, 2,\n",
       "        2, 2, 2, 2, 2, 2, 2, 2, 2, 2, 2, 2, 2, 2, 2, 2, 2, 2, 2, 2, 2, 2,\n",
       "        2, 2, 2, 2, 2, 2, 2, 2, 2, 2, 2, 2, 2, 2, 2, 2, 2, 2]),\n",
       " array(['setosa', 'versicolor', 'virginica'], dtype='<U10'))"
      ]
     },
     "execution_count": 15,
     "metadata": {},
     "output_type": "execute_result"
    }
   ],
   "source": [
    "iris.data, iris.target, iris.target_names"
   ]
  },
  {
   "cell_type": "code",
   "execution_count": 16,
   "id": "025e71a9-3bd6-4579-af20-9046e7aba4dd",
   "metadata": {
    "execution": {
     "iopub.execute_input": "2023-05-26T13:03:07.296365Z",
     "iopub.status.busy": "2023-05-26T13:03:07.296365Z",
     "iopub.status.idle": "2023-05-26T13:03:07.305903Z",
     "shell.execute_reply": "2023-05-26T13:03:07.305903Z",
     "shell.execute_reply.started": "2023-05-26T13:03:07.296365Z"
    }
   },
   "outputs": [
    {
     "data": {
      "text/plain": [
       "array(['setosa', 'versicolor', 'virginica'], dtype='<U10')"
      ]
     },
     "execution_count": 16,
     "metadata": {},
     "output_type": "execute_result"
    }
   ],
   "source": [
    "# features -> - sepal length in cm, sepal width in cm, petal length in cm, petal width in cm\n",
    "# labels -> species names.\n",
    "\n",
    "iris.target_names"
   ]
  },
  {
   "cell_type": "code",
   "execution_count": 17,
   "id": "ba9fa28e-f256-400a-8ec9-36aff9560b03",
   "metadata": {
    "execution": {
     "iopub.execute_input": "2023-05-26T13:03:07.329159Z",
     "iopub.status.busy": "2023-05-26T13:03:07.329159Z",
     "iopub.status.idle": "2023-05-26T13:03:07.340388Z",
     "shell.execute_reply": "2023-05-26T13:03:07.340388Z",
     "shell.execute_reply.started": "2023-05-26T13:03:07.329159Z"
    }
   },
   "outputs": [
    {
     "data": {
      "text/plain": [
       "(150, 4)"
      ]
     },
     "execution_count": 17,
     "metadata": {},
     "output_type": "execute_result"
    }
   ],
   "source": [
    "# There are 50 flowers from each Iris species.\n",
    "\n",
    "iris.data.shape"
   ]
  },
  {
   "cell_type": "code",
   "execution_count": 18,
   "id": "ea26bdfe-3e49-424f-99df-f3df68ed77fd",
   "metadata": {
    "execution": {
     "iopub.execute_input": "2023-05-26T13:03:07.406577Z",
     "iopub.status.busy": "2023-05-26T13:03:07.406577Z",
     "iopub.status.idle": "2023-05-26T13:03:07.414325Z",
     "shell.execute_reply": "2023-05-26T13:03:07.414325Z",
     "shell.execute_reply.started": "2023-05-26T13:03:07.406577Z"
    }
   },
   "outputs": [],
   "source": [
    "# The features here are continuous variables.\n",
    "# Thus a decision tree cannot operate by simple binary yes/no questions like is the petal length 4.9 cm?\n",
    "# Questions need to be based on bounds, like is the petal length greater than 3.0 cm and less than 6.29 cm?"
   ]
  },
  {
   "cell_type": "code",
   "execution_count": 19,
   "id": "14326e6b-3727-4a74-a1b3-246cdcf039c5",
   "metadata": {
    "execution": {
     "iopub.execute_input": "2023-05-26T13:03:07.469731Z",
     "iopub.status.busy": "2023-05-26T13:03:07.469731Z",
     "iopub.status.idle": "2023-05-26T13:03:07.472714Z",
     "shell.execute_reply": "2023-05-26T13:03:07.472714Z",
     "shell.execute_reply.started": "2023-05-26T13:03:07.469731Z"
    }
   },
   "outputs": [],
   "source": [
    "# In decision tree, each decision splits the data into two groups.\n",
    "\n",
    "# If petal length <= 2.35         at this point, sample size = 112, species frequency = [37, 34, 41]\n",
    "#      then -> Iris setosa        here, sample size = 37, species frequency = [37, 0, 0]\n",
    "# else if petal width > 0.2       sample size = (112 - 37), species frequency = [0, 34, 41]\n",
    "#      then -> Iris versicolor    sample size = 36, species frequency = [0, 33, 3]\n",
    "# else -> Iris virginica          sample size = 39, species frequency = [0, 1, 38]"
   ]
  },
  {
   "cell_type": "code",
   "execution_count": 20,
   "id": "4dc82b71-4592-4938-a91d-cb63261a9d2c",
   "metadata": {
    "execution": {
     "iopub.execute_input": "2023-05-26T13:03:07.533511Z",
     "iopub.status.busy": "2023-05-26T13:03:07.533511Z",
     "iopub.status.idle": "2023-05-26T13:03:07.542900Z",
     "shell.execute_reply": "2023-05-26T13:03:07.542900Z",
     "shell.execute_reply.started": "2023-05-26T13:03:07.533511Z"
    }
   },
   "outputs": [],
   "source": [
    "# The goal of building a decision tree is to find a series of questions that would help accurately classify the data with fewest steps.\n",
    "# the thresholds used in these questions are called split points. \n",
    "# e.g. if petal length >= 6.56 cm\n",
    "\n",
    "# How informative these split points are matters a lot.\n",
    "# If a split point is highly informative -> it is highly selective/exclusive\n",
    "# It does a very good job at separating classes effectively without having groups with mixed members.\n",
    "\n",
    "# e.g In the previous cell, the split point If petal length <= 2.35  does a good job at isolating I. setosa exclusively.\n",
    "# However, else if petal width > 0.2 isn't as efficient since in the group it classified as I.versicolor, we have 3 I. virginica members.\n",
    "# Similarly the last splitting point (else) also has mixed members, 1 I. versicolor"
   ]
  },
  {
   "cell_type": "code",
   "execution_count": 21,
   "id": "4e2e5a0f-e04e-43d3-a758-5f4f05290676",
   "metadata": {
    "execution": {
     "iopub.execute_input": "2023-05-26T13:03:07.565094Z",
     "iopub.status.busy": "2023-05-26T13:03:07.565094Z",
     "iopub.status.idle": "2023-05-26T13:03:07.572860Z",
     "shell.execute_reply": "2023-05-26T13:03:07.572860Z",
     "shell.execute_reply.started": "2023-05-26T13:03:07.565094Z"
    }
   },
   "outputs": [],
   "source": [
    "# When building a decision tree, the algorithm finds out the question that leads to the most informative split.\n",
    "# Even for the most informative splitting point, chances are that it still may classify few data points incorrectly.\n",
    "\n",
    "# We can improve the accuracy of the process, by continuing splitting steps further down leveraging more criteria.\n",
    "# These subsequent splits may generate more homogenous categories, which is desirable.\n",
    "# These steps can be continued recursively, until all the leaf nodes are completely/almost homogenous."
   ]
  },
  {
   "cell_type": "code",
   "execution_count": 22,
   "id": "0312f8ad-eb8d-4283-b6fc-0d6079acf378",
   "metadata": {
    "execution": {
     "iopub.execute_input": "2023-05-26T13:03:07.659641Z",
     "iopub.status.busy": "2023-05-26T13:03:07.659641Z",
     "iopub.status.idle": "2023-05-26T13:03:07.669976Z",
     "shell.execute_reply": "2023-05-26T13:03:07.669976Z",
     "shell.execute_reply.started": "2023-05-26T13:03:07.659641Z"
    }
   },
   "outputs": [],
   "source": [
    "# Trees where all leaf nodes have homogenous elements are called -> pure\n",
    "# Trees with leaf nodes that have mixed elements are called -> mixed."
   ]
  },
  {
   "cell_type": "code",
   "execution_count": null,
   "id": "f545b174-1f43-4328-a28a-6c97d246a693",
   "metadata": {},
   "outputs": [],
   "source": []
  },
  {
   "cell_type": "code",
   "execution_count": 23,
   "id": "19685aa7-7a0e-442c-8588-9e9e64a98079",
   "metadata": {
    "execution": {
     "iopub.execute_input": "2023-05-26T13:03:08.396718Z",
     "iopub.status.busy": "2023-05-26T13:03:08.396718Z",
     "iopub.status.idle": "2023-05-26T13:03:08.405751Z",
     "shell.execute_reply": "2023-05-26T13:03:08.405751Z",
     "shell.execute_reply.started": "2023-05-26T13:03:08.396718Z"
    }
   },
   "outputs": [],
   "source": [
    "# To classify an unknown data point, we simply start at the root node, evaluate the question/criteria and make decisions accordingly.\n",
    "# Keep iterating this with subsequent questions, until we get to a leaf node."
   ]
  },
  {
   "cell_type": "code",
   "execution_count": 24,
   "id": "184f1d69-2a44-4f65-baa1-abec4e4f414c",
   "metadata": {
    "execution": {
     "iopub.execute_input": "2023-05-26T13:03:08.647435Z",
     "iopub.status.busy": "2023-05-26T13:03:08.647435Z",
     "iopub.status.idle": "2023-05-26T13:03:08.663074Z",
     "shell.execute_reply": "2023-05-26T13:03:08.662057Z",
     "shell.execute_reply.started": "2023-05-26T13:03:08.647435Z"
    }
   },
   "outputs": [],
   "source": [
    "# In regression, the predicted value will be the mean of all the elements in a given leaf node."
   ]
  },
  {
   "cell_type": "code",
   "execution_count": null,
   "id": "7a64f536-4c84-498b-a455-0e3b797a6071",
   "metadata": {},
   "outputs": [],
   "source": []
  },
  {
   "cell_type": "code",
   "execution_count": 25,
   "id": "d6b64056-def6-4707-86b6-389dffce1b96",
   "metadata": {
    "execution": {
     "iopub.execute_input": "2023-05-26T13:03:08.991609Z",
     "iopub.status.busy": "2023-05-26T13:03:08.991609Z",
     "iopub.status.idle": "2023-05-26T13:03:09.001944Z",
     "shell.execute_reply": "2023-05-26T13:03:09.001319Z",
     "shell.execute_reply.started": "2023-05-26T13:03:08.991609Z"
    }
   },
   "outputs": [],
   "source": [
    "train_x, test_x, train_y, test_y = train_test_split(iris.data, iris.target, train_size = 0.8)"
   ]
  },
  {
   "cell_type": "code",
   "execution_count": 26,
   "id": "6431d31e-75fa-4d76-9ef4-db839c213b94",
   "metadata": {
    "execution": {
     "iopub.execute_input": "2023-05-26T13:03:09.148032Z",
     "iopub.status.busy": "2023-05-26T13:03:09.148032Z",
     "iopub.status.idle": "2023-05-26T13:03:09.167650Z",
     "shell.execute_reply": "2023-05-26T13:03:09.167650Z",
     "shell.execute_reply.started": "2023-05-26T13:03:09.148032Z"
    }
   },
   "outputs": [],
   "source": [
    "dtClassifier = DecisionTreeClassifier().fit(train_x, train_y)"
   ]
  },
  {
   "cell_type": "code",
   "execution_count": 27,
   "id": "0f683a3b-bbf7-41cb-99cb-e0e92009e184",
   "metadata": {
    "execution": {
     "iopub.execute_input": "2023-05-26T13:03:09.524438Z",
     "iopub.status.busy": "2023-05-26T13:03:09.508870Z",
     "iopub.status.idle": "2023-05-26T13:03:09.565320Z",
     "shell.execute_reply": "2023-05-26T13:03:09.565320Z",
     "shell.execute_reply.started": "2023-05-26T13:03:09.524438Z"
    }
   },
   "outputs": [
    {
     "data": {
      "text/plain": [
       "1.0"
      ]
     },
     "execution_count": 27,
     "metadata": {},
     "output_type": "execute_result"
    }
   ],
   "source": [
    "dtClassifier.score(train_x, train_y)"
   ]
  },
  {
   "cell_type": "code",
   "execution_count": 28,
   "id": "662b1090-1c53-4280-b6c6-ded454d911ff",
   "metadata": {
    "execution": {
     "iopub.execute_input": "2023-05-26T13:03:09.713272Z",
     "iopub.status.busy": "2023-05-26T13:03:09.713272Z",
     "iopub.status.idle": "2023-05-26T13:03:09.720591Z",
     "shell.execute_reply": "2023-05-26T13:03:09.720591Z",
     "shell.execute_reply.started": "2023-05-26T13:03:09.713272Z"
    }
   },
   "outputs": [
    {
     "data": {
      "text/plain": [
       "0.9666666666666667"
      ]
     },
     "execution_count": 28,
     "metadata": {},
     "output_type": "execute_result"
    }
   ],
   "source": [
    "dtClassifier.score(test_x, test_y)"
   ]
  },
  {
   "cell_type": "code",
   "execution_count": 29,
   "id": "b86c453d-a397-4188-8c1b-451ce5d4181b",
   "metadata": {
    "execution": {
     "iopub.execute_input": "2023-05-26T13:03:09.870786Z",
     "iopub.status.busy": "2023-05-26T13:03:09.870786Z",
     "iopub.status.idle": "2023-05-26T13:03:09.878411Z",
     "shell.execute_reply": "2023-05-26T13:03:09.878411Z",
     "shell.execute_reply.started": "2023-05-26T13:03:09.870786Z"
    }
   },
   "outputs": [],
   "source": [
    "# Note that the training data is predicted perfectly, with an accuracy of 1.0\n",
    "# While there are some flawed predictions in the test set. -> likely overfitting of the tree\n",
    "\n",
    "# Overfitting is a very common issue in tree based models.\n",
    "# We keep adding rules/criteria until we end up with homogenous leaf nodes.\n",
    "# This makes the trees overly complex and inherently attuned to the training data, the tree essentially memorizes the training data.\n",
    "# Consequently, they may fail to generalize well to test datasets."
   ]
  },
  {
   "cell_type": "code",
   "execution_count": null,
   "id": "bee9ff86-b168-4b2a-be92-4ee2951457af",
   "metadata": {},
   "outputs": [],
   "source": []
  },
  {
   "cell_type": "markdown",
   "id": "92a1f05e-a0d6-4b0a-ba8c-beff62c3f016",
   "metadata": {},
   "source": [
    "## ___Strategies to Control Decision Tree Complexity___\n",
    "-----------------------"
   ]
  },
  {
   "cell_type": "code",
   "execution_count": 30,
   "id": "9520b715-bc32-4ffa-aa24-d41cb086ccd3",
   "metadata": {
    "execution": {
     "iopub.execute_input": "2023-05-26T13:03:11.045508Z",
     "iopub.status.busy": "2023-05-26T13:03:11.045508Z",
     "iopub.status.idle": "2023-05-26T13:03:11.055782Z",
     "shell.execute_reply": "2023-05-26T13:03:11.055782Z",
     "shell.execute_reply.started": "2023-05-26T13:03:11.045508Z"
    }
   },
   "outputs": [],
   "source": [
    "# There are many strategies avaliable to mitigate the increase in the decision tree complexity.\n",
    "# One is to specify a maximum depth, at which the model will stop adding further split points.\n",
    "# This is called pre-pruning.\n",
    "\n",
    "# Another way is to build a complete tree, and then prune it to have just the maximum depth\n",
    "# This process is caled post-pruning."
   ]
  },
  {
   "cell_type": "code",
   "execution_count": 31,
   "id": "0c5cbeb4-8302-4d49-b388-98d36ff350cc",
   "metadata": {
    "execution": {
     "iopub.execute_input": "2023-05-26T13:03:11.219097Z",
     "iopub.status.busy": "2023-05-26T13:03:11.219097Z",
     "iopub.status.idle": "2023-05-26T13:03:11.229289Z",
     "shell.execute_reply": "2023-05-26T13:03:11.229289Z",
     "shell.execute_reply.started": "2023-05-26T13:03:11.219097Z"
    }
   },
   "outputs": [],
   "source": [
    "# Other restrictions that could be applied include ->\n",
    "# specifying a maximum number for leaf nodes\n",
    "# specifying a minimum number of elements to consider splitting into a leaf, at a split point."
   ]
  },
  {
   "cell_type": "code",
   "execution_count": null,
   "id": "81afbf19-3cae-43f2-9d9a-744752335533",
   "metadata": {},
   "outputs": [],
   "source": []
  },
  {
   "cell_type": "code",
   "execution_count": 32,
   "id": "abefeb04-afea-4e92-942d-0011e609f99c",
   "metadata": {
    "execution": {
     "iopub.execute_input": "2023-05-26T13:03:11.753332Z",
     "iopub.status.busy": "2023-05-26T13:03:11.753332Z",
     "iopub.status.idle": "2023-05-26T13:03:11.766757Z",
     "shell.execute_reply": "2023-05-26T13:03:11.766757Z",
     "shell.execute_reply.started": "2023-05-26T13:03:11.753332Z"
    }
   },
   "outputs": [],
   "source": [
    "dtClassifier = DecisionTreeClassifier(max_depth = 3, min_samples_leaf = 10).fit(train_x, train_y)"
   ]
  },
  {
   "cell_type": "code",
   "execution_count": 33,
   "id": "b934f770-484a-40d5-bbe6-c7bf011cf888",
   "metadata": {
    "execution": {
     "iopub.execute_input": "2023-05-26T13:03:11.847803Z",
     "iopub.status.busy": "2023-05-26T13:03:11.847803Z",
     "iopub.status.idle": "2023-05-26T13:03:11.859371Z",
     "shell.execute_reply": "2023-05-26T13:03:11.859371Z",
     "shell.execute_reply.started": "2023-05-26T13:03:11.847803Z"
    }
   },
   "outputs": [
    {
     "data": {
      "text/plain": [
       "0.9666666666666667"
      ]
     },
     "execution_count": 33,
     "metadata": {},
     "output_type": "execute_result"
    }
   ],
   "source": [
    "# Accuracy of train set predictions has gone down\n",
    "\n",
    "dtClassifier.score(train_x, train_y)"
   ]
  },
  {
   "cell_type": "code",
   "execution_count": 34,
   "id": "6627f181-2bcb-438e-b296-8ebd94d8b69f",
   "metadata": {
    "execution": {
     "iopub.execute_input": "2023-05-26T13:03:12.541580Z",
     "iopub.status.busy": "2023-05-26T13:03:12.541580Z",
     "iopub.status.idle": "2023-05-26T13:03:12.553421Z",
     "shell.execute_reply": "2023-05-26T13:03:12.553421Z",
     "shell.execute_reply.started": "2023-05-26T13:03:12.541580Z"
    }
   },
   "outputs": [
    {
     "data": {
      "text/plain": [
       "0.9333333333333333"
      ]
     },
     "execution_count": 34,
     "metadata": {},
     "output_type": "execute_result"
    }
   ],
   "source": [
    "# Accuracy of test set predictions has improved.\n",
    "\n",
    "dtClassifier.score(test_x, test_y)"
   ]
  },
  {
   "cell_type": "code",
   "execution_count": null,
   "id": "d4421c6b-f15e-4bc6-82f6-2c75d648b90f",
   "metadata": {},
   "outputs": [],
   "source": []
  },
  {
   "cell_type": "markdown",
   "id": "224dde81-4976-46c5-ad27-0aeceb83ff89",
   "metadata": {},
   "source": [
    "## ___Visualizing Decision Trees___\n",
    "---------------"
   ]
  },
  {
   "cell_type": "code",
   "execution_count": 35,
   "id": "4f728d57-4cd8-4b52-a226-3f9251e107d6",
   "metadata": {
    "execution": {
     "iopub.execute_input": "2023-05-26T13:03:13.121573Z",
     "iopub.status.busy": "2023-05-26T13:03:13.121573Z",
     "iopub.status.idle": "2023-05-26T13:03:13.131032Z",
     "shell.execute_reply": "2023-05-26T13:03:13.129821Z",
     "shell.execute_reply.started": "2023-05-26T13:03:13.121573Z"
    }
   },
   "outputs": [],
   "source": [
    "# One great advantage of decision trees is that they are easy to interpret.\n",
    "# need graphviz\n",
    "# not doing this for now :("
   ]
  },
  {
   "cell_type": "code",
   "execution_count": null,
   "id": "ee682f13-36aa-4961-a6e6-149685328bf3",
   "metadata": {},
   "outputs": [],
   "source": []
  },
  {
   "cell_type": "markdown",
   "id": "f03061d4-593e-4d37-b95a-c24eeac6533d",
   "metadata": {},
   "source": [
    "## ___Analyzing Trees___\n",
    "---------------"
   ]
  },
  {
   "cell_type": "code",
   "execution_count": 36,
   "id": "75783ef0-ec9d-4966-9b0e-435e1fbc3dfa",
   "metadata": {
    "execution": {
     "iopub.execute_input": "2023-05-26T13:03:13.247511Z",
     "iopub.status.busy": "2023-05-26T13:03:13.247511Z",
     "iopub.status.idle": "2023-05-26T13:03:13.260815Z",
     "shell.execute_reply": "2023-05-26T13:03:13.260815Z",
     "shell.execute_reply.started": "2023-05-26T13:03:13.247511Z"
    }
   },
   "outputs": [],
   "source": [
    "# For larger trees, it can help to analyze which path majority of the data takes, instead of analyzing all the nodes.\n",
    "# This can be accomplished by tracing the nodes with largest sample sizes in the tree.\n",
    "\n",
    "# Another way is to do a feature importance evaluation.\n",
    "# Feature importance is usually a value betwen 0 and 1.\n",
    "# This is one of the most useful and widely used form of summary analysis to perform on trees."
   ]
  },
  {
   "cell_type": "code",
   "execution_count": 37,
   "id": "be7468e1-aa8f-413d-b26c-6958be9fe3f4",
   "metadata": {
    "execution": {
     "iopub.execute_input": "2023-05-26T13:03:13.813503Z",
     "iopub.status.busy": "2023-05-26T13:03:13.813503Z",
     "iopub.status.idle": "2023-05-26T13:03:13.821466Z",
     "shell.execute_reply": "2023-05-26T13:03:13.821466Z",
     "shell.execute_reply.started": "2023-05-26T13:03:13.813503Z"
    }
   },
   "outputs": [],
   "source": [
    "# These values are assigned to individual features, indicating how important a feature is.\n",
    "# A feature importance of 0 => indicated that the feature is not used at all in the prediction.\n",
    "# A feature importance of 1 => that feature alone predicts the target perfectly.\n",
    "\n",
    "# Typically feature importance numbers are always positive and are normalized to sum up to 1.0"
   ]
  },
  {
   "cell_type": "code",
   "execution_count": null,
   "id": "f505588b-4529-4134-a699-6f0aed17bfb0",
   "metadata": {},
   "outputs": [],
   "source": []
  },
  {
   "cell_type": "code",
   "execution_count": 43,
   "id": "5edd5524-e959-4e42-abf2-14dc754fc9a8",
   "metadata": {
    "execution": {
     "iopub.execute_input": "2023-05-26T13:06:57.147459Z",
     "iopub.status.busy": "2023-05-26T13:06:57.147459Z",
     "iopub.status.idle": "2023-05-26T13:06:57.162396Z",
     "shell.execute_reply": "2023-05-26T13:06:57.162396Z",
     "shell.execute_reply.started": "2023-05-26T13:06:57.147459Z"
    }
   },
   "outputs": [
    {
     "data": {
      "text/plain": [
       "array([0., 0., 0., 1.])"
      ]
     },
     "execution_count": 43,
     "metadata": {},
     "output_type": "execute_result"
    }
   ],
   "source": [
    "# note the trailing underscore, indicating a learned model parameter.\n",
    "dtClassifier.feature_importances_"
   ]
  },
  {
   "cell_type": "code",
   "execution_count": 44,
   "id": "848f5ab3-4400-4979-9cbd-fc8d65a84816",
   "metadata": {
    "execution": {
     "iopub.execute_input": "2023-05-26T13:06:57.478239Z",
     "iopub.status.busy": "2023-05-26T13:06:57.478239Z",
     "iopub.status.idle": "2023-05-26T13:06:57.497553Z",
     "shell.execute_reply": "2023-05-26T13:06:57.497035Z",
     "shell.execute_reply.started": "2023-05-26T13:06:57.478239Z"
    }
   },
   "outputs": [
    {
     "data": {
      "text/plain": [
       "[('sepal length (cm)', 0.0),\n",
       " ('sepal width (cm)', 0.0),\n",
       " ('petal length (cm)', 0.0),\n",
       " ('petal width (cm)', 1.0)]"
      ]
     },
     "execution_count": 44,
     "metadata": {},
     "output_type": "execute_result"
    }
   ],
   "source": [
    "list(zip(iris.feature_names, dtClassifier.feature_importances_))"
   ]
  },
  {
   "cell_type": "code",
   "execution_count": 45,
   "id": "ef8319fe-0e6a-4f16-802f-fff0fbc4e4c4",
   "metadata": {
    "execution": {
     "iopub.execute_input": "2023-05-26T13:06:57.777514Z",
     "iopub.status.busy": "2023-05-26T13:06:57.777514Z",
     "iopub.status.idle": "2023-05-26T13:06:57.795273Z",
     "shell.execute_reply": "2023-05-26T13:06:57.795273Z",
     "shell.execute_reply.started": "2023-05-26T13:06:57.777514Z"
    }
   },
   "outputs": [],
   "source": [
    "# In this example, for this particular train-test split,\n",
    "# It appears that only the petal width feature has a deterministic effect in the predictions."
   ]
  },
  {
   "cell_type": "code",
   "execution_count": 46,
   "id": "adeb670b-3fb1-43e7-87fd-bddb814b1509",
   "metadata": {
    "execution": {
     "iopub.execute_input": "2023-05-26T13:10:02.147022Z",
     "iopub.status.busy": "2023-05-26T13:10:02.147022Z",
     "iopub.status.idle": "2023-05-26T13:10:02.154285Z",
     "shell.execute_reply": "2023-05-26T13:10:02.154285Z",
     "shell.execute_reply.started": "2023-05-26T13:10:02.147022Z"
    }
   },
   "outputs": [],
   "source": [
    "# Feature importance values do not tell us anything about which class of the feature has the deterministic effect in predictions\n",
    "# They also do not indicate complex relationships that may exist between features."
   ]
  },
  {
   "cell_type": "code",
   "execution_count": 47,
   "id": "412f6ecd-6dad-4191-9e55-c23b25f52965",
   "metadata": {
    "execution": {
     "iopub.execute_input": "2023-05-26T13:11:12.290685Z",
     "iopub.status.busy": "2023-05-26T13:11:12.290685Z",
     "iopub.status.idle": "2023-05-26T13:11:12.305356Z",
     "shell.execute_reply": "2023-05-26T13:11:12.305356Z",
     "shell.execute_reply.started": "2023-05-26T13:11:12.290685Z"
    }
   },
   "outputs": [],
   "source": [
    "# Since the feature importance values are dependent on the model's state, i.e train-test split\n",
    "# It is common to compute averages of the feature importances over a range of train-test splits, similar to cross-validation."
   ]
  },
  {
   "cell_type": "code",
   "execution_count": null,
   "id": "6573948c-003a-4412-91a2-ee86d157af1d",
   "metadata": {},
   "outputs": [],
   "source": []
  },
  {
   "cell_type": "code",
   "execution_count": 49,
   "id": "eeadd2e3-18cb-427c-bab3-043ae9aec465",
   "metadata": {
    "execution": {
     "iopub.execute_input": "2023-05-26T13:11:48.274388Z",
     "iopub.status.busy": "2023-05-26T13:11:48.274388Z",
     "iopub.status.idle": "2023-05-26T13:11:48.337649Z",
     "shell.execute_reply": "2023-05-26T13:11:48.337649Z",
     "shell.execute_reply.started": "2023-05-26T13:11:48.274388Z"
    }
   },
   "outputs": [],
   "source": [
    "bcancer = load_breast_cancer()"
   ]
  },
  {
   "cell_type": "code",
   "execution_count": 54,
   "id": "6bdb5714-8d2b-4ede-a91a-a4143fa971e5",
   "metadata": {
    "execution": {
     "iopub.execute_input": "2023-05-26T13:13:57.926906Z",
     "iopub.status.busy": "2023-05-26T13:13:57.926906Z",
     "iopub.status.idle": "2023-05-26T13:13:57.948138Z",
     "shell.execute_reply": "2023-05-26T13:13:57.947615Z",
     "shell.execute_reply.started": "2023-05-26T13:13:57.926906Z"
    }
   },
   "outputs": [
    {
     "data": {
      "text/plain": [
       "(569, 30)"
      ]
     },
     "execution_count": 54,
     "metadata": {},
     "output_type": "execute_result"
    }
   ],
   "source": [
    "bcancer.data.shape"
   ]
  },
  {
   "cell_type": "code",
   "execution_count": 50,
   "id": "715d7e30-3c5a-41ee-8d97-8d4edae8d89b",
   "metadata": {
    "execution": {
     "iopub.execute_input": "2023-05-26T13:12:26.021440Z",
     "iopub.status.busy": "2023-05-26T13:12:26.021440Z",
     "iopub.status.idle": "2023-05-26T13:12:26.032644Z",
     "shell.execute_reply": "2023-05-26T13:12:26.032540Z",
     "shell.execute_reply.started": "2023-05-26T13:12:26.021440Z"
    }
   },
   "outputs": [],
   "source": [
    "train_x, test_x, train_y, test_y = train_test_split(bcancer.data, bcancer.target, train_size = 0.8)"
   ]
  },
  {
   "cell_type": "code",
   "execution_count": 64,
   "id": "4e07eec8-bb9d-4783-9be6-e37c74f1a674",
   "metadata": {
    "execution": {
     "iopub.execute_input": "2023-05-26T13:14:36.496788Z",
     "iopub.status.busy": "2023-05-26T13:14:36.496788Z",
     "iopub.status.idle": "2023-05-26T13:14:36.509783Z",
     "shell.execute_reply": "2023-05-26T13:14:36.509165Z",
     "shell.execute_reply.started": "2023-05-26T13:14:36.496788Z"
    }
   },
   "outputs": [],
   "source": [
    "dtClassifier = DecisionTreeClassifier(max_depth = 5, min_samples_leaf = 10).fit(train_x, train_y)"
   ]
  },
  {
   "cell_type": "code",
   "execution_count": 65,
   "id": "18b8d412-b495-4217-b708-bb1f9f104942",
   "metadata": {
    "execution": {
     "iopub.execute_input": "2023-05-26T13:14:36.747613Z",
     "iopub.status.busy": "2023-05-26T13:14:36.747613Z",
     "iopub.status.idle": "2023-05-26T13:14:36.753624Z",
     "shell.execute_reply": "2023-05-26T13:14:36.753624Z",
     "shell.execute_reply.started": "2023-05-26T13:14:36.747613Z"
    }
   },
   "outputs": [
    {
     "data": {
      "text/plain": [
       "0.9582417582417583"
      ]
     },
     "execution_count": 65,
     "metadata": {},
     "output_type": "execute_result"
    }
   ],
   "source": [
    "dtClassifier.score(train_x, train_y)"
   ]
  },
  {
   "cell_type": "code",
   "execution_count": 66,
   "id": "b2f8c9b3-c18f-482b-ada4-7047ea44f806",
   "metadata": {
    "execution": {
     "iopub.execute_input": "2023-05-26T13:14:36.920503Z",
     "iopub.status.busy": "2023-05-26T13:14:36.920503Z",
     "iopub.status.idle": "2023-05-26T13:14:36.928012Z",
     "shell.execute_reply": "2023-05-26T13:14:36.928012Z",
     "shell.execute_reply.started": "2023-05-26T13:14:36.920503Z"
    }
   },
   "outputs": [
    {
     "data": {
      "text/plain": [
       "0.9473684210526315"
      ]
     },
     "execution_count": 66,
     "metadata": {},
     "output_type": "execute_result"
    }
   ],
   "source": [
    "dtClassifier.score(test_x, test_y)"
   ]
  },
  {
   "cell_type": "code",
   "execution_count": null,
   "id": "0ae24e6b-87ae-422e-a043-24925b3248e6",
   "metadata": {},
   "outputs": [],
   "source": []
  }
 ],
 "metadata": {
  "kernelspec": {
   "display_name": "Python 3 (ipykernel)",
   "language": "python",
   "name": "python3"
  },
  "language_info": {
   "codemirror_mode": {
    "name": "ipython",
    "version": 3
   },
   "file_extension": ".py",
   "mimetype": "text/x-python",
   "name": "python",
   "nbconvert_exporter": "python",
   "pygments_lexer": "ipython3",
   "version": "3.11.3"
  }
 },
 "nbformat": 4,
 "nbformat_minor": 5
}
