{
 "cells": [
  {
   "cell_type": "code",
   "execution_count": 7,
   "id": "ba0048ca-3f63-4e0a-aadd-1196e4d93290",
   "metadata": {
    "execution": {
     "iopub.execute_input": "2023-05-24T23:04:27.386864Z",
     "iopub.status.busy": "2023-05-24T23:04:27.386864Z",
     "iopub.status.idle": "2023-05-24T23:04:28.398857Z",
     "shell.execute_reply": "2023-05-24T23:04:28.398857Z",
     "shell.execute_reply.started": "2023-05-24T23:04:27.386864Z"
    }
   },
   "outputs": [],
   "source": [
    "import numpy as np\n",
    "import pandas as pd\n",
    "import matplotlib.pyplot as plt\n",
    "from sklearn.datasets import load_iris"
   ]
  },
  {
   "cell_type": "markdown",
   "id": "fb11839e-6b9a-4a60-8c2e-11e49c034e54",
   "metadata": {},
   "source": [
    "# ___Decision Trees___\n",
    "---------------"
   ]
  },
  {
   "cell_type": "code",
   "execution_count": 1,
   "id": "54ce0efa-4b7e-49e5-a726-6e487fee79ca",
   "metadata": {
    "execution": {
     "iopub.execute_input": "2023-05-24T22:46:27.970372Z",
     "iopub.status.busy": "2023-05-24T22:46:27.970372Z",
     "iopub.status.idle": "2023-05-24T22:46:27.976283Z",
     "shell.execute_reply": "2023-05-24T22:46:27.975750Z",
     "shell.execute_reply.started": "2023-05-24T22:46:27.970372Z"
    }
   },
   "outputs": [],
   "source": [
    "# Decision trees are a supervised learning models, that can be used for classification & regression.\n",
    "# These are easy to use and understand and are helpful in figuring out influential features in datasets exploratively.\n",
    "# Decision trees learn a series of \"if then\" rules that result in a decision that predicts a target value."
   ]
  },
  {
   "cell_type": "code",
   "execution_count": 2,
   "id": "9bbe5f80-d897-4eba-91e7-9c983366ccc4",
   "metadata": {
    "execution": {
     "iopub.execute_input": "2023-05-24T22:49:06.056486Z",
     "iopub.status.busy": "2023-05-24T22:49:06.056486Z",
     "iopub.status.idle": "2023-05-24T22:49:06.072595Z",
     "shell.execute_reply": "2023-05-24T22:49:06.071583Z",
     "shell.execute_reply.started": "2023-05-24T22:49:06.056486Z"
    }
   },
   "outputs": [],
   "source": [
    "# An analogy for decision trees.\n",
    "\n",
    "# Say one person guesses an object.\n",
    "# The next person has to find out the guess, asking as few questions as possible!\n",
    "\n",
    "# => Person 1 guesses a cat.\n",
    "# Q1 => Is it alive? -> yes\n",
    "# Q2 => Is it a biped? -> no\n",
    "# Q3 => Is it a pet? -> yes\n",
    "# Q4 => Does it bark? -> yes"
   ]
  },
  {
   "cell_type": "code",
   "execution_count": 3,
   "id": "79774b7d-d028-4283-8f7a-960775c6fd6f",
   "metadata": {
    "execution": {
     "iopub.execute_input": "2023-05-24T22:53:55.107811Z",
     "iopub.status.busy": "2023-05-24T22:53:55.107811Z",
     "iopub.status.idle": "2023-05-24T22:53:55.118489Z",
     "shell.execute_reply": "2023-05-24T22:53:55.117407Z",
     "shell.execute_reply.started": "2023-05-24T22:53:55.107811Z"
    }
   },
   "outputs": [],
   "source": [
    "# Broader questions help eliminate a large set of elements from the possible choices.\n",
    "# Specific questions are useful later down in the decision trees, one we have narrowed down our choices.\n",
    "# Then we could ask very specific questions to pin down the answer?\n",
    "\n",
    "# e.g. once we know it is a quadruped mammal that is a domestic pet, we could ask does it have long whiskers and a furry tail?"
   ]
  },
  {
   "cell_type": "code",
   "execution_count": 4,
   "id": "b89b4335-4268-4f94-bafd-934241841a86",
   "metadata": {
    "execution": {
     "iopub.execute_input": "2023-05-24T22:58:37.396199Z",
     "iopub.status.busy": "2023-05-24T22:58:37.396199Z",
     "iopub.status.idle": "2023-05-24T22:58:37.407940Z",
     "shell.execute_reply": "2023-05-24T22:58:37.407479Z",
     "shell.execute_reply.started": "2023-05-24T22:58:37.396199Z"
    }
   },
   "outputs": [],
   "source": [
    "# These decision trees can be represented by a tree, with nodes representing questions.\n",
    "# And yes & no answers as the left and right branches from that node.\n",
    "\n",
    "# The node where the tree starts => root node.\n",
    "# At the bottom of the tree, where the branches terminate => leaf nodes."
   ]
  },
  {
   "cell_type": "code",
   "execution_count": 6,
   "id": "751c8efa-21a1-4bb6-8d8b-99dda8c4aae5",
   "metadata": {
    "execution": {
     "iopub.execute_input": "2023-05-24T23:02:05.614356Z",
     "iopub.status.busy": "2023-05-24T23:02:05.614356Z",
     "iopub.status.idle": "2023-05-24T23:02:05.630400Z",
     "shell.execute_reply": "2023-05-24T23:02:05.630343Z",
     "shell.execute_reply.started": "2023-05-24T23:02:05.614356Z"
    }
   },
   "outputs": [],
   "source": [
    "# An object is identified by the path from the root node to the given leaf node, in terms of a set of yes/no asnwers to a set of questions.\n",
    "\n",
    "# e.g.\n",
    "\n",
    "# Alive? yes\n",
    "# Quadruped? yes\n",
    "# Pet? yes\n",
    "# Bark? no\n",
    "# Furry coat? yes\n",
    "\n",
    "# Then, that's a cat\n",
    "\n",
    "# Alive? yes\n",
    "# Quadruped? yes\n",
    "# Pet? no\n",
    "# Large? yes\n",
    "# Furry coat? no\n",
    "# Trunk? yes\n",
    "\n",
    "# Then, that's an elephant."
   ]
  },
  {
   "cell_type": "code",
   "execution_count": null,
   "id": "25bcd2df-f120-44c8-a9d6-d18a8a3265f0",
   "metadata": {},
   "outputs": [],
   "source": []
  },
  {
   "cell_type": "markdown",
   "id": "54660834-1dd6-434c-a795-f7bf1204faff",
   "metadata": {},
   "source": [
    "## ___Decision Trees with Iris dataset___\n",
    "--------------"
   ]
  },
  {
   "cell_type": "code",
   "execution_count": 8,
   "id": "bc9840cb-1cd0-46ef-b3f4-36004d1ce3a1",
   "metadata": {
    "execution": {
     "iopub.execute_input": "2023-05-24T23:04:37.933868Z",
     "iopub.status.busy": "2023-05-24T23:04:37.933868Z",
     "iopub.status.idle": "2023-05-24T23:04:38.002564Z",
     "shell.execute_reply": "2023-05-24T23:04:38.002564Z",
     "shell.execute_reply.started": "2023-05-24T23:04:37.933868Z"
    }
   },
   "outputs": [],
   "source": [
    "iris = load_iris()"
   ]
  },
  {
   "cell_type": "code",
   "execution_count": 10,
   "id": "f0d23df9-7d4b-4b42-9846-f15384e8e061",
   "metadata": {
    "execution": {
     "iopub.execute_input": "2023-05-24T23:05:45.518508Z",
     "iopub.status.busy": "2023-05-24T23:05:45.518508Z",
     "iopub.status.idle": "2023-05-24T23:05:45.532304Z",
     "shell.execute_reply": "2023-05-24T23:05:45.531787Z",
     "shell.execute_reply.started": "2023-05-24T23:05:45.518508Z"
    }
   },
   "outputs": [
    {
     "data": {
      "text/plain": [
       "{'data': array([[5.1, 3.5, 1.4, 0.2],\n",
       "        [4.9, 3. , 1.4, 0.2],\n",
       "        [4.7, 3.2, 1.3, 0.2],\n",
       "        [4.6, 3.1, 1.5, 0.2],\n",
       "        [5. , 3.6, 1.4, 0.2],\n",
       "        [5.4, 3.9, 1.7, 0.4],\n",
       "        [4.6, 3.4, 1.4, 0.3],\n",
       "        [5. , 3.4, 1.5, 0.2],\n",
       "        [4.4, 2.9, 1.4, 0.2],\n",
       "        [4.9, 3.1, 1.5, 0.1],\n",
       "        [5.4, 3.7, 1.5, 0.2],\n",
       "        [4.8, 3.4, 1.6, 0.2],\n",
       "        [4.8, 3. , 1.4, 0.1],\n",
       "        [4.3, 3. , 1.1, 0.1],\n",
       "        [5.8, 4. , 1.2, 0.2],\n",
       "        [5.7, 4.4, 1.5, 0.4],\n",
       "        [5.4, 3.9, 1.3, 0.4],\n",
       "        [5.1, 3.5, 1.4, 0.3],\n",
       "        [5.7, 3.8, 1.7, 0.3],\n",
       "        [5.1, 3.8, 1.5, 0.3],\n",
       "        [5.4, 3.4, 1.7, 0.2],\n",
       "        [5.1, 3.7, 1.5, 0.4],\n",
       "        [4.6, 3.6, 1. , 0.2],\n",
       "        [5.1, 3.3, 1.7, 0.5],\n",
       "        [4.8, 3.4, 1.9, 0.2],\n",
       "        [5. , 3. , 1.6, 0.2],\n",
       "        [5. , 3.4, 1.6, 0.4],\n",
       "        [5.2, 3.5, 1.5, 0.2],\n",
       "        [5.2, 3.4, 1.4, 0.2],\n",
       "        [4.7, 3.2, 1.6, 0.2],\n",
       "        [4.8, 3.1, 1.6, 0.2],\n",
       "        [5.4, 3.4, 1.5, 0.4],\n",
       "        [5.2, 4.1, 1.5, 0.1],\n",
       "        [5.5, 4.2, 1.4, 0.2],\n",
       "        [4.9, 3.1, 1.5, 0.2],\n",
       "        [5. , 3.2, 1.2, 0.2],\n",
       "        [5.5, 3.5, 1.3, 0.2],\n",
       "        [4.9, 3.6, 1.4, 0.1],\n",
       "        [4.4, 3. , 1.3, 0.2],\n",
       "        [5.1, 3.4, 1.5, 0.2],\n",
       "        [5. , 3.5, 1.3, 0.3],\n",
       "        [4.5, 2.3, 1.3, 0.3],\n",
       "        [4.4, 3.2, 1.3, 0.2],\n",
       "        [5. , 3.5, 1.6, 0.6],\n",
       "        [5.1, 3.8, 1.9, 0.4],\n",
       "        [4.8, 3. , 1.4, 0.3],\n",
       "        [5.1, 3.8, 1.6, 0.2],\n",
       "        [4.6, 3.2, 1.4, 0.2],\n",
       "        [5.3, 3.7, 1.5, 0.2],\n",
       "        [5. , 3.3, 1.4, 0.2],\n",
       "        [7. , 3.2, 4.7, 1.4],\n",
       "        [6.4, 3.2, 4.5, 1.5],\n",
       "        [6.9, 3.1, 4.9, 1.5],\n",
       "        [5.5, 2.3, 4. , 1.3],\n",
       "        [6.5, 2.8, 4.6, 1.5],\n",
       "        [5.7, 2.8, 4.5, 1.3],\n",
       "        [6.3, 3.3, 4.7, 1.6],\n",
       "        [4.9, 2.4, 3.3, 1. ],\n",
       "        [6.6, 2.9, 4.6, 1.3],\n",
       "        [5.2, 2.7, 3.9, 1.4],\n",
       "        [5. , 2. , 3.5, 1. ],\n",
       "        [5.9, 3. , 4.2, 1.5],\n",
       "        [6. , 2.2, 4. , 1. ],\n",
       "        [6.1, 2.9, 4.7, 1.4],\n",
       "        [5.6, 2.9, 3.6, 1.3],\n",
       "        [6.7, 3.1, 4.4, 1.4],\n",
       "        [5.6, 3. , 4.5, 1.5],\n",
       "        [5.8, 2.7, 4.1, 1. ],\n",
       "        [6.2, 2.2, 4.5, 1.5],\n",
       "        [5.6, 2.5, 3.9, 1.1],\n",
       "        [5.9, 3.2, 4.8, 1.8],\n",
       "        [6.1, 2.8, 4. , 1.3],\n",
       "        [6.3, 2.5, 4.9, 1.5],\n",
       "        [6.1, 2.8, 4.7, 1.2],\n",
       "        [6.4, 2.9, 4.3, 1.3],\n",
       "        [6.6, 3. , 4.4, 1.4],\n",
       "        [6.8, 2.8, 4.8, 1.4],\n",
       "        [6.7, 3. , 5. , 1.7],\n",
       "        [6. , 2.9, 4.5, 1.5],\n",
       "        [5.7, 2.6, 3.5, 1. ],\n",
       "        [5.5, 2.4, 3.8, 1.1],\n",
       "        [5.5, 2.4, 3.7, 1. ],\n",
       "        [5.8, 2.7, 3.9, 1.2],\n",
       "        [6. , 2.7, 5.1, 1.6],\n",
       "        [5.4, 3. , 4.5, 1.5],\n",
       "        [6. , 3.4, 4.5, 1.6],\n",
       "        [6.7, 3.1, 4.7, 1.5],\n",
       "        [6.3, 2.3, 4.4, 1.3],\n",
       "        [5.6, 3. , 4.1, 1.3],\n",
       "        [5.5, 2.5, 4. , 1.3],\n",
       "        [5.5, 2.6, 4.4, 1.2],\n",
       "        [6.1, 3. , 4.6, 1.4],\n",
       "        [5.8, 2.6, 4. , 1.2],\n",
       "        [5. , 2.3, 3.3, 1. ],\n",
       "        [5.6, 2.7, 4.2, 1.3],\n",
       "        [5.7, 3. , 4.2, 1.2],\n",
       "        [5.7, 2.9, 4.2, 1.3],\n",
       "        [6.2, 2.9, 4.3, 1.3],\n",
       "        [5.1, 2.5, 3. , 1.1],\n",
       "        [5.7, 2.8, 4.1, 1.3],\n",
       "        [6.3, 3.3, 6. , 2.5],\n",
       "        [5.8, 2.7, 5.1, 1.9],\n",
       "        [7.1, 3. , 5.9, 2.1],\n",
       "        [6.3, 2.9, 5.6, 1.8],\n",
       "        [6.5, 3. , 5.8, 2.2],\n",
       "        [7.6, 3. , 6.6, 2.1],\n",
       "        [4.9, 2.5, 4.5, 1.7],\n",
       "        [7.3, 2.9, 6.3, 1.8],\n",
       "        [6.7, 2.5, 5.8, 1.8],\n",
       "        [7.2, 3.6, 6.1, 2.5],\n",
       "        [6.5, 3.2, 5.1, 2. ],\n",
       "        [6.4, 2.7, 5.3, 1.9],\n",
       "        [6.8, 3. , 5.5, 2.1],\n",
       "        [5.7, 2.5, 5. , 2. ],\n",
       "        [5.8, 2.8, 5.1, 2.4],\n",
       "        [6.4, 3.2, 5.3, 2.3],\n",
       "        [6.5, 3. , 5.5, 1.8],\n",
       "        [7.7, 3.8, 6.7, 2.2],\n",
       "        [7.7, 2.6, 6.9, 2.3],\n",
       "        [6. , 2.2, 5. , 1.5],\n",
       "        [6.9, 3.2, 5.7, 2.3],\n",
       "        [5.6, 2.8, 4.9, 2. ],\n",
       "        [7.7, 2.8, 6.7, 2. ],\n",
       "        [6.3, 2.7, 4.9, 1.8],\n",
       "        [6.7, 3.3, 5.7, 2.1],\n",
       "        [7.2, 3.2, 6. , 1.8],\n",
       "        [6.2, 2.8, 4.8, 1.8],\n",
       "        [6.1, 3. , 4.9, 1.8],\n",
       "        [6.4, 2.8, 5.6, 2.1],\n",
       "        [7.2, 3. , 5.8, 1.6],\n",
       "        [7.4, 2.8, 6.1, 1.9],\n",
       "        [7.9, 3.8, 6.4, 2. ],\n",
       "        [6.4, 2.8, 5.6, 2.2],\n",
       "        [6.3, 2.8, 5.1, 1.5],\n",
       "        [6.1, 2.6, 5.6, 1.4],\n",
       "        [7.7, 3. , 6.1, 2.3],\n",
       "        [6.3, 3.4, 5.6, 2.4],\n",
       "        [6.4, 3.1, 5.5, 1.8],\n",
       "        [6. , 3. , 4.8, 1.8],\n",
       "        [6.9, 3.1, 5.4, 2.1],\n",
       "        [6.7, 3.1, 5.6, 2.4],\n",
       "        [6.9, 3.1, 5.1, 2.3],\n",
       "        [5.8, 2.7, 5.1, 1.9],\n",
       "        [6.8, 3.2, 5.9, 2.3],\n",
       "        [6.7, 3.3, 5.7, 2.5],\n",
       "        [6.7, 3. , 5.2, 2.3],\n",
       "        [6.3, 2.5, 5. , 1.9],\n",
       "        [6.5, 3. , 5.2, 2. ],\n",
       "        [6.2, 3.4, 5.4, 2.3],\n",
       "        [5.9, 3. , 5.1, 1.8]]),\n",
       " 'target': array([0, 0, 0, 0, 0, 0, 0, 0, 0, 0, 0, 0, 0, 0, 0, 0, 0, 0, 0, 0, 0, 0,\n",
       "        0, 0, 0, 0, 0, 0, 0, 0, 0, 0, 0, 0, 0, 0, 0, 0, 0, 0, 0, 0, 0, 0,\n",
       "        0, 0, 0, 0, 0, 0, 1, 1, 1, 1, 1, 1, 1, 1, 1, 1, 1, 1, 1, 1, 1, 1,\n",
       "        1, 1, 1, 1, 1, 1, 1, 1, 1, 1, 1, 1, 1, 1, 1, 1, 1, 1, 1, 1, 1, 1,\n",
       "        1, 1, 1, 1, 1, 1, 1, 1, 1, 1, 1, 1, 2, 2, 2, 2, 2, 2, 2, 2, 2, 2,\n",
       "        2, 2, 2, 2, 2, 2, 2, 2, 2, 2, 2, 2, 2, 2, 2, 2, 2, 2, 2, 2, 2, 2,\n",
       "        2, 2, 2, 2, 2, 2, 2, 2, 2, 2, 2, 2, 2, 2, 2, 2, 2, 2]),\n",
       " 'frame': None,\n",
       " 'target_names': array(['setosa', 'versicolor', 'virginica'], dtype='<U10'),\n",
       " 'DESCR': '.. _iris_dataset:\\n\\nIris plants dataset\\n--------------------\\n\\n**Data Set Characteristics:**\\n\\n    :Number of Instances: 150 (50 in each of three classes)\\n    :Number of Attributes: 4 numeric, predictive attributes and the class\\n    :Attribute Information:\\n        - sepal length in cm\\n        - sepal width in cm\\n        - petal length in cm\\n        - petal width in cm\\n        - class:\\n                - Iris-Setosa\\n                - Iris-Versicolour\\n                - Iris-Virginica\\n                \\n    :Summary Statistics:\\n\\n    ============== ==== ==== ======= ===== ====================\\n                    Min  Max   Mean    SD   Class Correlation\\n    ============== ==== ==== ======= ===== ====================\\n    sepal length:   4.3  7.9   5.84   0.83    0.7826\\n    sepal width:    2.0  4.4   3.05   0.43   -0.4194\\n    petal length:   1.0  6.9   3.76   1.76    0.9490  (high!)\\n    petal width:    0.1  2.5   1.20   0.76    0.9565  (high!)\\n    ============== ==== ==== ======= ===== ====================\\n\\n    :Missing Attribute Values: None\\n    :Class Distribution: 33.3% for each of 3 classes.\\n    :Creator: R.A. Fisher\\n    :Donor: Michael Marshall (MARSHALL%PLU@io.arc.nasa.gov)\\n    :Date: July, 1988\\n\\nThe famous Iris database, first used by Sir R.A. Fisher. The dataset is taken\\nfrom Fisher\\'s paper. Note that it\\'s the same as in R, but not as in the UCI\\nMachine Learning Repository, which has two wrong data points.\\n\\nThis is perhaps the best known database to be found in the\\npattern recognition literature.  Fisher\\'s paper is a classic in the field and\\nis referenced frequently to this day.  (See Duda & Hart, for example.)  The\\ndata set contains 3 classes of 50 instances each, where each class refers to a\\ntype of iris plant.  One class is linearly separable from the other 2; the\\nlatter are NOT linearly separable from each other.\\n\\n.. topic:: References\\n\\n   - Fisher, R.A. \"The use of multiple measurements in taxonomic problems\"\\n     Annual Eugenics, 7, Part II, 179-188 (1936); also in \"Contributions to\\n     Mathematical Statistics\" (John Wiley, NY, 1950).\\n   - Duda, R.O., & Hart, P.E. (1973) Pattern Classification and Scene Analysis.\\n     (Q327.D83) John Wiley & Sons.  ISBN 0-471-22361-1.  See page 218.\\n   - Dasarathy, B.V. (1980) \"Nosing Around the Neighborhood: A New System\\n     Structure and Classification Rule for Recognition in Partially Exposed\\n     Environments\".  IEEE Transactions on Pattern Analysis and Machine\\n     Intelligence, Vol. PAMI-2, No. 1, 67-71.\\n   - Gates, G.W. (1972) \"The Reduced Nearest Neighbor Rule\".  IEEE Transactions\\n     on Information Theory, May 1972, 431-433.\\n   - See also: 1988 MLC Proceedings, 54-64.  Cheeseman et al\"s AUTOCLASS II\\n     conceptual clustering system finds 3 classes in the data.\\n   - Many, many more ...',\n",
       " 'feature_names': ['sepal length (cm)',\n",
       "  'sepal width (cm)',\n",
       "  'petal length (cm)',\n",
       "  'petal width (cm)'],\n",
       " 'filename': 'iris.csv',\n",
       " 'data_module': 'sklearn.datasets.data'}"
      ]
     },
     "execution_count": 10,
     "metadata": {},
     "output_type": "execute_result"
    }
   ],
   "source": [
    "iris"
   ]
  },
  {
   "cell_type": "code",
   "execution_count": 13,
   "id": "025e71a9-3bd6-4579-af20-9046e7aba4dd",
   "metadata": {
    "execution": {
     "iopub.execute_input": "2023-05-24T23:07:23.803609Z",
     "iopub.status.busy": "2023-05-24T23:07:23.803609Z",
     "iopub.status.idle": "2023-05-24T23:07:23.810054Z",
     "shell.execute_reply": "2023-05-24T23:07:23.808953Z",
     "shell.execute_reply.started": "2023-05-24T23:07:23.803609Z"
    }
   },
   "outputs": [
    {
     "data": {
      "text/plain": [
       "array(['setosa', 'versicolor', 'virginica'], dtype='<U10')"
      ]
     },
     "execution_count": 13,
     "metadata": {},
     "output_type": "execute_result"
    }
   ],
   "source": [
    "# features -> - sepal length in cm, sepal width in cm, petal length in cm, petal width in cm\n",
    "# labels -> species names.\n",
    "\n",
    "iris.target_names"
   ]
  },
  {
   "cell_type": "code",
   "execution_count": 15,
   "id": "ba9fa28e-f256-400a-8ec9-36aff9560b03",
   "metadata": {
    "execution": {
     "iopub.execute_input": "2023-05-24T23:08:24.437482Z",
     "iopub.status.busy": "2023-05-24T23:08:24.437482Z",
     "iopub.status.idle": "2023-05-24T23:08:24.454522Z",
     "shell.execute_reply": "2023-05-24T23:08:24.454522Z",
     "shell.execute_reply.started": "2023-05-24T23:08:24.437482Z"
    }
   },
   "outputs": [
    {
     "data": {
      "text/plain": [
       "(150, 4)"
      ]
     },
     "execution_count": 15,
     "metadata": {},
     "output_type": "execute_result"
    }
   ],
   "source": [
    "# There are 50 flowers from each Iris species.\n",
    "\n",
    "iris.data.shape"
   ]
  },
  {
   "cell_type": "code",
   "execution_count": 16,
   "id": "ea26bdfe-3e49-424f-99df-f3df68ed77fd",
   "metadata": {
    "execution": {
     "iopub.execute_input": "2023-05-24T23:10:24.860752Z",
     "iopub.status.busy": "2023-05-24T23:10:24.860752Z",
     "iopub.status.idle": "2023-05-24T23:10:24.870256Z",
     "shell.execute_reply": "2023-05-24T23:10:24.870256Z",
     "shell.execute_reply.started": "2023-05-24T23:10:24.860752Z"
    }
   },
   "outputs": [],
   "source": [
    "# The features here are continuous variables.\n",
    "# Thus a decision tree cannot operate by simple binary yes/no questions like is the petal length 4.9 cm?\n",
    "# Questions need to be based on bounds, like is the petal length greater than 3.0 cm and less than 6.29 cm?"
   ]
  },
  {
   "cell_type": "code",
   "execution_count": null,
   "id": "14326e6b-3727-4a74-a1b3-246cdcf039c5",
   "metadata": {},
   "outputs": [],
   "source": [
    "# In decision tree, each decision splits the data into two groups.\n",
    "\n",
    "# If petal length <= 2.35         at this point, sample size = 112, species frequency = [37, 34, 41]\n",
    "#      then -> Iris setosa        here, sample size = 37, species frequency = [37, 0, 0]\n",
    "# else if petal width > 0.2       sample size = (112 - 37), species frequency = [0, 34, 41]\n",
    "#      then -> Iris versicolor    sample size = 36, species frequency = [0, 33, 3]\n",
    "# else -> Iris virginica          sample size = 39, species frequency = [0, 1, 38]"
   ]
  }
 ],
 "metadata": {
  "kernelspec": {
   "display_name": "Python 3 (ipykernel)",
   "language": "python",
   "name": "python3"
  },
  "language_info": {
   "codemirror_mode": {
    "name": "ipython",
    "version": 3
   },
   "file_extension": ".py",
   "mimetype": "text/x-python",
   "name": "python",
   "nbconvert_exporter": "python",
   "pygments_lexer": "ipython3",
   "version": "3.11.3"
  }
 },
 "nbformat": 4,
 "nbformat_minor": 5
}
