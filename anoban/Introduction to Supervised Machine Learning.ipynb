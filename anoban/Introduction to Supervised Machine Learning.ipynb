{
 "cells": [
  {
   "cell_type": "markdown",
   "id": "c525fd32-eace-4bf1-b2aa-8ad497046b50",
   "metadata": {},
   "source": [
    "# ___Introduction to Supervised Machine Learning___\n",
    "----------------------"
   ]
  },
  {
   "cell_type": "code",
   "execution_count": 1,
   "id": "2d4ceaca-dd3d-48b3-bec7-c7879e455454",
   "metadata": {
    "tags": []
   },
   "outputs": [],
   "source": [
    "# Machine Learning algorithms that use labelled training sets to learn how to make predictions are called supervised learning algorithms.\n",
    "# Supervised learning refers to the fact that the training dataset has to have labels for the algorithm to learn."
   ]
  },
  {
   "cell_type": "code",
   "execution_count": null,
   "id": "0b3b2c54-4bf8-4705-8409-7b72306edf21",
   "metadata": {},
   "outputs": [],
   "source": []
  },
  {
   "cell_type": "markdown",
   "id": "c5c20b3c-7421-4e59-ad20-bf1f985950b7",
   "metadata": {},
   "source": [
    "### ___Feature representation___"
   ]
  },
  {
   "cell_type": "code",
   "execution_count": 2,
   "id": "8dcf993d-8492-4bd2-91d3-c93e274e6e5d",
   "metadata": {
    "tags": []
   },
   "outputs": [],
   "source": [
    "# feature representation means representing the data in a form that the algorithm can understand.\n",
    "# This is typically done using data in a tabular format."
   ]
  },
  {
   "cell_type": "code",
   "execution_count": 4,
   "id": "7aa011b5-e1fe-4f2d-9214-6590e15c066f",
   "metadata": {
    "tags": []
   },
   "outputs": [],
   "source": [
    "# instances / samples are conventionally denoted by 'x'\n",
    "# and their cognate labels (or targets in the case of test data) are denoted by 'y'"
   ]
  },
  {
   "cell_type": "code",
   "execution_count": null,
   "id": "98a0fc6e-e659-4f32-8787-d7ff1980a704",
   "metadata": {},
   "outputs": [],
   "source": []
  },
  {
   "cell_type": "code",
   "execution_count": null,
   "id": "e9dbd7e8-e398-411b-897f-6ab28af47966",
   "metadata": {},
   "outputs": [],
   "source": []
  },
  {
   "cell_type": "code",
   "execution_count": 6,
   "id": "048927e7-9ba7-499e-9ab2-6da1822fb972",
   "metadata": {
    "tags": []
   },
   "outputs": [],
   "source": [
    "# Models have estimators inside them.\n",
    "# These estimators store a set of model parameters learned from the training data\n",
    "# The process of the model learning these parameters from the training dataset and passing them to the estimator is called model fitting.\n",
    "# These parameters are used to make predictions on new unknown instances."
   ]
  },
  {
   "cell_type": "code",
   "execution_count": 7,
   "id": "d49d5a8d-aaf7-4bf5-a9ba-e60b203f7f58",
   "metadata": {
    "tags": []
   },
   "outputs": [],
   "source": [
    "# Model fitting updates the internal state of the model object."
   ]
  },
  {
   "cell_type": "code",
   "execution_count": null,
   "id": "4f6e3f86-520a-4f7c-b760-3fb56d168e7e",
   "metadata": {},
   "outputs": [],
   "source": []
  },
  {
   "cell_type": "markdown",
   "id": "0f317065-80c8-4cfe-b25f-f8067b867bb1",
   "metadata": {},
   "source": [
    "## ___Classification vs Regression___\n",
    "------------"
   ]
  },
  {
   "cell_type": "code",
   "execution_count": null,
   "id": "2d9b8cd0-1b13-4896-b59e-0d154e27cb67",
   "metadata": {},
   "outputs": [],
   "source": [
    "# For classification the "
   ]
  }
 ],
 "metadata": {
  "kernelspec": {
   "display_name": "Python 3 (ipykernel)",
   "language": "python",
   "name": "python3"
  },
  "language_info": {
   "codemirror_mode": {
    "name": "ipython",
    "version": 3
   },
   "file_extension": ".py",
   "mimetype": "text/x-python",
   "name": "python",
   "nbconvert_exporter": "python",
   "pygments_lexer": "ipython3",
   "version": "3.11.3"
  }
 },
 "nbformat": 4,
 "nbformat_minor": 5
}
