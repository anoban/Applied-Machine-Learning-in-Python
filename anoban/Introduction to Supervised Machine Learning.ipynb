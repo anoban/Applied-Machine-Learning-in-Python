{
 "cells": [
  {
   "cell_type": "code",
   "execution_count": 14,
   "id": "4b6cced8-5f04-4818-a90e-f8ab45a5aa5f",
   "metadata": {
    "tags": []
   },
   "outputs": [],
   "source": [
    "import numpy as np\n",
    "import matplotlib.pyplot as plt"
   ]
  },
  {
   "cell_type": "markdown",
   "id": "c525fd32-eace-4bf1-b2aa-8ad497046b50",
   "metadata": {},
   "source": [
    "# ___Introduction to Supervised Machine Learning___\n",
    "----------------------"
   ]
  },
  {
   "cell_type": "code",
   "execution_count": 1,
   "id": "2d4ceaca-dd3d-48b3-bec7-c7879e455454",
   "metadata": {
    "tags": []
   },
   "outputs": [],
   "source": [
    "# Machine Learning algorithms that use labelled training sets to learn how to make predictions are called supervised learning algorithms.\n",
    "# Supervised learning refers to the fact that the training dataset has to have labels for the algorithm to learn."
   ]
  },
  {
   "cell_type": "code",
   "execution_count": null,
   "id": "0b3b2c54-4bf8-4705-8409-7b72306edf21",
   "metadata": {},
   "outputs": [],
   "source": []
  },
  {
   "cell_type": "markdown",
   "id": "c5c20b3c-7421-4e59-ad20-bf1f985950b7",
   "metadata": {},
   "source": [
    "### ___Feature representation___"
   ]
  },
  {
   "cell_type": "code",
   "execution_count": 2,
   "id": "8dcf993d-8492-4bd2-91d3-c93e274e6e5d",
   "metadata": {
    "tags": []
   },
   "outputs": [],
   "source": [
    "# feature representation means representing the data in a form that the algorithm can understand.\n",
    "# This is typically done using data in a tabular format."
   ]
  },
  {
   "cell_type": "code",
   "execution_count": 4,
   "id": "7aa011b5-e1fe-4f2d-9214-6590e15c066f",
   "metadata": {
    "tags": []
   },
   "outputs": [],
   "source": [
    "# instances / samples are conventionally denoted by 'x'\n",
    "# and their cognate labels (or targets in the case of test data) are denoted by 'y'"
   ]
  },
  {
   "cell_type": "code",
   "execution_count": null,
   "id": "98a0fc6e-e659-4f32-8787-d7ff1980a704",
   "metadata": {},
   "outputs": [],
   "source": []
  },
  {
   "cell_type": "code",
   "execution_count": 6,
   "id": "048927e7-9ba7-499e-9ab2-6da1822fb972",
   "metadata": {
    "tags": []
   },
   "outputs": [],
   "source": [
    "# Models have estimators inside them.\n",
    "# These estimators store a set of model parameters learned from the training data\n",
    "# The process of the model learning these parameters from the training dataset and passing them to the estimator is called model fitting.\n",
    "# These parameters are used to make predictions on new unknown instances."
   ]
  },
  {
   "cell_type": "code",
   "execution_count": 7,
   "id": "d49d5a8d-aaf7-4bf5-a9ba-e60b203f7f58",
   "metadata": {
    "tags": []
   },
   "outputs": [],
   "source": [
    "# Model fitting updates the internal state of the model object."
   ]
  },
  {
   "cell_type": "code",
   "execution_count": null,
   "id": "4f6e3f86-520a-4f7c-b760-3fb56d168e7e",
   "metadata": {},
   "outputs": [],
   "source": []
  },
  {
   "cell_type": "markdown",
   "id": "0f317065-80c8-4cfe-b25f-f8067b867bb1",
   "metadata": {},
   "source": [
    "## ___Classification vs Regression___\n",
    "------------"
   ]
  },
  {
   "cell_type": "code",
   "execution_count": 2,
   "id": "2d9b8cd0-1b13-4896-b59e-0d154e27cb67",
   "metadata": {
    "tags": []
   },
   "outputs": [],
   "source": [
    "# For classification, the target value is a categorical value -> a categorical nominal value (ordinals may use regression)"
   ]
  },
  {
   "cell_type": "code",
   "execution_count": 3,
   "id": "a027a45e-b758-4aec-955e-53ce35c40b98",
   "metadata": {
    "tags": []
   },
   "outputs": [],
   "source": [
    "# There are two types of classifiers ->\n",
    "# Binary classifiers, where the target has just two variants, like yes or no.\n",
    "# e.g. classifiers that predict whether an email is a spam or not.\n",
    "# classes here -> yes/no"
   ]
  },
  {
   "cell_type": "code",
   "execution_count": 1,
   "id": "d196bee8-fbc8-4591-a15e-a335139f3e4e",
   "metadata": {
    "tags": []
   },
   "outputs": [],
   "source": [
    "# Multi-class classifiers -> more than two variants in the target.\n",
    "# Classifier that predicts the fruit type based on a set of physical properties of fruits.\n",
    "# e.g. given a set of measurements, whether the fruit is an apple / orange / lemon / strawberry ?\n",
    "# classes here -> apple / orange / lemon / strawberry"
   ]
  },
  {
   "cell_type": "code",
   "execution_count": 11,
   "id": "282230fd-dc7c-4e7b-8712-100840dffce1",
   "metadata": {
    "tags": []
   },
   "outputs": [],
   "source": [
    "# For regression, the target is a contiguous quantitative value. (CONTINUOUS QUANTITATIVE)!!\n",
    "# Does not include quantitative discrete values.\n",
    "# Target must be a real value (floats)\n",
    "\n",
    "# Observing the type of target will help decide on which model to use predictions.\n",
    "# e.g. targets -> cost, weight, rating, blood pressure ..etc"
   ]
  },
  {
   "cell_type": "code",
   "execution_count": 12,
   "id": "bf295888-cdca-42a6-97db-3bcf327a65f1",
   "metadata": {
    "tags": []
   },
   "outputs": [],
   "source": [
    "# Many models come in both flavours -> a classifier and a regressor."
   ]
  },
  {
   "cell_type": "code",
   "execution_count": null,
   "id": "dcf72443-635e-4d17-955c-05d3dcc09d6f",
   "metadata": {},
   "outputs": [],
   "source": []
  },
  {
   "cell_type": "markdown",
   "id": "71a12fc8-e7f9-4c23-afe1-8abb769bc690",
   "metadata": {},
   "source": [
    "## ___kNN models and Linear models___\n",
    "-------------"
   ]
  },
  {
   "cell_type": "code",
   "execution_count": 4,
   "id": "ee36c021-6361-43d5-905a-4dbd9fe19ceb",
   "metadata": {
    "tags": []
   },
   "outputs": [],
   "source": [
    "# kNN makes few assumptions about the structure of the data.\n",
    "# Gives accurate but sometimes unstable predictions.\n",
    "# kNN's predictions are sensitive to small changes in the training data"
   ]
  },
  {
   "cell_type": "code",
   "execution_count": null,
   "id": "1eedb8f3-07fe-473b-bfaf-4b3a91b7bec9",
   "metadata": {},
   "outputs": [],
   "source": []
  },
  {
   "cell_type": "code",
   "execution_count": 5,
   "id": "e1f1bbad-dcc0-4dca-ba1b-fdc339429337",
   "metadata": {},
   "outputs": [],
   "source": [
    "# Linear model makes very strong assumptions about the structure of the data.\n",
    "# Gives stable but potentially inaccurate predictions."
   ]
  },
  {
   "cell_type": "code",
   "execution_count": null,
   "id": "ebb050f1-242e-4593-a81e-6f8e084b2dbf",
   "metadata": {},
   "outputs": [],
   "source": []
  },
  {
   "cell_type": "markdown",
   "id": "3969d447-15bf-4e37-960e-63ed3ba06663",
   "metadata": {},
   "source": [
    "## ___Relationship Between Model Complexity & Model Accuracy___\n",
    "---------------------------"
   ]
  },
  {
   "cell_type": "code",
   "execution_count": 114,
   "id": "cc35c74a-5cc8-4e62-a691-0c9e4b383a97",
   "metadata": {
    "tags": []
   },
   "outputs": [],
   "source": [
    "test_score = 10 - np.power(np.arange(-3, 3.1, step = .1), 2)"
   ]
  },
  {
   "cell_type": "code",
   "execution_count": 115,
   "id": "3760bd6d-f438-44ee-b296-d28499600078",
   "metadata": {
    "tags": []
   },
   "outputs": [],
   "source": [
    "train_score = np.sqrt(np.arange(0, 10000, step = 200)) "
   ]
  },
  {
   "cell_type": "code",
   "execution_count": 117,
   "id": "57851f25-3d70-4fa1-bf88-3c23c2990f14",
   "metadata": {
    "tags": []
   },
   "outputs": [
    {
     "data": {
      "image/png": "[encoded data removed]",
      "text/plain": [
       "<Figure size 640x480 with 1 Axes>"
      ]
     },
     "metadata": {},
     "output_type": "display_data"
    }
   ],
   "source": [
    "plt.plot(train_score, label = \"Training set score\", color = \"red\")\n",
    "plt.plot(test_score, label = \"Test set score\", color = \"green\")\n",
    "plt.xlabel(\"Model complexity\")\n",
    "plt.ylabel(\"Model acuracy\")\n",
    "plt.legend()\n",
    "plt.show()"
   ]
  },
  {
   "cell_type": "code",
   "execution_count": null,
   "id": "44d66b05-5ea5-481a-8ba7-55440782eb2a",
   "metadata": {},
   "outputs": [],
   "source": []
  },
  {
   "cell_type": "code",
   "execution_count": 7,
   "id": "7c16a0c9-47cd-4d90-9dbf-18712be85d62",
   "metadata": {},
   "outputs": [],
   "source": [
    "# Models created with very vague parameters or small number of parameters tend to have poor accuracy.\n",
    "# As we specify more parameters, the model becomes more rigorous, and consequently the accuracy increases to a point.\n",
    "\n",
    "# Further tuning, makes the model more specialized to the training dataset.\n",
    "# This is known as 'overfitting'\n",
    "# Overfitted models may perform exceptionally well on test data (hold out test data) splitted from the training data\n",
    "# But typically fail to generalize to new data from different datasets.\n",
    "# After a certain point, tuning the model parameters may lead to poor accuracies."
   ]
  },
  {
   "cell_type": "code",
   "execution_count": null,
   "id": "b4e059d8-11cf-4192-9ec2-1a5bb309c1b0",
   "metadata": {},
   "outputs": [],
   "source": []
  },
  {
   "cell_type": "markdown",
   "id": "d03b8481-959a-45e9-a4d4-9714537230b5",
   "metadata": {},
   "source": [
    "## ___What is a model?___"
   ]
  },
  {
   "cell_type": "code",
   "execution_count": 8,
   "id": "ffce37d2-a158-4e62-82ab-e771359fa138",
   "metadata": {
    "tags": []
   },
   "outputs": [],
   "source": [
    "# A model is a specific mathematical description that expresses the relationship between a set of input variables and one/more outcome \n",
    "# variables.\n",
    "# In statistical terms, the input variables are called independent variables and the outcome variables are called dependent variables.\n",
    "# In machine learning the term 'features' is used to refer to independent variables.\n",
    "# and the term 'target values' or 'target labels' is used to refer to dependent variables."
   ]
  },
  {
   "cell_type": "code",
   "execution_count": null,
   "id": "8a46e34d-fac1-4bb9-b768-1bef55d2c521",
   "metadata": {},
   "outputs": [],
   "source": []
  }
 ],
 "metadata": {
  "kernelspec": {
   "display_name": "Python 3 (ipykernel)",
   "language": "python",
   "name": "python3"
  },
  "language_info": {
   "codemirror_mode": {
    "name": "ipython",
    "version": 3
   },
   "file_extension": ".py",
   "mimetype": "text/x-python",
   "name": "python",
   "nbconvert_exporter": "python",
   "pygments_lexer": "ipython3",
   "version": "3.11.3"
  }
 },
 "nbformat": 4,
 "nbformat_minor": 5
}
