{
 "cells": [
  {
   "cell_type": "code",
   "execution_count": 24,
   "id": "164d67f1-2b41-4c09-8ccc-14b00f2769f0",
   "metadata": {
    "execution": {
     "iopub.execute_input": "2023-06-03T00:52:03.061671Z",
     "iopub.status.busy": "2023-06-03T00:52:03.061671Z",
     "iopub.status.idle": "2023-06-03T00:52:03.074630Z",
     "shell.execute_reply": "2023-06-03T00:52:03.074500Z",
     "shell.execute_reply.started": "2023-06-03T00:52:03.061671Z"
    }
   },
   "outputs": [],
   "source": [
    "from sklearn.ensemble import GradientBoostingClassifier\n",
    "from sklearn.model_selection import train_test_split\n",
    "from sklearn.datasets import load_breast_cancer\n",
    "\n",
    "import numpy as np"
   ]
  },
  {
   "cell_type": "markdown",
   "id": "78a11957-8173-4209-bec8-c4d7116dd2ac",
   "metadata": {},
   "source": [
    "# ___Gradient Boosted Decision Trees (GBDT)___\n",
    "-------------------"
   ]
  },
  {
   "cell_type": "code",
   "execution_count": 1,
   "id": "c38cbed7-91dc-439d-a741-8547f410f9c6",
   "metadata": {
    "execution": {
     "iopub.execute_input": "2023-06-03T00:39:34.870281Z",
     "iopub.status.busy": "2023-06-03T00:39:34.870281Z",
     "iopub.status.idle": "2023-06-03T00:39:34.875300Z",
     "shell.execute_reply": "2023-06-03T00:39:34.875300Z",
     "shell.execute_reply.started": "2023-06-03T00:39:34.870281Z"
    }
   },
   "outputs": [],
   "source": [
    "# This is another variant of tree based ensemble methods.\n",
    "# Like random forests, gradient boosted decision trees use an ensemble of trees."
   ]
  },
  {
   "cell_type": "code",
   "execution_count": 2,
   "id": "2f11e368-960d-4f78-9001-e84f3a13a517",
   "metadata": {
    "execution": {
     "iopub.execute_input": "2023-06-03T00:45:06.749621Z",
     "iopub.status.busy": "2023-06-03T00:45:06.749621Z",
     "iopub.status.idle": "2023-06-03T00:45:06.754719Z",
     "shell.execute_reply": "2023-06-03T00:45:06.754719Z",
     "shell.execute_reply.started": "2023-06-03T00:45:06.749621Z"
    }
   },
   "outputs": [],
   "source": [
    "# Unlike random forests where the models are a synthesis of random trees that make predictions independently,\n",
    "# GBDTs are made of trees that correct mistakes made by previous trees!\n",
    "# GBDT models use lots of shallow trees (known as weak learners) built non-randomly, to ensure fewer and fewer mistakes are made as we add more trees.\n",
    "# Number of estimators is an important parameter in controlling model complexity.\n",
    "# There's another parameter called the learning rate, which controls how thw algorithm builds the correction trees.\n",
    "# When the learning rate is high, each shallow tree expends more effort on correcting the mistakes made by the predecessor and vice versa."
   ]
  },
  {
   "cell_type": "code",
   "execution_count": 3,
   "id": "ce7489c2-6702-476c-a95e-21fe7ab47494",
   "metadata": {
    "execution": {
     "iopub.execute_input": "2023-06-03T00:46:09.849897Z",
     "iopub.status.busy": "2023-06-03T00:46:09.849897Z",
     "iopub.status.idle": "2023-06-03T00:46:09.865881Z",
     "shell.execute_reply": "2023-06-03T00:46:09.865329Z",
     "shell.execute_reply.started": "2023-06-03T00:46:09.849897Z"
    }
   },
   "outputs": [],
   "source": [
    "# Higher learning rates typically lead to more complex models with complex individual trees."
   ]
  },
  {
   "cell_type": "code",
   "execution_count": null,
   "id": "3d1b7477-1f03-4638-85b1-5bdcd1452e12",
   "metadata": {},
   "outputs": [],
   "source": []
  },
  {
   "cell_type": "code",
   "execution_count": 5,
   "id": "0dc1a8a6-502e-4cc0-b7ad-c7788162a29b",
   "metadata": {
    "execution": {
     "iopub.execute_input": "2023-06-03T00:47:50.083642Z",
     "iopub.status.busy": "2023-06-03T00:47:50.083642Z",
     "iopub.status.idle": "2023-06-03T00:47:50.115420Z",
     "shell.execute_reply": "2023-06-03T00:47:50.115420Z",
     "shell.execute_reply.started": "2023-06-03T00:47:50.083642Z"
    }
   },
   "outputs": [],
   "source": [
    "bcancer = load_breast_cancer()\n",
    "train_x, test_x, train_y, test_y = train_test_split(bcancer.data, bcancer.target, train_size = 0.7)"
   ]
  },
  {
   "cell_type": "code",
   "execution_count": 18,
   "id": "35a53251-704a-4b4e-be81-2936d1a9729b",
   "metadata": {
    "execution": {
     "iopub.execute_input": "2023-06-03T00:50:14.088371Z",
     "iopub.status.busy": "2023-06-03T00:50:14.088371Z",
     "iopub.status.idle": "2023-06-03T00:50:14.367181Z",
     "shell.execute_reply": "2023-06-03T00:50:14.367181Z",
     "shell.execute_reply.started": "2023-06-03T00:50:14.088371Z"
    }
   },
   "outputs": [],
   "source": [
    "gbClassifier = GradientBoostingClassifier(n_estimators = 200, learning_rate = 0.85, max_depth = 5, min_samples_split = 10,\n",
    "                                          min_samples_leaf = 10).fit(train_x, train_y)"
   ]
  },
  {
   "cell_type": "code",
   "execution_count": 23,
   "id": "679070ad-6859-4722-89cd-0cd4f26d20fd",
   "metadata": {
    "execution": {
     "iopub.execute_input": "2023-06-03T00:50:22.008918Z",
     "iopub.status.busy": "2023-06-03T00:50:22.008918Z",
     "iopub.status.idle": "2023-06-03T00:50:22.018561Z",
     "shell.execute_reply": "2023-06-03T00:50:22.018561Z",
     "shell.execute_reply.started": "2023-06-03T00:50:22.008918Z"
    }
   },
   "outputs": [
    {
     "data": {
      "text/plain": [
       "0.9707602339181286"
      ]
     },
     "execution_count": 23,
     "metadata": {},
     "output_type": "execute_result"
    }
   ],
   "source": [
    "gbClassifier.score(test_x, test_y)"
   ]
  },
  {
   "cell_type": "code",
   "execution_count": null,
   "id": "f4dfb72e-b030-471e-b3d6-7c82b4a5e9da",
   "metadata": {},
   "outputs": [],
   "source": []
  },
  {
   "cell_type": "code",
   "execution_count": 30,
   "id": "9f2f6cc4-0e00-400e-8c91-7366654e5f59",
   "metadata": {
    "execution": {
     "iopub.execute_input": "2023-06-03T00:58:52.906322Z",
     "iopub.status.busy": "2023-06-03T00:58:52.906322Z",
     "iopub.status.idle": "2023-06-03T00:59:01.584532Z",
     "shell.execute_reply": "2023-06-03T00:59:01.584532Z",
     "shell.execute_reply.started": "2023-06-03T00:58:52.906322Z"
    }
   },
   "outputs": [
    {
     "name": "stdout",
     "output_type": "stream",
     "text": [
      "Learning rate: 0.00, Train set accuracy score 0.63317, Test set accuracy score: 0.61404\n",
      "Learning rate: 0.01, Train set accuracy score 0.98995, Test set accuracy score: 0.94152\n",
      "Learning rate: 0.03, Train set accuracy score 1.00000, Test set accuracy score: 0.94737\n",
      "Learning rate: 0.05, Train set accuracy score 1.00000, Test set accuracy score: 0.94152\n",
      "Learning rate: 0.07, Train set accuracy score 1.00000, Test set accuracy score: 0.95322\n",
      "Learning rate: 0.10, Train set accuracy score 1.00000, Test set accuracy score: 0.97076\n",
      "Learning rate: 0.20, Train set accuracy score 1.00000, Test set accuracy score: 0.95322\n",
      "Learning rate: 0.50, Train set accuracy score 1.00000, Test set accuracy score: 0.96491\n",
      "Learning rate: 0.75, Train set accuracy score 1.00000, Test set accuracy score: 0.96491\n",
      "Learning rate: 0.90, Train set accuracy score 1.00000, Test set accuracy score: 0.95906\n",
      "Learning rate: 1.00, Train set accuracy score 1.00000, Test set accuracy score: 0.97661\n"
     ]
    }
   ],
   "source": [
    "for lrate in (0, 0.01, 0.025, 0.05, 0.075, 0.1, 0.2, 0.5, 0.75, 0.9, 1.0):\n",
    "\n",
    "    gbClassifier = GradientBoostingClassifier(n_estimators = 200, learning_rate = lrate, max_depth = 5, min_samples_split = 10,\n",
    "                                          min_samples_leaf = 10).fit(train_x, train_y)\n",
    "    print(\"Learning rate: {:.2f}, Train set accuracy score {:.5f}, Test set accuracy score: {:.5f}\".format(lrate,\n",
    "                        gbClassifier.score(train_x, train_y), gbClassifier.score(test_x, test_y)))\n",
    "    "
   ]
  },
  {
   "cell_type": "code",
   "execution_count": null,
   "id": "d312b88d-cde7-4a1e-a832-0fe574d682cf",
   "metadata": {},
   "outputs": [],
   "source": []
  },
  {
   "cell_type": "code",
   "execution_count": 31,
   "id": "9b58a59e-3696-4b49-908c-2be0896cf905",
   "metadata": {
    "execution": {
     "iopub.execute_input": "2023-06-03T00:59:51.693133Z",
     "iopub.status.busy": "2023-06-03T00:59:51.693133Z",
     "iopub.status.idle": "2023-06-03T00:59:51.697044Z",
     "shell.execute_reply": "2023-06-03T00:59:51.696690Z",
     "shell.execute_reply.started": "2023-06-03T00:59:51.693133Z"
    }
   },
   "outputs": [],
   "source": [
    "# Similar to other tree based models, GBDTs are also prone to overfitting.\n",
    "# Model is likely overfitting as we increase the learning rate -> can be seen from the perfect predictions for the train set!"
   ]
  },
  {
   "cell_type": "code",
   "execution_count": null,
   "id": "d07b8a4a-1a1e-4db6-9373-6ded84795a5e",
   "metadata": {},
   "outputs": [],
   "source": []
  }
 ],
 "metadata": {
  "kernelspec": {
   "display_name": "Python 3 (ipykernel)",
   "language": "python",
   "name": "python3"
  },
  "language_info": {
   "codemirror_mode": {
    "name": "ipython",
    "version": 3
   },
   "file_extension": ".py",
   "mimetype": "text/x-python",
   "name": "python",
   "nbconvert_exporter": "python",
   "pygments_lexer": "ipython3",
   "version": "3.11.3"
  }
 },
 "nbformat": 4,
 "nbformat_minor": 5
}
