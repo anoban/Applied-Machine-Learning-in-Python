{
 "cells": [
  {
   "cell_type": "code",
   "execution_count": 35,
   "id": "8a3783a9-743c-4f8c-a8e5-bbe0387e956c",
   "metadata": {
    "execution": {
     "iopub.execute_input": "2023-05-24T11:48:03.386164Z",
     "iopub.status.busy": "2023-05-24T11:48:03.386164Z",
     "iopub.status.idle": "2023-05-24T11:48:03.394617Z",
     "shell.execute_reply": "2023-05-24T11:48:03.394617Z",
     "shell.execute_reply.started": "2023-05-24T11:48:03.386164Z"
    }
   },
   "outputs": [],
   "source": [
    "from sklearn.model_selection import (cross_val_score, validation_curve)\n",
    "from sklearn.neighbors import KNeighborsClassifier\n",
    "from sklearn.svm import SVC\n",
    "import pandas as pd\n",
    "import numpy as np\n",
    "np.random.seed(2023 - 5 - 24)"
   ]
  },
  {
   "cell_type": "markdown",
   "id": "d3fc6c50-9369-4c49-9671-105733dfbe70",
   "metadata": {},
   "source": [
    "# ___Cross Validation___\n",
    "---------"
   ]
  },
  {
   "cell_type": "code",
   "execution_count": 1,
   "id": "442217b5-af14-413b-b108-c97ee3f9aee1",
   "metadata": {
    "execution": {
     "iopub.execute_input": "2023-05-23T20:16:12.963200Z",
     "iopub.status.busy": "2023-05-23T20:16:12.963200Z",
     "iopub.status.idle": "2023-05-23T20:16:12.981120Z",
     "shell.execute_reply": "2023-05-23T20:16:12.981012Z",
     "shell.execute_reply.started": "2023-05-23T20:16:12.963200Z"
    }
   },
   "outputs": [],
   "source": [
    "# When applying ML models, we've followed a consistent series of steps;.\n",
    "# partition the data into train and test sets.\n",
    "# fit the model on the training set to estimate the model parameters.\n",
    "# then make the predictions on the training set."
   ]
  },
  {
   "cell_type": "code",
   "execution_count": 2,
   "id": "6c97ea20-f91e-4556-b504-36021763eaf4",
   "metadata": {
    "execution": {
     "iopub.execute_input": "2023-05-23T20:19:01.974321Z",
     "iopub.status.busy": "2023-05-23T20:19:01.974321Z",
     "iopub.status.idle": "2023-05-23T20:19:01.987314Z",
     "shell.execute_reply": "2023-05-23T20:19:01.986826Z",
     "shell.execute_reply.started": "2023-05-23T20:19:01.974321Z"
    }
   },
   "outputs": [],
   "source": [
    "# We did the partitioning as a way to estimate how well the model performs on unknown datasets. (generalize to)\n",
    "# the test set set represents a set of novel data pooints the model hasn't seen yet, but come from the same distribution (feature sets)"
   ]
  },
  {
   "cell_type": "code",
   "execution_count": null,
   "id": "f815ecec-23a4-4740-973a-2bdd4a3b49df",
   "metadata": {},
   "outputs": [],
   "source": []
  },
  {
   "cell_type": "code",
   "execution_count": 5,
   "id": "bfdbccc7-9ea0-4aa0-9812-7c42df207c0f",
   "metadata": {
    "execution": {
     "iopub.execute_input": "2023-05-23T20:43:20.044621Z",
     "iopub.status.busy": "2023-05-23T20:43:20.044621Z",
     "iopub.status.idle": "2023-05-23T20:43:20.056192Z",
     "shell.execute_reply": "2023-05-23T20:43:20.055675Z",
     "shell.execute_reply.started": "2023-05-23T20:43:20.044621Z"
    }
   },
   "outputs": [],
   "source": [
    "# Cross-validation goes one step beyond to evaluate the performance of a select set of models.\n",
    "# using multiple train test splits.\n",
    "# In train test splits using one ML model, the learned parameters and consequently the model accuracy may vary by chance depending on the \n",
    "# data points that got into the train category and the test category, during the splitting."
   ]
  },
  {
   "cell_type": "code",
   "execution_count": 6,
   "id": "d6054dca-51d6-4643-8aa0-d8a8dc7ab384",
   "metadata": {
    "execution": {
     "iopub.execute_input": "2023-05-23T20:43:20.232914Z",
     "iopub.status.busy": "2023-05-23T20:43:20.232914Z",
     "iopub.status.idle": "2023-05-23T20:43:20.245980Z",
     "shell.execute_reply": "2023-05-23T20:43:20.245980Z",
     "shell.execute_reply.started": "2023-05-23T20:43:20.232914Z"
    }
   },
   "outputs": [],
   "source": [
    "# Cross validation does a more rigorous testing by creating and running multiple train test splits,\n",
    "# training models on them and measuring the accuracy score to compute the average accuracy score."
   ]
  },
  {
   "cell_type": "code",
   "execution_count": null,
   "id": "084af4ab-82ec-4591-8b86-9a84e3cc0c54",
   "metadata": {},
   "outputs": [],
   "source": []
  },
  {
   "cell_type": "markdown",
   "id": "b66a27f7-a3a7-465b-9bfc-e2295e6034ef",
   "metadata": {},
   "source": [
    "## ___Cross Validation in Practice___\n",
    "----------------"
   ]
  },
  {
   "cell_type": "code",
   "execution_count": 7,
   "id": "85b935b2-ccc1-486d-b6e8-9264b3890540",
   "metadata": {
    "execution": {
     "iopub.execute_input": "2023-05-23T20:43:21.021195Z",
     "iopub.status.busy": "2023-05-23T20:43:21.021195Z",
     "iopub.status.idle": "2023-05-23T20:43:21.032531Z",
     "shell.execute_reply": "2023-05-23T20:43:21.031417Z",
     "shell.execute_reply.started": "2023-05-23T20:43:21.021195Z"
    }
   },
   "outputs": [],
   "source": [
    "# Cross validation gives a reliably stable estimate of accuracy given a model, that can be compared to the performance of another model."
   ]
  },
  {
   "cell_type": "code",
   "execution_count": 8,
   "id": "0467eff4-fd6d-4160-8790-f8e6e28d10f6",
   "metadata": {
    "execution": {
     "iopub.execute_input": "2023-05-23T21:24:35.013545Z",
     "iopub.status.busy": "2023-05-23T21:24:35.013545Z",
     "iopub.status.idle": "2023-05-23T21:24:35.019239Z",
     "shell.execute_reply": "2023-05-23T21:24:35.019185Z",
     "shell.execute_reply.started": "2023-05-23T21:24:35.013545Z"
    }
   },
   "outputs": [],
   "source": [
    "# Let's say that we have a classification task at hand, and we have a SVM model and a Naive Bayes model.\n",
    "# In this scenario, we cannot rely on the accuracy scores computed via a single train test split.\n",
    "# Because the composition of the split has a high influence in the accuracy score."
   ]
  },
  {
   "cell_type": "code",
   "execution_count": 9,
   "id": "23095b25-c5a2-4e9e-974d-83cd6d5b21e5",
   "metadata": {
    "execution": {
     "iopub.execute_input": "2023-05-23T21:30:53.229549Z",
     "iopub.status.busy": "2023-05-23T21:30:53.229549Z",
     "iopub.status.idle": "2023-05-23T21:30:53.243281Z",
     "shell.execute_reply": "2023-05-23T21:30:53.242771Z",
     "shell.execute_reply.started": "2023-05-23T21:30:53.229549Z"
    }
   },
   "outputs": [],
   "source": [
    "# Here, cross validation can rescue us.\n",
    "# cross validation will do a number of train test splits on the given dataset, train the model on the sets of train sets and measure \n",
    "# the accuracy scores using the test sets.\n",
    "# and finally compute the average of the accuracy score."
   ]
  },
  {
   "cell_type": "code",
   "execution_count": null,
   "id": "8adb16d0-12f5-4171-bd17-5ea1f37ced40",
   "metadata": {},
   "outputs": [],
   "source": []
  },
  {
   "cell_type": "code",
   "execution_count": 10,
   "id": "13823337-a945-4ed1-b129-65d5b546613c",
   "metadata": {
    "execution": {
     "iopub.execute_input": "2023-05-23T21:37:37.795525Z",
     "iopub.status.busy": "2023-05-23T21:37:37.795525Z",
     "iopub.status.idle": "2023-05-23T21:37:37.812191Z",
     "shell.execute_reply": "2023-05-23T21:37:37.811673Z",
     "shell.execute_reply.started": "2023-05-23T21:37:37.795525Z"
    }
   },
   "outputs": [],
   "source": [
    "# Cross validation is NOT used to produce models.\n",
    "# e.g. a 10 fold cross validation will make 10 different train test splits\n",
    "# train 10 different models\n",
    "# make 10 different predictions\n",
    "# measure 10 different accuracy scores.\n",
    "# and get the average accuracy score."
   ]
  },
  {
   "cell_type": "code",
   "execution_count": null,
   "id": "0c253211-ea96-4e52-8c11-2b801a0c032a",
   "metadata": {},
   "outputs": [],
   "source": []
  },
  {
   "cell_type": "markdown",
   "id": "9d7f86da-0444-45e3-93e7-29734b8354a8",
   "metadata": {},
   "source": [
    "## ___Cross-validation in Model Evaluation & Model Tuning___\n",
    "-----------------"
   ]
  },
  {
   "cell_type": "code",
   "execution_count": 11,
   "id": "724cef32-80a9-4782-bdea-192e4fb9a12f",
   "metadata": {
    "execution": {
     "iopub.execute_input": "2023-05-23T21:40:40.152200Z",
     "iopub.status.busy": "2023-05-23T21:40:40.152200Z",
     "iopub.status.idle": "2023-05-23T21:40:40.162405Z",
     "shell.execute_reply": "2023-05-23T21:40:40.161665Z",
     "shell.execute_reply.started": "2023-05-23T21:40:40.152200Z"
    }
   },
   "outputs": [],
   "source": [
    "# If our task is to compare the peroformances of two different models that were individually trained and tuned,\n",
    "# we'd use k-fold cross-validation.\n",
    "# k refers to the number of train-test splits."
   ]
  },
  {
   "cell_type": "code",
   "execution_count": 12,
   "id": "f5314b23-2242-4c1f-8031-3a614a5b6642",
   "metadata": {
    "execution": {
     "iopub.execute_input": "2023-05-23T21:49:53.723503Z",
     "iopub.status.busy": "2023-05-23T21:49:53.723503Z",
     "iopub.status.idle": "2023-05-23T21:49:53.740092Z",
     "shell.execute_reply": "2023-05-23T21:49:53.739495Z",
     "shell.execute_reply.started": "2023-05-23T21:49:53.723503Z"
    }
   },
   "outputs": [],
   "source": [
    "# If we are to tune a signle model, in order to find the best parameters, we'd need a slightly different approach.\n",
    "# Instead of a train-test split we must use a train-validate-test split.\n",
    "# i.e our data gets partitioned into 3 parts."
   ]
  },
  {
   "cell_type": "code",
   "execution_count": null,
   "id": "720f313a-ab8d-4567-bb19-df589184c6cc",
   "metadata": {},
   "outputs": [],
   "source": []
  },
  {
   "cell_type": "markdown",
   "id": "9e5ac462-41d5-45b1-897a-bd83a3e0c9e4",
   "metadata": {},
   "source": [
    "## ___Mechanics Behind k-fold Cross Validation___\n",
    "_______________"
   ]
  },
  {
   "cell_type": "code",
   "execution_count": 15,
   "id": "681d5ed2-421f-48da-8655-2b1bae417aa3",
   "metadata": {
    "execution": {
     "iopub.execute_input": "2023-05-23T22:12:14.138479Z",
     "iopub.status.busy": "2023-05-23T22:12:14.138479Z",
     "iopub.status.idle": "2023-05-23T22:12:14.143491Z",
     "shell.execute_reply": "2023-05-23T22:12:14.142485Z",
     "shell.execute_reply.started": "2023-05-23T22:12:14.138479Z"
    }
   },
   "outputs": [],
   "source": [
    "# Most common type of cross-validation is the k-fold cross validation.\n",
    "# In a 5 fold cross validation;\n",
    "# Say that we pass in a dataset with 50,000 rows.\n",
    "\n",
    "# It would get split into 5 equal portions => A, B, C, D & E each with 10,000 rows.\n",
    "# Now we need to train and evaluate 5 models.\n",
    "\n",
    "# First model will take in B to E as training set (40,000 rows) and use A as the test set.\n",
    "# Second model will use A, C to E as training set and use B as the test set.\n",
    "# Third model will use A, B, D to E as training set and use C as the test set.\n",
    "# so on and so forth.\n",
    "\n",
    "# Finally we'd end up with 5 different accuracy scores.\n",
    "# From which we can compute the average!."
   ]
  },
  {
   "cell_type": "code",
   "execution_count": null,
   "id": "afabbed0-e73e-4188-a123-bcc8f13cde11",
   "metadata": {},
   "outputs": [],
   "source": []
  },
  {
   "cell_type": "code",
   "execution_count": 2,
   "id": "3c3aa20d-209d-4bd6-931c-fb6beeb174d0",
   "metadata": {
    "execution": {
     "iopub.execute_input": "2023-05-24T10:52:16.646297Z",
     "iopub.status.busy": "2023-05-24T10:52:16.646297Z",
     "iopub.status.idle": "2023-05-24T10:52:16.714408Z",
     "shell.execute_reply": "2023-05-24T10:52:16.714408Z",
     "shell.execute_reply.started": "2023-05-24T10:52:16.646297Z"
    }
   },
   "outputs": [],
   "source": [
    "fruits = pd.read_csv(r\"D:/Applied-Machine-Learning-in-Python/resources/assets/fruit_data_with_colors.txt\", delimiter = \"\\t\")"
   ]
  },
  {
   "cell_type": "code",
   "execution_count": 3,
   "id": "9a1bd350-9675-4d8a-9688-9760b6b11b18",
   "metadata": {
    "execution": {
     "iopub.execute_input": "2023-05-24T10:52:17.075067Z",
     "iopub.status.busy": "2023-05-24T10:52:17.075067Z",
     "iopub.status.idle": "2023-05-24T10:52:17.112005Z",
     "shell.execute_reply": "2023-05-24T10:52:17.112005Z",
     "shell.execute_reply.started": "2023-05-24T10:52:17.075067Z"
    }
   },
   "outputs": [
    {
     "data": {
      "text/html": [
       "<div>\n",
       "<style scoped>\n",
       "    .dataframe tbody tr th:only-of-type {\n",
       "        vertical-align: middle;\n",
       "    }\n",
       "\n",
       "    .dataframe tbody tr th {\n",
       "        vertical-align: top;\n",
       "    }\n",
       "\n",
       "    .dataframe thead th {\n",
       "        text-align: right;\n",
       "    }\n",
       "</style>\n",
       "<table border=\"1\" class=\"dataframe\">\n",
       "  <thead>\n",
       "    <tr style=\"text-align: right;\">\n",
       "      <th></th>\n",
       "      <th>fruit_label</th>\n",
       "      <th>fruit_name</th>\n",
       "      <th>fruit_subtype</th>\n",
       "      <th>mass</th>\n",
       "      <th>width</th>\n",
       "      <th>height</th>\n",
       "      <th>color_score</th>\n",
       "    </tr>\n",
       "  </thead>\n",
       "  <tbody>\n",
       "    <tr>\n",
       "      <th>0</th>\n",
       "      <td>1</td>\n",
       "      <td>apple</td>\n",
       "      <td>granny_smith</td>\n",
       "      <td>192</td>\n",
       "      <td>8.4</td>\n",
       "      <td>7.3</td>\n",
       "      <td>0.55</td>\n",
       "    </tr>\n",
       "    <tr>\n",
       "      <th>1</th>\n",
       "      <td>1</td>\n",
       "      <td>apple</td>\n",
       "      <td>granny_smith</td>\n",
       "      <td>180</td>\n",
       "      <td>8.0</td>\n",
       "      <td>6.8</td>\n",
       "      <td>0.59</td>\n",
       "    </tr>\n",
       "    <tr>\n",
       "      <th>2</th>\n",
       "      <td>1</td>\n",
       "      <td>apple</td>\n",
       "      <td>granny_smith</td>\n",
       "      <td>176</td>\n",
       "      <td>7.4</td>\n",
       "      <td>7.2</td>\n",
       "      <td>0.60</td>\n",
       "    </tr>\n",
       "    <tr>\n",
       "      <th>3</th>\n",
       "      <td>2</td>\n",
       "      <td>mandarin</td>\n",
       "      <td>mandarin</td>\n",
       "      <td>86</td>\n",
       "      <td>6.2</td>\n",
       "      <td>4.7</td>\n",
       "      <td>0.80</td>\n",
       "    </tr>\n",
       "    <tr>\n",
       "      <th>4</th>\n",
       "      <td>2</td>\n",
       "      <td>mandarin</td>\n",
       "      <td>mandarin</td>\n",
       "      <td>84</td>\n",
       "      <td>6.0</td>\n",
       "      <td>4.6</td>\n",
       "      <td>0.79</td>\n",
       "    </tr>\n",
       "  </tbody>\n",
       "</table>\n",
       "</div>"
      ],
      "text/plain": [
       "   fruit_label fruit_name fruit_subtype  mass  width  height  color_score\n",
       "0            1      apple  granny_smith   192    8.4     7.3         0.55\n",
       "1            1      apple  granny_smith   180    8.0     6.8         0.59\n",
       "2            1      apple  granny_smith   176    7.4     7.2         0.60\n",
       "3            2   mandarin      mandarin    86    6.2     4.7         0.80\n",
       "4            2   mandarin      mandarin    84    6.0     4.6         0.79"
      ]
     },
     "execution_count": 3,
     "metadata": {},
     "output_type": "execute_result"
    }
   ],
   "source": [
    "fruits.head()"
   ]
  },
  {
   "cell_type": "code",
   "execution_count": 4,
   "id": "2abe2a94-2c88-47ae-834d-22c28de0225d",
   "metadata": {
    "execution": {
     "iopub.execute_input": "2023-05-24T10:52:17.575358Z",
     "iopub.status.busy": "2023-05-24T10:52:17.575358Z",
     "iopub.status.idle": "2023-05-24T10:52:17.647669Z",
     "shell.execute_reply": "2023-05-24T10:52:17.647669Z",
     "shell.execute_reply.started": "2023-05-24T10:52:17.575358Z"
    }
   },
   "outputs": [],
   "source": [
    "fruits_x = fruits.loc[:, [\"width\", \"height\"]]\n",
    "fruits_y = fruits.fruit_label"
   ]
  },
  {
   "cell_type": "code",
   "execution_count": 5,
   "id": "82974d63-2ba7-483c-9b08-1476b7556234",
   "metadata": {
    "execution": {
     "iopub.execute_input": "2023-05-24T10:52:18.284145Z",
     "iopub.status.busy": "2023-05-24T10:52:18.284145Z",
     "iopub.status.idle": "2023-05-24T10:52:18.297036Z",
     "shell.execute_reply": "2023-05-24T10:52:18.297036Z",
     "shell.execute_reply.started": "2023-05-24T10:52:18.284145Z"
    }
   },
   "outputs": [],
   "source": [
    "knnClassifier = KNeighborsClassifier(n_neighbors = 5)"
   ]
  },
  {
   "cell_type": "code",
   "execution_count": 6,
   "id": "66b47e1d-b303-4820-9920-a1823e2c4b4b",
   "metadata": {
    "execution": {
     "iopub.execute_input": "2023-05-24T10:52:18.674896Z",
     "iopub.status.busy": "2023-05-24T10:52:18.674896Z",
     "iopub.status.idle": "2023-05-24T10:52:18.759097Z",
     "shell.execute_reply": "2023-05-24T10:52:18.759097Z",
     "shell.execute_reply.started": "2023-05-24T10:52:18.674896Z"
    }
   },
   "outputs": [
    {
     "data": {
      "text/plain": [
       "array([0.75      , 0.75      , 0.83333333, 0.83333333, 0.81818182])"
      ]
     },
     "execution_count": 6,
     "metadata": {},
     "output_type": "execute_result"
    }
   ],
   "source": [
    "cross_val_score(estimator = knnClassifier, X = fruits_x, y = fruits_y, cv = 5)"
   ]
  },
  {
   "cell_type": "code",
   "execution_count": 7,
   "id": "2bc7dc19-2ee8-43a6-98dd-53a45e3cbe00",
   "metadata": {
    "execution": {
     "iopub.execute_input": "2023-05-24T10:52:19.445438Z",
     "iopub.status.busy": "2023-05-24T10:52:19.445438Z",
     "iopub.status.idle": "2023-05-24T10:52:19.494501Z",
     "shell.execute_reply": "2023-05-24T10:52:19.494501Z",
     "shell.execute_reply.started": "2023-05-24T10:52:19.445438Z"
    }
   },
   "outputs": [
    {
     "data": {
      "text/plain": [
       "0.7969696969696971"
      ]
     },
     "execution_count": 7,
     "metadata": {},
     "output_type": "execute_result"
    }
   ],
   "source": [
    "# cv argument defines the k number of folds.\n",
    "\n",
    "np.mean(cross_val_score(estimator = knnClassifier, X = fruits_x, y = fruits_y, cv = 5))"
   ]
  },
  {
   "cell_type": "code",
   "execution_count": null,
   "id": "9d47c6d8-5e20-4251-af05-6bd27cd42be2",
   "metadata": {},
   "outputs": [],
   "source": []
  },
  {
   "cell_type": "code",
   "execution_count": 8,
   "id": "1c24a0cf-6417-43d4-b45c-22cbe18abefe",
   "metadata": {
    "execution": {
     "iopub.execute_input": "2023-05-24T10:52:20.918115Z",
     "iopub.status.busy": "2023-05-24T10:52:20.918115Z",
     "iopub.status.idle": "2023-05-24T10:52:20.961992Z",
     "shell.execute_reply": "2023-05-24T10:52:20.961992Z",
     "shell.execute_reply.started": "2023-05-24T10:52:20.918115Z"
    }
   },
   "outputs": [],
   "source": [
    "x_0 = np.random.randint(1, 100, size = 100000)\n",
    "x_1 = np.random.randint(100, 1000, size = 100000)"
   ]
  },
  {
   "cell_type": "code",
   "execution_count": 9,
   "id": "d9f152a9-b0df-4524-8eb1-82c24a02237c",
   "metadata": {
    "execution": {
     "iopub.execute_input": "2023-05-24T10:52:21.409517Z",
     "iopub.status.busy": "2023-05-24T10:52:21.409517Z",
     "iopub.status.idle": "2023-05-24T10:52:21.471288Z",
     "shell.execute_reply": "2023-05-24T10:52:21.471288Z",
     "shell.execute_reply.started": "2023-05-24T10:52:21.409517Z"
    }
   },
   "outputs": [],
   "source": [
    "features = np.stack([x_0, x_1], axis = 1)\n",
    "\n",
    "def classify(f1: np.array, f2: np.array) -> np.array:\n",
    "    res = (np.power(f1, 1.5672) + np.sqrt(f2) + 100).astype(np.int64)\n",
    "    labels = []\n",
    "    for r in res:\n",
    "        if r > 1000:\n",
    "            labels.append(10)\n",
    "        elif r > 900:\n",
    "            labels.append(9)\n",
    "        elif r > 800:\n",
    "            labels.append(8)\n",
    "        elif r > 700:\n",
    "            labels.append(7)\n",
    "        elif r > 600:\n",
    "            labels.append(6)\n",
    "        elif r > 500:\n",
    "            labels.append(5)\n",
    "        elif r > 400:\n",
    "            labels.append(4)\n",
    "        elif r > 300:\n",
    "            labels.append(3)\n",
    "        elif r > 200:\n",
    "            labels.append(3)\n",
    "        elif r > 100:\n",
    "            labels.append(1)\n",
    "        else:\n",
    "            labels.append(0)\n",
    "    return np.array(labels)\n",
    "\n",
    "targ = classify(x_0, x_1)"
   ]
  },
  {
   "cell_type": "code",
   "execution_count": 10,
   "id": "0c7b1e8b-0859-4b0b-a258-811de5f8dd57",
   "metadata": {
    "execution": {
     "iopub.execute_input": "2023-05-24T10:52:21.800666Z",
     "iopub.status.busy": "2023-05-24T10:52:21.785193Z",
     "iopub.status.idle": "2023-05-24T10:52:21.807874Z",
     "shell.execute_reply": "2023-05-24T10:52:21.807351Z",
     "shell.execute_reply.started": "2023-05-24T10:52:21.800666Z"
    }
   },
   "outputs": [
    {
     "data": {
      "text/plain": [
       "((100000, 2), (100000,))"
      ]
     },
     "execution_count": 10,
     "metadata": {},
     "output_type": "execute_result"
    }
   ],
   "source": [
    "features.shape, targ.shape"
   ]
  },
  {
   "cell_type": "code",
   "execution_count": 11,
   "id": "aa5af474-ef83-4253-af5c-cf2c38137048",
   "metadata": {
    "execution": {
     "iopub.execute_input": "2023-05-24T10:52:22.176838Z",
     "iopub.status.busy": "2023-05-24T10:52:22.176838Z",
     "iopub.status.idle": "2023-05-24T10:52:22.193980Z",
     "shell.execute_reply": "2023-05-24T10:52:22.192950Z",
     "shell.execute_reply.started": "2023-05-24T10:52:22.176838Z"
    }
   },
   "outputs": [
    {
     "data": {
      "text/plain": [
       "(array([ 1,  3,  4,  5,  6,  7,  8,  9, 10]),\n",
       " array([15820, 20297,  7848,  7212,  6611,  6356,  5910,  5693, 24253],\n",
       "       dtype=int64))"
      ]
     },
     "execution_count": 11,
     "metadata": {},
     "output_type": "execute_result"
    }
   ],
   "source": [
    "np.unique(targ, return_counts = True)"
   ]
  },
  {
   "cell_type": "code",
   "execution_count": 12,
   "id": "192802a9-2743-430d-b891-4c3c5243d16e",
   "metadata": {
    "execution": {
     "iopub.execute_input": "2023-05-24T10:52:22.585760Z",
     "iopub.status.busy": "2023-05-24T10:52:22.585760Z",
     "iopub.status.idle": "2023-05-24T10:52:22.594588Z",
     "shell.execute_reply": "2023-05-24T10:52:22.593871Z",
     "shell.execute_reply.started": "2023-05-24T10:52:22.585760Z"
    }
   },
   "outputs": [],
   "source": [
    "knnClassifier = KNeighborsClassifier(n_neighbors = 10)"
   ]
  },
  {
   "cell_type": "code",
   "execution_count": 14,
   "id": "dc436b6e-0ec6-43ed-88b4-0860648889dc",
   "metadata": {
    "execution": {
     "iopub.execute_input": "2023-05-24T10:52:42.052826Z",
     "iopub.status.busy": "2023-05-24T10:52:42.052826Z",
     "iopub.status.idle": "2023-05-24T10:52:48.530345Z",
     "shell.execute_reply": "2023-05-24T10:52:48.530345Z",
     "shell.execute_reply.started": "2023-05-24T10:52:42.052826Z"
    }
   },
   "outputs": [],
   "source": [
    "cvscores = cross_val_score(estimator = knnClassifier, X = features, y = targ, cv = 100)"
   ]
  },
  {
   "cell_type": "code",
   "execution_count": 16,
   "id": "b38ec272-9116-470b-9cbf-7fbf32d558dc",
   "metadata": {
    "execution": {
     "iopub.execute_input": "2023-05-24T10:53:14.653724Z",
     "iopub.status.busy": "2023-05-24T10:53:14.653724Z",
     "iopub.status.idle": "2023-05-24T10:53:14.664422Z",
     "shell.execute_reply": "2023-05-24T10:53:14.664422Z",
     "shell.execute_reply.started": "2023-05-24T10:53:14.653724Z"
    }
   },
   "outputs": [
    {
     "data": {
      "text/plain": [
       "array([0.977, 0.977, 0.985, 0.984, 0.981, 0.981, 0.975, 0.981, 0.983,\n",
       "       0.975, 0.986, 0.977, 0.981, 0.978, 0.98 , 0.978, 0.979, 0.986,\n",
       "       0.983, 0.993, 0.984, 0.975, 0.992, 0.984, 0.981, 0.978, 0.981,\n",
       "       0.977, 0.978, 0.977, 0.982, 0.987, 0.974, 0.984, 0.974, 0.98 ,\n",
       "       0.971, 0.98 , 0.976, 0.983, 0.972, 0.984, 0.982, 0.98 , 0.986,\n",
       "       0.981, 0.975, 0.985, 0.982, 0.987, 0.98 , 0.974, 0.976, 0.984,\n",
       "       0.975, 0.982, 0.983, 0.979, 0.976, 0.986, 0.982, 0.971, 0.974,\n",
       "       0.98 , 0.972, 0.973, 0.981, 0.985, 0.977, 0.978, 0.98 , 0.983,\n",
       "       0.989, 0.981, 0.982, 0.973, 0.97 , 0.982, 0.982, 0.986, 0.982,\n",
       "       0.977, 0.975, 0.984, 0.985, 0.983, 0.981, 0.986, 0.979, 0.977,\n",
       "       0.976, 0.979, 0.985, 0.982, 0.986, 0.98 , 0.985, 0.989, 0.977,\n",
       "       0.976])"
      ]
     },
     "execution_count": 16,
     "metadata": {},
     "output_type": "execute_result"
    }
   ],
   "source": [
    "cvscores"
   ]
  },
  {
   "cell_type": "code",
   "execution_count": 17,
   "id": "2ffb1162-aee8-47fd-91c8-dc5c0ae83841",
   "metadata": {
    "execution": {
     "iopub.execute_input": "2023-05-24T10:56:48.877448Z",
     "iopub.status.busy": "2023-05-24T10:56:48.877448Z",
     "iopub.status.idle": "2023-05-24T10:56:48.886981Z",
     "shell.execute_reply": "2023-05-24T10:56:48.886461Z",
     "shell.execute_reply.started": "2023-05-24T10:56:48.877448Z"
    }
   },
   "outputs": [
    {
     "data": {
      "text/plain": [
       "0.98032"
      ]
     },
     "execution_count": 17,
     "metadata": {},
     "output_type": "execute_result"
    }
   ],
   "source": [
    "# the mean cross validation score\n",
    "\n",
    "cvscores.mean()"
   ]
  },
  {
   "cell_type": "code",
   "execution_count": 18,
   "id": "bb5c0a20-1c00-4d82-abe6-e16ab8df18e7",
   "metadata": {
    "execution": {
     "iopub.execute_input": "2023-05-24T11:01:23.531948Z",
     "iopub.status.busy": "2023-05-24T11:01:23.531948Z",
     "iopub.status.idle": "2023-05-24T11:01:23.545404Z",
     "shell.execute_reply": "2023-05-24T11:01:23.544299Z",
     "shell.execute_reply.started": "2023-05-24T11:01:23.531948Z"
    }
   },
   "outputs": [],
   "source": [
    "# In addition to improved estimations of model accuracy, cross validation tells us about how sensitive the model is to the composition of the \n",
    "# train dataset.\n",
    "# Using this information, we may be able to predict how this model may perform on a specifically skewed dataset.\n",
    "# We can essentially do a best-case worst-case performance estimations."
   ]
  },
  {
   "cell_type": "code",
   "execution_count": 19,
   "id": "59a639d2-7bbc-42e5-9e26-7f90fbdc039b",
   "metadata": {
    "execution": {
     "iopub.execute_input": "2023-05-24T11:02:51.202295Z",
     "iopub.status.busy": "2023-05-24T11:02:51.202295Z",
     "iopub.status.idle": "2023-05-24T11:02:51.219561Z",
     "shell.execute_reply": "2023-05-24T11:02:51.218552Z",
     "shell.execute_reply.started": "2023-05-24T11:02:51.202295Z"
    }
   },
   "outputs": [],
   "source": [
    "# k fold cross validations are computationally expensive.\n",
    "# if we do not execute these validations in parallel, we'll need k times more time for the validation."
   ]
  },
  {
   "cell_type": "code",
   "execution_count": null,
   "id": "a9af2495-5d6c-4224-8566-c1d3253264a9",
   "metadata": {},
   "outputs": [],
   "source": []
  },
  {
   "cell_type": "markdown",
   "id": "c2effc82-2e91-406c-8e83-82e519360a3a",
   "metadata": {},
   "source": [
    "## ___Stratified Cross Validation___\n",
    "-----------------"
   ]
  },
  {
   "cell_type": "code",
   "execution_count": 20,
   "id": "5e7c5a6b-43fa-4eed-8700-7bb8e1cfe210",
   "metadata": {
    "execution": {
     "iopub.execute_input": "2023-05-24T11:07:16.880500Z",
     "iopub.status.busy": "2023-05-24T11:07:16.880500Z",
     "iopub.status.idle": "2023-05-24T11:07:16.888874Z",
     "shell.execute_reply": "2023-05-24T11:07:16.887756Z",
     "shell.execute_reply.started": "2023-05-24T11:07:16.880500Z"
    }
   },
   "outputs": [],
   "source": [
    "# In generic cross-validation the data gets split into k folds linearly (or sequentially)\n",
    "# if the dataset has 20,000 rows and we ask for a 4 fold cross validation,\n",
    "# first fold => first 5,000 rows.\n",
    "# second fold => next 5,000 rows ..etc..\n",
    "\n",
    "# However, if the data is sorted based on certain feature/s, this type of splitting may introduce bias.\n",
    "# certain folds may disproportionately represent certain class labels.\n",
    "# if these get included in the training set => the model may estimate skewed parameters"
   ]
  },
  {
   "cell_type": "code",
   "execution_count": 21,
   "id": "02e1f9ba-764f-4928-8b98-22f6ef91282c",
   "metadata": {
    "execution": {
     "iopub.execute_input": "2023-05-24T11:17:43.174100Z",
     "iopub.status.busy": "2023-05-24T11:17:43.174100Z",
     "iopub.status.idle": "2023-05-24T11:17:43.184312Z",
     "shell.execute_reply": "2023-05-24T11:17:43.184188Z",
     "shell.execute_reply.started": "2023-05-24T11:17:43.174100Z"
    }
   },
   "outputs": [],
   "source": [
    "# sklearn defaults to stratified k fold cross-validation\n",
    "# Stratified classification makes sure the composition or distribution of classes in the folds refect the composition of classes in the \n",
    "# entire dataset."
   ]
  },
  {
   "cell_type": "code",
   "execution_count": 22,
   "id": "4ee89c53-0d43-4498-8bb2-eb0f85f3b3f3",
   "metadata": {
    "execution": {
     "iopub.execute_input": "2023-05-24T11:22:12.326487Z",
     "iopub.status.busy": "2023-05-24T11:22:12.326487Z",
     "iopub.status.idle": "2023-05-24T11:22:12.334322Z",
     "shell.execute_reply": "2023-05-24T11:22:12.333238Z",
     "shell.execute_reply.started": "2023-05-24T11:22:12.326487Z"
    }
   },
   "outputs": [],
   "source": [
    "# For regression, sklearn uses regular k fold cross-validation \n",
    "# since the idea of preserving the composition of original data classes is irrelevant to most regression problems."
   ]
  },
  {
   "cell_type": "code",
   "execution_count": null,
   "id": "3eb1bd7c-0072-4979-8d90-a5eb4b1d2efe",
   "metadata": {},
   "outputs": [],
   "source": []
  },
  {
   "cell_type": "markdown",
   "id": "2fc52f31-ced3-4551-a715-b60f4cc14154",
   "metadata": {},
   "source": [
    "## ___Leave-One-Out Cross Validation___\n",
    "------------"
   ]
  },
  {
   "cell_type": "code",
   "execution_count": 23,
   "id": "746117e1-177f-4072-82f3-0b875d23f301",
   "metadata": {
    "execution": {
     "iopub.execute_input": "2023-05-24T11:29:01.407114Z",
     "iopub.status.busy": "2023-05-24T11:29:01.407114Z",
     "iopub.status.idle": "2023-05-24T11:29:01.422232Z",
     "shell.execute_reply": "2023-05-24T11:29:01.421025Z",
     "shell.execute_reply.started": "2023-05-24T11:29:01.407114Z"
    }
   },
   "outputs": [],
   "source": [
    "# This is a variant of k fold cross-validation where k = number of data entries in the dataset.\n",
    "# i.e each fold will have one data point in the test set and the rest will be in the training set.\n",
    "\n",
    "# e.g. if we had a dataset with 6,000 rows =>\n",
    "# there will be 6,000 folds => each of which will have 1 data record as test set and the remaining 5,999 records in the training set."
   ]
  },
  {
   "cell_type": "code",
   "execution_count": 24,
   "id": "1cf43581-8f9e-4f70-bb44-151dce0bfd63",
   "metadata": {
    "execution": {
     "iopub.execute_input": "2023-05-24T11:34:45.555310Z",
     "iopub.status.busy": "2023-05-24T11:34:45.555310Z",
     "iopub.status.idle": "2023-05-24T11:34:45.567484Z",
     "shell.execute_reply": "2023-05-24T11:34:45.566476Z",
     "shell.execute_reply.started": "2023-05-24T11:34:45.555310Z"
    }
   },
   "outputs": [],
   "source": [
    "# This is even more computationally expensive\n",
    "# But for smaller datasets, this can provide fool-proof estimates, since this provides the maximum possible amount of training data to the \n",
    "# model."
   ]
  },
  {
   "cell_type": "code",
   "execution_count": null,
   "id": "2b32a20a-4760-4007-86fd-d509f9cf9a04",
   "metadata": {},
   "outputs": [],
   "source": []
  },
  {
   "cell_type": "markdown",
   "id": "bbc4155d-32f5-43e2-8b95-806d4e09bd7e",
   "metadata": {},
   "source": [
    "## ___Validation Curves___\n",
    "-------------"
   ]
  },
  {
   "cell_type": "code",
   "execution_count": 26,
   "id": "cb4cbf86-deed-40e9-adba-8ec6fa6974b2",
   "metadata": {
    "execution": {
     "iopub.execute_input": "2023-05-24T11:41:48.094790Z",
     "iopub.status.busy": "2023-05-24T11:41:48.094790Z",
     "iopub.status.idle": "2023-05-24T11:41:48.108763Z",
     "shell.execute_reply": "2023-05-24T11:41:48.108221Z",
     "shell.execute_reply.started": "2023-05-24T11:41:48.094790Z"
    }
   },
   "outputs": [],
   "source": [
    "# Sometimes we may want to evaluate the influence of a parameter on the model performance.\n",
    "# validation_curve() does a k fold cross validation, unlike cross_val_score() we can pass in a classifier, a series of parameters that\n",
    "# we want the function to sweep across and an array of parameter values for the model to be trained with."
   ]
  },
  {
   "cell_type": "code",
   "execution_count": 27,
   "id": "00957bd2-a040-4162-9305-19a756d5ddc8",
   "metadata": {
    "execution": {
     "iopub.execute_input": "2023-05-24T11:44:04.192863Z",
     "iopub.status.busy": "2023-05-24T11:44:04.192863Z",
     "iopub.status.idle": "2023-05-24T11:44:04.197336Z",
     "shell.execute_reply": "2023-05-24T11:44:04.197336Z",
     "shell.execute_reply.started": "2023-05-24T11:44:04.192863Z"
    }
   },
   "outputs": [],
   "source": [
    "# This returns two two-dimensional arrays corresponding to evaluation on the training set and the test set.\n",
    "# Each array has one row of parameter values per sweep and the number of columns are the number of cross-validation folds used."
   ]
  },
  {
   "cell_type": "code",
   "execution_count": null,
   "id": "901e6fce-2e53-4f71-8b51-3b60a7ae643c",
   "metadata": {},
   "outputs": [],
   "source": []
  },
  {
   "cell_type": "code",
   "execution_count": 31,
   "id": "136eae0e-9a7e-461f-9b7a-d656f62f94c8",
   "metadata": {
    "execution": {
     "iopub.execute_input": "2023-05-24T11:45:55.278395Z",
     "iopub.status.busy": "2023-05-24T11:45:55.278395Z",
     "iopub.status.idle": "2023-05-24T11:45:55.294923Z",
     "shell.execute_reply": "2023-05-24T11:45:55.294239Z",
     "shell.execute_reply.started": "2023-05-24T11:45:55.278395Z"
    }
   },
   "outputs": [],
   "source": [
    "parameter_range = np.logspace(-3, 3, num = 10)"
   ]
  },
  {
   "cell_type": "code",
   "execution_count": 32,
   "id": "3f7a210d-384d-4ba7-adca-9a76f44d9089",
   "metadata": {
    "execution": {
     "iopub.execute_input": "2023-05-24T11:45:55.906554Z",
     "iopub.status.busy": "2023-05-24T11:45:55.906554Z",
     "iopub.status.idle": "2023-05-24T11:45:55.924844Z",
     "shell.execute_reply": "2023-05-24T11:45:55.924844Z",
     "shell.execute_reply.started": "2023-05-24T11:45:55.906554Z"
    }
   },
   "outputs": [
    {
     "data": {
      "text/plain": [
       "array([1.00000000e-03, 4.64158883e-03, 2.15443469e-02, 1.00000000e-01,\n",
       "       4.64158883e-01, 2.15443469e+00, 1.00000000e+01, 4.64158883e+01,\n",
       "       2.15443469e+02, 1.00000000e+03])"
      ]
     },
     "execution_count": 32,
     "metadata": {},
     "output_type": "execute_result"
    }
   ],
   "source": [
    "parameter_range"
   ]
  },
  {
   "cell_type": "code",
   "execution_count": 42,
   "id": "c8fcfce6-34fd-46ae-957c-92e570d5598c",
   "metadata": {
    "execution": {
     "iopub.execute_input": "2023-05-24T11:49:43.704320Z",
     "iopub.status.busy": "2023-05-24T11:49:43.704320Z",
     "iopub.status.idle": "2023-05-24T11:49:44.109080Z",
     "shell.execute_reply": "2023-05-24T11:49:44.109080Z",
     "shell.execute_reply.started": "2023-05-24T11:49:43.704320Z"
    }
   },
   "outputs": [
    {
     "data": {
      "text/plain": [
       "(array([[nan, nan, nan, nan, nan, nan, nan, nan, nan, nan],\n",
       "        [nan, nan, nan, nan, nan, nan, nan, nan, nan, nan],\n",
       "        [nan, nan, nan, nan, nan, nan, nan, nan, nan, nan],\n",
       "        [nan, nan, nan, nan, nan, nan, nan, nan, nan, nan],\n",
       "        [nan, nan, nan, nan, nan, nan, nan, nan, nan, nan],\n",
       "        [nan, nan, nan, nan, nan, nan, nan, nan, nan, nan],\n",
       "        [nan, nan, nan, nan, nan, nan, nan, nan, nan, nan],\n",
       "        [nan, nan, nan, nan, nan, nan, nan, nan, nan, nan],\n",
       "        [nan, nan, nan, nan, nan, nan, nan, nan, nan, nan],\n",
       "        [nan, nan, nan, nan, nan, nan, nan, nan, nan, nan]]),\n",
       " array([[nan, nan, nan, nan, nan, nan, nan, nan, nan, nan],\n",
       "        [nan, nan, nan, nan, nan, nan, nan, nan, nan, nan],\n",
       "        [nan, nan, nan, nan, nan, nan, nan, nan, nan, nan],\n",
       "        [nan, nan, nan, nan, nan, nan, nan, nan, nan, nan],\n",
       "        [nan, nan, nan, nan, nan, nan, nan, nan, nan, nan],\n",
       "        [nan, nan, nan, nan, nan, nan, nan, nan, nan, nan],\n",
       "        [nan, nan, nan, nan, nan, nan, nan, nan, nan, nan],\n",
       "        [nan, nan, nan, nan, nan, nan, nan, nan, nan, nan],\n",
       "        [nan, nan, nan, nan, nan, nan, nan, nan, nan, nan],\n",
       "        [nan, nan, nan, nan, nan, nan, nan, nan, nan, nan]]))"
      ]
     },
     "execution_count": 42,
     "metadata": {},
     "output_type": "execute_result"
    }
   ],
   "source": [
    "validation_curve(estimator = SVC(), X = np.stack([x_0, x_1], axis = 1), y = features,\n",
    "                 param_name = \"gamma\", param_range = parameter_range, cv = 10)"
   ]
  },
  {
   "cell_type": "code",
   "execution_count": null,
   "id": "e54903ec-4073-4369-878d-73dbe2cd5368",
   "metadata": {},
   "outputs": [],
   "source": []
  }
 ],
 "metadata": {
  "kernelspec": {
   "display_name": "Python 3 (ipykernel)",
   "language": "python",
   "name": "python3"
  },
  "language_info": {
   "codemirror_mode": {
    "name": "ipython",
    "version": 3
   },
   "file_extension": ".py",
   "mimetype": "text/x-python",
   "name": "python",
   "nbconvert_exporter": "python",
   "pygments_lexer": "ipython3",
   "version": "3.11.3"
  }
 },
 "nbformat": 4,
 "nbformat_minor": 5
}
