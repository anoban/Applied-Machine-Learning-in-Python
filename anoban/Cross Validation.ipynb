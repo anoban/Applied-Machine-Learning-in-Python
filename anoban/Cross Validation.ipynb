{
 "cells": [
  {
   "cell_type": "code",
   "execution_count": 13,
   "id": "8a3783a9-743c-4f8c-a8e5-bbe0387e956c",
   "metadata": {
    "execution": {
     "iopub.execute_input": "2023-05-23T22:01:06.086944Z",
     "iopub.status.busy": "2023-05-23T22:01:06.086944Z",
     "iopub.status.idle": "2023-05-23T22:01:06.124942Z",
     "shell.execute_reply": "2023-05-23T22:01:06.124942Z",
     "shell.execute_reply.started": "2023-05-23T22:01:06.086944Z"
    }
   },
   "outputs": [],
   "source": [
    "from sklearn.model_selection import cross_val_score\n",
    "from sklearn.neighbors import KNeighborsClassifier"
   ]
  },
  {
   "cell_type": "markdown",
   "id": "d3fc6c50-9369-4c49-9671-105733dfbe70",
   "metadata": {},
   "source": [
    "# ___Cross Validation___\n",
    "---------"
   ]
  },
  {
   "cell_type": "code",
   "execution_count": 1,
   "id": "442217b5-af14-413b-b108-c97ee3f9aee1",
   "metadata": {
    "execution": {
     "iopub.execute_input": "2023-05-23T20:16:12.963200Z",
     "iopub.status.busy": "2023-05-23T20:16:12.963200Z",
     "iopub.status.idle": "2023-05-23T20:16:12.981120Z",
     "shell.execute_reply": "2023-05-23T20:16:12.981012Z",
     "shell.execute_reply.started": "2023-05-23T20:16:12.963200Z"
    }
   },
   "outputs": [],
   "source": [
    "# When applying ML models, we've followed a consistent series of steps;.\n",
    "# partition the data into train and test sets.\n",
    "# fit the model on the training set to estimate the model parameters.\n",
    "# then make the predictions on the training set."
   ]
  },
  {
   "cell_type": "code",
   "execution_count": 2,
   "id": "6c97ea20-f91e-4556-b504-36021763eaf4",
   "metadata": {
    "execution": {
     "iopub.execute_input": "2023-05-23T20:19:01.974321Z",
     "iopub.status.busy": "2023-05-23T20:19:01.974321Z",
     "iopub.status.idle": "2023-05-23T20:19:01.987314Z",
     "shell.execute_reply": "2023-05-23T20:19:01.986826Z",
     "shell.execute_reply.started": "2023-05-23T20:19:01.974321Z"
    }
   },
   "outputs": [],
   "source": [
    "# We did the partitioning as a way to estimate how well the model performs on unknown datasets. (generalize to)\n",
    "# the test set set represents a set of novel data pooints the model hasn't seen yet, but come from the same distribution (feature sets)"
   ]
  },
  {
   "cell_type": "code",
   "execution_count": null,
   "id": "f815ecec-23a4-4740-973a-2bdd4a3b49df",
   "metadata": {},
   "outputs": [],
   "source": []
  },
  {
   "cell_type": "code",
   "execution_count": 5,
   "id": "bfdbccc7-9ea0-4aa0-9812-7c42df207c0f",
   "metadata": {
    "execution": {
     "iopub.execute_input": "2023-05-23T20:43:20.044621Z",
     "iopub.status.busy": "2023-05-23T20:43:20.044621Z",
     "iopub.status.idle": "2023-05-23T20:43:20.056192Z",
     "shell.execute_reply": "2023-05-23T20:43:20.055675Z",
     "shell.execute_reply.started": "2023-05-23T20:43:20.044621Z"
    }
   },
   "outputs": [],
   "source": [
    "# Cross-validation goes one step beyond to evaluate the performance of a select set of models.\n",
    "# using multiple train test splits.\n",
    "# In train test splits using one ML model, the learned parameters and consequently the model accuracy may vary by chance depending on the \n",
    "# data points that got into the train category and the test category, during the splitting."
   ]
  },
  {
   "cell_type": "code",
   "execution_count": 6,
   "id": "d6054dca-51d6-4643-8aa0-d8a8dc7ab384",
   "metadata": {
    "execution": {
     "iopub.execute_input": "2023-05-23T20:43:20.232914Z",
     "iopub.status.busy": "2023-05-23T20:43:20.232914Z",
     "iopub.status.idle": "2023-05-23T20:43:20.245980Z",
     "shell.execute_reply": "2023-05-23T20:43:20.245980Z",
     "shell.execute_reply.started": "2023-05-23T20:43:20.232914Z"
    }
   },
   "outputs": [],
   "source": [
    "# Cross validation does a more rigorous testing by creating and running multiple train test splits,\n",
    "# training models on them and measuring the accuracy score to compute the average accuracy score."
   ]
  },
  {
   "cell_type": "code",
   "execution_count": null,
   "id": "084af4ab-82ec-4591-8b86-9a84e3cc0c54",
   "metadata": {},
   "outputs": [],
   "source": []
  },
  {
   "cell_type": "markdown",
   "id": "b66a27f7-a3a7-465b-9bfc-e2295e6034ef",
   "metadata": {},
   "source": [
    "## ___Cross Validation in Practice___\n",
    "----------------"
   ]
  },
  {
   "cell_type": "code",
   "execution_count": 7,
   "id": "85b935b2-ccc1-486d-b6e8-9264b3890540",
   "metadata": {
    "execution": {
     "iopub.execute_input": "2023-05-23T20:43:21.021195Z",
     "iopub.status.busy": "2023-05-23T20:43:21.021195Z",
     "iopub.status.idle": "2023-05-23T20:43:21.032531Z",
     "shell.execute_reply": "2023-05-23T20:43:21.031417Z",
     "shell.execute_reply.started": "2023-05-23T20:43:21.021195Z"
    }
   },
   "outputs": [],
   "source": [
    "# Cross validation gives a reliably stable estimate of accuracy given a model, that can be compared to the performance of another model."
   ]
  },
  {
   "cell_type": "code",
   "execution_count": 8,
   "id": "0467eff4-fd6d-4160-8790-f8e6e28d10f6",
   "metadata": {
    "execution": {
     "iopub.execute_input": "2023-05-23T21:24:35.013545Z",
     "iopub.status.busy": "2023-05-23T21:24:35.013545Z",
     "iopub.status.idle": "2023-05-23T21:24:35.019239Z",
     "shell.execute_reply": "2023-05-23T21:24:35.019185Z",
     "shell.execute_reply.started": "2023-05-23T21:24:35.013545Z"
    }
   },
   "outputs": [],
   "source": [
    "# Let's say that we have a classification task at hand, and we have a SVM model and a Naive Bayes model.\n",
    "# In this scenario, we cannot rely on the accuracy scores computed via a single train test split.\n",
    "# Because the composition of the split has a high influence in the accuracy score."
   ]
  },
  {
   "cell_type": "code",
   "execution_count": 9,
   "id": "23095b25-c5a2-4e9e-974d-83cd6d5b21e5",
   "metadata": {
    "execution": {
     "iopub.execute_input": "2023-05-23T21:30:53.229549Z",
     "iopub.status.busy": "2023-05-23T21:30:53.229549Z",
     "iopub.status.idle": "2023-05-23T21:30:53.243281Z",
     "shell.execute_reply": "2023-05-23T21:30:53.242771Z",
     "shell.execute_reply.started": "2023-05-23T21:30:53.229549Z"
    }
   },
   "outputs": [],
   "source": [
    "# Here, cross validation can rescue us.\n",
    "# cross validation will do a number of train test splits on the given dataset, train the model on the sets of train sets and measure \n",
    "# the accuracy scores using the test sets.\n",
    "# and finally compute the average of the accuracy score."
   ]
  },
  {
   "cell_type": "code",
   "execution_count": null,
   "id": "8adb16d0-12f5-4171-bd17-5ea1f37ced40",
   "metadata": {},
   "outputs": [],
   "source": []
  },
  {
   "cell_type": "code",
   "execution_count": 10,
   "id": "13823337-a945-4ed1-b129-65d5b546613c",
   "metadata": {
    "execution": {
     "iopub.execute_input": "2023-05-23T21:37:37.795525Z",
     "iopub.status.busy": "2023-05-23T21:37:37.795525Z",
     "iopub.status.idle": "2023-05-23T21:37:37.812191Z",
     "shell.execute_reply": "2023-05-23T21:37:37.811673Z",
     "shell.execute_reply.started": "2023-05-23T21:37:37.795525Z"
    }
   },
   "outputs": [],
   "source": [
    "# Cross validation is NOT used to produce models.\n",
    "# e.g. a 10 fold cross validation will make 10 different train test splits\n",
    "# train 10 different models\n",
    "# make 10 different predictions\n",
    "# measure 10 different accuracy scores.\n",
    "# and get the average accuracy score."
   ]
  },
  {
   "cell_type": "code",
   "execution_count": null,
   "id": "0c253211-ea96-4e52-8c11-2b801a0c032a",
   "metadata": {},
   "outputs": [],
   "source": []
  },
  {
   "cell_type": "markdown",
   "id": "9d7f86da-0444-45e3-93e7-29734b8354a8",
   "metadata": {},
   "source": [
    "## ___Cross-validation in Model Evaluation & Model Tuning___\n",
    "-----------------"
   ]
  },
  {
   "cell_type": "code",
   "execution_count": 11,
   "id": "724cef32-80a9-4782-bdea-192e4fb9a12f",
   "metadata": {
    "execution": {
     "iopub.execute_input": "2023-05-23T21:40:40.152200Z",
     "iopub.status.busy": "2023-05-23T21:40:40.152200Z",
     "iopub.status.idle": "2023-05-23T21:40:40.162405Z",
     "shell.execute_reply": "2023-05-23T21:40:40.161665Z",
     "shell.execute_reply.started": "2023-05-23T21:40:40.152200Z"
    }
   },
   "outputs": [],
   "source": [
    "# If our task is to compare the peroformances of two different models that were individually trained and tuned,\n",
    "# we'd use k-fold cross-validation.\n",
    "# k refers to the number of train-test splits."
   ]
  },
  {
   "cell_type": "code",
   "execution_count": 12,
   "id": "f5314b23-2242-4c1f-8031-3a614a5b6642",
   "metadata": {
    "execution": {
     "iopub.execute_input": "2023-05-23T21:49:53.723503Z",
     "iopub.status.busy": "2023-05-23T21:49:53.723503Z",
     "iopub.status.idle": "2023-05-23T21:49:53.740092Z",
     "shell.execute_reply": "2023-05-23T21:49:53.739495Z",
     "shell.execute_reply.started": "2023-05-23T21:49:53.723503Z"
    }
   },
   "outputs": [],
   "source": [
    "# If we are to tune a signle model, in order to find the best parameters, we'd need a slightly different approach.\n",
    "# Instead of a train-test split we must use a train-validate-test split.\n",
    "# i.e our data gets partitioned into 3 parts."
   ]
  },
  {
   "cell_type": "code",
   "execution_count": null,
   "id": "720f313a-ab8d-4567-bb19-df589184c6cc",
   "metadata": {},
   "outputs": [],
   "source": []
  },
  {
   "cell_type": "markdown",
   "id": "9e5ac462-41d5-45b1-897a-bd83a3e0c9e4",
   "metadata": {},
   "source": [
    "## ___Mechanics Behind k-fold Cross Validation___\n",
    "_______________"
   ]
  },
  {
   "cell_type": "code",
   "execution_count": null,
   "id": "681d5ed2-421f-48da-8655-2b1bae417aa3",
   "metadata": {},
   "outputs": [],
   "source": [
    "# Most common type of cross-validation is the k-fold cross validation.\n",
    "# In a 5 fold cross validation;\n",
    "# Say that we pass in a dataset with 50,000 rows.\n",
    "\n",
    "# It would get split into 5 equal portions => A, B, C, D & E each with 10,000 rows.\n",
    "# Now we need to train and evaluate 5 models.\n",
    "\n",
    "# First model will take in B to E as training set (40,000 rows) and use A as the test set.\n",
    "# Second model will use A, C to E as training set and use B as the test set.\n",
    "# Third model will use A, B, D to E as training set and use C as the test set.\n",
    "# so on and so forth.\n",
    "\n",
    "# Finally we'd end up with 5 different accuracy scores.\n",
    "# From which we can compute the average!."
   ]
  }
 ],
 "metadata": {
  "kernelspec": {
   "display_name": "Python 3 (ipykernel)",
   "language": "python",
   "name": "python3"
  },
  "language_info": {
   "codemirror_mode": {
    "name": "ipython",
    "version": 3
   },
   "file_extension": ".py",
   "mimetype": "text/x-python",
   "name": "python",
   "nbconvert_exporter": "python",
   "pygments_lexer": "ipython3",
   "version": "3.11.3"
  }
 },
 "nbformat": 4,
 "nbformat_minor": 5
}
