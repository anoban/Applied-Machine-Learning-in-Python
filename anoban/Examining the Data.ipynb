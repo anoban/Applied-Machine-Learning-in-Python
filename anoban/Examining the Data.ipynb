{
 "cells": [
  {
   "cell_type": "code",
   "execution_count": 1,
   "id": "ad52e9e9-1f0c-4bbf-a4a2-85a563732337",
   "metadata": {
    "tags": []
   },
   "outputs": [],
   "source": [
    "import numpy as np\n",
    "import pandas as pd\n",
    "import matplotlib.pyplot as plt"
   ]
  },
  {
   "cell_type": "markdown",
   "id": "8ea3b79a-8537-4434-83a2-7d677df854fa",
   "metadata": {},
   "source": [
    "# ___Examining the Data___\n",
    "-----------------"
   ]
  },
  {
   "cell_type": "code",
   "execution_count": 2,
   "id": "84df6d19-ca12-4839-9cce-1371fa9d7842",
   "metadata": {
    "tags": []
   },
   "outputs": [],
   "source": [
    "# Before applying any machine learning models to any dataset, it is a good practice to rxploratively examine the dataset.\n",
    "# Just by scrolling through the dataset or by making simple exploratory visualizations."
   ]
  },
  {
   "cell_type": "code",
   "execution_count": null,
   "id": "26b3630a-f0ab-4719-8e97-25a8d88cb2ba",
   "metadata": {},
   "outputs": [],
   "source": []
  },
  {
   "cell_type": "markdown",
   "id": "1fef46d6-5151-408d-91bf-340066a88371",
   "metadata": {},
   "source": [
    "## ___&rarr; Inspections may reveal the need for cleaning & preprocessing___"
   ]
  },
  {
   "cell_type": "code",
   "execution_count": 3,
   "id": "29825660-37e2-4822-8492-9d19b6cb6c94",
   "metadata": {
    "tags": []
   },
   "outputs": [],
   "source": [
    "# Identifying and removing outliers, missing values, incorrect encodings, misspellings and things of similar sorts."
   ]
  },
  {
   "cell_type": "code",
   "execution_count": 4,
   "id": "9291538f-d99a-4c7a-a7c8-477f0aedbec9",
   "metadata": {
    "tags": []
   },
   "outputs": [],
   "source": [
    "# During exploration, we might be able to recognize missing/noisy data, inconsisietnces, wrong data types being used in columns,\n",
    "# parsing errors, use of incorrect units of measurement."
   ]
  },
  {
   "cell_type": "code",
   "execution_count": null,
   "id": "858b42bc-73af-4019-b6e8-a98b71301a95",
   "metadata": {},
   "outputs": [],
   "source": [
    "# e.g.\n",
    "# First name & last name being concatenated in the same column.\n",
    "# Dates being recored in different formats -> dd/mm/yyyy, mm/dd/yyyy, yy/mm/dd, dddd,mm,yyyy etc...\n",
    "# Weights being recorded in both kilograms and pounds."
   ]
  },
  {
   "cell_type": "code",
   "execution_count": 5,
   "id": "8e631e62-772c-432c-aad1-5e87adeab0cd",
   "metadata": {
    "tags": []
   },
   "outputs": [],
   "source": [
    "# You may even discover that the problem at hand doesn't even need a machine learning solution."
   ]
  },
  {
   "cell_type": "code",
   "execution_count": null,
   "id": "3fb0aa68-94ff-4ce6-b0fc-2c16ecae9b8f",
   "metadata": {},
   "outputs": [],
   "source": []
  }
 ],
 "metadata": {
  "kernelspec": {
   "display_name": "Python 3 (ipykernel)",
   "language": "python",
   "name": "python3"
  },
  "language_info": {
   "codemirror_mode": {
    "name": "ipython",
    "version": 3
   },
   "file_extension": ".py",
   "mimetype": "text/x-python",
   "name": "python",
   "nbconvert_exporter": "python",
   "pygments_lexer": "ipython3",
   "version": "3.11.3"
  }
 },
 "nbformat": 4,
 "nbformat_minor": 5
}
