{
 "cells": [
  {
   "cell_type": "code",
   "execution_count": 11,
   "id": "1c933e11-96b9-4627-b773-947d9d834db9",
   "metadata": {
    "execution": {
     "iopub.execute_input": "2023-05-29T12:22:51.780466Z",
     "iopub.status.busy": "2023-05-29T12:22:51.780466Z",
     "iopub.status.idle": "2023-05-29T12:22:51.784649Z",
     "shell.execute_reply": "2023-05-29T12:22:51.784649Z",
     "shell.execute_reply.started": "2023-05-29T12:22:51.780466Z"
    }
   },
   "outputs": [],
   "source": [
    "import numpy as np\n",
    "import matplotlib.pyplot as plt\n",
    "from sklearn.datasets import load_digits\n",
    "from sklearn.svm import SVC\n",
    "from sklearn.model_selection import train_test_split"
   ]
  },
  {
   "cell_type": "markdown",
   "id": "24cf0fe6-26c7-4093-b4a3-69ecc0b59fb7",
   "metadata": {},
   "source": [
    "# ___Classifier Decision Functions___\n",
    "------------------"
   ]
  },
  {
   "cell_type": "code",
   "execution_count": 1,
   "id": "e4983977-262b-4715-bdf9-284d83222b2c",
   "metadata": {
    "execution": {
     "iopub.execute_input": "2023-05-29T12:05:37.704401Z",
     "iopub.status.busy": "2023-05-29T12:05:37.704401Z",
     "iopub.status.idle": "2023-05-29T12:05:37.723151Z",
     "shell.execute_reply": "2023-05-29T12:05:37.723151Z",
     "shell.execute_reply.started": "2023-05-29T12:05:37.704401Z"
    }
   },
   "outputs": [],
   "source": [
    "# Many classifiers in sklearn can provide information about the uncertainty associated with the predictions made by them.\n",
    "# This can be accomplished by either the .decision_function() method or .predict_proba() method."
   ]
  },
  {
   "cell_type": "code",
   "execution_count": 2,
   "id": "28bedd90-a6a7-4f4d-8c8e-6c8957ed89da",
   "metadata": {
    "execution": {
     "iopub.execute_input": "2023-05-29T12:10:08.474028Z",
     "iopub.status.busy": "2023-05-29T12:10:08.474028Z",
     "iopub.status.idle": "2023-05-29T12:10:08.489629Z",
     "shell.execute_reply": "2023-05-29T12:10:08.488837Z",
     "shell.execute_reply.started": "2023-05-29T12:10:08.474028Z"
    }
   },
   "outputs": [],
   "source": [
    "# Using the decision_function, given a set of test points, it can show how confidently the classifier predicts the positive class or the \n",
    "# negative class."
   ]
  },
  {
   "cell_type": "code",
   "execution_count": 3,
   "id": "72eed8b7-789a-4bd0-9402-b8915629a645",
   "metadata": {
    "execution": {
     "iopub.execute_input": "2023-05-29T12:15:44.481931Z",
     "iopub.status.busy": "2023-05-29T12:15:44.481931Z",
     "iopub.status.idle": "2023-05-29T12:15:44.489780Z",
     "shell.execute_reply": "2023-05-29T12:15:44.489707Z",
     "shell.execute_reply.started": "2023-05-29T12:15:44.481931Z"
    }
   },
   "outputs": [],
   "source": [
    "# predict_proba function provides the predicted probabilities of class membership.\n",
    "# A classifier will typicaly predict the most probable class.\n",
    "# e.g. in a binary classifier, the class with > 0.5 threshold.\n",
    "\n",
    "# Adjusting this threshold affects the predictions of the classifier.\n",
    "# e.g. only predict class A when the estimated probability of class A > 0.9\n",
    "\n",
    "# Higher thresholds result in a more conservative classifier.\n",
    "# This increases precision."
   ]
  },
  {
   "cell_type": "code",
   "execution_count": 5,
   "id": "f7aa1aae-42e3-4cd5-bfb9-c860703ffafe",
   "metadata": {
    "execution": {
     "iopub.execute_input": "2023-05-29T12:20:15.624285Z",
     "iopub.status.busy": "2023-05-29T12:20:15.624285Z",
     "iopub.status.idle": "2023-05-29T12:20:15.630973Z",
     "shell.execute_reply": "2023-05-29T12:20:15.630973Z",
     "shell.execute_reply.started": "2023-05-29T12:20:15.624285Z"
    }
   },
   "outputs": [],
   "source": [
    "# This types of probabilities aren't always dependable since highly overfitted models may provide overly optimistic probabilities."
   ]
  },
  {
   "cell_type": "code",
   "execution_count": null,
   "id": "0ef5afe8-8a9d-4535-9fce-9a038f70a8ba",
   "metadata": {},
   "outputs": [],
   "source": []
  },
  {
   "cell_type": "code",
   "execution_count": 8,
   "id": "269e5f92-f7b8-4700-83be-a09f22b315d5",
   "metadata": {
    "execution": {
     "iopub.execute_input": "2023-05-29T12:21:23.201847Z",
     "iopub.status.busy": "2023-05-29T12:21:23.201847Z",
     "iopub.status.idle": "2023-05-29T12:21:23.230113Z",
     "shell.execute_reply": "2023-05-29T12:21:23.229970Z",
     "shell.execute_reply.started": "2023-05-29T12:21:23.201847Z"
    }
   },
   "outputs": [],
   "source": [
    "digits = load_digits()\n",
    "train_x, test_x, train_y, test_y = train_test_split(digits.data, digits.target, train_size = 0.8)"
   ]
  },
  {
   "cell_type": "code",
   "execution_count": 25,
   "id": "ba3ad698-f83d-4394-a8d6-eac8baa77223",
   "metadata": {
    "execution": {
     "iopub.execute_input": "2023-05-29T12:26:18.087722Z",
     "iopub.status.busy": "2023-05-29T12:26:18.087722Z",
     "iopub.status.idle": "2023-05-29T12:26:18.862647Z",
     "shell.execute_reply": "2023-05-29T12:26:18.862647Z",
     "shell.execute_reply.started": "2023-05-29T12:26:18.087722Z"
    }
   },
   "outputs": [],
   "source": [
    "# accuracy increases with generalization i.e C upto C = 1\n",
    "\n",
    "svc = SVC(C = 0.015, kernel = \"rbf\", probability = True).fit(train_x, train_y)"
   ]
  },
  {
   "cell_type": "code",
   "execution_count": 26,
   "id": "25593e4d-b280-499e-9157-a88766bf5658",
   "metadata": {
    "execution": {
     "iopub.execute_input": "2023-05-29T12:26:18.862647Z",
     "iopub.status.busy": "2023-05-29T12:26:18.862647Z",
     "iopub.status.idle": "2023-05-29T12:26:18.919454Z",
     "shell.execute_reply": "2023-05-29T12:26:18.919454Z",
     "shell.execute_reply.started": "2023-05-29T12:26:18.862647Z"
    }
   },
   "outputs": [
    {
     "data": {
      "text/plain": [
       "0.46111111111111114"
      ]
     },
     "execution_count": 26,
     "metadata": {},
     "output_type": "execute_result"
    }
   ],
   "source": [
    "svc.score(test_x, test_y)"
   ]
  },
  {
   "cell_type": "code",
   "execution_count": 33,
   "id": "16d73832-34e6-4896-b10d-7cffaa03de37",
   "metadata": {
    "execution": {
     "iopub.execute_input": "2023-05-29T12:30:08.684678Z",
     "iopub.status.busy": "2023-05-29T12:30:08.684678Z",
     "iopub.status.idle": "2023-05-29T12:30:08.747621Z",
     "shell.execute_reply": "2023-05-29T12:30:08.747621Z",
     "shell.execute_reply.started": "2023-05-29T12:30:08.684678Z"
    }
   },
   "outputs": [
    {
     "data": {
      "text/plain": [
       "array([[0.54387965, 0.02127644, 0.01995575, ..., 0.03819977, 0.04836975,\n",
       "        0.0742377 ],\n",
       "       [0.62206514, 0.01266958, 0.02508093, ..., 0.02781751, 0.04184989,\n",
       "        0.09935171],\n",
       "       [0.05659976, 0.16163699, 0.01257843, ..., 0.04759629, 0.05325757,\n",
       "        0.02818909],\n",
       "       ...,\n",
       "       [0.38737258, 0.04339229, 0.0188331 , ..., 0.03354512, 0.06356591,\n",
       "        0.05517928],\n",
       "       [0.02776121, 0.05368526, 0.2860604 , ..., 0.10689123, 0.11666122,\n",
       "        0.10925754],\n",
       "       [0.02022523, 0.08315526, 0.05104222, ..., 0.35596506, 0.11673192,\n",
       "        0.0573882 ]])"
      ]
     },
     "execution_count": 33,
     "metadata": {},
     "output_type": "execute_result"
    }
   ],
   "source": [
    "svc.predict_proba(test_x)"
   ]
  },
  {
   "cell_type": "code",
   "execution_count": 29,
   "id": "c2b58d0f-4b6b-47fc-ad9e-5b479ed66d43",
   "metadata": {
    "execution": {
     "iopub.execute_input": "2023-05-29T12:27:55.222658Z",
     "iopub.status.busy": "2023-05-29T12:27:55.222658Z",
     "iopub.status.idle": "2023-05-29T12:27:55.315633Z",
     "shell.execute_reply": "2023-05-29T12:27:55.315633Z",
     "shell.execute_reply.started": "2023-05-29T12:27:55.222658Z"
    }
   },
   "outputs": [
    {
     "data": {
      "text/plain": [
       "array([[ 9.28232575,  8.22668787,  0.7317436 , ...,  3.87917668,\n",
       "        -0.273354  ,  1.82294624],\n",
       "       [ 9.2872282 ,  8.19868528,  0.73945256, ...,  3.81649909,\n",
       "        -0.27206493,  3.92834045],\n",
       "       [ 4.9651618 ,  8.27094223,  0.72585085, ...,  3.87091924,\n",
       "        -0.27652651,  1.76714624],\n",
       "       ...,\n",
       "       [ 8.27055173,  8.25447842,  0.72841971, ...,  3.81078711,\n",
       "        -0.27104218,  1.7941288 ],\n",
       "       [ 1.79093626,  9.2634777 ,  5.21347433, ...,  4.92717011,\n",
       "        -0.26999281,  3.82902948],\n",
       "       [ 2.76061707,  8.26528959,  0.7410199 , ...,  9.28699501,\n",
       "        -0.25692851,  2.76446428]])"
      ]
     },
     "execution_count": 29,
     "metadata": {},
     "output_type": "execute_result"
    }
   ],
   "source": [
    "svc.decision_function(test_x)"
   ]
  },
  {
   "cell_type": "code",
   "execution_count": 30,
   "id": "412aeab7-2f03-4d59-b15d-79737e0bdf51",
   "metadata": {
    "execution": {
     "iopub.execute_input": "2023-05-29T12:28:24.587576Z",
     "iopub.status.busy": "2023-05-29T12:28:24.587576Z",
     "iopub.status.idle": "2023-05-29T12:28:24.601875Z",
     "shell.execute_reply": "2023-05-29T12:28:24.601875Z",
     "shell.execute_reply.started": "2023-05-29T12:28:24.587576Z"
    }
   },
   "outputs": [
    {
     "data": {
      "text/plain": [
       "array([0, 1, 2, 3, 4, 5, 6, 7, 8, 9])"
      ]
     },
     "execution_count": 30,
     "metadata": {},
     "output_type": "execute_result"
    }
   ],
   "source": [
    "svc.classes_"
   ]
  },
  {
   "cell_type": "code",
   "execution_count": null,
   "id": "879f2e4b-a319-49f8-9e12-f1e571e9c5a8",
   "metadata": {},
   "outputs": [],
   "source": []
  },
  {
   "cell_type": "code",
   "execution_count": null,
   "id": "2689efe7-b71e-4af0-944d-3b798e74e2a9",
   "metadata": {},
   "outputs": [],
   "source": []
  },
  {
   "cell_type": "code",
   "execution_count": null,
   "id": "25ee6651-7483-470e-b280-a5d4a06f39f3",
   "metadata": {},
   "outputs": [],
   "source": []
  }
 ],
 "metadata": {
  "kernelspec": {
   "display_name": "Python 3 (ipykernel)",
   "language": "python",
   "name": "python3"
  },
  "language_info": {
   "codemirror_mode": {
    "name": "ipython",
    "version": 3
   },
   "file_extension": ".py",
   "mimetype": "text/x-python",
   "name": "python",
   "nbconvert_exporter": "python",
   "pygments_lexer": "ipython3",
   "version": "3.11.3"
  }
 },
 "nbformat": 4,
 "nbformat_minor": 5
}
