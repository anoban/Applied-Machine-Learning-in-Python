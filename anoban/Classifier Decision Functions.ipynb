{
 "cells": [
  {
   "cell_type": "code",
   "execution_count": 62,
   "id": "1c933e11-96b9-4627-b773-947d9d834db9",
   "metadata": {
    "execution": {
     "iopub.execute_input": "2023-05-30T03:11:56.524400Z",
     "iopub.status.busy": "2023-05-30T03:11:56.524400Z",
     "iopub.status.idle": "2023-05-30T03:11:56.533221Z",
     "shell.execute_reply": "2023-05-30T03:11:56.533221Z",
     "shell.execute_reply.started": "2023-05-30T03:11:56.524400Z"
    }
   },
   "outputs": [],
   "source": [
    "import numpy as np\n",
    "import matplotlib.pyplot as plt\n",
    "from sklearn.datasets import load_digits\n",
    "from sklearn.svm import SVC\n",
    "from sklearn.model_selection import train_test_split\n",
    "from sklearn.metrics import accuracy_score"
   ]
  },
  {
   "cell_type": "markdown",
   "id": "24cf0fe6-26c7-4093-b4a3-69ecc0b59fb7",
   "metadata": {},
   "source": [
    "# ___Classifier Decision Functions___\n",
    "------------------"
   ]
  },
  {
   "cell_type": "code",
   "execution_count": 3,
   "id": "e4983977-262b-4715-bdf9-284d83222b2c",
   "metadata": {
    "execution": {
     "iopub.execute_input": "2023-05-30T02:52:16.811889Z",
     "iopub.status.busy": "2023-05-30T02:52:16.811889Z",
     "iopub.status.idle": "2023-05-30T02:52:16.825320Z",
     "shell.execute_reply": "2023-05-30T02:52:16.825320Z",
     "shell.execute_reply.started": "2023-05-30T02:52:16.811889Z"
    }
   },
   "outputs": [],
   "source": [
    "# Many classifiers in sklearn can provide information about the uncertainty associated with the predictions made by them.\n",
    "# This can be accomplished by either the .decision_function() method or .predict_proba() method."
   ]
  },
  {
   "cell_type": "code",
   "execution_count": 4,
   "id": "28bedd90-a6a7-4f4d-8c8e-6c8957ed89da",
   "metadata": {
    "execution": {
     "iopub.execute_input": "2023-05-30T02:52:16.968728Z",
     "iopub.status.busy": "2023-05-30T02:52:16.968728Z",
     "iopub.status.idle": "2023-05-30T02:52:16.984918Z",
     "shell.execute_reply": "2023-05-30T02:52:16.984918Z",
     "shell.execute_reply.started": "2023-05-30T02:52:16.968728Z"
    }
   },
   "outputs": [],
   "source": [
    "# Using the decision_function, given a set of test points, it can show how confidently the classifier predicts the positive class or the \n",
    "# negative class."
   ]
  },
  {
   "cell_type": "code",
   "execution_count": 5,
   "id": "72eed8b7-789a-4bd0-9402-b8915629a645",
   "metadata": {
    "execution": {
     "iopub.execute_input": "2023-05-30T02:52:17.141641Z",
     "iopub.status.busy": "2023-05-30T02:52:17.141641Z",
     "iopub.status.idle": "2023-05-30T02:52:17.150887Z",
     "shell.execute_reply": "2023-05-30T02:52:17.150887Z",
     "shell.execute_reply.started": "2023-05-30T02:52:17.141641Z"
    }
   },
   "outputs": [],
   "source": [
    "# predict_proba function provides the predicted probabilities of class membership.\n",
    "# A classifier will typicaly predict the most probable class.\n",
    "# e.g. in a binary classifier, the class with > 0.5 threshold.\n",
    "\n",
    "# Adjusting this threshold affects the predictions of the classifier.\n",
    "# e.g. only predict class A when the estimated probability of class A > 0.9\n",
    "\n",
    "# Higher thresholds result in a more conservative classifier.\n",
    "# This increases precision."
   ]
  },
  {
   "cell_type": "code",
   "execution_count": 6,
   "id": "f7aa1aae-42e3-4cd5-bfb9-c860703ffafe",
   "metadata": {
    "execution": {
     "iopub.execute_input": "2023-05-30T02:52:17.314005Z",
     "iopub.status.busy": "2023-05-30T02:52:17.314005Z",
     "iopub.status.idle": "2023-05-30T02:52:17.321502Z",
     "shell.execute_reply": "2023-05-30T02:52:17.321502Z",
     "shell.execute_reply.started": "2023-05-30T02:52:17.314005Z"
    }
   },
   "outputs": [],
   "source": [
    "# This types of probabilities aren't always dependable since highly overfitted models may provide overly optimistic probabilities."
   ]
  },
  {
   "cell_type": "code",
   "execution_count": null,
   "id": "0ef5afe8-8a9d-4535-9fce-9a038f70a8ba",
   "metadata": {},
   "outputs": [],
   "source": []
  },
  {
   "cell_type": "code",
   "execution_count": 31,
   "id": "269e5f92-f7b8-4700-83be-a09f22b315d5",
   "metadata": {
    "execution": {
     "iopub.execute_input": "2023-05-30T02:57:45.754683Z",
     "iopub.status.busy": "2023-05-30T02:57:45.754683Z",
     "iopub.status.idle": "2023-05-30T02:57:45.784908Z",
     "shell.execute_reply": "2023-05-30T02:57:45.783871Z",
     "shell.execute_reply.started": "2023-05-30T02:57:45.754683Z"
    }
   },
   "outputs": [],
   "source": [
    "digits = load_digits()\n",
    "\n",
    "# Skewing the class distribution.\n",
    "targets = np.array(list(map(lambda x: 0 if x == 0 else 1, digits.target)))"
   ]
  },
  {
   "cell_type": "code",
   "execution_count": 32,
   "id": "101686e1-2ed9-4128-b641-3281715db6c1",
   "metadata": {
    "execution": {
     "iopub.execute_input": "2023-05-30T02:57:46.163874Z",
     "iopub.status.busy": "2023-05-30T02:57:46.163874Z",
     "iopub.status.idle": "2023-05-30T02:57:46.179503Z",
     "shell.execute_reply": "2023-05-30T02:57:46.179503Z",
     "shell.execute_reply.started": "2023-05-30T02:57:46.163874Z"
    }
   },
   "outputs": [
    {
     "data": {
      "text/plain": [
       "array([0, 1, 2, ..., 8, 9, 8])"
      ]
     },
     "execution_count": 32,
     "metadata": {},
     "output_type": "execute_result"
    }
   ],
   "source": [
    "digits.target"
   ]
  },
  {
   "cell_type": "code",
   "execution_count": 33,
   "id": "2756ccd9-8808-4443-9cf9-1640db6f373b",
   "metadata": {
    "execution": {
     "iopub.execute_input": "2023-05-30T02:57:46.587609Z",
     "iopub.status.busy": "2023-05-30T02:57:46.587609Z",
     "iopub.status.idle": "2023-05-30T02:57:46.596718Z",
     "shell.execute_reply": "2023-05-30T02:57:46.596718Z",
     "shell.execute_reply.started": "2023-05-30T02:57:46.587609Z"
    }
   },
   "outputs": [
    {
     "data": {
      "text/plain": [
       "(array([0, 1]), array([ 178, 1619], dtype=int64))"
      ]
     },
     "execution_count": 33,
     "metadata": {},
     "output_type": "execute_result"
    }
   ],
   "source": [
    "# Imbalanced classes\n",
    "\n",
    "np.unique(targets, return_counts = True)"
   ]
  },
  {
   "cell_type": "code",
   "execution_count": 64,
   "id": "73911536-b80f-4dae-8b1b-8b4a3ed21fed",
   "metadata": {
    "execution": {
     "iopub.execute_input": "2023-05-30T03:14:00.351319Z",
     "iopub.status.busy": "2023-05-30T03:14:00.351319Z",
     "iopub.status.idle": "2023-05-30T03:14:00.358805Z",
     "shell.execute_reply": "2023-05-30T03:14:00.357771Z",
     "shell.execute_reply.started": "2023-05-30T03:14:00.351319Z"
    }
   },
   "outputs": [],
   "source": [
    "train_x, test_x, train_y, test_y = train_test_split(digits.data, targets, train_size = 0.6)"
   ]
  },
  {
   "cell_type": "code",
   "execution_count": 65,
   "id": "ba3ad698-f83d-4394-a8d6-eac8baa77223",
   "metadata": {
    "execution": {
     "iopub.execute_input": "2023-05-30T03:14:00.759675Z",
     "iopub.status.busy": "2023-05-30T03:14:00.759675Z",
     "iopub.status.idle": "2023-05-30T03:14:01.941351Z",
     "shell.execute_reply": "2023-05-30T03:14:01.941351Z",
     "shell.execute_reply.started": "2023-05-30T03:14:00.759675Z"
    }
   },
   "outputs": [],
   "source": [
    "# accuracy increases with generalization i.e C upto C = 1\n",
    "\n",
    "svc = SVC(C = 0.001, kernel = \"rbf\", probability = True).fit(train_x, train_y)"
   ]
  },
  {
   "cell_type": "code",
   "execution_count": 66,
   "id": "25593e4d-b280-499e-9157-a88766bf5658",
   "metadata": {
    "execution": {
     "iopub.execute_input": "2023-05-30T03:14:01.941351Z",
     "iopub.status.busy": "2023-05-30T03:14:01.941351Z",
     "iopub.status.idle": "2023-05-30T03:14:02.890189Z",
     "shell.execute_reply": "2023-05-30T03:14:02.890189Z",
     "shell.execute_reply.started": "2023-05-30T03:14:01.941351Z"
    }
   },
   "outputs": [
    {
     "data": {
      "text/plain": [
       "0.8929068150208623"
      ]
     },
     "execution_count": 66,
     "metadata": {},
     "output_type": "execute_result"
    }
   ],
   "source": [
    "svc.score(test_x, test_y)"
   ]
  },
  {
   "cell_type": "code",
   "execution_count": 67,
   "id": "16d73832-34e6-4896-b10d-7cffaa03de37",
   "metadata": {
    "execution": {
     "iopub.execute_input": "2023-05-30T03:14:02.890189Z",
     "iopub.status.busy": "2023-05-30T03:14:02.890189Z",
     "iopub.status.idle": "2023-05-30T03:14:03.849262Z",
     "shell.execute_reply": "2023-05-30T03:14:03.849262Z",
     "shell.execute_reply.started": "2023-05-30T03:14:02.890189Z"
    }
   },
   "outputs": [
    {
     "data": {
      "text/plain": [
       "array([[2.71947102e-09, 9.99999997e-01],\n",
       "       [1.08093503e-09, 9.99999999e-01],\n",
       "       [1.55076237e-08, 9.99999984e-01],\n",
       "       ...,\n",
       "       [1.85255489e-06, 9.99998147e-01],\n",
       "       [9.99950109e-01, 4.98907533e-05],\n",
       "       [1.69244569e-09, 9.99999998e-01]])"
      ]
     },
     "execution_count": 67,
     "metadata": {},
     "output_type": "execute_result"
    }
   ],
   "source": [
    "svc.predict_proba(test_x)"
   ]
  },
  {
   "cell_type": "code",
   "execution_count": 74,
   "id": "9e2d1be4-d8ca-4aec-9bbb-9fc4f7646612",
   "metadata": {
    "execution": {
     "iopub.execute_input": "2023-05-30T03:16:24.589648Z",
     "iopub.status.busy": "2023-05-30T03:16:24.589648Z",
     "iopub.status.idle": "2023-05-30T03:16:24.631607Z",
     "shell.execute_reply": "2023-05-30T03:16:24.631079Z",
     "shell.execute_reply.started": "2023-05-30T03:16:24.589648Z"
    }
   },
   "outputs": [
    {
     "data": {
      "text/plain": [
       "(719, 2)"
      ]
     },
     "execution_count": 74,
     "metadata": {},
     "output_type": "execute_result"
    }
   ],
   "source": [
    "svc.predict_proba(test_x).shape"
   ]
  },
  {
   "cell_type": "code",
   "execution_count": 114,
   "id": "79572a3e-9b56-4031-bb98-8506cd4d129c",
   "metadata": {
    "execution": {
     "iopub.execute_input": "2023-05-30T03:31:01.355355Z",
     "iopub.status.busy": "2023-05-30T03:31:01.355355Z",
     "iopub.status.idle": "2023-05-30T03:31:01.395760Z",
     "shell.execute_reply": "2023-05-30T03:31:01.395760Z",
     "shell.execute_reply.started": "2023-05-30T03:31:01.355355Z"
    }
   },
   "outputs": [
    {
     "data": {
      "text/plain": [
       "array([[2.71947102e-09, 9.99999997e-01],\n",
       "       [1.08093503e-09, 9.99999999e-01],\n",
       "       [1.55076237e-08, 9.99999984e-01],\n",
       "       ...,\n",
       "       [1.85255489e-06, 9.99998147e-01],\n",
       "       [9.99950109e-01, 4.98907533e-05],\n",
       "       [1.69244569e-09, 9.99999998e-01]])"
      ]
     },
     "execution_count": 114,
     "metadata": {},
     "output_type": "execute_result"
    }
   ],
   "source": [
    "svc.predict_proba(test_x)"
   ]
  },
  {
   "cell_type": "code",
   "execution_count": 112,
   "id": "d020a69f-957f-4ffe-b2c2-ee2d8e569faa",
   "metadata": {
    "execution": {
     "iopub.execute_input": "2023-05-30T03:30:21.142702Z",
     "iopub.status.busy": "2023-05-30T03:30:21.142702Z",
     "iopub.status.idle": "2023-05-30T03:30:21.171677Z",
     "shell.execute_reply": "2023-05-30T03:30:21.171579Z",
     "shell.execute_reply.started": "2023-05-30T03:30:21.142702Z"
    }
   },
   "outputs": [
    {
     "data": {
      "text/plain": [
       "719"
      ]
     },
     "execution_count": 112,
     "metadata": {},
     "output_type": "execute_result"
    }
   ],
   "source": [
    "svc.predict(test_x).sum()"
   ]
  },
  {
   "cell_type": "code",
   "execution_count": 113,
   "id": "7af4e27d-c7c1-4f4c-843b-a1ef3830131f",
   "metadata": {
    "execution": {
     "iopub.execute_input": "2023-05-30T03:30:35.333531Z",
     "iopub.status.busy": "2023-05-30T03:30:35.333531Z",
     "iopub.status.idle": "2023-05-30T03:30:35.367384Z",
     "shell.execute_reply": "2023-05-30T03:30:35.367289Z",
     "shell.execute_reply.started": "2023-05-30T03:30:35.333531Z"
    }
   },
   "outputs": [
    {
     "data": {
      "text/plain": [
       "0.8929068150208623"
      ]
     },
     "execution_count": 113,
     "metadata": {},
     "output_type": "execute_result"
    }
   ],
   "source": [
    "svc.score(test_x, test_y)"
   ]
  },
  {
   "cell_type": "code",
   "execution_count": 115,
   "id": "c21ac86a-449d-4204-854c-c03759c5ba1e",
   "metadata": {
    "execution": {
     "iopub.execute_input": "2023-05-30T03:31:20.270591Z",
     "iopub.status.busy": "2023-05-30T03:31:20.270591Z",
     "iopub.status.idle": "2023-05-30T03:31:20.313555Z",
     "shell.execute_reply": "2023-05-30T03:31:20.313037Z",
     "shell.execute_reply.started": "2023-05-30T03:31:20.270591Z"
    }
   },
   "outputs": [
    {
     "data": {
      "text/plain": [
       "643"
      ]
     },
     "execution_count": 115,
     "metadata": {},
     "output_type": "execute_result"
    }
   ],
   "source": [
    "np.argmax(svc.predict_proba(test_x) - 0.7, axis = 1).sum()"
   ]
  },
  {
   "cell_type": "code",
   "execution_count": 94,
   "id": "c2b58d0f-4b6b-47fc-ad9e-5b479ed66d43",
   "metadata": {
    "execution": {
     "iopub.execute_input": "2023-05-30T03:22:49.397636Z",
     "iopub.status.busy": "2023-05-30T03:22:49.397636Z",
     "iopub.status.idle": "2023-05-30T03:22:49.428009Z",
     "shell.execute_reply": "2023-05-30T03:22:49.427929Z",
     "shell.execute_reply.started": "2023-05-30T03:22:49.397636Z"
    }
   },
   "outputs": [
    {
     "data": {
      "text/plain": [
       "array([1.00708486, 1.00776677, 1.00579816, 1.00398071, 1.00686064,\n",
       "       1.00799935, 1.00461809, 1.00268974, 1.00707468, 1.00254373])"
      ]
     },
     "execution_count": 94,
     "metadata": {},
     "output_type": "execute_result"
    }
   ],
   "source": [
    "svc.decision_function(test_x)[:10]"
   ]
  },
  {
   "cell_type": "code",
   "execution_count": 69,
   "id": "412aeab7-2f03-4d59-b15d-79737e0bdf51",
   "metadata": {
    "execution": {
     "iopub.execute_input": "2023-05-30T03:14:08.060892Z",
     "iopub.status.busy": "2023-05-30T03:14:08.060892Z",
     "iopub.status.idle": "2023-05-30T03:14:08.067617Z",
     "shell.execute_reply": "2023-05-30T03:14:08.067617Z",
     "shell.execute_reply.started": "2023-05-30T03:14:08.060892Z"
    }
   },
   "outputs": [
    {
     "data": {
      "text/plain": [
       "array([0, 1])"
      ]
     },
     "execution_count": 69,
     "metadata": {},
     "output_type": "execute_result"
    }
   ],
   "source": [
    "# class labels learned by the classifier.\n",
    "\n",
    "svc.classes_"
   ]
  },
  {
   "cell_type": "code",
   "execution_count": null,
   "id": "879f2e4b-a319-49f8-9e12-f1e571e9c5a8",
   "metadata": {},
   "outputs": [],
   "source": []
  },
  {
   "cell_type": "code",
   "execution_count": 122,
   "id": "2689efe7-b71e-4af0-944d-3b798e74e2a9",
   "metadata": {
    "execution": {
     "iopub.execute_input": "2023-05-30T03:33:12.954397Z",
     "iopub.status.busy": "2023-05-30T03:33:12.954397Z",
     "iopub.status.idle": "2023-05-30T03:33:12.981783Z",
     "shell.execute_reply": "2023-05-30T03:33:12.981783Z",
     "shell.execute_reply.started": "2023-05-30T03:33:12.954397Z"
    }
   },
   "outputs": [
    {
     "data": {
      "text/plain": [
       "array([1, 1, 1, 1, 1, 1, 1, 1, 1, 1, 1, 1, 1, 1, 1, 1, 1, 0, 1, 1, 1, 1,\n",
       "       1, 1, 1, 1, 1, 1, 1, 1, 1, 1, 1, 0, 1, 1, 0, 1, 1, 1, 1, 1, 1, 1,\n",
       "       0, 1, 1, 1, 1, 1, 1, 1, 1, 1, 1, 1, 1, 1, 1, 1, 1, 1, 1, 1, 1, 1,\n",
       "       1, 1, 1, 1, 1, 0, 1, 1, 1, 1, 1, 1, 1, 1, 1, 1, 1, 1, 1, 1, 1, 1,\n",
       "       1, 1, 1, 0, 1, 0, 1, 1, 0, 1, 1, 1, 1, 1, 1, 1, 0, 1, 1, 1, 1, 0,\n",
       "       0, 1, 1, 1, 1, 1, 1, 1, 1, 1, 0, 1, 1, 1, 1, 1, 1, 1, 0, 0, 1, 0,\n",
       "       1, 1, 1, 1, 1, 1, 1, 1, 1, 1, 1, 1, 1, 1, 1, 0, 0, 0, 1, 1, 1, 1,\n",
       "       1, 1, 1, 1, 1, 1, 1, 1, 0, 1, 1, 1, 1, 1, 1, 0, 1, 0, 1, 1, 0, 1,\n",
       "       1, 1, 1, 1, 0, 1, 1, 1, 1, 1, 1, 1, 0, 1, 1, 1, 1, 1, 1, 0, 1, 1,\n",
       "       1, 1, 1, 1, 1, 1, 1, 0, 1, 1, 1, 1, 1, 1, 1, 1, 1, 1, 1, 1, 1, 1,\n",
       "       1, 1, 1, 1, 1, 1, 0, 1, 1, 1, 1, 1, 1, 1, 1, 1, 1, 1, 1, 1, 1, 1,\n",
       "       1, 0, 1, 1, 0, 1, 1, 1, 1, 1, 0, 1, 1, 1, 1, 0, 1, 1, 1, 1, 1, 1,\n",
       "       1, 1, 1, 1, 1, 0, 1, 0, 1, 0, 1, 1, 1, 0, 1, 1, 1, 1, 1, 1, 1, 1,\n",
       "       1, 1, 1, 0, 1, 0, 1, 1, 1, 1, 1, 0, 1, 1, 1, 1, 1, 1, 1, 1, 1, 1,\n",
       "       1, 1, 1, 1, 1, 1, 1, 1, 1, 0, 1, 1, 1, 1, 1, 1, 1, 1, 1, 1, 1, 1,\n",
       "       1, 1, 1, 1, 1, 1, 1, 1, 1, 1, 1, 1, 1, 1, 1, 1, 1, 1, 1, 1, 0, 1,\n",
       "       1, 1, 1, 1, 1, 1, 1, 1, 1, 1, 1, 1, 1, 1, 1, 1, 1, 1, 1, 1, 1, 1,\n",
       "       1, 1, 1, 1, 1, 1, 1, 1, 1, 1, 1, 1, 1, 1, 1, 1, 1, 1, 1, 1, 1, 1,\n",
       "       1, 1, 1, 1, 1, 0, 1, 1, 1, 1, 1, 1, 1, 1, 1, 1, 1, 1, 1, 1, 1, 1,\n",
       "       1, 1, 1, 1, 0, 1, 0, 1, 1, 0, 0, 1, 1, 1, 1, 0, 1, 1, 1, 1, 0, 1,\n",
       "       0, 0, 1, 1, 1, 1, 1, 1, 1, 1, 1, 0, 1, 1, 1, 1, 1, 1, 1, 1, 1, 1,\n",
       "       0, 1, 0, 1, 1, 1, 1, 1, 0, 1, 1, 1, 1, 1, 1, 1, 0, 1, 1, 1, 1, 0,\n",
       "       1, 1, 1, 1, 1, 1, 1, 0, 0, 1, 1, 1, 1, 1, 1, 1, 1, 1, 1, 1, 1, 1,\n",
       "       1, 1, 1, 1, 1, 1, 1, 0, 1, 1, 1, 1, 1, 1, 1, 1, 0, 1, 1, 1, 1, 0,\n",
       "       1, 1, 0, 1, 0, 1, 1, 1, 1, 1, 1, 1, 1, 1, 1, 1, 1, 1, 1, 1, 1, 1,\n",
       "       0, 0, 1, 1, 0, 1, 1, 1, 1, 1, 1, 0, 1, 1, 1, 1, 1, 1, 1, 1, 1, 1,\n",
       "       1, 1, 1, 1, 1, 1, 1, 1, 1, 1, 1, 1, 1, 1, 1, 1, 1, 1, 1, 0, 1, 1,\n",
       "       1, 1, 1, 1, 1, 1, 1, 1, 1, 1, 1, 1, 1, 1, 1, 1, 1, 1, 0, 0, 1, 0,\n",
       "       1, 1, 1, 1, 0, 1, 1, 0, 1, 1, 1, 1, 1, 1, 1, 1, 1, 1, 1, 1, 1, 1,\n",
       "       1, 1, 1, 1, 1, 1, 1, 1, 1, 1, 1, 1, 0, 1, 1, 1, 1, 0, 1, 1, 1, 1,\n",
       "       1, 1, 1, 1, 1, 1, 1, 1, 0, 1, 1, 1, 1, 1, 1, 1, 0, 0, 1, 1, 1, 1,\n",
       "       1, 1, 1, 1, 1, 1, 1, 1, 1, 1, 1, 0, 1, 1, 1, 1, 1, 1, 1, 1, 1, 1,\n",
       "       1, 1, 1, 1, 1, 1, 1, 1, 1, 0, 1, 1, 1, 0, 1])"
      ]
     },
     "execution_count": 122,
     "metadata": {},
     "output_type": "execute_result"
    }
   ],
   "source": [
    "# If we increase the prediction probability threshold to 80% instead of the default 50% of the binary classifiers,\n",
    "# label 1 will be selected only when the classifier can assertain that the prediction has at least 80% confidence\n",
    "\n",
    "np.array(list(map(lambda lst: 1 if (lst[1] > 0.9) else 0, svc.predict_proba(test_x))))"
   ]
  },
  {
   "cell_type": "code",
   "execution_count": 123,
   "id": "1d855b6f-870b-445c-a014-0ce101c7e1de",
   "metadata": {
    "execution": {
     "iopub.execute_input": "2023-05-30T03:33:27.586793Z",
     "iopub.status.busy": "2023-05-30T03:33:27.586793Z",
     "iopub.status.idle": "2023-05-30T03:33:27.598629Z",
     "shell.execute_reply": "2023-05-30T03:33:27.598020Z",
     "shell.execute_reply.started": "2023-05-30T03:33:27.586793Z"
    }
   },
   "outputs": [
    {
     "data": {
      "text/plain": [
       "((719, 64), (719,))"
      ]
     },
     "execution_count": 123,
     "metadata": {},
     "output_type": "execute_result"
    }
   ],
   "source": [
    "test_x.shape, test_y.shape"
   ]
  },
  {
   "cell_type": "code",
   "execution_count": null,
   "id": "4808fcd8-9a1a-471c-b92a-af408a6babf5",
   "metadata": {},
   "outputs": [],
   "source": []
  },
  {
   "cell_type": "code",
   "execution_count": 135,
   "id": "25ee6651-7483-470e-b280-a5d4a06f39f3",
   "metadata": {
    "execution": {
     "iopub.execute_input": "2023-05-30T03:39:33.236344Z",
     "iopub.status.busy": "2023-05-30T03:39:33.236344Z",
     "iopub.status.idle": "2023-05-30T03:39:34.670132Z",
     "shell.execute_reply": "2023-05-30T03:39:34.670132Z",
     "shell.execute_reply.started": "2023-05-30T03:39:33.236344Z"
    }
   },
   "outputs": [
    {
     "name": "stdout",
     "output_type": "stream",
     "text": [
      "Proportion of predicted 1 labels 0.9026 Accuracy score 0.9902642559109874 @threshold 0.010\n",
      "Proportion of predicted 1 labels 0.8999 Accuracy score 0.9930458970792768 @threshold 0.020\n",
      "Proportion of predicted 1 labels 0.8999 Accuracy score 0.9930458970792768 @threshold 0.030\n",
      "Proportion of predicted 1 labels 0.8999 Accuracy score 0.9930458970792768 @threshold 0.040\n",
      "Proportion of predicted 1 labels 0.8999 Accuracy score 0.9930458970792768 @threshold 0.050\n",
      "Proportion of predicted 1 labels 0.8999 Accuracy score 0.9930458970792768 @threshold 0.060\n",
      "Proportion of predicted 1 labels 0.8985 Accuracy score 0.9944367176634215 @threshold 0.070\n",
      "Proportion of predicted 1 labels 0.8971 Accuracy score 0.9958275382475661 @threshold 0.080\n",
      "Proportion of predicted 1 labels 0.8971 Accuracy score 0.9958275382475661 @threshold 0.090\n",
      "Proportion of predicted 1 labels 0.8971 Accuracy score 0.9958275382475661 @threshold 0.100\n",
      "Proportion of predicted 1 labels 0.8971 Accuracy score 0.9958275382475661 @threshold 0.110\n",
      "Proportion of predicted 1 labels 0.8971 Accuracy score 0.9958275382475661 @threshold 0.120\n",
      "Proportion of predicted 1 labels 0.8971 Accuracy score 0.9958275382475661 @threshold 0.130\n",
      "Proportion of predicted 1 labels 0.8971 Accuracy score 0.9958275382475661 @threshold 0.140\n",
      "Proportion of predicted 1 labels 0.8957 Accuracy score 0.9972183588317107 @threshold 0.150\n",
      "Proportion of predicted 1 labels 0.8957 Accuracy score 0.9972183588317107 @threshold 0.160\n",
      "Proportion of predicted 1 labels 0.8943 Accuracy score 0.9986091794158554 @threshold 0.170\n",
      "Proportion of predicted 1 labels 0.8943 Accuracy score 0.9986091794158554 @threshold 0.180\n",
      "Proportion of predicted 1 labels 0.8943 Accuracy score 0.9986091794158554 @threshold 0.190\n",
      "Proportion of predicted 1 labels 0.8943 Accuracy score 0.9986091794158554 @threshold 0.200\n",
      "Proportion of predicted 1 labels 0.8943 Accuracy score 0.9986091794158554 @threshold 0.210\n",
      "Proportion of predicted 1 labels 0.8943 Accuracy score 0.9986091794158554 @threshold 0.220\n",
      "Proportion of predicted 1 labels 0.8943 Accuracy score 0.9986091794158554 @threshold 0.230\n",
      "Proportion of predicted 1 labels 0.8943 Accuracy score 0.9986091794158554 @threshold 0.240\n",
      "Proportion of predicted 1 labels 0.8943 Accuracy score 0.9986091794158554 @threshold 0.250\n",
      "Proportion of predicted 1 labels 0.8943 Accuracy score 0.9986091794158554 @threshold 0.260\n",
      "Proportion of predicted 1 labels 0.8943 Accuracy score 0.9986091794158554 @threshold 0.270\n",
      "Proportion of predicted 1 labels 0.8943 Accuracy score 0.9986091794158554 @threshold 0.280\n",
      "Proportion of predicted 1 labels 0.8943 Accuracy score 0.9986091794158554 @threshold 0.290\n",
      "Proportion of predicted 1 labels 0.8943 Accuracy score 0.9986091794158554 @threshold 0.300\n",
      "Proportion of predicted 1 labels 0.8943 Accuracy score 0.9986091794158554 @threshold 0.310\n",
      "Proportion of predicted 1 labels 0.8943 Accuracy score 0.9986091794158554 @threshold 0.320\n",
      "Proportion of predicted 1 labels 0.8943 Accuracy score 0.9986091794158554 @threshold 0.330\n",
      "Proportion of predicted 1 labels 0.8943 Accuracy score 0.9986091794158554 @threshold 0.340\n",
      "Proportion of predicted 1 labels 0.8943 Accuracy score 0.9986091794158554 @threshold 0.350\n",
      "Proportion of predicted 1 labels 0.8943 Accuracy score 0.9986091794158554 @threshold 0.360\n",
      "Proportion of predicted 1 labels 0.8943 Accuracy score 0.9986091794158554 @threshold 0.370\n",
      "Proportion of predicted 1 labels 0.8943 Accuracy score 0.9986091794158554 @threshold 0.380\n",
      "Proportion of predicted 1 labels 0.8943 Accuracy score 0.9986091794158554 @threshold 0.390\n",
      "Proportion of predicted 1 labels 0.8943 Accuracy score 0.9986091794158554 @threshold 0.400\n",
      "Proportion of predicted 1 labels 0.8943 Accuracy score 0.9986091794158554 @threshold 0.410\n",
      "Proportion of predicted 1 labels 0.8943 Accuracy score 0.9986091794158554 @threshold 0.420\n",
      "Proportion of predicted 1 labels 0.8943 Accuracy score 0.9986091794158554 @threshold 0.430\n",
      "Proportion of predicted 1 labels 0.8943 Accuracy score 0.9986091794158554 @threshold 0.440\n",
      "Proportion of predicted 1 labels 0.8943 Accuracy score 0.9986091794158554 @threshold 0.450\n",
      "Proportion of predicted 1 labels 0.8943 Accuracy score 0.9986091794158554 @threshold 0.460\n",
      "Proportion of predicted 1 labels 0.8943 Accuracy score 0.9986091794158554 @threshold 0.470\n",
      "Proportion of predicted 1 labels 0.8943 Accuracy score 0.9986091794158554 @threshold 0.480\n",
      "Proportion of predicted 1 labels 0.8943 Accuracy score 0.9986091794158554 @threshold 0.490\n",
      "Proportion of predicted 1 labels 0.8943 Accuracy score 0.9986091794158554 @threshold 0.500\n",
      "Proportion of predicted 1 labels 0.8943 Accuracy score 0.9986091794158554 @threshold 0.510\n",
      "Proportion of predicted 1 labels 0.8943 Accuracy score 0.9986091794158554 @threshold 0.520\n",
      "Proportion of predicted 1 labels 0.8943 Accuracy score 0.9986091794158554 @threshold 0.530\n",
      "Proportion of predicted 1 labels 0.8943 Accuracy score 0.9986091794158554 @threshold 0.540\n",
      "Proportion of predicted 1 labels 0.8943 Accuracy score 0.9986091794158554 @threshold 0.550\n",
      "Proportion of predicted 1 labels 0.8943 Accuracy score 0.9986091794158554 @threshold 0.560\n",
      "Proportion of predicted 1 labels 0.8943 Accuracy score 0.9986091794158554 @threshold 0.570\n",
      "Proportion of predicted 1 labels 0.8943 Accuracy score 0.9986091794158554 @threshold 0.580\n",
      "Proportion of predicted 1 labels 0.8943 Accuracy score 0.9986091794158554 @threshold 0.590\n",
      "Proportion of predicted 1 labels 0.8943 Accuracy score 0.9986091794158554 @threshold 0.600\n",
      "Proportion of predicted 1 labels 0.8943 Accuracy score 0.9986091794158554 @threshold 0.610\n",
      "Proportion of predicted 1 labels 0.8943 Accuracy score 0.9986091794158554 @threshold 0.620\n",
      "Proportion of predicted 1 labels 0.8943 Accuracy score 0.9986091794158554 @threshold 0.630\n",
      "Proportion of predicted 1 labels 0.8943 Accuracy score 0.9986091794158554 @threshold 0.640\n",
      "Proportion of predicted 1 labels 0.8943 Accuracy score 0.9986091794158554 @threshold 0.650\n",
      "Proportion of predicted 1 labels 0.8943 Accuracy score 0.9986091794158554 @threshold 0.660\n",
      "Proportion of predicted 1 labels 0.8943 Accuracy score 0.9986091794158554 @threshold 0.670\n",
      "Proportion of predicted 1 labels 0.8943 Accuracy score 0.9986091794158554 @threshold 0.680\n",
      "Proportion of predicted 1 labels 0.8943 Accuracy score 0.9986091794158554 @threshold 0.690\n",
      "Proportion of predicted 1 labels 0.8943 Accuracy score 0.9986091794158554 @threshold 0.700\n",
      "Proportion of predicted 1 labels 0.8943 Accuracy score 0.9986091794158554 @threshold 0.710\n",
      "Proportion of predicted 1 labels 0.8943 Accuracy score 0.9986091794158554 @threshold 0.720\n",
      "Proportion of predicted 1 labels 0.8943 Accuracy score 0.9986091794158554 @threshold 0.730\n",
      "Proportion of predicted 1 labels 0.8943 Accuracy score 0.9986091794158554 @threshold 0.740\n",
      "Proportion of predicted 1 labels 0.8943 Accuracy score 0.9986091794158554 @threshold 0.750\n",
      "Proportion of predicted 1 labels 0.8943 Accuracy score 0.9986091794158554 @threshold 0.760\n",
      "Proportion of predicted 1 labels 0.8943 Accuracy score 0.9986091794158554 @threshold 0.770\n",
      "Proportion of predicted 1 labels 0.8943 Accuracy score 0.9986091794158554 @threshold 0.780\n",
      "Proportion of predicted 1 labels 0.8943 Accuracy score 0.9986091794158554 @threshold 0.790\n",
      "Proportion of predicted 1 labels 0.8929 Accuracy score 0.9972183588317107 @threshold 0.800\n",
      "Proportion of predicted 1 labels 0.8929 Accuracy score 0.9972183588317107 @threshold 0.810\n",
      "Proportion of predicted 1 labels 0.8929 Accuracy score 0.9972183588317107 @threshold 0.820\n",
      "Proportion of predicted 1 labels 0.8929 Accuracy score 0.9972183588317107 @threshold 0.830\n",
      "Proportion of predicted 1 labels 0.8929 Accuracy score 0.9972183588317107 @threshold 0.840\n",
      "Proportion of predicted 1 labels 0.8929 Accuracy score 0.9972183588317107 @threshold 0.850\n",
      "Proportion of predicted 1 labels 0.8929 Accuracy score 0.9972183588317107 @threshold 0.860\n",
      "Proportion of predicted 1 labels 0.8915 Accuracy score 0.9986091794158554 @threshold 0.870\n",
      "Proportion of predicted 1 labels 0.8901 Accuracy score 0.9972183588317107 @threshold 0.880\n",
      "Proportion of predicted 1 labels 0.8901 Accuracy score 0.9972183588317107 @threshold 0.890\n",
      "Proportion of predicted 1 labels 0.8887 Accuracy score 0.9958275382475661 @threshold 0.900\n",
      "Proportion of predicted 1 labels 0.8887 Accuracy score 0.9958275382475661 @threshold 0.910\n",
      "Proportion of predicted 1 labels 0.8860 Accuracy score 0.9930458970792768 @threshold 0.920\n",
      "Proportion of predicted 1 labels 0.8860 Accuracy score 0.9930458970792768 @threshold 0.930\n",
      "Proportion of predicted 1 labels 0.8832 Accuracy score 0.9902642559109874 @threshold 0.940\n",
      "Proportion of predicted 1 labels 0.8804 Accuracy score 0.9874826147426982 @threshold 0.950\n",
      "Proportion of predicted 1 labels 0.8804 Accuracy score 0.9874826147426982 @threshold 0.960\n",
      "Proportion of predicted 1 labels 0.8762 Accuracy score 0.9833101529902643 @threshold 0.970\n",
      "Proportion of predicted 1 labels 0.8665 Accuracy score 0.9735744089012517 @threshold 0.980\n",
      "Proportion of predicted 1 labels 0.8484 Accuracy score 0.9554937413073713 @threshold 0.990\n"
     ]
    }
   ],
   "source": [
    "# 1 is the label with highest frequency.\n",
    "ascores = []\n",
    "\n",
    "for prob in np.arange(0.01, 1, step = 0.01):\n",
    "    preds = np.array(list(map(lambda lst: 1 if (lst[1] > prob) else 0, svc.predict_proba(test_x))))\n",
    "    labels, counts = np.unique(preds, return_counts = True)\n",
    "    ascore = accuracy_score(test_y, preds)\n",
    "    ascores.append((prob, ascore))\n",
    "    print(f\"Proportion of predicted 1 labels {counts[1] / sum(counts):.4f} Accuracy score {ascore} @threshold {prob:.3f}\")"
   ]
  },
  {
   "cell_type": "code",
   "execution_count": null,
   "id": "9a910ae3-dbb8-4cd9-93e5-8c8a993850ef",
   "metadata": {},
   "outputs": [],
   "source": []
  },
  {
   "cell_type": "code",
   "execution_count": 137,
   "id": "a029561c-07e8-41d6-8151-857f334dc6b6",
   "metadata": {
    "execution": {
     "iopub.execute_input": "2023-05-30T03:39:54.573237Z",
     "iopub.status.busy": "2023-05-30T03:39:54.573237Z",
     "iopub.status.idle": "2023-05-30T03:39:54.587403Z",
     "shell.execute_reply": "2023-05-30T03:39:54.587403Z",
     "shell.execute_reply.started": "2023-05-30T03:39:54.573237Z"
    }
   },
   "outputs": [],
   "source": [
    "ascores = np.array(ascores)"
   ]
  },
  {
   "cell_type": "code",
   "execution_count": 156,
   "id": "3949c15c-a0df-4837-a39f-2369f691440d",
   "metadata": {
    "execution": {
     "iopub.execute_input": "2023-05-30T03:46:14.498511Z",
     "iopub.status.busy": "2023-05-30T03:46:14.498511Z",
     "iopub.status.idle": "2023-05-30T03:46:14.642731Z",
     "shell.execute_reply": "2023-05-30T03:46:14.642731Z",
     "shell.execute_reply.started": "2023-05-30T03:46:14.498511Z"
    }
   },
   "outputs": [
    {
     "data": {
      "image/png": "[encoded data removed]",
      "text/plain": [
       "<Figure size 700x700 with 1 Axes>"
      ]
     },
     "metadata": {},
     "output_type": "display_data"
    }
   ],
   "source": [
    "fig, axes = plt.subplots()\n",
    "fig.set_size_inches(7, 7)\n",
    "axes.plot(ascores[:, 0], ascores[:, 1], mfc = \"white\", mec = \"black\", linestyle = \"--\", marker = \"o\", ms = 3)\n",
    "axes.set_xlabel(\"Threshold\")\n",
    "axes.set_ylabel(\"$R^{2}\\hspace{1}Score$\")\n",
    "axes.set_title(\"Effect of varying the decision threshold on accuracy score ($R^{2}$)\")\n",
    "plt.show()"
   ]
  },
  {
   "cell_type": "code",
   "execution_count": null,
   "id": "e4de8504-52ed-45ce-9432-e2e3a19a7ec4",
   "metadata": {},
   "outputs": [],
   "source": []
  },
  {
   "cell_type": "code",
   "execution_count": null,
   "id": "9932d5bb-2a21-4c7f-8627-d776f7cf2ccf",
   "metadata": {},
   "outputs": [],
   "source": [
    "# recall = "
   ]
  }
 ],
 "metadata": {
  "kernelspec": {
   "display_name": "Python 3 (ipykernel)",
   "language": "python",
   "name": "python3"
  },
  "language_info": {
   "codemirror_mode": {
    "name": "ipython",
    "version": 3
   },
   "file_extension": ".py",
   "mimetype": "text/x-python",
   "name": "python",
   "nbconvert_exporter": "python",
   "pygments_lexer": "ipython3",
   "version": "3.11.3"
  }
 },
 "nbformat": 4,
 "nbformat_minor": 5
}
