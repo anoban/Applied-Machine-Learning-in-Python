{
 "cells": [
  {
   "cell_type": "markdown",
   "id": "04160660-6b72-4e9e-9bec-209e247dbb96",
   "metadata": {},
   "source": [
    "# ___Data Leakage___\n",
    "----------------"
   ]
  },
  {
   "cell_type": "code",
   "execution_count": 1,
   "id": "4fd27491-d002-499c-99d5-ff9ace34fd62",
   "metadata": {
    "execution": {
     "iopub.execute_input": "2023-06-03T02:22:55.615218Z",
     "iopub.status.busy": "2023-06-03T02:22:55.615218Z",
     "iopub.status.idle": "2023-06-03T02:22:55.625850Z",
     "shell.execute_reply": "2023-06-03T02:22:55.625850Z",
     "shell.execute_reply.started": "2023-06-03T02:22:55.615218Z"
    }
   },
   "outputs": [],
   "source": [
    "# Data leakage => the training data used to train the model contains extra information that we are trying to predict.\n",
    "# e.g have we included the true labels as a feature in the training set. In such case the model might learn to give that feature the highest weight\n",
    "# and learn to make predictionson a if-then basis using exclusively the label feature as reference."
   ]
  },
  {
   "cell_type": "code",
   "execution_count": 2,
   "id": "f392f9b8-acf7-4dbd-aa6e-33e1454107d1",
   "metadata": {
    "execution": {
     "iopub.execute_input": "2023-06-03T02:24:24.432653Z",
     "iopub.status.busy": "2023-06-03T02:24:24.432653Z",
     "iopub.status.idle": "2023-06-03T02:24:24.446561Z",
     "shell.execute_reply": "2023-06-03T02:24:24.446561Z",
     "shell.execute_reply.started": "2023-06-03T02:24:24.432653Z"
    }
   },
   "outputs": [],
   "source": [
    "# another example is accidentally including the test data in the training set.\n",
    "# This leads to model overfitting / memorizing the data points, -> near perfect accuracies."
   ]
  },
  {
   "cell_type": "code",
   "execution_count": null,
   "id": "9e17a146-43de-42c3-a899-1557446f1a70",
   "metadata": {},
   "outputs": [],
   "source": []
  },
  {
   "cell_type": "code",
   "execution_count": 3,
   "id": "376b75cf-3027-4c41-8526-ccb8bec66ea2",
   "metadata": {
    "execution": {
     "iopub.execute_input": "2023-06-03T02:26:45.523373Z",
     "iopub.status.busy": "2023-06-03T02:26:45.523373Z",
     "iopub.status.idle": "2023-06-03T02:26:45.526464Z",
     "shell.execute_reply": "2023-06-03T02:26:45.526464Z",
     "shell.execute_reply.started": "2023-06-03T02:26:45.523373Z"
    }
   },
   "outputs": [],
   "source": [
    "# Besides these obvious ways, data leakage can happen in many subtle and hard to detect ways!\n",
    "# If a model's performance is too good to be true, it probably is.\n",
    "# And is likely occurring due to giveaway features (leaked)"
   ]
  },
  {
   "cell_type": "code",
   "execution_count": null,
   "id": "2b89eca6-236b-4bed-8411-b383c085489c",
   "metadata": {},
   "outputs": [],
   "source": []
  },
  {
   "cell_type": "markdown",
   "id": "741717a5-d53b-4dcc-92a0-1821ebbaf0ec",
   "metadata": {},
   "source": [
    "## ___Subtle Leakages___\n",
    "-------------"
   ]
  },
  {
   "cell_type": "code",
   "execution_count": 4,
   "id": "799b308d-40ed-47b9-bf97-7f0bee331895",
   "metadata": {
    "execution": {
     "iopub.execute_input": "2023-06-03T02:43:29.438847Z",
     "iopub.status.busy": "2023-06-03T02:43:29.438847Z",
     "iopub.status.idle": "2023-06-03T02:43:29.456211Z",
     "shell.execute_reply": "2023-06-03T02:43:29.456211Z",
     "shell.execute_reply.started": "2023-06-03T02:43:29.438847Z"
    }
   },
   "outputs": [],
   "source": [
    "# 1) Training set including features that won't be available in the production environment.\n",
    "\n",
    "# A bank user prediction ML model may have been trained with account number as a feature, leveraging which the model could pinpoint other \n",
    "# features, had it memorized the training set.\n",
    "# However, account number won't be available in realtime production environment, has the user not signed in with his/her credentials.\n",
    "\n",
    "# A medical condition prediction model => may use a feature that indicate previous hospital admissions for the given malady or surgeries \n",
    "# undergone to correct the problem. These features have a very high and direct correlation to the labels, but may not always be available in \n",
    "# the production environment!"
   ]
  },
  {
   "cell_type": "code",
   "execution_count": null,
   "id": "d5833131-719e-4084-b47d-3b151d98a4e8",
   "metadata": {},
   "outputs": [],
   "source": [
    "# data leakage can be divided into two primary categories =>\n",
    "    # 1) Leakage in training data -> training data getting mixed with test data\n",
    "    # 2) Leakage in features -> features very informative about the labels getting somehow included in the training set."
   ]
  }
 ],
 "metadata": {
  "kernelspec": {
   "display_name": "Python 3 (ipykernel)",
   "language": "python",
   "name": "python3"
  },
  "language_info": {
   "codemirror_mode": {
    "name": "ipython",
    "version": 3
   },
   "file_extension": ".py",
   "mimetype": "text/x-python",
   "name": "python",
   "nbconvert_exporter": "python",
   "pygments_lexer": "ipython3",
   "version": "3.11.3"
  }
 },
 "nbformat": 4,
 "nbformat_minor": 5
}
