{
 "cells": [
  {
   "cell_type": "code",
   "execution_count": 1,
   "id": "922ae3be-7725-48d5-a645-f2a0dffeba45",
   "metadata": {
    "execution": {
     "iopub.execute_input": "2023-05-25T12:13:13.224150Z",
     "iopub.status.busy": "2023-05-25T12:13:13.224150Z",
     "iopub.status.idle": "2023-05-25T12:13:13.475074Z",
     "shell.execute_reply": "2023-05-25T12:13:13.475074Z",
     "shell.execute_reply.started": "2023-05-25T12:13:13.224150Z"
    }
   },
   "outputs": [],
   "source": [
    "import numpy as np"
   ]
  },
  {
   "cell_type": "code",
   "execution_count": 4,
   "id": "93b63bd4-758d-4257-806c-04a89ff3e23e",
   "metadata": {
    "execution": {
     "iopub.execute_input": "2023-05-25T12:13:56.644169Z",
     "iopub.status.busy": "2023-05-25T12:13:56.644169Z",
     "iopub.status.idle": "2023-05-25T12:13:56.649202Z",
     "shell.execute_reply": "2023-05-25T12:13:56.649028Z",
     "shell.execute_reply.started": "2023-05-25T12:13:56.644169Z"
    }
   },
   "outputs": [],
   "source": [
    "x = np.array([-19.5, 48.8, 9.7, 24.6, 13.2, 5.1])"
   ]
  },
  {
   "cell_type": "code",
   "execution_count": 5,
   "id": "2701853f-9714-4552-a2c8-cdbcdf5d6ce0",
   "metadata": {
    "execution": {
     "iopub.execute_input": "2023-05-25T12:13:57.788450Z",
     "iopub.status.busy": "2023-05-25T12:13:57.788450Z",
     "iopub.status.idle": "2023-05-25T12:13:57.801851Z",
     "shell.execute_reply": "2023-05-25T12:13:57.801851Z",
     "shell.execute_reply.started": "2023-05-25T12:13:57.788450Z"
    }
   },
   "outputs": [
    {
     "data": {
      "text/plain": [
       "array([-19.5,  48.8,   9.7,  24.6,  13.2,   5.1])"
      ]
     },
     "execution_count": 5,
     "metadata": {},
     "output_type": "execute_result"
    }
   ],
   "source": [
    "x"
   ]
  },
  {
   "cell_type": "code",
   "execution_count": 6,
   "id": "cfb34aef-2618-406a-9b75-cfe39d14270a",
   "metadata": {
    "execution": {
     "iopub.execute_input": "2023-05-25T12:14:28.836077Z",
     "iopub.status.busy": "2023-05-25T12:14:28.836077Z",
     "iopub.status.idle": "2023-05-25T12:14:28.841848Z",
     "shell.execute_reply": "2023-05-25T12:14:28.841848Z",
     "shell.execute_reply.started": "2023-05-25T12:14:28.836077Z"
    }
   },
   "outputs": [],
   "source": [
    "alpha = np.log(10) / 2"
   ]
  },
  {
   "cell_type": "code",
   "execution_count": 8,
   "id": "a57192f4-dede-4f2d-882c-7791c08de3df",
   "metadata": {
    "execution": {
     "iopub.execute_input": "2023-05-25T12:14:39.938026Z",
     "iopub.status.busy": "2023-05-25T12:14:39.938026Z",
     "iopub.status.idle": "2023-05-25T12:14:39.947299Z",
     "shell.execute_reply": "2023-05-25T12:14:39.947299Z",
     "shell.execute_reply.started": "2023-05-25T12:14:39.938026Z"
    }
   },
   "outputs": [
    {
     "data": {
      "text/plain": [
       "1.151292546497023"
      ]
     },
     "execution_count": 8,
     "metadata": {},
     "output_type": "execute_result"
    }
   ],
   "source": [
    "alpha"
   ]
  },
  {
   "cell_type": "code",
   "execution_count": 9,
   "id": "a6468154-0e54-4dc5-8f90-0be091501236",
   "metadata": {
    "execution": {
     "iopub.execute_input": "2023-05-25T12:16:08.358805Z",
     "iopub.status.busy": "2023-05-25T12:16:08.351787Z",
     "iopub.status.idle": "2023-05-25T12:16:08.363817Z",
     "shell.execute_reply": "2023-05-25T12:16:08.363817Z",
     "shell.execute_reply.started": "2023-05-25T12:16:08.358805Z"
    }
   },
   "outputs": [
    {
     "data": {
      "text/plain": [
       "array([ 380.25, 2381.44,   94.09,  605.16,  174.24,   26.01])"
      ]
     },
     "execution_count": 9,
     "metadata": {},
     "output_type": "execute_result"
    }
   ],
   "source": [
    "x ** 2"
   ]
  },
  {
   "cell_type": "code",
   "execution_count": 10,
   "id": "287ef1b7-82d2-44d4-a2f4-f3e3a5284f8f",
   "metadata": {
    "execution": {
     "iopub.execute_input": "2023-05-25T12:18:22.138909Z",
     "iopub.status.busy": "2023-05-25T12:18:22.138909Z",
     "iopub.status.idle": "2023-05-25T12:18:22.147398Z",
     "shell.execute_reply": "2023-05-25T12:18:22.147398Z",
     "shell.execute_reply.started": "2023-05-25T12:18:22.138909Z"
    }
   },
   "outputs": [
    {
     "data": {
      "text/plain": [
       "-22.450204656691948"
      ]
     },
     "execution_count": 10,
     "metadata": {},
     "output_type": "execute_result"
    }
   ],
   "source": [
    "-19.5 * alpha"
   ]
  },
  {
   "cell_type": "code",
   "execution_count": null,
   "id": "bfd84e34-6c7b-4820-9761-f8ba72616893",
   "metadata": {},
   "outputs": [],
   "source": []
  },
  {
   "cell_type": "code",
   "execution_count": 2,
   "id": "4159088b-2471-4e07-a80c-fd534a897388",
   "metadata": {
    "execution": {
     "iopub.execute_input": "2023-05-31T03:30:22.194814Z",
     "iopub.status.busy": "2023-05-31T03:30:22.194814Z",
     "iopub.status.idle": "2023-05-31T03:30:22.203947Z",
     "shell.execute_reply": "2023-05-31T03:30:22.203829Z",
     "shell.execute_reply.started": "2023-05-31T03:30:22.194814Z"
    }
   },
   "outputs": [
    {
     "data": {
      "text/plain": [
       "0.8426966292134831"
      ]
     },
     "execution_count": 2,
     "metadata": {},
     "output_type": "execute_result"
    }
   ],
   "source": [
    "(67 + 8) / (67 + 8 + 11 + 3)"
   ]
  },
  {
   "cell_type": "code",
   "execution_count": 3,
   "id": "4e3ce74c-57fe-419a-a352-57086766c774",
   "metadata": {
    "execution": {
     "iopub.execute_input": "2023-05-31T03:31:10.186915Z",
     "iopub.status.busy": "2023-05-31T03:31:10.186915Z",
     "iopub.status.idle": "2023-05-31T03:31:10.195544Z",
     "shell.execute_reply": "2023-05-31T03:31:10.194827Z",
     "shell.execute_reply.started": "2023-05-31T03:31:10.186915Z"
    }
   },
   "outputs": [
    {
     "data": {
      "text/plain": [
       "0.8571428571428571"
      ]
     },
     "execution_count": 3,
     "metadata": {},
     "output_type": "execute_result"
    }
   ],
   "source": [
    "102 / (102 + 17)"
   ]
  },
  {
   "cell_type": "code",
   "execution_count": 4,
   "id": "348c61b5-bac9-4e20-b8f9-89ea1922681f",
   "metadata": {
    "execution": {
     "iopub.execute_input": "2023-05-31T03:32:01.357541Z",
     "iopub.status.busy": "2023-05-31T03:32:01.357541Z",
     "iopub.status.idle": "2023-05-31T03:32:01.365556Z",
     "shell.execute_reply": "2023-05-31T03:32:01.364414Z",
     "shell.execute_reply.started": "2023-05-31T03:32:01.357541Z"
    }
   },
   "outputs": [
    {
     "data": {
      "text/plain": [
       "0.6455696202531646"
      ]
     },
     "execution_count": 4,
     "metadata": {},
     "output_type": "execute_result"
    }
   ],
   "source": [
    "102 / (102 + 56)"
   ]
  },
  {
   "cell_type": "code",
   "execution_count": null,
   "id": "a16d0a10-a1ad-4acf-a41b-c6cabb9d1f8e",
   "metadata": {},
   "outputs": [],
   "source": []
  },
  {
   "cell_type": "code",
   "execution_count": null,
   "id": "230b9322-a4ba-4be1-a6f4-d78692e77a5c",
   "metadata": {},
   "outputs": [],
   "source": [
    "# print(m)\n",
    "params = {\"C\": [0.01, 0.1, 1, 10], \"gamma\": [0.01, 0.1, 1, 10]}\n",
    "classifiers = GridSearchCV(m, params, scoring = \"recall\")\n",
    "classifiers.fit(X_train, y_train)\n",
    "\n",
    "preds = classifiers.best_estimator_.predict(X_test)\n",
    "recall_score(y_test, preds) - precision_score(y_test, preds)"
   ]
  },
  {
   "cell_type": "code",
   "execution_count": null,
   "id": "b5708d90-d4cf-437c-b976-c916ee391565",
   "metadata": {},
   "outputs": [],
   "source": [
    "#print(m)\n",
    "params = {\"C\": [0.01, 0.1, 1, 10], \"gamma\": [0.01, 0.1, 1, 10]}\n",
    "classifiers = GridSearchCV(m, params, scoring = \"precision\")\n",
    "classifiers.fit(X_train, y_train)\n",
    "\n",
    "preds = classifiers.best_estimator_.predict(X_test)\n",
    "precision_score(y_test, preds) - recall_score(y_test, preds)"
   ]
  }
 ],
 "metadata": {
  "kernelspec": {
   "display_name": "Python 3 (ipykernel)",
   "language": "python",
   "name": "python3"
  },
  "language_info": {
   "codemirror_mode": {
    "name": "ipython",
    "version": 3
   },
   "file_extension": ".py",
   "mimetype": "text/x-python",
   "name": "python",
   "nbconvert_exporter": "python",
   "pygments_lexer": "ipython3",
   "version": "3.11.3"
  }
 },
 "nbformat": 4,
 "nbformat_minor": 5
}
