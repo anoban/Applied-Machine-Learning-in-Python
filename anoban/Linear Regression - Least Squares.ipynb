{
 "cells": [
  {
   "cell_type": "code",
   "execution_count": 37,
   "id": "c6c8f7a3-01aa-4dad-82d5-99e77c9eb230",
   "metadata": {
    "tags": []
   },
   "outputs": [],
   "source": [
    "import numpy as np\n",
    "import matplotlib.pyplot as plt\n",
    "from sklearn.linear_model import LinearRegression\n",
    "from sklearn.model_selection import train_test_split"
   ]
  },
  {
   "cell_type": "markdown",
   "id": "4e3facf0-5dbf-4859-8263-62b731d99c8e",
   "metadata": {},
   "source": [
    "# ___Linear Regression: Least Squares___\n",
    "-----------"
   ]
  },
  {
   "cell_type": "code",
   "execution_count": 1,
   "id": "422b588f-9e64-4be6-88d6-7bd8e7a5808c",
   "metadata": {},
   "outputs": [],
   "source": [
    "# Linear models express the target output value in terms of the sum of weighted input variables.\n",
    "\n",
    "# e.g. If we intend to predict the market value of a house;\n",
    "# let's say that we are given two features -> age of the house, tax per year\n",
    "\n",
    "# In general we'd expect a positive correlation between the tax assessment and the market price of the house\n",
    "# The more valuable the property, the higher its evaluated tax will be.\n",
    "\n",
    "# And age will likely have a negative correlation with the market value,\n",
    "# the older the house, lesser the value becomes except for antique places."
   ]
  },
  {
   "cell_type": "code",
   "execution_count": 2,
   "id": "0cbccd70-881e-40f2-97fa-946017b22615",
   "metadata": {
    "tags": []
   },
   "outputs": [],
   "source": [
    "# Let's see a dummy example "
   ]
  },
  {
   "cell_type": "markdown",
   "id": "126de910-bd75-46ab-a06e-f5cba9c7c530",
   "metadata": {},
   "source": [
    "## ___House features: tax per year ($X_{tax}$), age in years($X_{age}$)___\n",
    "## ___$Y_{price}$ = $212,000$ + $(109 \\cdot X_{tax})$ - $(2,000 \\cdot X_{age})$___"
   ]
  },
  {
   "cell_type": "code",
   "execution_count": 9,
   "id": "b093a7f5-cc85-4019-a949-17e1b1f2ae43",
   "metadata": {
    "tags": []
   },
   "outputs": [
    {
     "name": "stdout",
     "output_type": "stream",
     "text": [
      "1,152,000\n"
     ]
    }
   ],
   "source": [
    "# This linear model will estimate the market price of a house that has an evaluated tax value of 10,000 and 75 years old.\n",
    "# Predicted selling price will be,\n",
    "\n",
    "print(f\"{212_000 + (109 * 10_000) - (2_000 * 75):3,}\")"
   ]
  },
  {
   "cell_type": "code",
   "execution_count": 10,
   "id": "296ddb30-16d2-4b44-ad29-771ea55d75ef",
   "metadata": {
    "tags": []
   },
   "outputs": [],
   "source": [
    "# This is a made up linear model.\n",
    "# In reality, when we train linear models, it involves estimating the parameters of the model\n",
    "# e.g. the constants given in this model (212000, 109 & 2000)"
   ]
  },
  {
   "cell_type": "code",
   "execution_count": null,
   "id": "23183473-a71a-4ad5-b436-d055861a6fc2",
   "metadata": {},
   "outputs": [],
   "source": []
  },
  {
   "cell_type": "code",
   "execution_count": 11,
   "id": "a72d32e0-c53d-41ee-a793-3e9cfa47f9ae",
   "metadata": {
    "tags": []
   },
   "outputs": [],
   "source": [
    "# Linear regression is an example of a linear model.\n",
    "# In linear regression, there may be multiple input variables (features). -> x_0, x_1, x_2 ... x_n\n",
    "# Each feature x_i has a corresponding weight w_i\n",
    "# Predicted output is the weighted sum of inputs + a constant term\n",
    "\n",
    "# the names with a hat indicte that they are estimated during the learning process."
   ]
  },
  {
   "cell_type": "markdown",
   "id": "c42b7486-c8c8-4fc5-92ae-d66957119bf7",
   "metadata": {},
   "source": [
    "___Input variables (features):___\n",
    "## ___$x~=~(x_0, x_1, x_2, x_3 .... x_n)$___\n",
    "\n",
    "___Output:___\n",
    "## ___$\\hat{y}~=~\\hat{w_0}x_0~+~\\hat{w_1}x_1 ... \\hat{w_n}x_n~+~\\hat{b}$___\n",
    "\n",
    "___Parameters:___\n",
    "## ___$\\hat{w}~=~\\hat{w_0}~+~\\hat{w_1}~+~\\hat{w_2} ... \\hat{w_n}$ &rarr; feature weights or model coefficients___\n",
    "## ___$\\hat{b}$ &rarr; constant bias term or intercept___"
   ]
  },
  {
   "cell_type": "code",
   "execution_count": 12,
   "id": "b489a01e-de92-4b67-ba09-889d286471f1",
   "metadata": {
    "tags": []
   },
   "outputs": [],
   "source": [
    "# the w_hat and b_hat are estimated from the training data.\n",
    "# y_hat is estimated from the linear function of test values (input feature values) and the feature weights."
   ]
  },
  {
   "cell_type": "code",
   "execution_count": 13,
   "id": "36bbbaa4-61a8-4c37-9775-a5bec2e69ea5",
   "metadata": {
    "tags": []
   },
   "outputs": [],
   "source": [
    "# If we take our housing price example;\n",
    "\n",
    "# w1_hat is 109\n",
    "# x1 is 10,000 (tax per year)\n",
    "\n",
    "# w2_hat is 2,000\n",
    "# x2 is 75 (age)\n",
    "\n",
    "# b_hat is 212,000 (start price)"
   ]
  },
  {
   "cell_type": "code",
   "execution_count": null,
   "id": "f65837c9-c0a7-40ed-8a84-9de3e6325d2b",
   "metadata": {},
   "outputs": [],
   "source": []
  },
  {
   "cell_type": "markdown",
   "id": "f8793454-2c48-4af6-8280-939df9149fdd",
   "metadata": {},
   "source": [
    "## ___Linear Regression Model with One Feature___\n",
    "---------------"
   ]
  },
  {
   "cell_type": "code",
   "execution_count": 14,
   "id": "6c3dcf86-b2dc-4425-a44e-2a75de600967",
   "metadata": {
    "tags": []
   },
   "outputs": [],
   "source": [
    "# Input -> x_0\n",
    "# Predicted output -> y_hat = w0_hat * x_0 + b_hat\n",
    "# Model coefficients -> w0_hat (slope), b_hat (intercept)"
   ]
  },
  {
   "cell_type": "markdown",
   "id": "9213a7ea-4fd1-4ad8-909b-1e08e4b86c6b",
   "metadata": {},
   "source": [
    "## ___$\\hat{y}~=~\\hat{w_0}x_0~+~\\hat{b}$___"
   ]
  },
  {
   "cell_type": "code",
   "execution_count": 15,
   "id": "65ea0d2a-285d-4e6f-aefe-20b3f06fa1a0",
   "metadata": {
    "tags": []
   },
   "outputs": [],
   "source": [
    "# This resembles the formula of a straingt line."
   ]
  },
  {
   "cell_type": "code",
   "execution_count": 49,
   "id": "1255f29d-e7e7-4eb4-8ad1-9cdc2897054c",
   "metadata": {
    "tags": []
   },
   "outputs": [],
   "source": [
    "x_train = np.random.randint(low = 50, high = 300, size = 100)\n",
    "y_train = 2 * x_train + np.random.randint(low = -50, high = 50, size = 100)\n",
    "\n",
    "w0_hat = 1.65134     # one feature -> one weight\n",
    "b_hat = 43.0831\n",
    "\n",
    "y_hat0 = (w0_hat * x_train) + b_hat\n",
    "\n",
    "w0_hat /= 5.53\n",
    "y_hat1 = (w0_hat * x_train) + b_hat\n",
    "\n",
    "b_hat += 100\n",
    "y_hat2 = (w0_hat * x_train) + b_hat"
   ]
  },
  {
   "cell_type": "code",
   "execution_count": 50,
   "id": "326aa217-4189-4b74-85c1-ee057d462a55",
   "metadata": {
    "tags": []
   },
   "outputs": [
    {
     "data": {
      "image/png": "[encoded data removed]",
      "text/plain": [
       "<Figure size 640x480 with 1 Axes>"
      ]
     },
     "metadata": {},
     "output_type": "display_data"
    }
   ],
   "source": [
    "plt.scatter(x_train, y_train, color = \"orange\", edgecolor = \"black\")\n",
    "plt.plot(x_train, y_hat0)\n",
    "plt.plot(x_train, y_hat1)\n",
    "plt.plot(x_train, y_hat2)\n",
    "plt.xlabel(\"$x_0$\")\n",
    "plt.ylabel(\"$\\hat{y}$\")\n",
    "plt.show()"
   ]
  },
  {
   "cell_type": "code",
   "execution_count": 51,
   "id": "08defc0b-dd2d-4238-b6b7-d07eff0b0264",
   "metadata": {
    "tags": []
   },
   "outputs": [],
   "source": [
    "# In the learning phase, our model has to estimate the w0_hat and b_hat parameters from the training data \n",
    "# which will contain x0 values (feature)."
   ]
  },
  {
   "cell_type": "code",
   "execution_count": 52,
   "id": "690345a1-4c2c-48ba-aa1c-83e08dafc92f",
   "metadata": {
    "tags": []
   },
   "outputs": [],
   "source": [
    "# The lines in the graph represent the linear regression models used to explain the data.\n",
    "# Of the three linear models, the blue one seems to be the best fit.\n",
    "# Since there aren't many points far above the line or far below the line."
   ]
  },
  {
   "cell_type": "code",
   "execution_count": null,
   "id": "264671ca-7ccc-4cbe-914c-301d9e543413",
   "metadata": {},
   "outputs": [],
   "source": []
  },
  {
   "cell_type": "code",
   "execution_count": null,
   "id": "9acc84a1-db65-448f-a186-7da41a0277cf",
   "metadata": {},
   "outputs": [],
   "source": []
  },
  {
   "cell_type": "markdown",
   "id": "93ec17bd-1cd1-4305-8e11-bcd6d4f8e7ea",
   "metadata": {},
   "source": [
    "## ___Estimation of Model Parameters___\n",
    "---------"
   ]
  },
  {
   "cell_type": "code",
   "execution_count": 18,
   "id": "d08b9bc8-2910-4583-96fd-562da749b490",
   "metadata": {
    "tags": []
   },
   "outputs": [
    {
     "data": {
      "image/png": "[encoded data removed]",
      "text/plain": [
       "<Figure size 640x480 with 1 Axes>"
      ]
     },
     "metadata": {},
     "output_type": "display_data"
    }
   ],
   "source": [
    "x = np.random.randint(low = 50, high = 300, size = 100)\n",
    "y_hat = 2 * x + np.random.randint(low = -50, high = 100, size = 100)\n",
    "\n",
    "plt.scatter(x, y_hat, color = \"lightgreen\", edgecolor = \"black\")\n",
    "plt.plot(x, 2 * x + 25, color = \"red\")\n",
    "plt.xlabel(\"$x_0$\")\n",
    "plt.ylabel(\"$\\hat{y}$\")\n",
    "plt.ylim(0, 700)\n",
    "plt.show()\n",
    "# plt.savefig(\"linearregression.jpeg\", format = \"jpeg\", dpi = 400)"
   ]
  },
  {
   "cell_type": "code",
   "execution_count": null,
   "id": "a67146b1-4d90-4142-bfec-eb88d51254d4",
   "metadata": {},
   "outputs": [],
   "source": []
  },
  {
   "cell_type": "markdown",
   "id": "79a4e54a-e195-411c-9288-3461a6c76196",
   "metadata": {},
   "source": [
    "## ___Least Squares Linear Regression___\n",
    "----------------"
   ]
  },
  {
   "cell_type": "code",
   "execution_count": null,
   "id": "5a4d576a-d462-4a30-b5ef-cdd7b4d547b4",
   "metadata": {},
   "outputs": [],
   "source": [
    "# In our simple one feature linear regression model the slope is w0 (weight) and the intercept is b_hat (bias).\n",
    "# The red regression line => y_hat = w0 . x_hat + b_hat\n",
    "\n",
    "# w0 -> slope of the regression line.\n",
    "# b_hat -> y intercept of the regression line."
   ]
  },
  {
   "cell_type": "code",
   "execution_count": 13,
   "id": "7a566dde-5585-4e03-adee-b7ec2ac6a5bc",
   "metadata": {},
   "outputs": [],
   "source": [
    "# One commonly used method for estimating the model parameters of linear regression models is least squares linear regression.\n",
    "# Also known as ordinary least squares.\n",
    "\n",
    "# least squares regression finds the line through the data points that minimizes the squared error of the model.\n",
    "# Mean squared error of a model is the sum of the squared differences of the predicted targets and the real target values for all entities\n",
    "# in the training set."
   ]
  },
  {
   "cell_type": "markdown",
   "id": "8128a2b3-a6e1-4295-8c47-e3aa9238cabf",
   "metadata": {},
   "source": [
    "<img src=\"./linearregression.jpeg\" height=500 width=800>"
   ]
  },
  {
   "cell_type": "code",
   "execution_count": 19,
   "id": "c0afaa3c-a630-4881-a341-374bcbb65685",
   "metadata": {},
   "outputs": [],
   "source": [
    "# Here the green points are from the training set.\n",
    "# The red line is the least squares model found through the training points.\n",
    "# The blue vertical lines show the difference in the predicted y_hat values (in the red line) and their corresponding real y values."
   ]
  },
  {
   "cell_type": "code",
   "execution_count": 25,
   "id": "dc180627-f5e0-4821-a95b-379d23bf9eff",
   "metadata": {},
   "outputs": [
    {
     "name": "stdout",
     "output_type": "stream",
     "text": [
      "squared error = (150 - 100) ^ 2 = 2500\n",
      "squared error = (490 - 580) ^ 2 = 8100\n"
     ]
    }
   ],
   "source": [
    "# If we take the first blue line (x = 75), the predicted y_hat value is around 150, but the real y value is 100.\n",
    "print(f\"squared error = (150 - 100) ^ 2 = {(150 - 100) ** 2}\")\n",
    "\n",
    "# For the second blue line (x = 240), the predicted y_hat value is around 490, but the real value is around 580.\n",
    "print(f\"squared error = (490 - 580) ^ 2 = {(490 - 580) ** 2}\")"
   ]
  },
  {
   "cell_type": "code",
   "execution_count": 26,
   "id": "11845ecd-7749-44cc-b034-c7241ade0595",
   "metadata": {
    "tags": []
   },
   "outputs": [],
   "source": [
    "# We can compute these squared errors for all the points in the training set.\n",
    "# And then add them all up and divide by the number of points to get the mean squared error."
   ]
  },
  {
   "cell_type": "markdown",
   "id": "71662a74-8710-4d82-9309-c14b7f6b2acf",
   "metadata": {},
   "source": [
    "## ___$\\bar{sq.err}~=~\\frac{\\sum_{i = 0}^{n}{sq.err_i}}{n}$___"
   ]
  },
  {
   "cell_type": "code",
   "execution_count": 27,
   "id": "599aaf8a-78b5-41a0-9577-02fd77d087e2",
   "metadata": {
    "tags": []
   },
   "outputs": [],
   "source": [
    "# In linear regression models there are no parameters to control the model complexity.\n",
    "# No matter what the values of w and b, the result is always going to be a straight line.\n",
    "# This is both a strenght & weakness of linear regression."
   ]
  },
  {
   "cell_type": "code",
   "execution_count": 28,
   "id": "c4a78dcc-6fa2-4019-9fdb-feddf7a82c14",
   "metadata": {
    "tags": []
   },
   "outputs": [],
   "source": [
    "# Comparing this simple linear regression model with a complex kNN regresion model,\n",
    "# Linear regression models make strong assumptions about the relationships between the input x and the output y.\n",
    "# Linear models generalize particularly well for data with many features, albeit being simple."
   ]
  },
  {
   "cell_type": "code",
   "execution_count": null,
   "id": "05b4dbe8-a0b1-4274-a119-a30fa37316f7",
   "metadata": {},
   "outputs": [],
   "source": []
  },
  {
   "cell_type": "markdown",
   "id": "3f2a9adc-ee1d-4a0c-92ed-d87461e0512b",
   "metadata": {},
   "source": [
    "## ___How do we estimate the w and b parameters?___\n",
    "------------"
   ]
  },
  {
   "cell_type": "code",
   "execution_count": 29,
   "id": "1495c7c2-d427-4626-aba2-092254f68f2a",
   "metadata": {
    "tags": []
   },
   "outputs": [],
   "source": [
    "# These model parameters are estimated from the training data.\n",
    "\n",
    "# There are many ways to figure out these parameters, depending on\n",
    "        # criteria we'd like to use to define a good fit\n",
    "        # how you want to control model complexity\n",
    "        \n",
    "# In the case of linear models, model complexity is based on the weights of the input features.\n",
    "# Simpler linear models have a weight vector w, that is closer to 0, where most features are not influential on the outcome \n",
    "# / not used at all and consequently have 0 weight.\n",
    "\n",
    "# Linear regressors then predict the target value for each training set entity and computes a loss function.\n",
    "# Loss function is a penalty value for incorrect predictions.\n",
    "# A prediction is incorrect when the predicted target value != actual target value in training set."
   ]
  },
  {
   "cell_type": "code",
   "execution_count": 30,
   "id": "bab22f77-7760-4cb3-b877-abdcacf7b879",
   "metadata": {
    "tags": []
   },
   "outputs": [],
   "source": [
    "# Linear regressors then search for w and b parameters that minimize the sum of the loss values over all training points."
   ]
  },
  {
   "cell_type": "code",
   "execution_count": null,
   "id": "a92b98c8-0958-4f8f-bed4-26f7b7abc3c3",
   "metadata": {},
   "outputs": [],
   "source": []
  },
  {
   "cell_type": "markdown",
   "id": "cf99d9ff-c39f-4459-8d16-ec0b9da2d6df",
   "metadata": {},
   "source": [
    "## ___Least squares linear regression___\n",
    "------------"
   ]
  },
  {
   "cell_type": "code",
   "execution_count": 31,
   "id": "2cd47f4c-3653-4b8d-85de-470c9a350a08",
   "metadata": {
    "tags": []
   },
   "outputs": [],
   "source": [
    "# This is a method that finds the w and b values that minimize the error between the predicted and original points.\n",
    "# In other words, it minimizes the mean squared error.\n",
    "# Note that these predictions are made on the training set."
   ]
  },
  {
   "cell_type": "markdown",
   "id": "fe835902-47d8-4899-bb81-1d23ae3f8c94",
   "metadata": {},
   "source": [
    "# ___$RSS(w, b)~=~\\sum_{i = 1}^{N}{(y_i~-~(w \\cdot x_i~+~b))^2}$___"
   ]
  },
  {
   "cell_type": "code",
   "execution_count": 32,
   "id": "db61572b-9c4e-48f4-9dbb-6fcda1d2daa3",
   "metadata": {
    "tags": []
   },
   "outputs": [],
   "source": [
    "# Sum of squared differences is also noted as Residual Sum of Squares (RSS)\n",
    "# The real y value (from training set) is given as y_i and the predicted y value is given as (w.x_i + b) on the right side."
   ]
  },
  {
   "cell_type": "code",
   "execution_count": null,
   "id": "078cbeac-1b1a-42bb-ac51-df62187ed318",
   "metadata": {},
   "outputs": [],
   "source": []
  },
  {
   "cell_type": "markdown",
   "id": "735a5980-f674-45b4-bc34-8e446d6c26d1",
   "metadata": {},
   "source": [
    "## ___Linear Regression in Sklearn___\n",
    "-------------"
   ]
  },
  {
   "cell_type": "code",
   "execution_count": 36,
   "id": "645a8735-3c00-4b17-a7f6-dc7a17937d04",
   "metadata": {
    "tags": []
   },
   "outputs": [],
   "source": [
    "x = np.random.randint(low = 100, high = 1000, size = 10_000)\n",
    "y = 2 * x + np.random.normal(loc = 30, scale = 10.5, size = 10_000)\n",
    "x = x.reshape(-1, 1)"
   ]
  },
  {
   "cell_type": "code",
   "execution_count": 38,
   "id": "aabcafcc-f14b-4fe0-b07e-23b6d33d3e3d",
   "metadata": {
    "tags": []
   },
   "outputs": [],
   "source": [
    "train_x, test_x, train_y, test_y = train_test_split(x, y, random_state = 2023 - 5 - 9, train_size = 0.85)"
   ]
  },
  {
   "cell_type": "code",
   "execution_count": 41,
   "id": "3326a16e-0e19-4a6b-9df7-c2ab8a160587",
   "metadata": {
    "tags": []
   },
   "outputs": [],
   "source": [
    "# Fitting the model\n",
    "linreg = LinearRegression().fit(train_x, train_y)"
   ]
  },
  {
   "cell_type": "code",
   "execution_count": 67,
   "id": "53c8d239-e676-4451-a6e8-9ddf2b5385de",
   "metadata": {
    "tags": []
   },
   "outputs": [
    {
     "data": {
      "text/plain": [
       "array([2.00025037])"
      ]
     },
     "execution_count": 67,
     "metadata": {},
     "output_type": "execute_result"
    }
   ],
   "source": [
    "# Model coefficients\n",
    "# w\n",
    "linreg.coef_"
   ]
  },
  {
   "cell_type": "code",
   "execution_count": null,
   "id": "60725555-7b1a-4f23-ae05-285f6031702c",
   "metadata": {},
   "outputs": [],
   "source": [
    "# Since there's just one feature, only one coefficient is there."
   ]
  },
  {
   "cell_type": "code",
   "execution_count": 45,
   "id": "5c679573-7e37-49d0-a9b1-603174d6c438",
   "metadata": {
    "tags": []
   },
   "outputs": [
    {
     "data": {
      "text/plain": [
       "29.84566795351884"
      ]
     },
     "execution_count": 45,
     "metadata": {},
     "output_type": "execute_result"
    }
   ],
   "source": [
    "# b\n",
    "linreg.intercept_"
   ]
  },
  {
   "cell_type": "code",
   "execution_count": 66,
   "id": "c80bb001-12d2-4622-820f-b44db9bfec60",
   "metadata": {
    "tags": []
   },
   "outputs": [
    {
     "data": {
      "image/png": "[encoded data removed]",
      "text/plain": [
       "<Figure size 640x480 with 1 Axes>"
      ]
     },
     "metadata": {},
     "output_type": "display_data"
    }
   ],
   "source": [
    "# See this visually \n",
    "\n",
    "plt.scatter(train_x, train_y, color = \"white\", edgecolor = \"blue\", alpha = 0.5)\n",
    "plt.plot(x, linreg.coef_ * x + linreg.intercept_, color = \"red\")\n",
    "plt.title(\"$\\hat{y}~=~w_0 \\cdot x_0 + \\hat{b}$\")\n",
    "plt.xlabel(\"$x_0$\")\n",
    "plt.ylabel(\"$\\hat{y}$\")\n",
    "plt.show()"
   ]
  },
  {
   "cell_type": "code",
   "execution_count": 68,
   "id": "db555fbc-1298-45d6-b93c-aba4ecf34422",
   "metadata": {
    "tags": []
   },
   "outputs": [],
   "source": [
    "# In sklearn, attributes that end with a underscore indicate that they were learned from the training data, not set by the user.\n",
    "# e.g. linreg.coef_"
   ]
  },
  {
   "cell_type": "code",
   "execution_count": 72,
   "id": "156ee67f-f414-4190-a0ae-227d299a0cce",
   "metadata": {
    "tags": []
   },
   "outputs": [
    {
     "data": {
      "text/plain": [
       "0.999577904071322"
      ]
     },
     "execution_count": 72,
     "metadata": {},
     "output_type": "execute_result"
    }
   ],
   "source": [
    "# Model performance -> R^2 values\n",
    "\n",
    "# on training data\n",
    "linreg.score(train_x, train_y)"
   ]
  },
  {
   "cell_type": "code",
   "execution_count": 73,
   "id": "90886f0f-77a3-47c7-bb4d-f49194beadb1",
   "metadata": {
    "tags": []
   },
   "outputs": [
    {
     "data": {
      "text/plain": [
       "0.9995649197044753"
      ]
     },
     "execution_count": 73,
     "metadata": {},
     "output_type": "execute_result"
    }
   ],
   "source": [
    "# on test data\n",
    "linreg.score(test_x, test_y)"
   ]
  },
  {
   "cell_type": "code",
   "execution_count": null,
   "id": "392f4603-f3ec-45b9-afd8-046c42bf4f9a",
   "metadata": {},
   "outputs": [],
   "source": []
  }
 ],
 "metadata": {
  "kernelspec": {
   "display_name": "Python 3 (ipykernel)",
   "language": "python",
   "name": "python3"
  },
  "language_info": {
   "codemirror_mode": {
    "name": "ipython",
    "version": 3
   },
   "file_extension": ".py",
   "mimetype": "text/x-python",
   "name": "python",
   "nbconvert_exporter": "python",
   "pygments_lexer": "ipython3",
   "version": "3.11.3"
  }
 },
 "nbformat": 4,
 "nbformat_minor": 5
}
