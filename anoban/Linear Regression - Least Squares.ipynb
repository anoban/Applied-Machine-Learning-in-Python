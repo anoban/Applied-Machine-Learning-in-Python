{
 "cells": [
  {
   "cell_type": "code",
   "execution_count": 16,
   "id": "c6c8f7a3-01aa-4dad-82d5-99e77c9eb230",
   "metadata": {
    "tags": []
   },
   "outputs": [],
   "source": [
    "import numpy as np\n",
    "import matplotlib.pyplot as plt"
   ]
  },
  {
   "cell_type": "markdown",
   "id": "4e3facf0-5dbf-4859-8263-62b731d99c8e",
   "metadata": {},
   "source": [
    "# ___Linear Regression: Least Squares___\n",
    "-----------"
   ]
  },
  {
   "cell_type": "code",
   "execution_count": 1,
   "id": "422b588f-9e64-4be6-88d6-7bd8e7a5808c",
   "metadata": {},
   "outputs": [],
   "source": [
    "# Linear models express the target output value in terms of the sum of weighted input variables.\n",
    "\n",
    "# e.g. If we intend to predict the market value of a house;\n",
    "# let's say that we are given two features -> age of the house, tax per year\n",
    "\n",
    "# In general we'd expect a positive correlation between the tax assessment and the market price of the house\n",
    "# The more valuable the property, the higher its evaluated tax will be.\n",
    "\n",
    "# And age will likely have a negative correlation with the market value,\n",
    "# the older the house, lesser the value becomes except for antique places."
   ]
  },
  {
   "cell_type": "code",
   "execution_count": 2,
   "id": "0cbccd70-881e-40f2-97fa-946017b22615",
   "metadata": {
    "tags": []
   },
   "outputs": [],
   "source": [
    "# Let's see a dummy example "
   ]
  },
  {
   "cell_type": "markdown",
   "id": "126de910-bd75-46ab-a06e-f5cba9c7c530",
   "metadata": {},
   "source": [
    "## ___House features: tax per year ($X_{tax}$), age in years($X_{age}$)___\n",
    "## ___$Y_{price}$ = $212,000$ + $(109 \\cdot X_{tax})$ - $(2,000 \\cdot X_{age})$___"
   ]
  },
  {
   "cell_type": "code",
   "execution_count": 9,
   "id": "b093a7f5-cc85-4019-a949-17e1b1f2ae43",
   "metadata": {
    "tags": []
   },
   "outputs": [
    {
     "name": "stdout",
     "output_type": "stream",
     "text": [
      "1,152,000\n"
     ]
    }
   ],
   "source": [
    "# This linear model will estimate the market price of a house that has an evaluated tax value of 10,000 and 75 years old.\n",
    "# Predicted selling price will be,\n",
    "\n",
    "print(f\"{212_000 + (109 * 10_000) - (2_000 * 75):3,}\")"
   ]
  },
  {
   "cell_type": "code",
   "execution_count": 10,
   "id": "296ddb30-16d2-4b44-ad29-771ea55d75ef",
   "metadata": {
    "tags": []
   },
   "outputs": [],
   "source": [
    "# This is a made up linear model.\n",
    "# In reality, when we train linear models, it involves estimating the parameters of the model\n",
    "# e.g. the constants given in this model (212000, 109 & 2000)"
   ]
  },
  {
   "cell_type": "code",
   "execution_count": null,
   "id": "23183473-a71a-4ad5-b436-d055861a6fc2",
   "metadata": {},
   "outputs": [],
   "source": []
  },
  {
   "cell_type": "code",
   "execution_count": 11,
   "id": "a72d32e0-c53d-41ee-a793-3e9cfa47f9ae",
   "metadata": {
    "tags": []
   },
   "outputs": [],
   "source": [
    "# Linear regression is an example of a linear model.\n",
    "# In linear regression, there may be multiple input variables (features). -> x_0, x_1, x_2 ... x_n\n",
    "# Each feature x_i has a corresponding weight w_i\n",
    "# Predicted output is the weighted sum of inputs + a constant term"
   ]
  },
  {
   "cell_type": "markdown",
   "id": "c42b7486-c8c8-4fc5-92ae-d66957119bf7",
   "metadata": {},
   "source": [
    "___Input variables (features):___\n",
    "## ___$x~=~(x_0, x_1, x_2, x_3 .... x_n)$___\n",
    "\n",
    "___Output:___\n",
    "## ___$\\hat{y}~=~\\hat{w_0}x_0~+~\\hat{w_1}x_1 ... \\hat{w_n}x_n~+~\\hat{b}$___\n",
    "\n",
    "___Parameters:___\n",
    "## ___$\\hat{w}~=~\\hat{w_0}~+~\\hat{w_1}~+~\\hat{w_2} ... \\hat{w_n}$ &rarr; feature weights or model coefficients___\n",
    "## ___$\\hat{b}$ &rarr; constant bias term or intercept___"
   ]
  },
  {
   "cell_type": "code",
   "execution_count": 12,
   "id": "b489a01e-de92-4b67-ba09-889d286471f1",
   "metadata": {
    "tags": []
   },
   "outputs": [],
   "source": [
    "# the w_hat and b_hat are estimated from the training data.\n",
    "# y_hat is estimated from the linear function of test values (input feature values) and the feature weights."
   ]
  },
  {
   "cell_type": "code",
   "execution_count": 13,
   "id": "36bbbaa4-61a8-4c37-9775-a5bec2e69ea5",
   "metadata": {
    "tags": []
   },
   "outputs": [],
   "source": [
    "# If we take our housing price example;\n",
    "\n",
    "# w1_hat is 109\n",
    "# x1 is 10,000 (tax per year)\n",
    "\n",
    "# w2_hat is 2,000\n",
    "# x2 is 75 (age)\n",
    "\n",
    "# b_hat is 212,000 (start price)"
   ]
  },
  {
   "cell_type": "code",
   "execution_count": null,
   "id": "f65837c9-c0a7-40ed-8a84-9de3e6325d2b",
   "metadata": {},
   "outputs": [],
   "source": []
  },
  {
   "cell_type": "markdown",
   "id": "f8793454-2c48-4af6-8280-939df9149fdd",
   "metadata": {},
   "source": [
    "## ___Linear Regression Model with One Feature___\n",
    "---------------"
   ]
  },
  {
   "cell_type": "code",
   "execution_count": 14,
   "id": "6c3dcf86-b2dc-4425-a44e-2a75de600967",
   "metadata": {
    "tags": []
   },
   "outputs": [],
   "source": [
    "# Input -> x_0\n",
    "# Predicted output -> y_hat = w0_hat * x_0 + b_hat\n",
    "# Model coefficients -> w0_hat (slope), b_hat (intercept)"
   ]
  },
  {
   "cell_type": "markdown",
   "id": "9213a7ea-4fd1-4ad8-909b-1e08e4b86c6b",
   "metadata": {},
   "source": [
    "## ___$\\hat{y}~=~\\hat{w_0}x_0~+~\\hat{b}$___"
   ]
  },
  {
   "cell_type": "code",
   "execution_count": 15,
   "id": "65ea0d2a-285d-4e6f-aefe-20b3f06fa1a0",
   "metadata": {
    "tags": []
   },
   "outputs": [],
   "source": [
    "# This resembles the formula of a straingt line."
   ]
  },
  {
   "cell_type": "code",
   "execution_count": 49,
   "id": "1255f29d-e7e7-4eb4-8ad1-9cdc2897054c",
   "metadata": {
    "tags": []
   },
   "outputs": [],
   "source": [
    "x_train = np.random.randint(low = 50, high = 300, size = 100)\n",
    "y_train = 2 * x_train + np.random.randint(low = -50, high = 50, size = 100)\n",
    "\n",
    "w0_hat = 1.65134     # one feature -> one weight\n",
    "b_hat = 43.0831\n",
    "\n",
    "y_hat0 = (w0_hat * x_train) + b_hat\n",
    "\n",
    "w0_hat /= 5.53\n",
    "y_hat1 = (w0_hat * x_train) + b_hat\n",
    "\n",
    "b_hat += 100\n",
    "y_hat2 = (w0_hat * x_train) + b_hat"
   ]
  },
  {
   "cell_type": "code",
   "execution_count": 50,
   "id": "326aa217-4189-4b74-85c1-ee057d462a55",
   "metadata": {
    "tags": []
   },
   "outputs": [
    {
     "data": {
      "image/png": "[encoded data removed]",
      "text/plain": [
       "<Figure size 640x480 with 1 Axes>"
      ]
     },
     "metadata": {},
     "output_type": "display_data"
    }
   ],
   "source": [
    "plt.scatter(x_train, y_train, color = \"orange\", edgecolor = \"black\")\n",
    "plt.plot(x_train, y_hat0)\n",
    "plt.plot(x_train, y_hat1)\n",
    "plt.plot(x_train, y_hat2)\n",
    "plt.xlabel(\"$x_0$\")\n",
    "plt.ylabel(\"$\\hat{y}$\")\n",
    "plt.show()"
   ]
  },
  {
   "cell_type": "code",
   "execution_count": 51,
   "id": "08defc0b-dd2d-4238-b6b7-d07eff0b0264",
   "metadata": {
    "tags": []
   },
   "outputs": [],
   "source": [
    "# In the learning phase, our model has to estimate the w0_hat and b_hat parameters from the training data \n",
    "# which will contain x0 values (feature)."
   ]
  },
  {
   "cell_type": "code",
   "execution_count": 52,
   "id": "690345a1-4c2c-48ba-aa1c-83e08dafc92f",
   "metadata": {
    "tags": []
   },
   "outputs": [],
   "source": [
    "# Of the three linear models, the blue one seems to be the best fit.\n",
    "# Since there aren't many points far above the line or far below the line."
   ]
  },
  {
   "cell_type": "code",
   "execution_count": null,
   "id": "264671ca-7ccc-4cbe-914c-301d9e543413",
   "metadata": {},
   "outputs": [],
   "source": []
  },
  {
   "cell_type": "markdown",
   "id": "0ea81f3a-0864-4e3f-9eff-b5ba328ce115",
   "metadata": {},
   "source": [
    "## ___Predictions___"
   ]
  },
  {
   "cell_type": "code",
   "execution_count": 72,
   "id": "819bebc0-5d94-4579-833f-1f1263eb2a40",
   "metadata": {
    "tags": []
   },
   "outputs": [
    {
     "data": {
      "image/png": "[encoded data removed]",
      "text/plain": [
       "<Figure size 640x480 with 1 Axes>"
      ]
     },
     "metadata": {},
     "output_type": "display_data"
    }
   ],
   "source": [
    "x = np.random.randint(low = 50, high = 300, size = 100)\n",
    "y_hat = 2 * x + np.random.randint(low = -50, high = 50, size = 100)\n",
    "\n",
    "plt.scatter(x, y_hat, color = \"lightgreen\", edgecolor = \"black\")\n",
    "plt.xlabel(\"$x_0$\")\n",
    "plt.ylabel(\"$\\hat{y}$\")\n",
    "plt.show()"
   ]
  },
  {
   "cell_type": "code",
   "execution_count": null,
   "id": "9acc84a1-db65-448f-a186-7da41a0277cf",
   "metadata": {},
   "outputs": [],
   "source": []
  }
 ],
 "metadata": {
  "kernelspec": {
   "display_name": "Python 3 (ipykernel)",
   "language": "python",
   "name": "python3"
  },
  "language_info": {
   "codemirror_mode": {
    "name": "ipython",
    "version": 3
   },
   "file_extension": ".py",
   "mimetype": "text/x-python",
   "name": "python",
   "nbconvert_exporter": "python",
   "pygments_lexer": "ipython3",
   "version": "3.11.3"
  }
 },
 "nbformat": 4,
 "nbformat_minor": 5
}
