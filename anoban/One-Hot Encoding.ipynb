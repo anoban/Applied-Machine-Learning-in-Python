{
 "cells": [
  {
   "cell_type": "code",
   "execution_count": 18,
   "id": "adf542d1-472d-4bea-8bc0-9e21eb963166",
   "metadata": {
    "execution": {
     "iopub.execute_input": "2023-05-27T05:29:31.996343Z",
     "iopub.status.busy": "2023-05-27T05:29:31.996343Z",
     "iopub.status.idle": "2023-05-27T05:29:32.541807Z",
     "shell.execute_reply": "2023-05-27T05:29:32.541807Z",
     "shell.execute_reply.started": "2023-05-27T05:29:31.996343Z"
    }
   },
   "outputs": [],
   "source": [
    "from sklearn.preprocessing import OneHotEncoder\n",
    "from matplotlib.colors import cnames\n",
    "import random\n",
    "import numpy as np\n",
    "import pandas as pd"
   ]
  },
  {
   "cell_type": "markdown",
   "id": "b61bc860-2e13-4e7b-805a-5e7f98abd1b6",
   "metadata": {},
   "source": [
    "# ___One Hot Encoding___\n",
    "------------"
   ]
  },
  {
   "cell_type": "code",
   "execution_count": 2,
   "id": "b9e278ca-c5b6-4845-bbbc-688bd7f24b4a",
   "metadata": {
    "execution": {
     "iopub.execute_input": "2023-05-27T05:15:49.712640Z",
     "iopub.status.busy": "2023-05-27T05:15:49.712640Z",
     "iopub.status.idle": "2023-05-27T05:15:49.725424Z",
     "shell.execute_reply": "2023-05-27T05:15:49.724553Z",
     "shell.execute_reply.started": "2023-05-27T05:15:49.712640Z"
    }
   },
   "outputs": [],
   "source": [
    "# What to do when you have categorical values for features or labels?\n",
    "# Many basic examples use numeric features and labels for convenience but real world datasets often comprise numerical and categorical features \n",
    "# and/or labels.\n",
    "# This is where one-hot encoding comes in."
   ]
  },
  {
   "cell_type": "code",
   "execution_count": 4,
   "id": "048c2ed6-2ed8-4d9e-914c-e49eff8a6add",
   "metadata": {
    "execution": {
     "iopub.execute_input": "2023-05-27T05:20:20.532663Z",
     "iopub.status.busy": "2023-05-27T05:20:20.532663Z",
     "iopub.status.idle": "2023-05-27T05:20:20.541473Z",
     "shell.execute_reply": "2023-05-27T05:20:20.541473Z",
     "shell.execute_reply.started": "2023-05-27T05:20:20.532663Z"
    }
   },
   "outputs": [],
   "source": [
    "# Let's say that we have a dataset where the label is a cetegorical variable => colours.\n",
    "\n",
    "# Many ML models cannot take categorical inputs directly without any preprocessing.\n",
    "# e.g. Ordinary least squares regression, logistic regression, SVMs\n",
    "\n",
    "# But some can, e.g. Decision trees and tree based predictors.\n",
    "# Sometimes the categories are mapped (encoded) to unique numbers, for ease of computation."
   ]
  },
  {
   "cell_type": "code",
   "execution_count": null,
   "id": "7c305e81-15f3-4ddc-9dcf-391fc25a6bf2",
   "metadata": {},
   "outputs": [],
   "source": []
  },
  {
   "cell_type": "code",
   "execution_count": 5,
   "id": "c5c9f218-6bad-410d-add7-fcb2dd070d01",
   "metadata": {
    "execution": {
     "iopub.execute_input": "2023-05-27T05:25:48.638724Z",
     "iopub.status.busy": "2023-05-27T05:25:48.638724Z",
     "iopub.status.idle": "2023-05-27T05:25:48.653461Z",
     "shell.execute_reply": "2023-05-27T05:25:48.653461Z",
     "shell.execute_reply.started": "2023-05-27T05:25:48.638724Z"
    }
   },
   "outputs": [],
   "source": [
    "# One widely used solution in dealing with categorical variables is called one-hot encoding.\n",
    "# This takes in a single categorical variable and turns it into a vector of binary values.\n",
    "# the vector will consist of n columns where n is the unique number of classes in the categorical feature\n",
    "# elements of rows will be indicate to which class this data point belongs in the form of a binary mask.\n",
    "# each row will be a binary array with n elements, where only one value will be 1."
   ]
  },
  {
   "cell_type": "code",
   "execution_count": null,
   "id": "6c9874a3-3d77-4af6-9965-38991453953e",
   "metadata": {},
   "outputs": [],
   "source": []
  },
  {
   "cell_type": "code",
   "execution_count": 20,
   "id": "0d0b9312-0ee8-4df4-9d50-f9e8b544cfac",
   "metadata": {
    "execution": {
     "iopub.execute_input": "2023-05-27T05:29:51.458666Z",
     "iopub.status.busy": "2023-05-27T05:29:51.458666Z",
     "iopub.status.idle": "2023-05-27T05:29:51.470074Z",
     "shell.execute_reply": "2023-05-27T05:29:51.470074Z",
     "shell.execute_reply.started": "2023-05-27T05:29:51.458666Z"
    }
   },
   "outputs": [],
   "source": [
    "colors = np.array([random.choice(list(cnames.keys())) for i in range(1000)]).reshape(-1, 1)"
   ]
  },
  {
   "cell_type": "code",
   "execution_count": 29,
   "id": "666d7b1c-cde2-49bc-b348-1b57c73ba1d3",
   "metadata": {
    "execution": {
     "iopub.execute_input": "2023-05-27T05:32:05.003411Z",
     "iopub.status.busy": "2023-05-27T05:32:05.003411Z",
     "iopub.status.idle": "2023-05-27T05:32:05.024344Z",
     "shell.execute_reply": "2023-05-27T05:32:05.023832Z",
     "shell.execute_reply.started": "2023-05-27T05:32:05.003411Z"
    }
   },
   "outputs": [],
   "source": [
    "onehot_encoding = OneHotEncoder().fit_transform(colors).toarray()"
   ]
  },
  {
   "cell_type": "code",
   "execution_count": 45,
   "id": "a1b8d909-ffb3-401e-be0d-e8d3666c196d",
   "metadata": {
    "execution": {
     "iopub.execute_input": "2023-05-27T05:48:51.013758Z",
     "iopub.status.busy": "2023-05-27T05:48:51.013758Z",
     "iopub.status.idle": "2023-05-27T05:48:51.032089Z",
     "shell.execute_reply": "2023-05-27T05:48:51.032089Z",
     "shell.execute_reply.started": "2023-05-27T05:48:51.013758Z"
    }
   },
   "outputs": [
    {
     "data": {
      "text/plain": [
       "array([[0., 0., 0., ..., 0., 0., 0.],\n",
       "       [0., 0., 0., ..., 0., 0., 0.],\n",
       "       [0., 0., 0., ..., 0., 0., 0.],\n",
       "       ...,\n",
       "       [0., 0., 0., ..., 0., 0., 0.],\n",
       "       [0., 0., 0., ..., 0., 0., 0.],\n",
       "       [0., 0., 0., ..., 0., 0., 0.]])"
      ]
     },
     "execution_count": 45,
     "metadata": {},
     "output_type": "execute_result"
    }
   ],
   "source": [
    "# disable the sparse matrix\n",
    "\n",
    "OneHotEncoder(sparse_output = False).fit_transform(colors)"
   ]
  },
  {
   "cell_type": "code",
   "execution_count": 30,
   "id": "dae38db5-9ecb-438e-a89a-d67bce6ba07c",
   "metadata": {
    "execution": {
     "iopub.execute_input": "2023-05-27T05:32:14.059817Z",
     "iopub.status.busy": "2023-05-27T05:32:14.059817Z",
     "iopub.status.idle": "2023-05-27T05:32:14.068792Z",
     "shell.execute_reply": "2023-05-27T05:32:14.068792Z",
     "shell.execute_reply.started": "2023-05-27T05:32:14.059817Z"
    }
   },
   "outputs": [
    {
     "data": {
      "text/plain": [
       "(1000, 148)"
      ]
     },
     "execution_count": 30,
     "metadata": {},
     "output_type": "execute_result"
    }
   ],
   "source": [
    "onehot_encoding.shape"
   ]
  },
  {
   "cell_type": "code",
   "execution_count": 23,
   "id": "d0682052-df9f-4580-a262-1b26af26a827",
   "metadata": {
    "execution": {
     "iopub.execute_input": "2023-05-27T05:30:32.506684Z",
     "iopub.status.busy": "2023-05-27T05:30:32.506684Z",
     "iopub.status.idle": "2023-05-27T05:30:32.515673Z",
     "shell.execute_reply": "2023-05-27T05:30:32.515198Z",
     "shell.execute_reply.started": "2023-05-27T05:30:32.506684Z"
    }
   },
   "outputs": [],
   "source": [
    "# 1000 x 148 matrix\n",
    "\n",
    "# 1000 rows -> 148 colours"
   ]
  },
  {
   "cell_type": "code",
   "execution_count": 25,
   "id": "75b838f0-3a8d-4f07-ab53-efb429b95e31",
   "metadata": {
    "execution": {
     "iopub.execute_input": "2023-05-27T05:30:44.104121Z",
     "iopub.status.busy": "2023-05-27T05:30:44.104121Z",
     "iopub.status.idle": "2023-05-27T05:30:44.116419Z",
     "shell.execute_reply": "2023-05-27T05:30:44.116314Z",
     "shell.execute_reply.started": "2023-05-27T05:30:44.104121Z"
    }
   },
   "outputs": [
    {
     "data": {
      "text/plain": [
       "148"
      ]
     },
     "execution_count": 25,
     "metadata": {},
     "output_type": "execute_result"
    }
   ],
   "source": [
    "len(cnames)"
   ]
  },
  {
   "cell_type": "code",
   "execution_count": 34,
   "id": "1e714e7d-9b68-4728-95c1-b79e957de218",
   "metadata": {
    "execution": {
     "iopub.execute_input": "2023-05-27T05:34:17.876517Z",
     "iopub.status.busy": "2023-05-27T05:34:17.876517Z",
     "iopub.status.idle": "2023-05-27T05:34:17.887645Z",
     "shell.execute_reply": "2023-05-27T05:34:17.887019Z",
     "shell.execute_reply.started": "2023-05-27T05:34:17.876517Z"
    }
   },
   "outputs": [
    {
     "data": {
      "text/plain": [
       "array([ 55,  28, 119,  28, 131,  96,  72, 108,   3,  88,  91,  48, 134,\n",
       "        96,  71,  46, 103,  33, 138, 118, 126,  89,  96,  80,  20,  97,\n",
       "        43,  46,  56,  77,  41,  32,  15,  88,  18,  71,  73,  42,  33,\n",
       "        73,  78,  21,  23,  89,  43,  32,  80, 137,  57,  75,  93,   0,\n",
       "        48,  92,  18, 135, 125,  44,  49, 114,  32,  62, 127, 132, 104,\n",
       "       101,  76,  32,   9,  96,  62, 100, 102, 132,   0,  27,  57,  62,\n",
       "       109,  66, 130,  38,  77,  80,   4,   6, 108,  26,  52,  82,   0,\n",
       "        29,  99,  19,  23, 136, 124, 142,  74,  72,  27, 140,  52,  72,\n",
       "        38,  23, 105,  57,  49, 109, 123,  42, 128, 129,  33,  57,  90,\n",
       "        90,   6,  66,  10, 127,  30,  98,  82,  49,  85,  30,  65,  36,\n",
       "        80,   3,  65,  32,  31, 137,  79,  73,  42,   1,  25,  96, 146,\n",
       "        62,  45,  46, 147, 136, 121,   6,  99,  84, 125, 105, 109, 132,\n",
       "        42, 110,  50,  69,  60,  27,  53, 101, 126, 131,  53, 138, 106,\n",
       "        55, 103,  87, 126, 130,  95,  98,  41, 145,  38,  15,  53,  65,\n",
       "        18, 137,  97, 138, 100,  75,  58, 114,  63, 114,  31, 129,  96,\n",
       "       122, 132,  48,  86, 110,  84,  81,  74,  31, 142,  32, 122,  47,\n",
       "       147,  70, 119,  63,  94,  89,  61,  45,  40,   7,  29, 113, 110,\n",
       "        12, 114,  58,  55,  32, 125,  45,  14,  98,  45, 120,  27, 126,\n",
       "       146,  41,  95,  75,  26,  58,  76,  56,  39,   8,  25,  63,  44,\n",
       "        31,  90, 138,  77, 147, 111,   8,  32,  12,  75,   8, 113, 101,\n",
       "       115,  70,  26, 145, 146,   7,  81, 104,  89, 105, 129, 113, 146,\n",
       "        36,  78, 102,  93, 101,  65,  68,  57, 141,  37,  34, 117,  85,\n",
       "         7, 130,  31, 102, 121,  24,  76, 128, 132, 139,   1, 146,  64,\n",
       "         2,  49, 129,  48,  45,   7, 105, 144, 144,   5,  73,  72,  30,\n",
       "        96,  92,   8, 133,  10,  14,  91, 145, 131,  19, 119, 106, 143,\n",
       "        36,  36,   8,  95,  10,  53,  93,  91,  21,  72, 130, 130,  83,\n",
       "       147,  62, 109, 141, 110,  11, 120,  15,   7,  23,  85,  90,  56,\n",
       "         6, 121,   6, 141, 113,  19,  49,  51, 117, 109,  58, 140,  21,\n",
       "        55, 146,  14,  51, 112,   9,  72,  97,   9,   2, 116,  25,  74,\n",
       "        99,  50,  81,  95, 133,  83,  56,  39, 134,  72,  87,  48,  89,\n",
       "        69, 113, 147,  15,  93,  76, 111,  36,  57,  85, 144, 102,  37,\n",
       "        43,  44,  55,   3,  63, 133,   6, 138, 139,  40,  86,  42, 109,\n",
       "       136,  73,  22,  98, 126, 126, 129,  30, 146, 102,  58,  13, 147,\n",
       "        48, 102,  92, 141,  51,  14, 130,  58,  44, 128,  32,  76,  53,\n",
       "       112, 116,  23, 124, 138,  43,  73,  98, 127,   9, 139,  88,  23,\n",
       "        78, 122,  41, 140, 112,  86,  21,  96, 110, 142,  81, 129,  56,\n",
       "        16,  69, 110,  32,  96,  94,  77, 108,  94,  67,  55,  70,  45,\n",
       "        45,  96, 142,  84,  45,  60, 109, 104,   5,   6,  13,  68, 100,\n",
       "       115,  54,  79, 115,   5, 120,  96, 117,  85,  47,  25,  91,  76,\n",
       "        54, 108,  47,  41,  43,  49,  46, 141,  10,  34, 126,  53, 120,\n",
       "        92, 113,  72, 104,  97,   7,  46,  96,  38,  97,  71, 100,   1,\n",
       "         6, 115, 101,  17, 118,  61,  91, 108, 143,  51,  14,  25,   6,\n",
       "       110,  95,  59, 129,  80, 110,  99,  21,  68,  31,  77,  90,  10,\n",
       "       113, 110,  61, 134,  51,  46,  14,  85, 112, 141, 142,  93,  47,\n",
       "        41, 126, 103, 117,  25,  71,  88, 101,  15,  11,  74,   3,  31,\n",
       "       134,  28,  84,  21,  44,  79, 136,  69,  90, 137, 142,  28,  63,\n",
       "        71,   3, 101,  95,   2,  88, 145,  95, 115,   7, 119,   0, 103,\n",
       "        62,  26, 145, 120,  13,  64,  45, 127,  46, 113, 104,   7, 116,\n",
       "        18, 128,  35,  46,  56, 121, 110,  13,  45,  17, 121,  29, 146,\n",
       "        87,  71,  96,  48, 125,  34,  38, 111, 132,  65,  91,  55, 114,\n",
       "       143,  55,  65,   5, 144,  76, 140, 146,  46, 119,  83,  63,  86,\n",
       "        77,  65,  76,  58,  30, 142, 126,  18, 133,  23, 145, 107,  51,\n",
       "        57,   4, 142, 135,  57, 117, 129,  23, 127,  75,  45,  84,  70,\n",
       "        64, 127,   3,  84, 114,  66,  57, 141,  25,   9,  91,  90,  86,\n",
       "        23,  74,  16, 140,  47,  32,  86,   2,  86, 134, 106, 128,   1,\n",
       "        76,  87,  55,  35,   4, 138,  59, 119,  78,  98, 113,  71,  95,\n",
       "        83,  11,   9,  29,  28, 102, 121,  78,   8,  54,  42, 129, 138,\n",
       "       147,  68,  67,  51,  96, 104, 104,  20,  24,  85,  55,  32,  96,\n",
       "       101, 106,  98,  14, 106,   8,  67, 104, 119, 128,  42,  18,  85,\n",
       "       135,  24,  36,  15, 119,  45,  67, 121,  56,  67, 105,  23,  47,\n",
       "        51, 141, 126,  29,   1,   8,  83, 131, 126, 118, 141, 130, 128,\n",
       "        53, 129,  35, 108, 130,  95,  93,  37,  98,  73,  46,  99, 100,\n",
       "        23, 131,  61,  41,  84, 116, 117,  42,  41, 139,  26, 139,  64,\n",
       "        40,  20, 142,  12,  99, 106, 130,  18, 139,  29,  30,  65,  52,\n",
       "        53,  86,  98, 118,  84, 101,  75, 144,  93,  40, 141, 143,  93,\n",
       "        23, 106, 104,  18,  78, 102,  61,  56,  39, 140,  22,  97,  91,\n",
       "        18,  30, 141, 113,  85,  69, 111,  91,  94, 144,  85,  73,  82,\n",
       "        47,  28,  80, 116, 100, 102, 114, 105,   9, 135,  60, 122,  49,\n",
       "       129,  26, 133,  58, 110, 147,  11,  19,   7,  47,  13,  56,  62,\n",
       "        23,  42,  69, 116,  11, 100,  23,  46, 130,   9,  32,  78,  66,\n",
       "       116,  61, 102, 118, 132,  66,  91, 131,  90, 104,  20,  52, 105,\n",
       "        46,  14,  88,  17,  86, 144,  55,  71,  48,  26,  85, 128, 115,\n",
       "        55,  11, 119, 132,  55,  88, 113,  35,  31,  42, 128, 125,  24,\n",
       "        64, 122, 125, 133,   4,  19, 100,  66,   6, 104,  55,  43,  52,\n",
       "        84,  52,  65,  34,  74,  93, 115,  95,  13,  20,  66, 137,  95,\n",
       "       147,  23,  74,   5,  79,  15,  52,  96,   2,  43,  36, 101,  35,\n",
       "        69,  22,   5,  71, 113,  76,  62,  70,  60,  11,  45,  44],\n",
       "      dtype=int64)"
      ]
     },
     "execution_count": 34,
     "metadata": {},
     "output_type": "execute_result"
    }
   ],
   "source": [
    "np.argwhere(onehot_encoding)[:, 1]"
   ]
  },
  {
   "cell_type": "code",
   "execution_count": null,
   "id": "17a11a39-ecf6-4b5e-87aa-c679e581c657",
   "metadata": {},
   "outputs": [],
   "source": []
  },
  {
   "cell_type": "code",
   "execution_count": 36,
   "id": "e0225a2c-c838-4f06-a292-e65543bfa600",
   "metadata": {
    "execution": {
     "iopub.execute_input": "2023-05-27T05:36:55.841367Z",
     "iopub.status.busy": "2023-05-27T05:36:55.841367Z",
     "iopub.status.idle": "2023-05-27T05:36:55.895545Z",
     "shell.execute_reply": "2023-05-27T05:36:55.895545Z",
     "shell.execute_reply.started": "2023-05-27T05:36:55.841367Z"
    }
   },
   "outputs": [],
   "source": [
    "cseries = pd.Series(colors.flatten())"
   ]
  },
  {
   "cell_type": "code",
   "execution_count": 39,
   "id": "5f6a28e5-ff9a-4570-87f2-799bd8afc11b",
   "metadata": {
    "execution": {
     "iopub.execute_input": "2023-05-27T05:37:59.628097Z",
     "iopub.status.busy": "2023-05-27T05:37:59.628097Z",
     "iopub.status.idle": "2023-05-27T05:37:59.661470Z",
     "shell.execute_reply": "2023-05-27T05:37:59.660262Z",
     "shell.execute_reply.started": "2023-05-27T05:37:59.628097Z"
    }
   },
   "outputs": [
    {
     "data": {
      "text/html": [
       "<div>\n",
       "<style scoped>\n",
       "    .dataframe tbody tr th:only-of-type {\n",
       "        vertical-align: middle;\n",
       "    }\n",
       "\n",
       "    .dataframe tbody tr th {\n",
       "        vertical-align: top;\n",
       "    }\n",
       "\n",
       "    .dataframe thead th {\n",
       "        text-align: right;\n",
       "    }\n",
       "</style>\n",
       "<table border=\"1\" class=\"dataframe\">\n",
       "  <thead>\n",
       "    <tr style=\"text-align: right;\">\n",
       "      <th></th>\n",
       "      <th>aliceblue</th>\n",
       "      <th>antiquewhite</th>\n",
       "      <th>aqua</th>\n",
       "      <th>aquamarine</th>\n",
       "      <th>azure</th>\n",
       "      <th>beige</th>\n",
       "      <th>bisque</th>\n",
       "      <th>black</th>\n",
       "      <th>blanchedalmond</th>\n",
       "      <th>blue</th>\n",
       "      <th>...</th>\n",
       "      <th>teal</th>\n",
       "      <th>thistle</th>\n",
       "      <th>tomato</th>\n",
       "      <th>turquoise</th>\n",
       "      <th>violet</th>\n",
       "      <th>wheat</th>\n",
       "      <th>white</th>\n",
       "      <th>whitesmoke</th>\n",
       "      <th>yellow</th>\n",
       "      <th>yellowgreen</th>\n",
       "    </tr>\n",
       "  </thead>\n",
       "  <tbody>\n",
       "    <tr>\n",
       "      <th>0</th>\n",
       "      <td>False</td>\n",
       "      <td>False</td>\n",
       "      <td>False</td>\n",
       "      <td>False</td>\n",
       "      <td>False</td>\n",
       "      <td>False</td>\n",
       "      <td>False</td>\n",
       "      <td>False</td>\n",
       "      <td>False</td>\n",
       "      <td>False</td>\n",
       "      <td>...</td>\n",
       "      <td>False</td>\n",
       "      <td>False</td>\n",
       "      <td>False</td>\n",
       "      <td>False</td>\n",
       "      <td>False</td>\n",
       "      <td>False</td>\n",
       "      <td>False</td>\n",
       "      <td>False</td>\n",
       "      <td>False</td>\n",
       "      <td>False</td>\n",
       "    </tr>\n",
       "    <tr>\n",
       "      <th>1</th>\n",
       "      <td>False</td>\n",
       "      <td>False</td>\n",
       "      <td>False</td>\n",
       "      <td>False</td>\n",
       "      <td>False</td>\n",
       "      <td>False</td>\n",
       "      <td>False</td>\n",
       "      <td>False</td>\n",
       "      <td>False</td>\n",
       "      <td>False</td>\n",
       "      <td>...</td>\n",
       "      <td>False</td>\n",
       "      <td>False</td>\n",
       "      <td>False</td>\n",
       "      <td>False</td>\n",
       "      <td>False</td>\n",
       "      <td>False</td>\n",
       "      <td>False</td>\n",
       "      <td>False</td>\n",
       "      <td>False</td>\n",
       "      <td>False</td>\n",
       "    </tr>\n",
       "    <tr>\n",
       "      <th>2</th>\n",
       "      <td>False</td>\n",
       "      <td>False</td>\n",
       "      <td>False</td>\n",
       "      <td>False</td>\n",
       "      <td>False</td>\n",
       "      <td>False</td>\n",
       "      <td>False</td>\n",
       "      <td>False</td>\n",
       "      <td>False</td>\n",
       "      <td>False</td>\n",
       "      <td>...</td>\n",
       "      <td>False</td>\n",
       "      <td>False</td>\n",
       "      <td>False</td>\n",
       "      <td>False</td>\n",
       "      <td>False</td>\n",
       "      <td>False</td>\n",
       "      <td>False</td>\n",
       "      <td>False</td>\n",
       "      <td>False</td>\n",
       "      <td>False</td>\n",
       "    </tr>\n",
       "    <tr>\n",
       "      <th>3</th>\n",
       "      <td>False</td>\n",
       "      <td>False</td>\n",
       "      <td>False</td>\n",
       "      <td>False</td>\n",
       "      <td>False</td>\n",
       "      <td>False</td>\n",
       "      <td>False</td>\n",
       "      <td>False</td>\n",
       "      <td>False</td>\n",
       "      <td>False</td>\n",
       "      <td>...</td>\n",
       "      <td>False</td>\n",
       "      <td>False</td>\n",
       "      <td>False</td>\n",
       "      <td>False</td>\n",
       "      <td>False</td>\n",
       "      <td>False</td>\n",
       "      <td>False</td>\n",
       "      <td>False</td>\n",
       "      <td>False</td>\n",
       "      <td>False</td>\n",
       "    </tr>\n",
       "    <tr>\n",
       "      <th>4</th>\n",
       "      <td>False</td>\n",
       "      <td>False</td>\n",
       "      <td>False</td>\n",
       "      <td>False</td>\n",
       "      <td>False</td>\n",
       "      <td>False</td>\n",
       "      <td>False</td>\n",
       "      <td>False</td>\n",
       "      <td>False</td>\n",
       "      <td>False</td>\n",
       "      <td>...</td>\n",
       "      <td>False</td>\n",
       "      <td>False</td>\n",
       "      <td>False</td>\n",
       "      <td>False</td>\n",
       "      <td>False</td>\n",
       "      <td>False</td>\n",
       "      <td>False</td>\n",
       "      <td>False</td>\n",
       "      <td>False</td>\n",
       "      <td>False</td>\n",
       "    </tr>\n",
       "    <tr>\n",
       "      <th>...</th>\n",
       "      <td>...</td>\n",
       "      <td>...</td>\n",
       "      <td>...</td>\n",
       "      <td>...</td>\n",
       "      <td>...</td>\n",
       "      <td>...</td>\n",
       "      <td>...</td>\n",
       "      <td>...</td>\n",
       "      <td>...</td>\n",
       "      <td>...</td>\n",
       "      <td>...</td>\n",
       "      <td>...</td>\n",
       "      <td>...</td>\n",
       "      <td>...</td>\n",
       "      <td>...</td>\n",
       "      <td>...</td>\n",
       "      <td>...</td>\n",
       "      <td>...</td>\n",
       "      <td>...</td>\n",
       "      <td>...</td>\n",
       "      <td>...</td>\n",
       "    </tr>\n",
       "    <tr>\n",
       "      <th>995</th>\n",
       "      <td>False</td>\n",
       "      <td>False</td>\n",
       "      <td>False</td>\n",
       "      <td>False</td>\n",
       "      <td>False</td>\n",
       "      <td>False</td>\n",
       "      <td>False</td>\n",
       "      <td>False</td>\n",
       "      <td>False</td>\n",
       "      <td>False</td>\n",
       "      <td>...</td>\n",
       "      <td>False</td>\n",
       "      <td>False</td>\n",
       "      <td>False</td>\n",
       "      <td>False</td>\n",
       "      <td>False</td>\n",
       "      <td>False</td>\n",
       "      <td>False</td>\n",
       "      <td>False</td>\n",
       "      <td>False</td>\n",
       "      <td>False</td>\n",
       "    </tr>\n",
       "    <tr>\n",
       "      <th>996</th>\n",
       "      <td>False</td>\n",
       "      <td>False</td>\n",
       "      <td>False</td>\n",
       "      <td>False</td>\n",
       "      <td>False</td>\n",
       "      <td>False</td>\n",
       "      <td>False</td>\n",
       "      <td>False</td>\n",
       "      <td>False</td>\n",
       "      <td>False</td>\n",
       "      <td>...</td>\n",
       "      <td>False</td>\n",
       "      <td>False</td>\n",
       "      <td>False</td>\n",
       "      <td>False</td>\n",
       "      <td>False</td>\n",
       "      <td>False</td>\n",
       "      <td>False</td>\n",
       "      <td>False</td>\n",
       "      <td>False</td>\n",
       "      <td>False</td>\n",
       "    </tr>\n",
       "    <tr>\n",
       "      <th>997</th>\n",
       "      <td>False</td>\n",
       "      <td>False</td>\n",
       "      <td>False</td>\n",
       "      <td>False</td>\n",
       "      <td>False</td>\n",
       "      <td>False</td>\n",
       "      <td>False</td>\n",
       "      <td>False</td>\n",
       "      <td>False</td>\n",
       "      <td>False</td>\n",
       "      <td>...</td>\n",
       "      <td>False</td>\n",
       "      <td>False</td>\n",
       "      <td>False</td>\n",
       "      <td>False</td>\n",
       "      <td>False</td>\n",
       "      <td>False</td>\n",
       "      <td>False</td>\n",
       "      <td>False</td>\n",
       "      <td>False</td>\n",
       "      <td>False</td>\n",
       "    </tr>\n",
       "    <tr>\n",
       "      <th>998</th>\n",
       "      <td>False</td>\n",
       "      <td>False</td>\n",
       "      <td>False</td>\n",
       "      <td>False</td>\n",
       "      <td>False</td>\n",
       "      <td>False</td>\n",
       "      <td>False</td>\n",
       "      <td>False</td>\n",
       "      <td>False</td>\n",
       "      <td>False</td>\n",
       "      <td>...</td>\n",
       "      <td>False</td>\n",
       "      <td>False</td>\n",
       "      <td>False</td>\n",
       "      <td>False</td>\n",
       "      <td>False</td>\n",
       "      <td>False</td>\n",
       "      <td>False</td>\n",
       "      <td>False</td>\n",
       "      <td>False</td>\n",
       "      <td>False</td>\n",
       "    </tr>\n",
       "    <tr>\n",
       "      <th>999</th>\n",
       "      <td>False</td>\n",
       "      <td>False</td>\n",
       "      <td>False</td>\n",
       "      <td>False</td>\n",
       "      <td>False</td>\n",
       "      <td>False</td>\n",
       "      <td>False</td>\n",
       "      <td>False</td>\n",
       "      <td>False</td>\n",
       "      <td>False</td>\n",
       "      <td>...</td>\n",
       "      <td>False</td>\n",
       "      <td>False</td>\n",
       "      <td>False</td>\n",
       "      <td>False</td>\n",
       "      <td>False</td>\n",
       "      <td>False</td>\n",
       "      <td>False</td>\n",
       "      <td>False</td>\n",
       "      <td>False</td>\n",
       "      <td>False</td>\n",
       "    </tr>\n",
       "  </tbody>\n",
       "</table>\n",
       "<p>1000 rows × 148 columns</p>\n",
       "</div>"
      ],
      "text/plain": [
       "     aliceblue  antiquewhite   aqua  aquamarine  azure  beige  bisque  black   \n",
       "0        False         False  False       False  False  False   False  False  \\\n",
       "1        False         False  False       False  False  False   False  False   \n",
       "2        False         False  False       False  False  False   False  False   \n",
       "3        False         False  False       False  False  False   False  False   \n",
       "4        False         False  False       False  False  False   False  False   \n",
       "..         ...           ...    ...         ...    ...    ...     ...    ...   \n",
       "995      False         False  False       False  False  False   False  False   \n",
       "996      False         False  False       False  False  False   False  False   \n",
       "997      False         False  False       False  False  False   False  False   \n",
       "998      False         False  False       False  False  False   False  False   \n",
       "999      False         False  False       False  False  False   False  False   \n",
       "\n",
       "     blanchedalmond   blue  ...   teal  thistle  tomato  turquoise  violet   \n",
       "0             False  False  ...  False    False   False      False   False  \\\n",
       "1             False  False  ...  False    False   False      False   False   \n",
       "2             False  False  ...  False    False   False      False   False   \n",
       "3             False  False  ...  False    False   False      False   False   \n",
       "4             False  False  ...  False    False   False      False   False   \n",
       "..              ...    ...  ...    ...      ...     ...        ...     ...   \n",
       "995           False  False  ...  False    False   False      False   False   \n",
       "996           False  False  ...  False    False   False      False   False   \n",
       "997           False  False  ...  False    False   False      False   False   \n",
       "998           False  False  ...  False    False   False      False   False   \n",
       "999           False  False  ...  False    False   False      False   False   \n",
       "\n",
       "     wheat  white  whitesmoke  yellow  yellowgreen  \n",
       "0    False  False       False   False        False  \n",
       "1    False  False       False   False        False  \n",
       "2    False  False       False   False        False  \n",
       "3    False  False       False   False        False  \n",
       "4    False  False       False   False        False  \n",
       "..     ...    ...         ...     ...          ...  \n",
       "995  False  False       False   False        False  \n",
       "996  False  False       False   False        False  \n",
       "997  False  False       False   False        False  \n",
       "998  False  False       False   False        False  \n",
       "999  False  False       False   False        False  \n",
       "\n",
       "[1000 rows x 148 columns]"
      ]
     },
     "execution_count": 39,
     "metadata": {},
     "output_type": "execute_result"
    }
   ],
   "source": [
    "pd.get_dummies(cseries)"
   ]
  },
  {
   "cell_type": "code",
   "execution_count": 40,
   "id": "03d4b7f5-2327-4e29-9e7f-c2ac69fca0b3",
   "metadata": {
    "execution": {
     "iopub.execute_input": "2023-05-27T05:40:22.561931Z",
     "iopub.status.busy": "2023-05-27T05:40:22.561931Z",
     "iopub.status.idle": "2023-05-27T05:40:22.583568Z",
     "shell.execute_reply": "2023-05-27T05:40:22.583047Z",
     "shell.execute_reply.started": "2023-05-27T05:40:22.561931Z"
    }
   },
   "outputs": [
    {
     "data": {
      "text/html": [
       "<div>\n",
       "<style scoped>\n",
       "    .dataframe tbody tr th:only-of-type {\n",
       "        vertical-align: middle;\n",
       "    }\n",
       "\n",
       "    .dataframe tbody tr th {\n",
       "        vertical-align: top;\n",
       "    }\n",
       "\n",
       "    .dataframe thead th {\n",
       "        text-align: right;\n",
       "    }\n",
       "</style>\n",
       "<table border=\"1\" class=\"dataframe\">\n",
       "  <thead>\n",
       "    <tr style=\"text-align: right;\">\n",
       "      <th></th>\n",
       "      <th>aliceblue</th>\n",
       "      <th>antiquewhite</th>\n",
       "      <th>aqua</th>\n",
       "      <th>aquamarine</th>\n",
       "      <th>azure</th>\n",
       "      <th>beige</th>\n",
       "      <th>bisque</th>\n",
       "      <th>black</th>\n",
       "      <th>blanchedalmond</th>\n",
       "      <th>blue</th>\n",
       "      <th>...</th>\n",
       "      <th>teal</th>\n",
       "      <th>thistle</th>\n",
       "      <th>tomato</th>\n",
       "      <th>turquoise</th>\n",
       "      <th>violet</th>\n",
       "      <th>wheat</th>\n",
       "      <th>white</th>\n",
       "      <th>whitesmoke</th>\n",
       "      <th>yellow</th>\n",
       "      <th>yellowgreen</th>\n",
       "    </tr>\n",
       "  </thead>\n",
       "  <tbody>\n",
       "    <tr>\n",
       "      <th>0</th>\n",
       "      <td>0</td>\n",
       "      <td>0</td>\n",
       "      <td>0</td>\n",
       "      <td>0</td>\n",
       "      <td>0</td>\n",
       "      <td>0</td>\n",
       "      <td>0</td>\n",
       "      <td>0</td>\n",
       "      <td>0</td>\n",
       "      <td>0</td>\n",
       "      <td>...</td>\n",
       "      <td>0</td>\n",
       "      <td>0</td>\n",
       "      <td>0</td>\n",
       "      <td>0</td>\n",
       "      <td>0</td>\n",
       "      <td>0</td>\n",
       "      <td>0</td>\n",
       "      <td>0</td>\n",
       "      <td>0</td>\n",
       "      <td>0</td>\n",
       "    </tr>\n",
       "    <tr>\n",
       "      <th>1</th>\n",
       "      <td>0</td>\n",
       "      <td>0</td>\n",
       "      <td>0</td>\n",
       "      <td>0</td>\n",
       "      <td>0</td>\n",
       "      <td>0</td>\n",
       "      <td>0</td>\n",
       "      <td>0</td>\n",
       "      <td>0</td>\n",
       "      <td>0</td>\n",
       "      <td>...</td>\n",
       "      <td>0</td>\n",
       "      <td>0</td>\n",
       "      <td>0</td>\n",
       "      <td>0</td>\n",
       "      <td>0</td>\n",
       "      <td>0</td>\n",
       "      <td>0</td>\n",
       "      <td>0</td>\n",
       "      <td>0</td>\n",
       "      <td>0</td>\n",
       "    </tr>\n",
       "    <tr>\n",
       "      <th>2</th>\n",
       "      <td>0</td>\n",
       "      <td>0</td>\n",
       "      <td>0</td>\n",
       "      <td>0</td>\n",
       "      <td>0</td>\n",
       "      <td>0</td>\n",
       "      <td>0</td>\n",
       "      <td>0</td>\n",
       "      <td>0</td>\n",
       "      <td>0</td>\n",
       "      <td>...</td>\n",
       "      <td>0</td>\n",
       "      <td>0</td>\n",
       "      <td>0</td>\n",
       "      <td>0</td>\n",
       "      <td>0</td>\n",
       "      <td>0</td>\n",
       "      <td>0</td>\n",
       "      <td>0</td>\n",
       "      <td>0</td>\n",
       "      <td>0</td>\n",
       "    </tr>\n",
       "    <tr>\n",
       "      <th>3</th>\n",
       "      <td>0</td>\n",
       "      <td>0</td>\n",
       "      <td>0</td>\n",
       "      <td>0</td>\n",
       "      <td>0</td>\n",
       "      <td>0</td>\n",
       "      <td>0</td>\n",
       "      <td>0</td>\n",
       "      <td>0</td>\n",
       "      <td>0</td>\n",
       "      <td>...</td>\n",
       "      <td>0</td>\n",
       "      <td>0</td>\n",
       "      <td>0</td>\n",
       "      <td>0</td>\n",
       "      <td>0</td>\n",
       "      <td>0</td>\n",
       "      <td>0</td>\n",
       "      <td>0</td>\n",
       "      <td>0</td>\n",
       "      <td>0</td>\n",
       "    </tr>\n",
       "    <tr>\n",
       "      <th>4</th>\n",
       "      <td>0</td>\n",
       "      <td>0</td>\n",
       "      <td>0</td>\n",
       "      <td>0</td>\n",
       "      <td>0</td>\n",
       "      <td>0</td>\n",
       "      <td>0</td>\n",
       "      <td>0</td>\n",
       "      <td>0</td>\n",
       "      <td>0</td>\n",
       "      <td>...</td>\n",
       "      <td>0</td>\n",
       "      <td>0</td>\n",
       "      <td>0</td>\n",
       "      <td>0</td>\n",
       "      <td>0</td>\n",
       "      <td>0</td>\n",
       "      <td>0</td>\n",
       "      <td>0</td>\n",
       "      <td>0</td>\n",
       "      <td>0</td>\n",
       "    </tr>\n",
       "    <tr>\n",
       "      <th>...</th>\n",
       "      <td>...</td>\n",
       "      <td>...</td>\n",
       "      <td>...</td>\n",
       "      <td>...</td>\n",
       "      <td>...</td>\n",
       "      <td>...</td>\n",
       "      <td>...</td>\n",
       "      <td>...</td>\n",
       "      <td>...</td>\n",
       "      <td>...</td>\n",
       "      <td>...</td>\n",
       "      <td>...</td>\n",
       "      <td>...</td>\n",
       "      <td>...</td>\n",
       "      <td>...</td>\n",
       "      <td>...</td>\n",
       "      <td>...</td>\n",
       "      <td>...</td>\n",
       "      <td>...</td>\n",
       "      <td>...</td>\n",
       "      <td>...</td>\n",
       "    </tr>\n",
       "    <tr>\n",
       "      <th>995</th>\n",
       "      <td>0</td>\n",
       "      <td>0</td>\n",
       "      <td>0</td>\n",
       "      <td>0</td>\n",
       "      <td>0</td>\n",
       "      <td>0</td>\n",
       "      <td>0</td>\n",
       "      <td>0</td>\n",
       "      <td>0</td>\n",
       "      <td>0</td>\n",
       "      <td>...</td>\n",
       "      <td>0</td>\n",
       "      <td>0</td>\n",
       "      <td>0</td>\n",
       "      <td>0</td>\n",
       "      <td>0</td>\n",
       "      <td>0</td>\n",
       "      <td>0</td>\n",
       "      <td>0</td>\n",
       "      <td>0</td>\n",
       "      <td>0</td>\n",
       "    </tr>\n",
       "    <tr>\n",
       "      <th>996</th>\n",
       "      <td>0</td>\n",
       "      <td>0</td>\n",
       "      <td>0</td>\n",
       "      <td>0</td>\n",
       "      <td>0</td>\n",
       "      <td>0</td>\n",
       "      <td>0</td>\n",
       "      <td>0</td>\n",
       "      <td>0</td>\n",
       "      <td>0</td>\n",
       "      <td>...</td>\n",
       "      <td>0</td>\n",
       "      <td>0</td>\n",
       "      <td>0</td>\n",
       "      <td>0</td>\n",
       "      <td>0</td>\n",
       "      <td>0</td>\n",
       "      <td>0</td>\n",
       "      <td>0</td>\n",
       "      <td>0</td>\n",
       "      <td>0</td>\n",
       "    </tr>\n",
       "    <tr>\n",
       "      <th>997</th>\n",
       "      <td>0</td>\n",
       "      <td>0</td>\n",
       "      <td>0</td>\n",
       "      <td>0</td>\n",
       "      <td>0</td>\n",
       "      <td>0</td>\n",
       "      <td>0</td>\n",
       "      <td>0</td>\n",
       "      <td>0</td>\n",
       "      <td>0</td>\n",
       "      <td>...</td>\n",
       "      <td>0</td>\n",
       "      <td>0</td>\n",
       "      <td>0</td>\n",
       "      <td>0</td>\n",
       "      <td>0</td>\n",
       "      <td>0</td>\n",
       "      <td>0</td>\n",
       "      <td>0</td>\n",
       "      <td>0</td>\n",
       "      <td>0</td>\n",
       "    </tr>\n",
       "    <tr>\n",
       "      <th>998</th>\n",
       "      <td>0</td>\n",
       "      <td>0</td>\n",
       "      <td>0</td>\n",
       "      <td>0</td>\n",
       "      <td>0</td>\n",
       "      <td>0</td>\n",
       "      <td>0</td>\n",
       "      <td>0</td>\n",
       "      <td>0</td>\n",
       "      <td>0</td>\n",
       "      <td>...</td>\n",
       "      <td>0</td>\n",
       "      <td>0</td>\n",
       "      <td>0</td>\n",
       "      <td>0</td>\n",
       "      <td>0</td>\n",
       "      <td>0</td>\n",
       "      <td>0</td>\n",
       "      <td>0</td>\n",
       "      <td>0</td>\n",
       "      <td>0</td>\n",
       "    </tr>\n",
       "    <tr>\n",
       "      <th>999</th>\n",
       "      <td>0</td>\n",
       "      <td>0</td>\n",
       "      <td>0</td>\n",
       "      <td>0</td>\n",
       "      <td>0</td>\n",
       "      <td>0</td>\n",
       "      <td>0</td>\n",
       "      <td>0</td>\n",
       "      <td>0</td>\n",
       "      <td>0</td>\n",
       "      <td>...</td>\n",
       "      <td>0</td>\n",
       "      <td>0</td>\n",
       "      <td>0</td>\n",
       "      <td>0</td>\n",
       "      <td>0</td>\n",
       "      <td>0</td>\n",
       "      <td>0</td>\n",
       "      <td>0</td>\n",
       "      <td>0</td>\n",
       "      <td>0</td>\n",
       "    </tr>\n",
       "  </tbody>\n",
       "</table>\n",
       "<p>1000 rows × 148 columns</p>\n",
       "</div>"
      ],
      "text/plain": [
       "     aliceblue  antiquewhite  aqua  aquamarine  azure  beige  bisque  black   \n",
       "0            0             0     0           0      0      0       0      0  \\\n",
       "1            0             0     0           0      0      0       0      0   \n",
       "2            0             0     0           0      0      0       0      0   \n",
       "3            0             0     0           0      0      0       0      0   \n",
       "4            0             0     0           0      0      0       0      0   \n",
       "..         ...           ...   ...         ...    ...    ...     ...    ...   \n",
       "995          0             0     0           0      0      0       0      0   \n",
       "996          0             0     0           0      0      0       0      0   \n",
       "997          0             0     0           0      0      0       0      0   \n",
       "998          0             0     0           0      0      0       0      0   \n",
       "999          0             0     0           0      0      0       0      0   \n",
       "\n",
       "     blanchedalmond  blue  ...  teal  thistle  tomato  turquoise  violet   \n",
       "0                 0     0  ...     0        0       0          0       0  \\\n",
       "1                 0     0  ...     0        0       0          0       0   \n",
       "2                 0     0  ...     0        0       0          0       0   \n",
       "3                 0     0  ...     0        0       0          0       0   \n",
       "4                 0     0  ...     0        0       0          0       0   \n",
       "..              ...   ...  ...   ...      ...     ...        ...     ...   \n",
       "995               0     0  ...     0        0       0          0       0   \n",
       "996               0     0  ...     0        0       0          0       0   \n",
       "997               0     0  ...     0        0       0          0       0   \n",
       "998               0     0  ...     0        0       0          0       0   \n",
       "999               0     0  ...     0        0       0          0       0   \n",
       "\n",
       "     wheat  white  whitesmoke  yellow  yellowgreen  \n",
       "0        0      0           0       0            0  \n",
       "1        0      0           0       0            0  \n",
       "2        0      0           0       0            0  \n",
       "3        0      0           0       0            0  \n",
       "4        0      0           0       0            0  \n",
       "..     ...    ...         ...     ...          ...  \n",
       "995      0      0           0       0            0  \n",
       "996      0      0           0       0            0  \n",
       "997      0      0           0       0            0  \n",
       "998      0      0           0       0            0  \n",
       "999      0      0           0       0            0  \n",
       "\n",
       "[1000 rows x 148 columns]"
      ]
     },
     "execution_count": 40,
     "metadata": {},
     "output_type": "execute_result"
    }
   ],
   "source": [
    "pd.get_dummies(cseries).astype(np.int8)"
   ]
  },
  {
   "cell_type": "code",
   "execution_count": 42,
   "id": "a4d92966-f7fb-4f7c-b791-6aa0d3080979",
   "metadata": {
    "execution": {
     "iopub.execute_input": "2023-05-27T05:42:16.060988Z",
     "iopub.status.busy": "2023-05-27T05:42:16.060988Z",
     "iopub.status.idle": "2023-05-27T05:42:16.081084Z",
     "shell.execute_reply": "2023-05-27T05:42:16.081003Z",
     "shell.execute_reply.started": "2023-05-27T05:42:16.060988Z"
    }
   },
   "outputs": [
    {
     "data": {
      "text/plain": [
       "aliceblue       4\n",
       "antiquewhite    5\n",
       "aqua            5\n",
       "aquamarine      6\n",
       "azure           4\n",
       "               ..\n",
       "wheat           4\n",
       "white           7\n",
       "whitesmoke      6\n",
       "yellow          9\n",
       "yellowgreen     9\n",
       "Length: 148, dtype: int64"
      ]
     },
     "execution_count": 42,
     "metadata": {},
     "output_type": "execute_result"
    }
   ],
   "source": [
    "pd.get_dummies(cseries).astype(np.int8).sum(axis = 0)"
   ]
  },
  {
   "cell_type": "code",
   "execution_count": 43,
   "id": "eacc91c0-a905-4852-9f41-935ad3da828b",
   "metadata": {
    "execution": {
     "iopub.execute_input": "2023-05-27T05:42:16.375325Z",
     "iopub.status.busy": "2023-05-27T05:42:16.375325Z",
     "iopub.status.idle": "2023-05-27T05:42:16.393535Z",
     "shell.execute_reply": "2023-05-27T05:42:16.392999Z",
     "shell.execute_reply.started": "2023-05-27T05:42:16.375325Z"
    }
   },
   "outputs": [],
   "source": [
    "# In statistics, this is called dummy encoding or 1 of k encoding."
   ]
  },
  {
   "cell_type": "code",
   "execution_count": null,
   "id": "40d8ef80-82b0-43c7-9aea-6113133284ea",
   "metadata": {},
   "outputs": [],
   "source": []
  },
  {
   "cell_type": "code",
   "execution_count": 44,
   "id": "096706bf-d277-4a30-974e-16dae5395999",
   "metadata": {
    "execution": {
     "iopub.execute_input": "2023-05-27T05:47:24.584899Z",
     "iopub.status.busy": "2023-05-27T05:47:24.584899Z",
     "iopub.status.idle": "2023-05-27T05:47:24.596004Z",
     "shell.execute_reply": "2023-05-27T05:47:24.595462Z",
     "shell.execute_reply.started": "2023-05-27T05:47:24.584899Z"
    }
   },
   "outputs": [],
   "source": [
    "# When the categorical variable is a feature, we could use OneHotEncoder from sklearn.preprocessing.\n",
    "# This will return a sparse matrix (mostly zeroes)"
   ]
  },
  {
   "cell_type": "code",
   "execution_count": 62,
   "id": "7afe7836-8199-4a60-912c-6fb5295d64b5",
   "metadata": {
    "execution": {
     "iopub.execute_input": "2023-05-27T06:03:11.622135Z",
     "iopub.status.busy": "2023-05-27T06:03:11.622135Z",
     "iopub.status.idle": "2023-05-27T06:03:11.635180Z",
     "shell.execute_reply": "2023-05-27T06:03:11.635180Z",
     "shell.execute_reply.started": "2023-05-27T06:03:11.622135Z"
    }
   },
   "outputs": [],
   "source": [
    "sex = [\"Male\", \"Female\"]\n",
    "age_in_decades = list(range(10))\n",
    "\n",
    "features = [[random.choice(sex), random.choice(age_in_decades)] for i in range(20)]"
   ]
  },
  {
   "cell_type": "code",
   "execution_count": 63,
   "id": "8fb9ade8-b3e4-4ffd-b60b-007da0159922",
   "metadata": {
    "execution": {
     "iopub.execute_input": "2023-05-27T06:03:12.061520Z",
     "iopub.status.busy": "2023-05-27T06:03:12.061520Z",
     "iopub.status.idle": "2023-05-27T06:03:12.067695Z",
     "shell.execute_reply": "2023-05-27T06:03:12.067695Z",
     "shell.execute_reply.started": "2023-05-27T06:03:12.061520Z"
    }
   },
   "outputs": [
    {
     "data": {
      "text/plain": [
       "[['Male', 2],\n",
       " ['Female', 2],\n",
       " ['Female', 1],\n",
       " ['Female', 6],\n",
       " ['Female', 5],\n",
       " ['Female', 8],\n",
       " ['Male', 0],\n",
       " ['Male', 6],\n",
       " ['Female', 0],\n",
       " ['Female', 9]]"
      ]
     },
     "execution_count": 63,
     "metadata": {},
     "output_type": "execute_result"
    }
   ],
   "source": [
    "features[:10]"
   ]
  },
  {
   "cell_type": "code",
   "execution_count": 64,
   "id": "9dc4447b-758c-4773-af3a-3ab8e8196435",
   "metadata": {
    "execution": {
     "iopub.execute_input": "2023-05-27T06:03:12.471410Z",
     "iopub.status.busy": "2023-05-27T06:03:12.471410Z",
     "iopub.status.idle": "2023-05-27T06:03:12.482041Z",
     "shell.execute_reply": "2023-05-27T06:03:12.481911Z",
     "shell.execute_reply.started": "2023-05-27T06:03:12.471410Z"
    }
   },
   "outputs": [],
   "source": [
    "# Now we have a list of lists ->\n",
    "# Where the inner list consists of two categorical variables -> sex: categorical nominal, age: categorical nominal"
   ]
  },
  {
   "cell_type": "code",
   "execution_count": null,
   "id": "dd4f65f0-008c-4a52-8008-4bdb8e5f88ea",
   "metadata": {},
   "outputs": [],
   "source": []
  },
  {
   "cell_type": "code",
   "execution_count": 65,
   "id": "0176746f-4bdb-485c-a27c-c085d818db51",
   "metadata": {
    "execution": {
     "iopub.execute_input": "2023-05-27T06:03:13.252885Z",
     "iopub.status.busy": "2023-05-27T06:03:13.252885Z",
     "iopub.status.idle": "2023-05-27T06:03:13.266293Z",
     "shell.execute_reply": "2023-05-27T06:03:13.266293Z",
     "shell.execute_reply.started": "2023-05-27T06:03:13.252885Z"
    }
   },
   "outputs": [],
   "source": [
    "ohencoder = OneHotEncoder(sparse_output = False).fit(features)"
   ]
  },
  {
   "cell_type": "code",
   "execution_count": 66,
   "id": "5173c727-4ac7-4c8e-ba11-7267c8359431",
   "metadata": {
    "execution": {
     "iopub.execute_input": "2023-05-27T06:03:13.630710Z",
     "iopub.status.busy": "2023-05-27T06:03:13.630710Z",
     "iopub.status.idle": "2023-05-27T06:03:13.642766Z",
     "shell.execute_reply": "2023-05-27T06:03:13.642766Z",
     "shell.execute_reply.started": "2023-05-27T06:03:13.630710Z"
    }
   },
   "outputs": [
    {
     "data": {
      "text/plain": [
       "[array(['Female', 'Male'], dtype=object),\n",
       " array([0, 1, 2, 4, 5, 6, 7, 8, 9], dtype=object)]"
      ]
     },
     "execution_count": 66,
     "metadata": {},
     "output_type": "execute_result"
    }
   ],
   "source": [
    "ohencoder.categories_"
   ]
  },
  {
   "cell_type": "code",
   "execution_count": 67,
   "id": "0eb6f2cc-c47c-4bec-9eb8-a45fee2d531a",
   "metadata": {
    "execution": {
     "iopub.execute_input": "2023-05-27T06:03:14.352630Z",
     "iopub.status.busy": "2023-05-27T06:03:14.352630Z",
     "iopub.status.idle": "2023-05-27T06:03:14.374326Z",
     "shell.execute_reply": "2023-05-27T06:03:14.373818Z",
     "shell.execute_reply.started": "2023-05-27T06:03:14.352630Z"
    }
   },
   "outputs": [
    {
     "data": {
      "text/plain": [
       "array([[0., 1., 0., 0., 1., 0., 0., 0., 0., 0., 0.],\n",
       "       [1., 0., 0., 0., 1., 0., 0., 0., 0., 0., 0.],\n",
       "       [1., 0., 0., 1., 0., 0., 0., 0., 0., 0., 0.],\n",
       "       [1., 0., 0., 0., 0., 0., 0., 1., 0., 0., 0.],\n",
       "       [1., 0., 0., 0., 0., 0., 1., 0., 0., 0., 0.],\n",
       "       [1., 0., 0., 0., 0., 0., 0., 0., 0., 1., 0.],\n",
       "       [0., 1., 1., 0., 0., 0., 0., 0., 0., 0., 0.],\n",
       "       [0., 1., 0., 0., 0., 0., 0., 1., 0., 0., 0.],\n",
       "       [1., 0., 1., 0., 0., 0., 0., 0., 0., 0., 0.],\n",
       "       [1., 0., 0., 0., 0., 0., 0., 0., 0., 0., 1.],\n",
       "       [0., 1., 0., 0., 0., 1., 0., 0., 0., 0., 0.],\n",
       "       [1., 0., 0., 1., 0., 0., 0., 0., 0., 0., 0.],\n",
       "       [0., 1., 0., 0., 0., 0., 0., 0., 1., 0., 0.],\n",
       "       [0., 1., 0., 0., 0., 0., 1., 0., 0., 0., 0.],\n",
       "       [1., 0., 1., 0., 0., 0., 0., 0., 0., 0., 0.],\n",
       "       [0., 1., 0., 0., 1., 0., 0., 0., 0., 0., 0.],\n",
       "       [0., 1., 0., 0., 0., 0., 0., 0., 0., 0., 1.],\n",
       "       [1., 0., 0., 0., 0., 0., 0., 0., 0., 0., 1.],\n",
       "       [0., 1., 0., 0., 0., 1., 0., 0., 0., 0., 0.],\n",
       "       [1., 0., 0., 0., 0., 0., 0., 0., 0., 0., 1.]])"
      ]
     },
     "execution_count": 67,
     "metadata": {},
     "output_type": "execute_result"
    }
   ],
   "source": [
    "ohencoder.transform(features)"
   ]
  },
  {
   "cell_type": "code",
   "execution_count": 68,
   "id": "403ac0bc-fae9-4870-8603-5f87ff58ee66",
   "metadata": {
    "execution": {
     "iopub.execute_input": "2023-05-27T06:03:15.026813Z",
     "iopub.status.busy": "2023-05-27T06:03:15.026813Z",
     "iopub.status.idle": "2023-05-27T06:03:15.032194Z",
     "shell.execute_reply": "2023-05-27T06:03:15.032194Z",
     "shell.execute_reply.started": "2023-05-27T06:03:15.026813Z"
    }
   },
   "outputs": [],
   "source": [
    "# the first two elements in the rows represent the sex"
   ]
  },
  {
   "cell_type": "code",
   "execution_count": 69,
   "id": "c278fb0f-9d10-4c59-bc3e-33edceb44c8d",
   "metadata": {
    "execution": {
     "iopub.execute_input": "2023-05-27T06:03:15.686253Z",
     "iopub.status.busy": "2023-05-27T06:03:15.686253Z",
     "iopub.status.idle": "2023-05-27T06:03:15.694007Z",
     "shell.execute_reply": "2023-05-27T06:03:15.693425Z",
     "shell.execute_reply.started": "2023-05-27T06:03:15.686253Z"
    }
   },
   "outputs": [
    {
     "data": {
      "text/plain": [
       "array([[0., 1.],\n",
       "       [1., 0.],\n",
       "       [1., 0.],\n",
       "       [1., 0.],\n",
       "       [1., 0.],\n",
       "       [1., 0.],\n",
       "       [0., 1.],\n",
       "       [0., 1.],\n",
       "       [1., 0.],\n",
       "       [1., 0.],\n",
       "       [0., 1.],\n",
       "       [1., 0.],\n",
       "       [0., 1.],\n",
       "       [0., 1.],\n",
       "       [1., 0.],\n",
       "       [0., 1.],\n",
       "       [0., 1.],\n",
       "       [1., 0.],\n",
       "       [0., 1.],\n",
       "       [1., 0.]])"
      ]
     },
     "execution_count": 69,
     "metadata": {},
     "output_type": "execute_result"
    }
   ],
   "source": [
    "ohencoder.transform(features)[:, :2]"
   ]
  },
  {
   "cell_type": "code",
   "execution_count": 70,
   "id": "e4842374-6920-47aa-929c-5e1bd0ef78b6",
   "metadata": {
    "execution": {
     "iopub.execute_input": "2023-05-27T06:03:17.896458Z",
     "iopub.status.busy": "2023-05-27T06:03:17.896458Z",
     "iopub.status.idle": "2023-05-27T06:03:17.915130Z",
     "shell.execute_reply": "2023-05-27T06:03:17.914596Z",
     "shell.execute_reply.started": "2023-05-27T06:03:17.896458Z"
    }
   },
   "outputs": [
    {
     "data": {
      "text/plain": [
       "array([[0., 0., 1., 0., 0., 0., 0., 0., 0.],\n",
       "       [0., 0., 1., 0., 0., 0., 0., 0., 0.],\n",
       "       [0., 1., 0., 0., 0., 0., 0., 0., 0.],\n",
       "       [0., 0., 0., 0., 0., 1., 0., 0., 0.],\n",
       "       [0., 0., 0., 0., 1., 0., 0., 0., 0.],\n",
       "       [0., 0., 0., 0., 0., 0., 0., 1., 0.],\n",
       "       [1., 0., 0., 0., 0., 0., 0., 0., 0.],\n",
       "       [0., 0., 0., 0., 0., 1., 0., 0., 0.],\n",
       "       [1., 0., 0., 0., 0., 0., 0., 0., 0.],\n",
       "       [0., 0., 0., 0., 0., 0., 0., 0., 1.],\n",
       "       [0., 0., 0., 1., 0., 0., 0., 0., 0.],\n",
       "       [0., 1., 0., 0., 0., 0., 0., 0., 0.],\n",
       "       [0., 0., 0., 0., 0., 0., 1., 0., 0.],\n",
       "       [0., 0., 0., 0., 1., 0., 0., 0., 0.],\n",
       "       [1., 0., 0., 0., 0., 0., 0., 0., 0.],\n",
       "       [0., 0., 1., 0., 0., 0., 0., 0., 0.],\n",
       "       [0., 0., 0., 0., 0., 0., 0., 0., 1.],\n",
       "       [0., 0., 0., 0., 0., 0., 0., 0., 1.],\n",
       "       [0., 0., 0., 1., 0., 0., 0., 0., 0.],\n",
       "       [0., 0., 0., 0., 0., 0., 0., 0., 1.]])"
      ]
     },
     "execution_count": 70,
     "metadata": {},
     "output_type": "execute_result"
    }
   ],
   "source": [
    "# the next 10 elements represent ages in decades\n",
    "\n",
    "ohencoder.transform(features)[:, 2:]"
   ]
  },
  {
   "cell_type": "code",
   "execution_count": 71,
   "id": "05858027-763a-48eb-b407-80224ac9154c",
   "metadata": {
    "execution": {
     "iopub.execute_input": "2023-05-27T06:05:25.465084Z",
     "iopub.status.busy": "2023-05-27T06:05:25.465084Z",
     "iopub.status.idle": "2023-05-27T06:05:25.482542Z",
     "shell.execute_reply": "2023-05-27T06:05:25.482487Z",
     "shell.execute_reply.started": "2023-05-27T06:05:25.465084Z"
    }
   },
   "outputs": [],
   "source": [
    "# What if the encoder encounters a class unbeknownst to it in the training phase.\n",
    "\n",
    "test = features.copy()"
   ]
  },
  {
   "cell_type": "code",
   "execution_count": 73,
   "id": "b616b28f-7a48-4c50-8194-c32cb15404d5",
   "metadata": {
    "execution": {
     "iopub.execute_input": "2023-05-27T06:05:44.132542Z",
     "iopub.status.busy": "2023-05-27T06:05:44.132542Z",
     "iopub.status.idle": "2023-05-27T06:05:44.142942Z",
     "shell.execute_reply": "2023-05-27T06:05:44.142942Z",
     "shell.execute_reply.started": "2023-05-27T06:05:44.132542Z"
    }
   },
   "outputs": [],
   "source": [
    "test.append([\"Shemale\", 11])"
   ]
  },
  {
   "cell_type": "code",
   "execution_count": 74,
   "id": "74287ab0-69f4-48d6-9a01-7cdf08cb425c",
   "metadata": {
    "execution": {
     "iopub.execute_input": "2023-05-27T06:05:55.244611Z",
     "iopub.status.busy": "2023-05-27T06:05:55.244611Z",
     "iopub.status.idle": "2023-05-27T06:05:55.296681Z",
     "shell.execute_reply": "2023-05-27T06:05:55.295557Z",
     "shell.execute_reply.started": "2023-05-27T06:05:55.244611Z"
    }
   },
   "outputs": [
    {
     "ename": "ValueError",
     "evalue": "Found unknown categories ['Shemale'] in column 0 during transform",
     "output_type": "error",
     "traceback": [
      "\u001b[1;31m---------------------------------------------------------------------------\u001b[0m",
      "\u001b[1;31mValueError\u001b[0m                                Traceback (most recent call last)",
      "Cell \u001b[1;32mIn[74], line 1\u001b[0m\n\u001b[1;32m----> 1\u001b[0m \u001b[43mohencoder\u001b[49m\u001b[38;5;241;43m.\u001b[39;49m\u001b[43mtransform\u001b[49m\u001b[43m(\u001b[49m\u001b[43mtest\u001b[49m\u001b[43m)\u001b[49m\n",
      "File \u001b[1;32mC:\\Program Files\\Python311\\Lib\\site-packages\\sklearn\\utils\\_set_output.py:140\u001b[0m, in \u001b[0;36m_wrap_method_output.<locals>.wrapped\u001b[1;34m(self, X, *args, **kwargs)\u001b[0m\n\u001b[0;32m    138\u001b[0m \u001b[38;5;129m@wraps\u001b[39m(f)\n\u001b[0;32m    139\u001b[0m \u001b[38;5;28;01mdef\u001b[39;00m \u001b[38;5;21mwrapped\u001b[39m(\u001b[38;5;28mself\u001b[39m, X, \u001b[38;5;241m*\u001b[39margs, \u001b[38;5;241m*\u001b[39m\u001b[38;5;241m*\u001b[39mkwargs):\n\u001b[1;32m--> 140\u001b[0m     data_to_wrap \u001b[38;5;241m=\u001b[39m \u001b[43mf\u001b[49m\u001b[43m(\u001b[49m\u001b[38;5;28;43mself\u001b[39;49m\u001b[43m,\u001b[49m\u001b[43m \u001b[49m\u001b[43mX\u001b[49m\u001b[43m,\u001b[49m\u001b[43m \u001b[49m\u001b[38;5;241;43m*\u001b[39;49m\u001b[43margs\u001b[49m\u001b[43m,\u001b[49m\u001b[43m \u001b[49m\u001b[38;5;241;43m*\u001b[39;49m\u001b[38;5;241;43m*\u001b[39;49m\u001b[43mkwargs\u001b[49m\u001b[43m)\u001b[49m\n\u001b[0;32m    141\u001b[0m     \u001b[38;5;28;01mif\u001b[39;00m \u001b[38;5;28misinstance\u001b[39m(data_to_wrap, \u001b[38;5;28mtuple\u001b[39m):\n\u001b[0;32m    142\u001b[0m         \u001b[38;5;66;03m# only wrap the first output for cross decomposition\u001b[39;00m\n\u001b[0;32m    143\u001b[0m         \u001b[38;5;28;01mreturn\u001b[39;00m (\n\u001b[0;32m    144\u001b[0m             _wrap_data_with_container(method, data_to_wrap[\u001b[38;5;241m0\u001b[39m], X, \u001b[38;5;28mself\u001b[39m),\n\u001b[0;32m    145\u001b[0m             \u001b[38;5;241m*\u001b[39mdata_to_wrap[\u001b[38;5;241m1\u001b[39m:],\n\u001b[0;32m    146\u001b[0m         )\n",
      "File \u001b[1;32mC:\\Program Files\\Python311\\Lib\\site-packages\\sklearn\\preprocessing\\_encoders.py:917\u001b[0m, in \u001b[0;36mOneHotEncoder.transform\u001b[1;34m(self, X)\u001b[0m\n\u001b[0;32m    912\u001b[0m \u001b[38;5;66;03m# validation of X happens in _check_X called by _transform\u001b[39;00m\n\u001b[0;32m    913\u001b[0m warn_on_unknown \u001b[38;5;241m=\u001b[39m \u001b[38;5;28mself\u001b[39m\u001b[38;5;241m.\u001b[39mdrop \u001b[38;5;129;01mis\u001b[39;00m \u001b[38;5;129;01mnot\u001b[39;00m \u001b[38;5;28;01mNone\u001b[39;00m \u001b[38;5;129;01mand\u001b[39;00m \u001b[38;5;28mself\u001b[39m\u001b[38;5;241m.\u001b[39mhandle_unknown \u001b[38;5;129;01min\u001b[39;00m {\n\u001b[0;32m    914\u001b[0m     \u001b[38;5;124m\"\u001b[39m\u001b[38;5;124mignore\u001b[39m\u001b[38;5;124m\"\u001b[39m,\n\u001b[0;32m    915\u001b[0m     \u001b[38;5;124m\"\u001b[39m\u001b[38;5;124minfrequent_if_exist\u001b[39m\u001b[38;5;124m\"\u001b[39m,\n\u001b[0;32m    916\u001b[0m }\n\u001b[1;32m--> 917\u001b[0m X_int, X_mask \u001b[38;5;241m=\u001b[39m \u001b[38;5;28;43mself\u001b[39;49m\u001b[38;5;241;43m.\u001b[39;49m\u001b[43m_transform\u001b[49m\u001b[43m(\u001b[49m\n\u001b[0;32m    918\u001b[0m \u001b[43m    \u001b[49m\u001b[43mX\u001b[49m\u001b[43m,\u001b[49m\n\u001b[0;32m    919\u001b[0m \u001b[43m    \u001b[49m\u001b[43mhandle_unknown\u001b[49m\u001b[38;5;241;43m=\u001b[39;49m\u001b[38;5;28;43mself\u001b[39;49m\u001b[38;5;241;43m.\u001b[39;49m\u001b[43mhandle_unknown\u001b[49m\u001b[43m,\u001b[49m\n\u001b[0;32m    920\u001b[0m \u001b[43m    \u001b[49m\u001b[43mforce_all_finite\u001b[49m\u001b[38;5;241;43m=\u001b[39;49m\u001b[38;5;124;43m\"\u001b[39;49m\u001b[38;5;124;43mallow-nan\u001b[39;49m\u001b[38;5;124;43m\"\u001b[39;49m\u001b[43m,\u001b[49m\n\u001b[0;32m    921\u001b[0m \u001b[43m    \u001b[49m\u001b[43mwarn_on_unknown\u001b[49m\u001b[38;5;241;43m=\u001b[39;49m\u001b[43mwarn_on_unknown\u001b[49m\u001b[43m,\u001b[49m\n\u001b[0;32m    922\u001b[0m \u001b[43m\u001b[49m\u001b[43m)\u001b[49m\n\u001b[0;32m    923\u001b[0m \u001b[38;5;28mself\u001b[39m\u001b[38;5;241m.\u001b[39m_map_infrequent_categories(X_int, X_mask)\n\u001b[0;32m    925\u001b[0m n_samples, n_features \u001b[38;5;241m=\u001b[39m X_int\u001b[38;5;241m.\u001b[39mshape\n",
      "File \u001b[1;32mC:\\Program Files\\Python311\\Lib\\site-packages\\sklearn\\preprocessing\\_encoders.py:174\u001b[0m, in \u001b[0;36m_BaseEncoder._transform\u001b[1;34m(self, X, handle_unknown, force_all_finite, warn_on_unknown)\u001b[0m\n\u001b[0;32m    169\u001b[0m \u001b[38;5;28;01mif\u001b[39;00m handle_unknown \u001b[38;5;241m==\u001b[39m \u001b[38;5;124m\"\u001b[39m\u001b[38;5;124merror\u001b[39m\u001b[38;5;124m\"\u001b[39m:\n\u001b[0;32m    170\u001b[0m     msg \u001b[38;5;241m=\u001b[39m (\n\u001b[0;32m    171\u001b[0m         \u001b[38;5;124m\"\u001b[39m\u001b[38;5;124mFound unknown categories \u001b[39m\u001b[38;5;132;01m{0}\u001b[39;00m\u001b[38;5;124m in column \u001b[39m\u001b[38;5;132;01m{1}\u001b[39;00m\u001b[38;5;124m\"\u001b[39m\n\u001b[0;32m    172\u001b[0m         \u001b[38;5;124m\"\u001b[39m\u001b[38;5;124m during transform\u001b[39m\u001b[38;5;124m\"\u001b[39m\u001b[38;5;241m.\u001b[39mformat(diff, i)\n\u001b[0;32m    173\u001b[0m     )\n\u001b[1;32m--> 174\u001b[0m     \u001b[38;5;28;01mraise\u001b[39;00m \u001b[38;5;167;01mValueError\u001b[39;00m(msg)\n\u001b[0;32m    175\u001b[0m \u001b[38;5;28;01melse\u001b[39;00m:\n\u001b[0;32m    176\u001b[0m     \u001b[38;5;28;01mif\u001b[39;00m warn_on_unknown:\n",
      "\u001b[1;31mValueError\u001b[0m: Found unknown categories ['Shemale'] in column 0 during transform"
     ]
    }
   ],
   "source": [
    "ohencoder.transform(test)"
   ]
  },
  {
   "cell_type": "code",
   "execution_count": 76,
   "id": "e52bd302-bbf0-4fdc-8aee-8b68242845b2",
   "metadata": {
    "execution": {
     "iopub.execute_input": "2023-05-27T06:06:58.792979Z",
     "iopub.status.busy": "2023-05-27T06:06:58.792979Z",
     "iopub.status.idle": "2023-05-27T06:06:58.804404Z",
     "shell.execute_reply": "2023-05-27T06:06:58.804351Z",
     "shell.execute_reply.started": "2023-05-27T06:06:58.792979Z"
    }
   },
   "outputs": [],
   "source": [
    "# To overcome this,\n",
    "\n",
    "ohencoder = OneHotEncoder(sparse_output = False, handle_unknown = \"ignore\").fit(features)"
   ]
  },
  {
   "cell_type": "code",
   "execution_count": 77,
   "id": "5f531937-c28d-4771-8857-d78a8c68cd90",
   "metadata": {
    "execution": {
     "iopub.execute_input": "2023-05-27T06:07:06.734861Z",
     "iopub.status.busy": "2023-05-27T06:07:06.734861Z",
     "iopub.status.idle": "2023-05-27T06:07:06.749191Z",
     "shell.execute_reply": "2023-05-27T06:07:06.749191Z",
     "shell.execute_reply.started": "2023-05-27T06:07:06.734861Z"
    }
   },
   "outputs": [
    {
     "data": {
      "text/plain": [
       "array([[0., 1., 0., 0., 1., 0., 0., 0., 0., 0., 0.],\n",
       "       [1., 0., 0., 0., 1., 0., 0., 0., 0., 0., 0.],\n",
       "       [1., 0., 0., 1., 0., 0., 0., 0., 0., 0., 0.],\n",
       "       [1., 0., 0., 0., 0., 0., 0., 1., 0., 0., 0.],\n",
       "       [1., 0., 0., 0., 0., 0., 1., 0., 0., 0., 0.],\n",
       "       [1., 0., 0., 0., 0., 0., 0., 0., 0., 1., 0.],\n",
       "       [0., 1., 1., 0., 0., 0., 0., 0., 0., 0., 0.],\n",
       "       [0., 1., 0., 0., 0., 0., 0., 1., 0., 0., 0.],\n",
       "       [1., 0., 1., 0., 0., 0., 0., 0., 0., 0., 0.],\n",
       "       [1., 0., 0., 0., 0., 0., 0., 0., 0., 0., 1.],\n",
       "       [0., 1., 0., 0., 0., 1., 0., 0., 0., 0., 0.],\n",
       "       [1., 0., 0., 1., 0., 0., 0., 0., 0., 0., 0.],\n",
       "       [0., 1., 0., 0., 0., 0., 0., 0., 1., 0., 0.],\n",
       "       [0., 1., 0., 0., 0., 0., 1., 0., 0., 0., 0.],\n",
       "       [1., 0., 1., 0., 0., 0., 0., 0., 0., 0., 0.],\n",
       "       [0., 1., 0., 0., 1., 0., 0., 0., 0., 0., 0.],\n",
       "       [0., 1., 0., 0., 0., 0., 0., 0., 0., 0., 1.],\n",
       "       [1., 0., 0., 0., 0., 0., 0., 0., 0., 0., 1.],\n",
       "       [0., 1., 0., 0., 0., 1., 0., 0., 0., 0., 0.],\n",
       "       [1., 0., 0., 0., 0., 0., 0., 0., 0., 0., 1.],\n",
       "       [0., 0., 0., 0., 0., 0., 0., 0., 0., 0., 0.]])"
      ]
     },
     "execution_count": 77,
     "metadata": {},
     "output_type": "execute_result"
    }
   ],
   "source": [
    "# Note that this did not throw an error!.\n",
    "\n",
    "ohencoder.transform(test)"
   ]
  },
  {
   "cell_type": "code",
   "execution_count": null,
   "id": "f6d7a949-d851-42e4-95e6-a73aefe1adc7",
   "metadata": {},
   "outputs": [],
   "source": [
    "# For the 21st row, where the sex was Shemale and the age was 11, we have all zeroes."
   ]
  },
  {
   "cell_type": "code",
   "execution_count": null,
   "id": "559adc08-92af-4196-9a68-570a0155face",
   "metadata": {},
   "outputs": [],
   "source": []
  },
  {
   "cell_type": "markdown",
   "id": "ccde1d21-de7c-447f-ac53-1f202a37bfde",
   "metadata": {},
   "source": [
    "## ___Applying One-Hot Encoders Properly___\n",
    "----------------"
   ]
  },
  {
   "cell_type": "code",
   "execution_count": 78,
   "id": "eb9f4949-0f71-43d7-93df-35159a090c2c",
   "metadata": {
    "execution": {
     "iopub.execute_input": "2023-05-27T06:20:31.453178Z",
     "iopub.status.busy": "2023-05-27T06:20:31.453178Z",
     "iopub.status.idle": "2023-05-27T06:20:31.460700Z",
     "shell.execute_reply": "2023-05-27T06:20:31.460186Z",
     "shell.execute_reply.started": "2023-05-27T06:20:31.453178Z"
    }
   },
   "outputs": [],
   "source": [
    "# 1) Split the data into train and test before fitting the encoder.\n",
    "# 2) Fit the encoder on the training set.\n",
    "# 3) Use .transform() method of the encoder to transform the training set and test set.\n",
    "#    This ensures that dummy variables match across the train-test split and all categories (classes) get representation.\n",
    "# 4) If the test set contains classes not seen during the training; either map them to a new category or ignore them and create an all zero row."
   ]
  },
  {
   "cell_type": "code",
   "execution_count": null,
   "id": "c35f1466-a1d7-46dc-a727-2e45d594d203",
   "metadata": {},
   "outputs": [],
   "source": []
  },
  {
   "cell_type": "code",
   "execution_count": null,
   "id": "0a2f6b89-756a-46b0-a7ee-884501bcf83f",
   "metadata": {},
   "outputs": [],
   "source": [
    "# If the label is a categorical variable,\n",
    "# We'll use LabelBinarizer"
   ]
  }
 ],
 "metadata": {
  "kernelspec": {
   "display_name": "Python 3 (ipykernel)",
   "language": "python",
   "name": "python3"
  },
  "language_info": {
   "codemirror_mode": {
    "name": "ipython",
    "version": 3
   },
   "file_extension": ".py",
   "mimetype": "text/x-python",
   "name": "python",
   "nbconvert_exporter": "python",
   "pygments_lexer": "ipython3",
   "version": "3.11.3"
  }
 },
 "nbformat": 4,
 "nbformat_minor": 5
}
