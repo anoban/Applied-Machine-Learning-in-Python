{
 "cells": [
  {
   "cell_type": "markdown",
   "id": "2fa42976-c675-4e96-8fd2-70db97df845a",
   "metadata": {},
   "source": [
    "# ___kNN - Classification & Regression___\n",
    "----------------"
   ]
  },
  {
   "cell_type": "code",
   "execution_count": null,
   "id": "7100e317-d21b-4f9b-8238-0bf3ec30789a",
   "metadata": {},
   "outputs": [],
   "source": []
  },
  {
   "cell_type": "markdown",
   "id": "795a3178-1001-42b4-b8b3-9cadb3e39152",
   "metadata": {},
   "source": [
    "### ___kNN Algorithm___"
   ]
  },
  {
   "cell_type": "code",
   "execution_count": 1,
   "id": "418551b8-d9b1-4358-a12c-f7b4280a8408",
   "metadata": {
    "tags": []
   },
   "outputs": [],
   "source": [
    "# Given a training data train_x, labels train_y and a test sample test_x, a kNN algorithm\n",
    "    # Memorizes the points in the train_x and train_y.\n",
    "    # Finds the closest k neighbours to each data point in test_x.\n",
    "    # Obtains the labels of the k nearest neighbours.\n",
    "    # Predicts the label of the unknown instance using a function e.g. majority vote"
   ]
  },
  {
   "cell_type": "code",
   "execution_count": null,
   "id": "91245e7f-f62e-45e4-9ff1-e989dcdb5947",
   "metadata": {},
   "outputs": [],
   "source": []
  },
  {
   "cell_type": "code",
   "execution_count": 2,
   "id": "129c4292-1c21-45c2-a5be-360efc7d1e1a",
   "metadata": {
    "tags": []
   },
   "outputs": [],
   "source": [
    "# A kNN model with k = 1 has the highest model complexity, since it is sensitive to every point in the feature space.\n",
    "# This makes these models highly vulnerable to anomalies and outliers.\n",
    "# This often leads to overfitting."
   ]
  },
  {
   "cell_type": "code",
   "execution_count": null,
   "id": "45ddadef-194d-4c2a-98eb-99df006ab682",
   "metadata": {},
   "outputs": [],
   "source": [
    "# When we increase k = 1 to k = 11, the impact of individual data points decreases very much.\n",
    "# The model complexity of a k = 11 model is quite low, thus this model will be able to better generalize to unknown datasets.\n",
    "# "
   ]
  }
 ],
 "metadata": {
  "kernelspec": {
   "display_name": "Python 3 (ipykernel)",
   "language": "python",
   "name": "python3"
  },
  "language_info": {
   "codemirror_mode": {
    "name": "ipython",
    "version": 3
   },
   "file_extension": ".py",
   "mimetype": "text/x-python",
   "name": "python",
   "nbconvert_exporter": "python",
   "pygments_lexer": "ipython3",
   "version": "3.11.3"
  }
 },
 "nbformat": 4,
 "nbformat_minor": 5
}
